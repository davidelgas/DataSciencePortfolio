{
  "cells": [
    {
      "cell_type": "markdown",
      "metadata": {
        "id": "view-in-github",
        "colab_type": "text"
      },
      "source": [
        "<a href=\"https://colab.research.google.com/github/davidelgas/DataSciencePortfolio/blob/main/NLP_with_LDA/noteboooks/NLP_with_LDA.ipynb\" target=\"_parent\"><img src=\"https://colab.research.google.com/assets/colab-badge.svg\" alt=\"Open In Colab\"/></a>"
      ]
    },
    {
      "cell_type": "markdown",
      "metadata": {
        "id": "6ZNh7sOsosig"
      },
      "source": [
        "## Topic Modeling with Latent Dirichlet Allocation (LDA)\n",
        "https://nlp.stanford.edu/events/illvi2014/papers/sievert-illvi2014.pdf"
      ]
    },
    {
      "cell_type": "markdown",
      "metadata": {
        "id": "IOLSOSB0il9i"
      },
      "source": [
        "## Corpus Creation\n",
        "\n",
        "The corpus used was assembled using Beautiful Soup to scrape a pubic forum specific to the BMW E9 (www.e9coupe.com). This active forum has been exsitence since 2003. The data was compiled and stored in a Snowflake database for multiple NLP projects, including LDA, GRU and LSTM. Furture ideas include supplementing the forum text with an existing users guide specific to this model."
      ]
    },
    {
      "cell_type": "code",
      "execution_count": 23,
      "metadata": {
        "id": "FIRntbFzGwj7",
        "colab": {
          "base_uri": "https://localhost:8080/"
        },
        "outputId": "12787e6a-242a-4db4-966c-9570a4941a3e"
      },
      "outputs": [
        {
          "output_type": "stream",
          "name": "stderr",
          "text": [
            "/usr/local/lib/python3.10/dist-packages/ipykernel/ipkernel.py:283: DeprecationWarning: `should_run_async` will not call `transform_cell` automatically in the future. Please pass the result to `transformed_cell` argument and any exception that happen during thetransform in `preprocessing_exc_tuple` in IPython 7.17 and above.\n",
            "  and should_run_async(code)\n"
          ]
        },
        {
          "output_type": "stream",
          "name": "stdout",
          "text": [
            "Drive already mounted at /content/drive; to attempt to forcibly remount, call drive.mount(\"/content/drive\", force_remount=True).\n"
          ]
        }
      ],
      "source": [
        "from google.colab import drive\n",
        "drive.mount('/content/drive')"
      ]
    },
    {
      "cell_type": "code",
      "execution_count": 24,
      "metadata": {
        "id": "9jVGgR7NKrDh",
        "colab": {
          "base_uri": "https://localhost:8080/",
          "height": 377
        },
        "outputId": "44f880ce-0ed8-48ea-ef07-34baf784fa0a"
      },
      "outputs": [
        {
          "output_type": "stream",
          "name": "stderr",
          "text": [
            "/usr/local/lib/python3.10/dist-packages/ipykernel/ipkernel.py:283: DeprecationWarning: `should_run_async` will not call `transform_cell` automatically in the future. Please pass the result to `transformed_cell` argument and any exception that happen during thetransform in `preprocessing_exc_tuple` in IPython 7.17 and above.\n",
            "  and should_run_async(code)\n"
          ]
        },
        {
          "output_type": "stream",
          "name": "stdout",
          "text": [
            "Collecting joblib==1.0.1\n",
            "  Using cached joblib-1.0.1-py3-none-any.whl (303 kB)\n",
            "Installing collected packages: joblib\n",
            "  Attempting uninstall: joblib\n",
            "    Found existing installation: joblib 1.4.2\n",
            "    Uninstalling joblib-1.4.2:\n",
            "      Successfully uninstalled joblib-1.4.2\n",
            "\u001b[31mERROR: pip's dependency resolver does not currently take into account all the packages that are installed. This behaviour is the source of the following dependency conflicts.\n",
            "imbalanced-learn 0.10.1 requires joblib>=1.1.1, but you have joblib 1.0.1 which is incompatible.\n",
            "pyldavis 3.4.1 requires joblib>=1.2.0, but you have joblib 1.0.1 which is incompatible.\n",
            "scikit-learn 1.2.2 requires joblib>=1.1.1, but you have joblib 1.0.1 which is incompatible.\u001b[0m\u001b[31m\n",
            "\u001b[0mSuccessfully installed joblib-1.0.1\n"
          ]
        },
        {
          "output_type": "display_data",
          "data": {
            "application/vnd.colab-display-data+json": {
              "pip_warning": {
                "packages": [
                  "joblib"
                ]
              },
              "id": "561032ef174149879ee20e4b8b2913c7"
            }
          },
          "metadata": {}
        }
      ],
      "source": [
        "# Getting a conflict with some of the libraries. This seems to help.\n",
        "\n",
        "!pip install joblib==1.0.1"
      ]
    },
    {
      "cell_type": "code",
      "execution_count": 34,
      "metadata": {
        "colab": {
          "base_uri": "https://localhost:8080/"
        },
        "id": "ncgvvyXxHdAh",
        "outputId": "3f51dddb-bcc0-4b35-f132-7c0381f0c1d0"
      },
      "outputs": [
        {
          "output_type": "stream",
          "name": "stderr",
          "text": [
            "/usr/local/lib/python3.10/dist-packages/ipykernel/ipkernel.py:283: DeprecationWarning: `should_run_async` will not call `transform_cell` automatically in the future. Please pass the result to `transformed_cell` argument and any exception that happen during thetransform in `preprocessing_exc_tuple` in IPython 7.17 and above.\n",
            "  and should_run_async(code)\n"
          ]
        }
      ],
      "source": [
        "# Install required libraries\n",
        "!pip install snowflake-connector-python\n",
        "!pip install pyLDAvis\n",
        "!pip install gensim\n",
        "!pip install sumy\n",
        "\n",
        "# Import libraries\n",
        "import snowflake.connector\n",
        "import pandas as pd\n",
        "import os\n",
        "import requests\n",
        "from bs4 import BeautifulSoup\n",
        "\n",
        "# Gensim libraries\n",
        "from gensim import corpora\n",
        "from gensim.corpora import Dictionary\n",
        "from gensim.models import LdaModel\n",
        "from gensim.utils import simple_preprocess\n",
        "from gensim.parsing.preprocessing import STOPWORDS\n",
        "\n",
        "# NLTK libraries\n",
        "import nltk\n",
        "from nltk.tokenize import RegexpTokenizer\n",
        "from nltk.stem import WordNetLemmatizer\n",
        "from nltk.corpus import wordnet, stopwords\n",
        "\n",
        "nltk.download('wordnet')\n",
        "\n",
        "# PyLDAvis for visualization\n",
        "import pyLDAvis\n",
        "import pyLDAvis.gensim_models as gensimvis\n",
        "\n",
        "# Sumy libraries for summarization\n",
        "from sumy.parsers.plaintext import PlaintextParser\n",
        "from sumy.summarizers.lex_rank import LexRankSummarizer\n",
        "from sumy.nlp.tokenizers import Tokenizer\n",
        "\n",
        "\n",
        "# Install required libraries\n",
        "!pip install snowflake-connector-python\n",
        "!pip install gensim\n",
        "!pip install nltk\n",
        "\n",
        "# Import libraries\n",
        "import snowflake.connector\n",
        "import pandas as pd\n",
        "import os\n",
        "\n",
        "# Gensim libraries\n",
        "from gensim.parsing.preprocessing import STOPWORDS\n",
        "\n",
        "# NLTK libraries\n",
        "import nltk\n",
        "from nltk.tokenize import RegexpTokenizer\n",
        "from nltk.stem import WordNetLemmatizer\n",
        "from nltk.corpus import wordnet, stopwords\n",
        "\n",
        "nltk.download('wordnet')\n",
        "\n",
        "import random\n",
        "from nltk.tokenize import sent_tokenize\n",
        "import pandas as pd\n",
        "\n",
        "\n",
        "import nltk\n",
        "nltk.download('stopwords')\n",
        "\n",
        "\n",
        "# re\n",
        "try:\n",
        "    import re\n",
        "except ImportError:\n",
        "    !pip install re\n",
        "    import re\n",
        "\n"
      ]
    },
    {
      "cell_type": "code",
      "execution_count": 38,
      "metadata": {
        "id": "QvSBJW2TZIGM",
        "colab": {
          "base_uri": "https://localhost:8080/"
        },
        "outputId": "7bca0b91-0130-41df-8e09-b12ec7acc21a"
      },
      "outputs": [
        {
          "output_type": "stream",
          "name": "stderr",
          "text": [
            "/usr/local/lib/python3.10/dist-packages/ipykernel/ipkernel.py:283: DeprecationWarning: `should_run_async` will not call `transform_cell` automatically in the future. Please pass the result to `transformed_cell` argument and any exception that happen during thetransform in `preprocessing_exc_tuple` in IPython 7.17 and above.\n",
            "  and should_run_async(code)\n"
          ]
        },
        {
          "output_type": "stream",
          "name": "stdout",
          "text": [
            "Starting with thread_id 4000\n",
            "Processing additional 1 thread(s)\n",
            "Ending with thread_id 4001\n",
            "Output saved to /content/drive/MyDrive/Colab Notebooks/Data_sets/e9/e9_forum_corpus_dirty.csv\n"
          ]
        }
      ],
      "source": [
        "# Create Corpus\n",
        "# Fetch and process forum threads\n",
        "\n",
        "BASE_PATH = '/content/drive/MyDrive/Colab Notebooks/Data_sets/e9/'\n",
        "\n",
        "def forum_thread_ids():\n",
        "    threads = 1  # Set the number of incremental threads to process here\n",
        "\n",
        "    file_path = os.path.join(BASE_PATH, 'e9_forum_thread_ids.csv')\n",
        "\n",
        "    if os.path.exists(file_path) and os.path.getsize(file_path) > 0:\n",
        "        e9_forum_thread_ids = pd.read_csv(file_path)\n",
        "        last_thread_id = int(e9_forum_thread_ids['thread_id'].iloc[-1])\n",
        "    else:\n",
        "        e9_forum_thread_ids = pd.DataFrame(columns=['thread_id'])\n",
        "        last_thread_id = 0\n",
        "\n",
        "    next_thread_id = last_thread_id + 1\n",
        "    new_urls = [{'thread_id': thread_id} for thread_id in range(next_thread_id, next_thread_id + threads)]\n",
        "\n",
        "    new_df = pd.DataFrame(new_urls)\n",
        "    e9_forum_thread_ids = pd.concat([e9_forum_thread_ids, new_df], ignore_index=True)\n",
        "    e9_forum_thread_ids.to_csv(file_path, index=False)\n",
        "\n",
        "    print(f\"Starting with thread_id {last_thread_id}\")\n",
        "    print(f\"Processing additional {threads} thread(s)\")\n",
        "    print(f\"Ending with thread_id {next_thread_id + threads - 1}\")\n",
        "\n",
        "    return new_df\n",
        "\n",
        "def forum_thread_url(df):\n",
        "    if df.empty:\n",
        "        print(\"No new threads to process.\")\n",
        "        return pd.DataFrame()\n",
        "\n",
        "    pages = 1\n",
        "\n",
        "    for index, row in df.iterrows():\n",
        "        thread_id = row['thread_id']\n",
        "        thread_url = f\"https://e9coupe.com/forum/threads/{thread_id}\"\n",
        "        for i in range(1, pages + 1):\n",
        "            page_url = f\"{thread_url}/?page={i}\"\n",
        "            response = requests.get(page_url)\n",
        "            soup = BeautifulSoup(response.text, 'html.parser')\n",
        "            title = soup.find('title').get_text()\n",
        "            thread_title = title.split('|')[0].strip()\n",
        "            df.at[index, 'thread_url'] = page_url\n",
        "            df.at[index, 'thread_title'] = thread_title\n",
        "\n",
        "    df.to_csv(os.path.join(BASE_PATH, 'e9_forum_thread_url.csv'), index=False)\n",
        "    return df\n",
        "\n",
        "def forum_thread_first_post(df):\n",
        "    data = []\n",
        "\n",
        "    for thread_id, thread_url, thread_title in zip(df['thread_id'], df['thread_url'], df['thread_title']):\n",
        "        response = requests.get(thread_url)\n",
        "        soup = BeautifulSoup(response.text, 'html.parser')\n",
        "        first_post = soup.find('article', class_='message-body')\n",
        "        post_content = first_post.get_text(strip=True) if first_post else \"No content found\"\n",
        "        data.append({'thread_id': thread_id, 'thread_first_post': post_content})\n",
        "\n",
        "    forum_first_post = pd.DataFrame(data)\n",
        "    forum_first_post.to_csv(os.path.join(BASE_PATH, 'e9_forum_first_post.csv'), index=False)\n",
        "    return forum_first_post\n",
        "\n",
        "def forum_thread_all_post(df):\n",
        "    post_data = []\n",
        "    for index, row in df.iterrows():\n",
        "        response = requests.get(row['thread_url'])\n",
        "        soup = BeautifulSoup(response.text, 'html.parser')\n",
        "        articles = soup.find_all('article', class_='message--post')\n",
        "        for article in articles:\n",
        "            post_timestamp = article.find('time')['datetime'] if article.find('time') else 'N/A'\n",
        "            content = article.find('div', class_='bbWrapper').get_text(strip=True)\n",
        "            post_data.append({'thread_id': row['thread_id'], 'post_raw': content})\n",
        "\n",
        "    e9_forum_posts = pd.DataFrame(post_data)\n",
        "    e9_forum_posts['thread_all_posts'] = e9_forum_posts['post_raw'].astype(str)\n",
        "    e9_forum_thread_all_post = e9_forum_posts.groupby('thread_id')['thread_all_posts'].agg(lambda x: ' '.join(x)).reset_index()\n",
        "    e9_forum_thread_all_post.to_csv(os.path.join(BASE_PATH, 'e9_forum_thread_all_post.csv'), index=False)\n",
        "    return e9_forum_thread_all_post\n",
        "\n",
        "def forum_corpus(e9_forum_thread_url, e9_forum_thread_first_post, e9_forum_thread_all_post):\n",
        "    agg_df_1 = pd.merge(e9_forum_thread_url, e9_forum_thread_first_post, on='thread_id', how='left')\n",
        "    agg_df_2 = pd.merge(agg_df_1, e9_forum_thread_all_post, on='thread_id', how='left')\n",
        "\n",
        "    e9_forum_corpus = agg_df_2.dropna()\n",
        "    corpus_path = os.path.join(BASE_PATH, 'e9_forum_corpus.csv')\n",
        "    if os.path.exists(corpus_path) and os.path.getsize(corpus_path) > 0:\n",
        "        existing_corpus = pd.read_csv(corpus_path)\n",
        "        e9_forum_corpus = pd.concat([existing_corpus, e9_forum_corpus]).drop_duplicates().reset_index(drop=True)\n",
        "\n",
        "    e9_forum_corpus.columns = e9_forum_corpus.columns.str.upper()\n",
        "    e9_forum_corpus.to_csv(os.path.join(BASE_PATH, 'e9_forum_corpus_dirty.csv'), index=False)\n",
        "    return e9_forum_corpus\n",
        "\n",
        "def main():\n",
        "    e9_forum_thread_ids = forum_thread_ids()\n",
        "    e9_forum_thread_url_df = forum_thread_url(e9_forum_thread_ids)\n",
        "    e9_forum_thread_first_post_df = forum_thread_first_post(e9_forum_thread_url_df)\n",
        "    e9_forum_thread_all_post_df = forum_thread_all_post(e9_forum_thread_url_df)\n",
        "    e9_forum_corpus_df = forum_corpus(e9_forum_thread_url_df, e9_forum_thread_first_post_df, e9_forum_thread_all_post_df)\n",
        "    print(f\"Output saved to {os.path.join(BASE_PATH, 'e9_forum_corpus_dirty.csv')}\")\n",
        "\n",
        "if __name__ == \"__main__\":\n",
        "    main()\n"
      ]
    },
    {
      "cell_type": "code",
      "execution_count": 39,
      "metadata": {
        "id": "atD-mQZ9csQe",
        "colab": {
          "base_uri": "https://localhost:8080/"
        },
        "outputId": "ea2a8d5e-e6fe-47cb-e8ba-0886103bfa7b"
      },
      "outputs": [
        {
          "output_type": "stream",
          "name": "stderr",
          "text": [
            "/usr/local/lib/python3.10/dist-packages/ipykernel/ipkernel.py:283: DeprecationWarning: `should_run_async` will not call `transform_cell` automatically in the future. Please pass the result to `transformed_cell` argument and any exception that happen during thetransform in `preprocessing_exc_tuple` in IPython 7.17 and above.\n",
            "  and should_run_async(code)\n"
          ]
        },
        {
          "output_type": "stream",
          "name": "stdout",
          "text": [
            "Database and schema created successfully.\n",
            "e9_forum_corpus_dirty table created successfully.\n",
            "Starting with thread_id 3776\n",
            "Processing additional 1 thread(s)\n",
            "Ending with thread_id 4001\n",
            "New data inserted into e9_forum_corpus_dirty table.\n",
            "Additional entries: 1\n",
            "Total entries: 3175\n"
          ]
        }
      ],
      "source": [
        "# Save corpus\n",
        "# Create and populate data in Snowflake\n",
        "\n",
        "\n",
        "BASE_PATH = '/content/drive/MyDrive/Colab Notebooks/Data_sets/e9/'\n",
        "CREDENTIALS_PATH = '/content/drive/MyDrive/Colab Notebooks/credentials/snowflake_credentials'\n",
        "\n",
        "# Load the e9_forum_corpus DataFrame from the CSV file\n",
        "e9_forum_corpus = pd.read_csv(BASE_PATH + 'e9_forum_corpus_dirty.csv')\n",
        "\n",
        "def load_credentials(credentials_path):\n",
        "    \"\"\"Load Snowflake credentials from a file and set them as environment variables.\"\"\"\n",
        "    with open(credentials_path, 'r') as file:\n",
        "        for line in file:\n",
        "            key, value = line.strip().split('=')\n",
        "            os.environ[key] = value\n",
        "\n",
        "def connect_to_snowflake():\n",
        "    \"\"\"Establish a connection to the Snowflake database.\"\"\"\n",
        "    return snowflake.connector.connect(\n",
        "        user=os.environ.get('USER'),\n",
        "        password=os.environ.get('PASSWORD'),\n",
        "        account=os.environ.get('ACCOUNT')\n",
        "    )\n",
        "\n",
        "def create_db_and_schema(cur):\n",
        "    \"\"\"Create the database and schema in Snowflake.\"\"\"\n",
        "    try:\n",
        "        cur.execute(\"CREATE DATABASE IF NOT EXISTS e9_corpus\")\n",
        "        cur.execute(\"USE DATABASE e9_corpus\")\n",
        "        cur.execute(\"CREATE SCHEMA IF NOT EXISTS e9_corpus_schema\")\n",
        "        print(\"Database and schema created successfully.\")\n",
        "    except Exception as e:\n",
        "        print(f\"Error creating database and schema: {e}\")\n",
        "\n",
        "def create_table_if_not_exists(cur):\n",
        "    \"\"\"Create the e9_forum_corpus_dirty table if it does not exist.\"\"\"\n",
        "    try:\n",
        "        cur.execute(\"\"\"\n",
        "        CREATE TABLE IF NOT EXISTS e9_corpus.e9_corpus_schema.e9_forum_corpus_dirty (\n",
        "            THREAD_ID NUMBER(38,0),\n",
        "            THREAD_URL STRING,\n",
        "            THREAD_TITLE STRING,\n",
        "            THREAD_FIRST_POST STRING,\n",
        "            THREAD_ALL_POSTS STRING\n",
        "        )\n",
        "        \"\"\")\n",
        "        print(\"e9_forum_corpus_dirty table created successfully.\")\n",
        "    except Exception as e:\n",
        "        print(f\"Error creating table: {e}\")\n",
        "\n",
        "def fetch_existing_thread_ids(cur):\n",
        "    \"\"\"Fetch existing THREAD_IDs from the e9_forum_corpus_dirty table.\"\"\"\n",
        "    query = \"SELECT THREAD_ID FROM e9_corpus.e9_corpus_schema.e9_forum_corpus_dirty\"\n",
        "    cur.execute(query)\n",
        "    existing_ids = cur.fetch_pandas_all()\n",
        "    return existing_ids['THREAD_ID'].tolist()\n",
        "\n",
        "def insert_data_into_table(cur, df):\n",
        "    \"\"\"Insert data from the DataFrame into the e9_forum_corpus_dirty table.\"\"\"\n",
        "    for index, row in df.iterrows():\n",
        "        row = row.where(pd.notnull(row), None)\n",
        "        insert_command = f\"\"\"\n",
        "        INSERT INTO e9_corpus.e9_corpus_schema.e9_forum_corpus_dirty\n",
        "        (THREAD_ID, THREAD_URL, THREAD_TITLE, THREAD_FIRST_POST, THREAD_ALL_POSTS)\n",
        "        VALUES (%s, %s, %s, %s, %s)\n",
        "        \"\"\"\n",
        "        try:\n",
        "            cur.execute(insert_command, (\n",
        "                row['THREAD_ID'], row['THREAD_URL'], row['THREAD_TITLE'],\n",
        "                row['THREAD_FIRST_POST'], row['THREAD_ALL_POSTS']\n",
        "            ))\n",
        "        except Exception as e:\n",
        "            print(f\"Error inserting data: {e}\")\n",
        "\n",
        "def fetch_data_from_table(cur):\n",
        "    \"\"\"Fetch all data from the e9_forum_corpus_dirty table.\"\"\"\n",
        "    query = \"SELECT * FROM e9_corpus.e9_corpus_schema.e9_forum_corpus_dirty\"\n",
        "    cur.execute(query)\n",
        "    return cur.fetch_pandas_all()\n",
        "\n",
        "def main():\n",
        "    # Load Snowflake credentials\n",
        "    load_credentials(CREDENTIALS_PATH)\n",
        "\n",
        "    # Connect to Snowflake\n",
        "    conn = connect_to_snowflake()\n",
        "    cur = conn.cursor()\n",
        "\n",
        "    # Create the database, schema, and table if they don't exist\n",
        "    create_db_and_schema(cur)\n",
        "    create_table_if_not_exists(cur)\n",
        "\n",
        "    # Fetch existing thread IDs\n",
        "    existing_ids = fetch_existing_thread_ids(cur)\n",
        "\n",
        "    # Identify new entries\n",
        "    new_entries = e9_forum_corpus[~e9_forum_corpus['THREAD_ID'].isin(existing_ids)]\n",
        "\n",
        "    # Calculate the starting THREAD_ID of the Snowflake table\n",
        "    starting_thread_id = max(existing_ids) if existing_ids else 0\n",
        "\n",
        "    # Calculate ending_thread_id and threads_processed\n",
        "    ending_thread_id = new_entries['THREAD_ID'].max() if not new_entries.empty else starting_thread_id\n",
        "    threads_processed = len(new_entries) if not new_entries.empty else 0\n",
        "\n",
        "    print(f\"Starting with thread_id {starting_thread_id}\")\n",
        "    print(f\"Processing additional {threads_processed} thread(s)\")\n",
        "    print(f\"Ending with thread_id {ending_thread_id}\")\n",
        "\n",
        "    # Insert only new entries into the table\n",
        "    insert_data_into_table(cur, new_entries)\n",
        "    conn.commit()\n",
        "    print(\"New data inserted into e9_forum_corpus_dirty table.\")\n",
        "\n",
        "    # Fetch data from the table\n",
        "    e9_forum_corpus_df = fetch_data_from_table(cur)\n",
        "    print(\"Additional entries: \" + str(len(new_entries)))\n",
        "    print(\"Total entries: \" + str(len(e9_forum_corpus_df)))\n",
        "\n",
        "    # Close cursor and connection\n",
        "    cur.close()\n",
        "    conn.close()\n",
        "\n",
        "if __name__ == \"__main__\":\n",
        "    main()\n"
      ]
    },
    {
      "cell_type": "code",
      "source": [
        "#Process data for LDA\n",
        "\n",
        "def load_credentials(path_to_credentials):\n",
        "    with open(path_to_credentials, 'r') as file:\n",
        "        for line in file:\n",
        "            key, value = line.strip().split('=')\n",
        "            os.environ[key] = value\n",
        "\n",
        "def fetch_data_from_snowflake():\n",
        "    conn = snowflake.connector.connect(\n",
        "        user=os.environ.get('USER'),\n",
        "        password=os.environ.get('PASSWORD'),\n",
        "        account=os.environ.get('ACCOUNT'),\n",
        "    )\n",
        "\n",
        "    cur = conn.cursor()\n",
        "\n",
        "    query = \"\"\"\n",
        "    SELECT THREAD_TITLE, THREAD_FIRST_POST FROM \"E9_CORPUS\".\"E9_CORPUS_SCHEMA\".\"E9_FORUM_CORPUS_DIRTY\";\n",
        "    \"\"\"\n",
        "    cur.execute(query)\n",
        "    e9_forum_corpus = cur.fetch_pandas_all()\n",
        "\n",
        "    cur.close()\n",
        "    conn.close()\n",
        "\n",
        "    return e9_forum_corpus\n",
        "\n",
        "def engineer_data(e9_forum_corpus):\n",
        "    #e9_forum_corpus['THREAD_TITLE_EXP'] = e9_forum_corpus['THREAD_TITLE'] + \" \" + e9_forum_corpus['THREAD_FIRST_POST']\n",
        "    e9_forum_corpus['THREAD_TITLE_EXP'] = e9_forum_corpus['THREAD_TITLE']\n",
        "    return e9_forum_corpus\n",
        "\n",
        "def preprocess_data(df):\n",
        "    df = df[['THREAD_TITLE_EXP']].copy()\n",
        "    df.dropna(inplace=True)\n",
        "    df['THREAD_TITLE_EXP'] = df['THREAD_TITLE_EXP'].astype(str)\n",
        "\n",
        "    lemmatizer = WordNetLemmatizer()\n",
        "    stop_words = set(stopwords.words('english')).union({'car', 'csi', 'cs', 'csl', 'e9', 'coupe', 'http', 'https', 'www', 'ebay', 'bmw', 'html'})\n",
        "\n",
        "    # Function to remove URLs from text\n",
        "    def remove_urls(text):\n",
        "        url_pattern = re.compile(r'https?://\\S+|www\\.\\S+')\n",
        "        return url_pattern.sub(r'', text)\n",
        "\n",
        "    # Function to preprocess text\n",
        "    def preprocess(text):\n",
        "        text = remove_urls(text)\n",
        "        return [lemmatizer.lemmatize(word) for word in text.lower().split() if word not in stop_words]\n",
        "\n",
        "    df['processed'] = df['THREAD_TITLE_EXP'].map(preprocess)\n",
        "    return df\n",
        "\n",
        "def vectorize_data(df):\n",
        "    dictionary = Dictionary(df['processed'])\n",
        "    corpus = [dictionary.doc2bow(doc) for doc in df['processed']]\n",
        "    return df, dictionary, corpus\n",
        "\n",
        "def train_lda_model(corpus, dictionary, num_topics=10, random_state=42, passes=10):\n",
        "    lda = LdaModel(corpus=corpus, id2word=dictionary, num_topics=num_topics, random_state=random_state, passes=passes)\n",
        "    return lda\n",
        "\n",
        "def review_topics(lda):\n",
        "    for idx, topic in lda.print_topics(-1):\n",
        "        print(f\"Topic: {idx} \\nWords: {topic}\\n\")\n",
        "\n",
        "def assign_topics(lda, corpus, df):\n",
        "    topics = [lda[doc] for doc in corpus]\n",
        "    df['topics'] = topics\n",
        "    return df\n",
        "\n",
        "def prepare_visualization_data(lda, corpus, dictionary):\n",
        "    vis_data = gensimvis.prepare(lda, corpus, dictionary)\n",
        "    return vis_data\n",
        "\n",
        "def score_text_block(text, topic_words):\n",
        "    if isinstance(text, str):\n",
        "        return sum(1 for word in topic_words if word in text)\n",
        "    return 0\n",
        "\n",
        "def create_representative_sentence(lda, df, topic_id, top_n=10):\n",
        "    topic_words = [word for word, prob in lda.show_topic(topic_id, topn=top_n)]\n",
        "    df['score'] = df['THREAD_TITLE_EXP'].map(lambda x: score_text_block(x, topic_words))\n",
        "    representative_sentence = df.loc[df['score'].idxmax(), 'THREAD_TITLE_EXP']\n",
        "    return representative_sentence\n"
      ],
      "metadata": {
        "colab": {
          "base_uri": "https://localhost:8080/"
        },
        "id": "LTKkPGoBkxvJ",
        "outputId": "d1bd48a2-0502-4211-ac46-11686074eef3"
      },
      "execution_count": 40,
      "outputs": [
        {
          "output_type": "stream",
          "name": "stderr",
          "text": [
            "/usr/local/lib/python3.10/dist-packages/ipykernel/ipkernel.py:283: DeprecationWarning: `should_run_async` will not call `transform_cell` automatically in the future. Please pass the result to `transformed_cell` argument and any exception that happen during thetransform in `preprocessing_exc_tuple` in IPython 7.17 and above.\n",
            "  and should_run_async(code)\n"
          ]
        }
      ]
    },
    {
      "cell_type": "code",
      "source": [
        "# Create LDA\n",
        "\n",
        "# Main sequence\n",
        "path_to_credentials = '/content/drive/MyDrive/Colab Notebooks/credentials/snowflake_credentials'\n",
        "\n",
        "# Load credentials\n",
        "load_credentials(path_to_credentials)\n",
        "\n",
        "# Fetch data from Snowflake\n",
        "e9_forum_corpus = fetch_data_from_snowflake()\n",
        "\n",
        "# Engineer the data\n",
        "e9_forum_corpus = engineer_data(e9_forum_corpus)\n",
        "\n",
        "# Preprocess the data\n",
        "df = preprocess_data(e9_forum_corpus)\n",
        "\n",
        "# Vectorize the data\n",
        "df, dictionary, corpus = vectorize_data(df)\n",
        "\n",
        "# Train the LDA Model\n",
        "lda = train_lda_model(corpus, dictionary)\n",
        "\n",
        "# Review the Topics\n",
        "review_topics(lda)\n",
        "\n",
        "# Assign Documents to Topics\n",
        "df = assign_topics(lda, corpus, df)\n",
        "\n",
        "# Prepare the visualization data\n",
        "vis_data = prepare_visualization_data(lda, corpus, dictionary)\n",
        "\n",
        "# Visualize\n",
        "pyLDAvis.display(vis_data)\n",
        "\n"
      ],
      "metadata": {
        "colab": {
          "base_uri": "https://localhost:8080/",
          "height": 1000
        },
        "id": "SzjIbByvk1dj",
        "outputId": "6c7374e1-647f-4be5-d8b8-5e88d6445adb"
      },
      "execution_count": 41,
      "outputs": [
        {
          "output_type": "stream",
          "name": "stderr",
          "text": [
            "/usr/local/lib/python3.10/dist-packages/ipykernel/ipkernel.py:283: DeprecationWarning: `should_run_async` will not call `transform_cell` automatically in the future. Please pass the result to `transformed_cell` argument and any exception that happen during thetransform in `preprocessing_exc_tuple` in IPython 7.17 and above.\n",
            "  and should_run_async(code)\n"
          ]
        },
        {
          "output_type": "stream",
          "name": "stdout",
          "text": [
            "Topic: 0 \n",
            "Words: 0.017*\"need\" + 0.016*\"switch\" + 0.016*\"brake\" + 0.015*\"weber\" + 0.012*\"-\" + 0.012*\"new\" + 0.010*\"car\" + 0.009*\"ignition\" + 0.008*\"wire\" + 0.008*\"cover\"\n",
            "\n",
            "Topic: 1 \n",
            "Words: 0.050*\"part\" + 0.039*\"sale\" + 0.028*\"3.0\" + 0.025*\"-\" + 0.024*\"uk\" + 0.014*\"1972\" + 0.014*\"needed\" + 0.012*\"1973\" + 0.009*\"3.0cs\" + 0.009*\"right\"\n",
            "\n",
            "Topic: 2 \n",
            "Words: 0.022*\"sale\" + 0.020*\"wheel\" + 0.016*\"rear\" + 0.014*\"front\" + 0.012*\"brake\" + 0.012*\"3.0\" + 0.010*\"san\" + 0.010*\"door\" + 0.009*\"bumper\" + 0.009*\"part\"\n",
            "\n",
            "Topic: 3 \n",
            "Words: 0.029*\"seat\" + 0.015*\"new\" + 0.013*\"-\" + 0.013*\"wanted\" + 0.012*\"4\" + 0.010*\"manual\" + 0.010*\"rear\" + 0.009*\"factory\" + 0.008*\"window\" + 0.008*\"seal\"\n",
            "\n",
            "Topic: 4 \n",
            "Words: 0.027*\"looking\" + 0.026*\"engine\" + 0.019*\"anyone\" + 0.015*\"speed\" + 0.012*\"filter\" + 0.010*\"tire\" + 0.009*\"mirror\" + 0.009*\"5\" + 0.008*\"removal\" + 0.007*\"oil\"\n",
            "\n",
            "Topic: 5 \n",
            "Words: 0.041*\"wheel\" + 0.038*\"alpina\" + 0.017*\"fuel\" + 0.015*\"steering\" + 0.011*\"carbs\" + 0.011*\"nice\" + 0.010*\"anyone\" + 0.010*\"-\" + 0.010*\"fs:\" + 0.009*\"16\"\"\n",
            "\n",
            "Topic: 6 \n",
            "Words: 0.033*\"sale\" + 0.018*\"3.0cs\" + 0.015*\"area\" + 0.014*\"1974\" + 0.013*\"3.0\" + 0.013*\"project\" + 0.013*\"vintage\" + 0.011*\"bay\" + 0.010*\"-\" + 0.009*\"72\"\n",
            "\n",
            "Topic: 7 \n",
            "Words: 0.055*\"question\" + 0.022*\"?\" + 0.022*\"pic\" + 0.013*\"oil\" + 0.013*\"-\" + 0.012*\"head\" + 0.011*\"paint\" + 0.009*\"sunroof\" + 0.008*\"bolt\" + 0.007*\"best\"\n",
            "\n",
            "Topic: 8 \n",
            "Words: 0.024*\"rear\" + 0.023*\"front\" + 0.020*\"light\" + 0.017*\"question\" + 0.015*\"2800\" + 0.013*\"trim\" + 0.011*\"restoration\" + 0.010*\"euro\" + 0.010*\"trunk\" + 0.010*\"plate\"\n",
            "\n",
            "Topic: 9 \n",
            "Words: 0.039*\"window\" + 0.028*\"motor\" + 0.015*\"wiper\" + 0.013*\"tool\" + 0.012*\"-\" + 0.011*\"power\" + 0.011*\"!\" + 0.010*\"problem\" + 0.010*\"/\" + 0.009*\"new\"\n",
            "\n"
          ]
        },
        {
          "output_type": "execute_result",
          "data": {
            "text/plain": [
              "<IPython.core.display.HTML object>"
            ],
            "text/html": [
              "\n",
              "<link rel=\"stylesheet\" type=\"text/css\" href=\"https://cdn.jsdelivr.net/gh/bmabey/pyLDAvis@3.4.0/pyLDAvis/js/ldavis.v1.0.0.css\">\n",
              "\n",
              "\n",
              "<div id=\"ldavis_el1331350764837159681300876021\" style=\"background-color:white;\"></div>\n",
              "<script type=\"text/javascript\">\n",
              "\n",
              "var ldavis_el1331350764837159681300876021_data = {\"mdsDat\": {\"x\": [-0.12990451402999242, -0.10309841349256581, -0.1678830385080775, 0.12182854327990253, 0.02899511935704552, 0.02616226756490673, -0.03036989628040475, 0.07501967114201995, 0.11801301034019845, 0.06123725062696683], \"y\": [-0.09339254263518702, -0.031466383624401024, 0.017779073470697085, -0.1143693495813658, -0.051046286870356894, -0.05238846334453665, 0.14258764296134854, 0.14526876173916733, -0.07824474468226193, 0.11527229256689625], \"topics\": [1, 2, 3, 4, 5, 6, 7, 8, 9, 10], \"cluster\": [1, 1, 1, 1, 1, 1, 1, 1, 1, 1], \"Freq\": [11.430003389791937, 10.802383707060773, 10.642249275518486, 10.252226178464761, 9.688366720246098, 9.60445142256567, 9.577919352190005, 9.44652963689504, 9.437564499011062, 9.118305818256168]}, \"tinfo\": {\"Term\": [\"question\", \"part\", \"sale\", \"wheel\", \"alpina\", \"window\", \"motor\", \"seat\", \"front\", \"uk\", \"looking\", \"rear\", \"?\", \"engine\", \"pic\", \"3.0\", \"light\", \"anyone\", \"brake\", \"3.0cs\", \"fuel\", \"switch\", \"area\", \"speed\", \"1974\", \"needed\", \"wiper\", \"2800\", \"oil\", \"1972\", \"needed\", \"right\", \"value\", \"got\", \"owner\", \"uk\", \"hand\", \"service\", \"green\", \"quick\", \"start\", \"control\", \"...\", \"//\", \"help!\", \"part\", \"potential\", \"alpinas\", \"thanks\", \"jet\", \"manifold\", \"'75\", \"mechanic\", \"information\", \"metric\", \"genuine\", \"tan\", \"ii\", \"1972\", \"los\", \"l\", \"1973\", \"german\", \"left\", \"csa\", \"exhaust\", \"sale\", \"3.0\", \"year\", \"'73\", \"-\", \"manual\", \"+\", \"leather\", \"3.0cs\", \"complete\", \"carpet\", \"&\", \"looking\", \"socal\", \"car\", \"engine\", \"euro\", \"fs:\", \"new\", \"san\", \"fit\", \"turn\", \"signal\", \"14\\\"\", \"wanted:\", \"spotted\", \"1967\", \"cable\", \"interesting\", \"spoiler\", \"diego\", \"noise\", \"becker\", \"francisco\", \"bushing\", \"atlantic\", \"'71\", \"here's\", \"m5\", \"cruz\", \"glass\", \"work\", \"visor\", \"item\", \"home\", \"white\", \"event\", \"fs:battery\", \"relocation\", \"rubber\", \"caliper\", \"2000cs\", \"alloy\", \"bumper\", \"2800cs\", \"link\", \"sport\", \"rhd\", \"door\", \"bavaria\", \"wheel\", \"wtb\", \"brake\", \"front\", \"sale\", \"rear\", \"one\", \"3.0\", \"part\", \"-\", \"panel\", \"seat\", \"area\", \"1974\", \"project\", \"bay\", \"dash\", \"shift\", \"end\", \"windshield\", \"knob\", \"vineyard\", \"battery\", \"rust\", \"gauge\", \"regulator\", \"may\", \"watkins\", \"hose\", \"want\", \"sound\", \"hey\", \"glen\", \"nc\", \"make\", \"body\", \"1971\", \"dc\", \"done\", \"voltage\", \"buck\", \"polaris\", \"wood\", \"spring\", \"72\", \"vintage\", \"3.0csi\", \"3.0cs\", \"sale\", \"help\", \"racing\", \"drive\", \"set\", \"3.0\", \"-\", \"wtb:\", \"front\", \"alpina\", \"carbs\", \"running\", \"calendar\", \"getrag\", \"injector\", \"zenith\", \"open\", \"265\", \"palo\", \"nardi\", \"take\", \"stagger\", \"seats?\", \"article\", \"r\", \"alto\", \"b2\", \"know\", \"alpina's\", \"coast\", \"fuel\", \"finally\", \"nice\", \"cap\", \"16\", \"*sold*\", \"3.0csa\", \"fit?\", \"button\", \"16\\\"\", \"wheel\", \"ebay,\", \"ca\", \"lug\", \"steering\", \"badge\", \"tranny\", \"spotting\", \"fs:\", \"anyone\", \"conversion\", \"bb\", \"repair\", \"anybody\", \"-\", \"new\", \"3.0\", \"wire\", \"m3\", \"removing\", \"switch\", \"update\", \"master\", \"header\", \"remove\", \"speedometer\", \"triple\", \"cam\", \".\", \"seen\", \"find\", \"clutch\", \"schnitzer\", \"molding\", \"design\", \"park\", \"intake\", \"guide\", \"horn\", \"throttle\", \"daily\", \"pin\", \"ultimate\", \"crank\", \"page\", \"slightly\", \"away\", \"cover\", \"weber\", \"fun\", \"fan\", \"england\", \"ignition\", \"picture\", \"need\", \"brake\", \"car\", \"coffee\", \"replacement\", \"socal\", \"new\", \"-\", \"&\", \"vintage\", \"2000\", \"door\", \"cylinder\", \"engine\", \"3.0csi\", \"factory\", \"early\", \"idle\", \"workshop\", \"short\", \"east\", \"vent\", \"donor\", \"le\", \"man\", \"vol\", \"bimmerfest\", \"sticker\", \"total\", \"rest\", \"trade\", \"4\", \"(\", \"alpina\\u00b4s\", \"45\", \"seat\", \"warning\", \"2007\", \"9\", \"london\", \"beware\", \"refurb\", \"nb\", \"roof\", \"core\", \"seal\", \"magazine\", \"wanted\", \"scheel\", \"paging\", \"member\", \"manual\", \"use\", \"automatic\", \"belt\", \"new\", \"time\", \"2\", \"video\", \"-\", \"rear\", \"window\", \"need\", \"speed\", \"&\", \"sale\", \"wtb\", \"!\", \"5\", \"advice\", \"key\", \"ecu\", \"fender\", \"rocker\", \"alternator\", \"fog\", \"conditioning\", \"bracket\", \"felt\", \"license\", \"slave\", \"relay\", \"zf\", \"emblem\", \"difference\", \"way\", \"light\", \"lid\", \"strut\", \"plate\", \"aluminum\", \"spec\", \"wing\", \"available\", \"painting\", \"board\", \"\\\"\", \"cars.\", \"batmobiles\", \"veneer\", \"2800\", \"bat\", \"radio\", \"vs.\", \"trim\", \"trunk\", \"two\", \"1970\", \"restoration\", \"euro\", \"a/c\", \"front\", \"hood\", \"grill\", \"rear\", \"question\", \"side\", \"air\", \"panel\", \"3.0\", \"filter\", \"mirror\", \"gas\", \"size\", \"assembly\", \"car?\", \"friday\", \"pedal\", \"issue\", \"metal\", \"performance\", \"oem\", \"blade\", \"orange\", \"c\", \"bimmer\", \"track\", \"info\", \"wine\", \"velour\", \"vinyl\", \"shifter\", \"price\", \"hi\", \"1966\", \"cal.\", \"so.\", \"improving\", \"really\", \"lever\", \"tire\", \"tank\", \"looking\", \"speed\", \"engine\", \"housing\", \"hello\", \"anyone\", \"transmission\", \"5\", \"newbie\", \"getting\", \"removal\", \"interior\", \"center\", \"swap\", \"oil\", \"back\", \"73\", \"conversion\", \"3.0cs\", \"brake\", \"motor\", \"tool\", \"black\", \"wiper\", \"upgrade\", \"old\", \"craigslist\", \"seattle\", \"antenna\", \"m90\", \"fjord\", \"3\", \"group\", \"insulation\", \"austria\", \"electrical\", \"model\", \"s38\", \"suggestion\", \"plastic\", \"problem\", \"calling\", \"trying\", \"d-jetronic\", \"test\", \"questions...\", \"toolkit\", \"setup\", \"$100\", \"ad\", \"window\", \"power\", \"!\", \"kit\", \"sold\", \"e9?\", \"electric\", \"another\", \"pump\", \"/\", \"m30\", \"chrome\", \"source\", \"color\", \"stock\", \"-\", \"blue\", \"new\", \"steering\", \"leather\", \"fs:\", \"?\", \"pic\", \"sunroof\", \"fall\", \"selling\", \"paint\", \"rally\", \"tbl\", \"place\", \"head\", \"think\", \"job\", \"mystery\", \"ballast\", \"like\", \"couple\", \"tii\", \"radiator\", \"build\", \"fotos\", \"liter\", \"safety\", \",\", \"january\", \"image\", \"bav\", \"torque\", \"flywheel\", \"rod\", \"lot\", \"question\", \"storage\", \"bolt\", \"oil\", \"show\", \"gearbox\", \"m30b35\", \"e3\", \"meet\", \"best\", \"photo\", \"-\", \"3.5\", \"coupe\", \"swap\", \"new\", \"pump\", \"auto\"], \"Freq\": [81.0, 79.0, 132.0, 83.0, 46.0, 56.0, 31.0, 40.0, 51.0, 36.0, 44.0, 69.0, 24.0, 50.0, 23.0, 86.0, 26.0, 39.0, 39.0, 44.0, 24.0, 20.0, 19.0, 23.0, 18.0, 19.0, 18.0, 21.0, 24.0, 23.0, 18.636923105981488, 11.406632125179534, 9.005491568047017, 7.091038445135295, 6.3412082145354, 32.628263299017114, 5.365327908014021, 4.65249144149605, 4.652313819484164, 4.427307624068386, 4.427191810770654, 4.202205906094372, 4.1650033034782625, 3.9397420690752956, 3.7134235310620314, 67.05217088573347, 3.676257451777013, 3.4521134567071585, 3.451820957893209, 3.451929279225589, 3.451471645008673, 2.9642869315876403, 2.9640952621407193, 2.963940740355335, 2.9638486516145504, 2.9637553142128734, 2.9635271214348613, 2.963082910322534, 19.09221608372529, 2.739162113387124, 4.652401850077049, 16.48895416367504, 6.603362695818485, 6.113366934564348, 9.492326344253067, 7.520707652714461, 52.85884231216512, 36.896038885871945, 6.829196753405655, 6.982435539723554, 33.89609113570459, 11.38293129278857, 5.856005438115187, 7.328742273161772, 12.649471760096397, 5.9544773333797245, 5.140312659806777, 8.272967777410178, 8.527004089903954, 5.406316450454661, 5.85372288600462, 6.577090870650903, 5.530704302532561, 5.746582786827852, 5.634520466414838, 12.820357967585116, 9.91917298636928, 9.423062517556401, 9.195019370101205, 9.130926525399444, 8.66129389565515, 8.423541499149868, 7.929341607573343, 6.942121331491158, 6.448231215408482, 6.218771951409973, 5.723006070955968, 5.4941816992077115, 4.997868253690292, 4.959027127150031, 4.235305426427667, 4.234758156388533, 4.234552229441193, 4.234459886841598, 4.263318276824346, 4.005788337670307, 3.7768276647047565, 3.510280013412616, 3.5102735228784594, 3.5102050772455327, 3.5101313211755687, 3.28044577355441, 5.456047450841988, 3.014275163291927, 3.014275163291927, 7.8207325492839965, 7.653761787953387, 9.547349756125893, 6.3555747099795505, 11.628369009485635, 10.827426473656445, 5.951614484931369, 8.281050082416094, 6.866670052014912, 12.563900441688356, 7.870047037759172, 24.909834585224303, 10.587027709360848, 15.070695785494564, 17.43629250896133, 28.19636257933224, 19.70382906228931, 8.051305824963244, 15.045103019265552, 11.559355749844423, 10.589935468663116, 6.708632035829806, 6.794685897875544, 18.783649032691653, 17.988768969614135, 16.13780093104641, 13.122260071219914, 10.512500340818477, 9.51862908473526, 8.821911112093884, 8.60166869206697, 8.565062381021315, 7.86601571382753, 7.64547857384603, 7.425288470970816, 6.248222895187372, 6.212539109916725, 6.211534039302368, 5.036160051423944, 4.558162650996651, 4.557064281461759, 4.114086238478501, 4.080285289367429, 3.8597571595620543, 3.6385276892730345, 5.729595413446883, 8.270227328701543, 7.722038331042871, 2.9040826559362194, 2.9040652168856522, 2.904030338784518, 2.904022781862605, 2.9036379601467552, 9.777678042687725, 10.173917686245774, 11.817027355896052, 15.7438283640621, 10.914712277894113, 22.365321929305434, 41.78467667232399, 11.014415980400399, 7.168135719116693, 9.300297984650511, 7.728058291298676, 16.3205412541302, 12.20946877424056, 6.843669394676469, 6.930038036515686, 45.29551299856738, 13.08874608864706, 9.867076409526561, 9.350849142230887, 9.1293291259092, 8.906609034266454, 8.164268648557012, 7.495536615857983, 6.753938227255589, 5.788626870881546, 5.30706010844898, 5.306842269298308, 4.823760152773915, 4.822935275990004, 4.6014547395143905, 4.377764731653223, 4.119208139732424, 4.685556891610817, 11.182531440735039, 3.673485157549528, 3.4137483702301603, 20.10075874970332, 2.931104451997288, 12.727009899010362, 4.826901180527448, 2.708979078035813, 2.7083756803883836, 2.707808682599036, 2.7082824407519133, 2.707604003397054, 11.376964922663673, 49.85990288259292, 3.8893503159187857, 6.04860081727626, 5.821000904659314, 18.41582723903655, 6.971795857856452, 5.566679016227946, 7.4982811651573344, 11.916303299852075, 12.552914417786457, 9.102874829051132, 6.295413694984305, 6.048850016304665, 7.234558593378033, 12.101934736098762, 8.773482433310106, 7.441141787936485, 9.52609529758506, 8.283674468879585, 7.831535613080945, 18.718770046777102, 7.379907963174154, 7.079063825019683, 7.078193822445978, 7.077812270222352, 6.589083561655367, 5.421696221342841, 5.421391402922856, 4.668546000617655, 4.668014155978621, 4.442692485765825, 4.442575003666455, 4.179553751125059, 4.179085410323521, 4.1789943881564415, 3.464037227497072, 3.463024076689676, 3.463603020008188, 3.4609369172306153, 3.2375145409576187, 2.9746435808316316, 2.974327384640762, 2.9743075396915444, 2.9742763169714417, 2.9739961062884874, 2.9739712339521347, 2.9739222830773975, 9.470187577450199, 17.47155997032708, 4.2163211500390725, 7.3789612267968065, 3.936801865115339, 10.486755949701136, 8.05893068358801, 19.134042808114287, 17.923970834229664, 10.826763962837154, 5.395860743454573, 6.400750759989854, 6.435029602271962, 13.387981685605464, 13.528599291371846, 8.07195373306266, 7.404852799741529, 6.572215354820289, 7.012937808232947, 5.625698594910681, 7.335563233450162, 5.875681451216699, 10.389188338076126, 7.518948748632825, 5.836502088804519, 5.125648738686915, 5.1255007972516875, 5.125236391282345, 4.4147124993963835, 4.414575574876545, 4.189771744053228, 4.189771744053228, 4.152956885127396, 4.152802648311946, 3.9281265612456426, 3.6653581776833697, 3.4419364451263883, 3.216921194450601, 13.84017727765488, 2.9550357379645256, 2.9549058957474377, 2.9546567036136326, 32.670950075929646, 2.7310442734974134, 2.7308685274662037, 2.7306544845386402, 2.468787651885723, 2.4683477621926797, 2.468287956080567, 2.46764845037297, 4.349004206017118, 2.2447639235949706, 9.015820714878954, 6.806448631972034, 14.215169994445036, 3.66327466913725, 4.18976020252282, 7.084050767490949, 11.240472734815782, 4.151535703042179, 5.987044040678834, 5.30465157993188, 17.30383986685145, 4.414526785679821, 5.611018356917178, 4.414580296411712, 14.4006423880986, 10.94065210403179, 9.462514664712634, 8.146225155532283, 6.638867708910657, 7.33775878737558, 8.855460592932719, 4.929940056791659, 4.518580502301501, 4.444858976821592, 4.414777551658681, 9.736239715172541, 6.542161421579195, 6.5410967792129675, 6.504065012504837, 6.503410532111643, 6.272103768112735, 5.772747784084195, 5.503390649599739, 5.5030626246544685, 4.81039688420281, 4.27149061339193, 4.0405254766486225, 3.540669346132557, 3.540456156076421, 3.5404436000976545, 3.309136836098746, 22.024948778476876, 3.0392086661633133, 5.269426726594408, 11.04922469275589, 2.809418821349111, 2.809363627359117, 2.809165347527766, 2.809030632338919, 2.8090117983707694, 2.8089869479961274, 2.5395840365057527, 2.5395678183665127, 2.5393909883322205, 2.539177013527411, 17.03703494331007, 5.772508174156071, 7.495257518778238, 5.501500974795408, 14.630376083928406, 11.062999647794106, 6.734739792239174, 7.042486308635868, 12.276709732929993, 11.660604596171746, 6.884080603685772, 26.349711270779608, 8.084620513427351, 8.597042562859592, 27.39984729620571, 19.51776256776581, 7.848433659014601, 7.973745989262937, 5.63726511103514, 6.1741566704198085, 13.512545624489876, 9.742304788552799, 7.569290369928471, 7.341191754965912, 7.041958379964913, 5.845714757258857, 5.654249297602651, 5.395598457742289, 7.953274422797423, 4.908402672431173, 4.908479038803719, 4.682399488812621, 4.646156421193061, 4.645889138889148, 4.420261595265286, 4.15852565715183, 3.93421233752038, 3.9335250401674577, 3.4472397174533613, 3.446885233007823, 3.446860981524649, 3.2213998443544796, 7.935151341020632, 2.9602629694743134, 2.9601561597505484, 2.9599066790672617, 2.9599066790672617, 2.959755236294677, 2.9596799019001376, 2.9595496146767046, 10.679792825630743, 7.073079224744789, 29.740708352132003, 16.130339468365552, 28.653583503982414, 5.1022024663400956, 3.92089130740648, 20.709639710338813, 6.9307813252727035, 9.631402240010557, 5.277999919899092, 5.133196377825063, 8.802916879963249, 8.032826511453145, 6.862832797332081, 6.038399498930794, 8.08231862872059, 6.191869076321886, 5.262730257312736, 5.390980356159216, 5.565775759073037, 5.331784033699274, 31.267039432701573, 14.866466023091496, 9.91379403695371, 17.105729038803798, 8.490171555401378, 7.798669440913929, 8.01439043687908, 7.3622972135894305, 6.633459030626898, 5.247406138736764, 5.211995975681248, 4.9932031193319455, 4.300083368011895, 4.081782813502979, 4.045040857981871, 3.8270498608081938, 3.8267446852170846, 3.8240682128031693, 3.3532758388466752, 3.3530245329333885, 11.365977242238815, 3.134289670256383, 2.8793907267840018, 2.879288657920759, 2.8791169966507604, 2.879078076452908, 2.87900951504477, 2.8787406821549673, 2.660504565059715, 2.66027826086293, 43.61637594038158, 12.231065501146004, 12.141295420424894, 10.123690921722325, 7.831393852567963, 3.8249932763137187, 5.9494543380939895, 9.01429413715313, 8.998436347400267, 11.186780403336591, 8.519855036629819, 6.755926717037958, 6.933030628744401, 4.992724735972909, 5.849907297472588, 13.660621379748443, 5.904605898184395, 10.39541163865597, 6.291717011511643, 5.56838126817664, 5.600630904966803, 23.431924919448544, 23.155039008783923, 9.553576973473126, 5.177333415809545, 4.950338249398271, 11.51397691527504, 4.723379939481704, 4.686217635481312, 4.4590700624838195, 13.21129021725473, 4.195146680619613, 4.195083924966465, 4.19471585808014, 3.7027566118899413, 3.4758334152554933, 4.668141517070742, 3.2500276178896126, 3.2499546519913083, 2.985604432073542, 2.9854963528931195, 2.985093919815784, 2.98488996394305, 2.9843787045941825, 2.98391227071185, 2.758655834341391, 2.7587375163026326, 2.758660814948784, 2.7585455138876416, 2.758241447806313, 4.679694035918265, 58.42789978865605, 4.194824435321301, 8.310760034027087, 14.015863512211196, 6.686072454866507, 5.177634244496068, 4.686364065338659, 4.457716333394465, 6.332689893317116, 7.861223360335153, 6.35499703770784, 13.783269146968973, 5.18992439129846, 4.232397639431597, 4.5295845058291375, 5.473094334310535, 4.3405629843625375, 4.321021571257016], \"Total\": [81.0, 79.0, 132.0, 83.0, 46.0, 56.0, 31.0, 40.0, 51.0, 36.0, 44.0, 69.0, 24.0, 50.0, 23.0, 86.0, 26.0, 39.0, 39.0, 44.0, 24.0, 20.0, 19.0, 23.0, 18.0, 19.0, 18.0, 21.0, 24.0, 23.0, 19.32542883357999, 12.082842404901397, 9.681391834520344, 7.767173706124363, 7.016985659576406, 36.459480708310764, 6.041073860365222, 5.328301003866972, 5.328165053952216, 5.103197619657017, 5.10307574624522, 4.878100331171168, 4.840694467829353, 4.615587585622853, 4.390204803952413, 79.29460178304484, 4.351932480462127, 4.127792070773267, 4.127581724285243, 4.127758942227638, 4.127684497741192, 3.639967989013266, 3.6397978488945646, 3.639651964845999, 3.639569979724025, 3.6394857605774975, 3.639300654381663, 3.6388962084130596, 23.581106095330963, 3.4148917756109545, 5.814450108392297, 23.667452750552016, 9.011211428838717, 8.431763981436116, 14.529380685042192, 11.385475652510586, 132.6390418836687, 86.58666032966434, 10.362461535207903, 11.199745151225168, 124.37180923151371, 26.535407163338018, 9.460595500988012, 15.778887398543525, 44.30120722918588, 11.3236675130365, 8.522246985881909, 32.166438433397346, 44.78470661099177, 12.442406929675867, 21.98859177221277, 50.92262304710299, 18.003146114989107, 29.41127663692694, 71.39208983775423, 13.494930437403681, 10.594519447270965, 10.098895622218373, 9.869948464453435, 9.831171098869888, 9.335872497537874, 9.106722182005782, 8.610720546430178, 7.61866098013214, 7.122711564917337, 6.893449535808576, 6.3975732119714355, 6.168715869203541, 5.672658876746101, 5.6336236511590885, 4.909717577756018, 4.909234257460968, 4.90904849246844, 4.9089761418382585, 4.947333889391354, 4.680741589875244, 4.4515308384380186, 4.184694286511632, 4.184687052980782, 4.184628769963725, 4.184563455229669, 3.955612700936666, 6.655384839429843, 3.688684914933294, 3.688684914933294, 9.881444947230483, 10.08184434227974, 12.934789485544817, 8.794722929063514, 19.74845901585063, 18.098360203468978, 8.32683797585784, 12.971017665856968, 10.317166915088343, 25.291681829878492, 12.68126137866467, 83.22359990241532, 21.383726128362554, 39.95602614909301, 51.573292252865194, 132.6390418836687, 69.71136122922323, 15.604698199433285, 86.58666032966434, 79.29460178304484, 124.37180923151371, 16.497730174640196, 40.390745183927194, 19.462242362004552, 18.727585002209867, 16.815452405200183, 13.800705233458523, 11.190713359332863, 10.198337504081572, 9.499375527532656, 9.27918552224679, 9.242489632206327, 8.544159303529659, 8.323425773858903, 8.102811478706604, 6.926350805458248, 6.88980222089218, 6.888965504207484, 5.713434599838122, 5.235384799393758, 5.234581243042369, 4.794129249627611, 4.757499833826441, 4.537037931298771, 4.316416966674048, 6.898317340091054, 10.035091823926226, 9.520774928650846, 3.5812874567629476, 3.5812695494645457, 3.5812346713634113, 3.5812348966405496, 3.5808890390233694, 13.919220272897807, 15.097214689334344, 18.618184900470986, 26.90450023844397, 17.393570348583268, 44.30120722918588, 132.6390418836687, 20.544160448196546, 11.229444726061885, 20.87078994505848, 15.779551696676334, 86.58666032966434, 124.37180923151371, 13.703899581482647, 51.573292252865194, 46.138256199907765, 13.852026339457622, 10.548113072152077, 10.028650800007863, 9.80603270890793, 9.583258257655324, 8.84105486758901, 8.17301142201562, 7.430670015370249, 6.465863580397898, 5.983562829178887, 5.983364944860948, 5.500275667930212, 5.499844000539072, 5.278062449739712, 5.0553488923687695, 4.7957385486586945, 5.501090360015569, 13.193716738438248, 4.350314995177488, 4.090351939033046, 24.237313125181004, 3.607677556767263, 15.847618986446681, 6.011094350896629, 3.3855652589219183, 3.384957620469891, 3.3846269400697455, 3.3854424022473144, 3.384827189141289, 14.631539054919699, 83.22359990241532, 5.0605814542709115, 8.419710679557038, 8.203490167306185, 33.96411229515222, 10.552742342938393, 7.974835600146199, 13.013386108752334, 29.41127663692694, 39.23627103130778, 21.2177526913613, 10.419023680654877, 9.611983969285053, 15.166018571554455, 124.37180923151371, 71.39208983775423, 86.58666032966434, 10.201922807602907, 8.959131312449035, 8.507198518259075, 20.419661386396832, 8.055555150617666, 7.754484785304256, 7.754296229372606, 7.7540085899580085, 7.264541636176168, 6.0974027768443495, 6.097424708573052, 5.344031429416546, 5.3436164946756, 5.118366496416051, 5.118539744590044, 4.854976403182473, 4.854550133866492, 4.854475499796099, 4.139561982357475, 4.138617249413072, 4.139316140716851, 4.139121057554463, 3.913408738627887, 3.650058473795809, 3.649770870237743, 3.6497500195063997, 3.649721722617161, 3.649474091323452, 3.649446702930134, 3.6494086756567343, 11.879184080830202, 22.324276516269443, 5.366058985464539, 10.18741559720055, 5.102008914165937, 17.172352494622594, 12.541826297478382, 40.62287701953636, 39.95602614909301, 21.98859177221277, 8.768740685022498, 12.16126428436658, 12.442406929675867, 71.39208983775423, 124.37180923151371, 32.166438433397346, 26.90450023844397, 19.89215821603115, 25.291681829878492, 12.731420730890214, 50.92262304710299, 17.393570348583268, 11.076707693882833, 8.195881189865835, 6.512468688286338, 5.801607371585269, 5.801530839083906, 5.801380047720866, 5.090678700171093, 5.090572177960173, 4.866191986262287, 4.866191988466966, 4.828856201156156, 4.828712497159296, 4.604193244862942, 4.341392577072516, 4.117900530496256, 3.893022411096852, 16.834732049851084, 3.6310080927055908, 3.6308903847949816, 3.6306614271784183, 40.390745183927194, 3.406999512519788, 3.406913535079162, 3.4068370706099027, 3.1446957144568684, 3.144286574934483, 3.1443465102981, 3.1446649679409946, 5.5823419926119415, 2.920662605538121, 11.924447166508205, 9.171107956196842, 20.361307988224596, 4.867373350709247, 6.327250044715471, 13.20141024198285, 26.535407163338018, 6.482277926938862, 11.392533883499574, 9.490123147704804, 71.39208983775423, 7.242866404679578, 11.655640293670217, 7.2910871883181425, 124.37180923151371, 69.71136122922323, 56.75046223078941, 40.62287701953636, 23.374014548802485, 32.166438433397346, 132.6390418836687, 21.383726128362554, 17.26755674250315, 17.385189165349164, 10.664627196443623, 10.410369394709496, 7.216086747254999, 7.216153091361823, 7.177824089622458, 7.17775220686487, 6.946784428410925, 6.446608945793212, 6.17714607149876, 6.176851809140611, 5.484361056178767, 4.945283799274859, 4.714394909744881, 4.2144203000182525, 4.214265444324083, 4.214293457090231, 3.9832220682414414, 26.6538785764711, 3.7130709204766776, 6.470431897490597, 13.593852125844126, 3.4831683885143594, 3.4831202160607906, 3.483067488130242, 3.482924544071024, 3.48294112150368, 3.4829336810328377, 3.213333603671001, 3.213317385531761, 3.2132017549310956, 3.213032487507482, 21.958439427156975, 7.418886663423646, 9.854080543224738, 7.158552438293874, 20.52564617578287, 15.706339488951956, 9.108397076049386, 9.889775440412524, 18.609415292561163, 18.003146114989107, 9.88174251205935, 51.573292252865194, 12.218460377434388, 13.44961183575708, 69.71136122922323, 81.65047583318771, 17.90690750199936, 19.507568084868605, 16.497730174640196, 86.58666032966434, 14.203727269079545, 10.418685301552046, 8.245249511439704, 8.020331801008115, 7.719970043928614, 6.521557162263328, 6.33371829690559, 6.07158829835213, 8.987468249934686, 5.584404328937487, 5.584575329679705, 5.359494846314923, 5.321982743443925, 5.322174488343572, 5.097350996768511, 4.834411834500886, 4.610105201404305, 4.610270107294542, 4.12312359088631, 4.122737874877033, 4.122832892053832, 3.8979297624285714, 9.685470429681951, 3.6360411948801996, 3.6359447599072756, 3.635731397247668, 3.635731397247668, 3.635586945070943, 3.6355121294785686, 3.635406556221977, 13.587658236925574, 8.95494325827298, 44.78470661099177, 23.374014548802485, 50.92262304710299, 6.974836617738614, 5.101321430922209, 39.23627103130778, 10.645585382445086, 17.385189165349164, 7.773264738449271, 7.492535673881471, 17.939604950047546, 16.286798875503465, 14.463091767641806, 11.168398222837848, 24.920991344818418, 12.341610639725106, 13.126975091198364, 21.2177526913613, 44.30120722918588, 39.95602614909301, 31.951517663294375, 15.549200883906536, 10.59181178783782, 18.333701663308638, 9.17023036696817, 8.477740916880963, 8.733902864778273, 8.040467654467914, 7.311450070901815, 5.926226737613687, 5.889851097420595, 5.6711202495088475, 4.978299412435506, 4.759959272445561, 4.72295812551607, 4.50498659261053, 4.504760681659845, 4.504847129425182, 4.0311077822829695, 4.030974139071529, 13.738082526200056, 3.812287433259808, 3.557228410260081, 3.5571350682998633, 3.5569707708579394, 3.5569372961184174, 3.5568802209118386, 3.556640318623267, 3.338458422849321, 3.3384155351607383, 56.75046223078941, 15.816475992164994, 17.26755674250315, 14.94665682965944, 11.170130320299686, 5.004753547639562, 8.576324583910187, 14.557529886344154, 15.225191388453656, 20.31017950968819, 14.75526896657645, 11.697788851796378, 13.976284297779609, 7.671919984268895, 13.093138872193864, 124.37180923151371, 13.626088350345386, 71.39208983775423, 33.96411229515222, 15.778887398543525, 29.41127663692694, 24.10750505466749, 23.842728794657628, 10.236704980363806, 5.852579515884419, 5.625802148850432, 13.157272562363822, 5.398971182387623, 5.3614376251375635, 5.134524564067085, 15.333626729820478, 4.8702821730603585, 4.870224313013994, 4.869885460035338, 4.378002857638461, 4.151761446759619, 5.623032578121055, 3.92525704690137, 3.9252350763776978, 3.6607452456508875, 3.660651657747924, 3.6602921987412222, 3.660089912875026, 3.6596627441122105, 3.6592628938588723, 3.433816729070178, 3.4340072204596934, 3.4339337053995656, 3.433832558588065, 3.4336425699548583, 5.871074599293496, 81.65047583318771, 5.35699623215938, 11.431391955466164, 24.920991344818418, 10.301331885580176, 7.58448297381055, 7.044955061731269, 6.817942396633898, 11.926878262526863, 17.061688408770785, 14.242010998002794, 124.37180923151371, 14.527917195103306, 8.321472284787689, 11.168398222837848, 71.39208983775423, 15.225191388453656, 16.334706421921386], \"Category\": [\"Default\", \"Default\", \"Default\", \"Default\", \"Default\", \"Default\", \"Default\", \"Default\", \"Default\", \"Default\", \"Default\", \"Default\", \"Default\", \"Default\", \"Default\", \"Default\", \"Default\", \"Default\", \"Default\", \"Default\", \"Default\", \"Default\", \"Default\", \"Default\", \"Default\", \"Default\", \"Default\", \"Default\", \"Default\", \"Default\", \"Topic1\", \"Topic1\", \"Topic1\", \"Topic1\", \"Topic1\", \"Topic1\", \"Topic1\", \"Topic1\", \"Topic1\", \"Topic1\", \"Topic1\", \"Topic1\", \"Topic1\", \"Topic1\", \"Topic1\", \"Topic1\", \"Topic1\", \"Topic1\", \"Topic1\", \"Topic1\", \"Topic1\", \"Topic1\", \"Topic1\", \"Topic1\", \"Topic1\", \"Topic1\", \"Topic1\", \"Topic1\", \"Topic1\", \"Topic1\", \"Topic1\", \"Topic1\", \"Topic1\", \"Topic1\", \"Topic1\", \"Topic1\", \"Topic1\", \"Topic1\", \"Topic1\", \"Topic1\", \"Topic1\", \"Topic1\", \"Topic1\", \"Topic1\", \"Topic1\", \"Topic1\", \"Topic1\", \"Topic1\", \"Topic1\", \"Topic1\", \"Topic1\", \"Topic1\", \"Topic1\", \"Topic1\", \"Topic1\", \"Topic2\", \"Topic2\", \"Topic2\", \"Topic2\", \"Topic2\", \"Topic2\", \"Topic2\", \"Topic2\", \"Topic2\", \"Topic2\", \"Topic2\", \"Topic2\", \"Topic2\", \"Topic2\", \"Topic2\", \"Topic2\", \"Topic2\", \"Topic2\", \"Topic2\", \"Topic2\", \"Topic2\", \"Topic2\", \"Topic2\", \"Topic2\", \"Topic2\", \"Topic2\", \"Topic2\", \"Topic2\", \"Topic2\", \"Topic2\", \"Topic2\", \"Topic2\", \"Topic2\", \"Topic2\", \"Topic2\", \"Topic2\", \"Topic2\", \"Topic2\", \"Topic2\", \"Topic2\", \"Topic2\", \"Topic2\", \"Topic2\", \"Topic2\", \"Topic2\", \"Topic2\", \"Topic2\", \"Topic2\", \"Topic2\", \"Topic2\", \"Topic2\", \"Topic2\", \"Topic2\", \"Topic3\", \"Topic3\", \"Topic3\", \"Topic3\", \"Topic3\", \"Topic3\", \"Topic3\", \"Topic3\", \"Topic3\", \"Topic3\", \"Topic3\", \"Topic3\", \"Topic3\", \"Topic3\", \"Topic3\", \"Topic3\", \"Topic3\", \"Topic3\", \"Topic3\", \"Topic3\", \"Topic3\", \"Topic3\", \"Topic3\", \"Topic3\", \"Topic3\", \"Topic3\", \"Topic3\", \"Topic3\", \"Topic3\", \"Topic3\", \"Topic3\", \"Topic3\", \"Topic3\", \"Topic3\", \"Topic3\", \"Topic3\", \"Topic3\", \"Topic3\", \"Topic3\", \"Topic3\", \"Topic3\", \"Topic3\", \"Topic3\", \"Topic3\", \"Topic3\", \"Topic4\", \"Topic4\", \"Topic4\", \"Topic4\", \"Topic4\", \"Topic4\", \"Topic4\", \"Topic4\", \"Topic4\", \"Topic4\", \"Topic4\", \"Topic4\", \"Topic4\", \"Topic4\", \"Topic4\", \"Topic4\", \"Topic4\", \"Topic4\", \"Topic4\", \"Topic4\", \"Topic4\", \"Topic4\", \"Topic4\", \"Topic4\", \"Topic4\", \"Topic4\", \"Topic4\", \"Topic4\", \"Topic4\", \"Topic4\", \"Topic4\", \"Topic4\", \"Topic4\", \"Topic4\", \"Topic4\", \"Topic4\", \"Topic4\", \"Topic4\", \"Topic4\", \"Topic4\", \"Topic4\", \"Topic4\", \"Topic4\", \"Topic4\", \"Topic4\", \"Topic4\", \"Topic4\", \"Topic4\", \"Topic5\", \"Topic5\", \"Topic5\", \"Topic5\", \"Topic5\", \"Topic5\", \"Topic5\", \"Topic5\", \"Topic5\", \"Topic5\", \"Topic5\", \"Topic5\", \"Topic5\", \"Topic5\", \"Topic5\", \"Topic5\", \"Topic5\", \"Topic5\", \"Topic5\", \"Topic5\", \"Topic5\", \"Topic5\", \"Topic5\", \"Topic5\", \"Topic5\", \"Topic5\", \"Topic5\", \"Topic5\", \"Topic5\", \"Topic5\", \"Topic5\", \"Topic5\", \"Topic5\", \"Topic5\", \"Topic5\", \"Topic5\", \"Topic5\", \"Topic5\", \"Topic5\", \"Topic5\", \"Topic5\", \"Topic5\", \"Topic5\", \"Topic5\", \"Topic5\", \"Topic5\", \"Topic5\", \"Topic5\", \"Topic5\", \"Topic5\", \"Topic5\", \"Topic5\", \"Topic6\", \"Topic6\", \"Topic6\", \"Topic6\", \"Topic6\", \"Topic6\", \"Topic6\", \"Topic6\", \"Topic6\", \"Topic6\", \"Topic6\", \"Topic6\", \"Topic6\", \"Topic6\", \"Topic6\", \"Topic6\", \"Topic6\", \"Topic6\", \"Topic6\", \"Topic6\", \"Topic6\", \"Topic6\", \"Topic6\", \"Topic6\", \"Topic6\", \"Topic6\", \"Topic6\", \"Topic6\", \"Topic6\", \"Topic6\", \"Topic6\", \"Topic6\", \"Topic6\", \"Topic6\", \"Topic6\", \"Topic6\", \"Topic6\", \"Topic6\", \"Topic6\", \"Topic6\", \"Topic6\", \"Topic6\", \"Topic6\", \"Topic6\", \"Topic6\", \"Topic6\", \"Topic6\", \"Topic6\", \"Topic6\", \"Topic6\", \"Topic6\", \"Topic6\", \"Topic6\", \"Topic6\", \"Topic6\", \"Topic7\", \"Topic7\", \"Topic7\", \"Topic7\", \"Topic7\", \"Topic7\", \"Topic7\", \"Topic7\", \"Topic7\", \"Topic7\", \"Topic7\", \"Topic7\", \"Topic7\", \"Topic7\", \"Topic7\", \"Topic7\", \"Topic7\", \"Topic7\", \"Topic7\", \"Topic7\", \"Topic7\", \"Topic7\", \"Topic7\", \"Topic7\", \"Topic7\", \"Topic7\", \"Topic7\", \"Topic7\", \"Topic7\", \"Topic7\", \"Topic7\", \"Topic7\", \"Topic7\", \"Topic7\", \"Topic7\", \"Topic7\", \"Topic7\", \"Topic7\", \"Topic7\", \"Topic7\", \"Topic7\", \"Topic7\", \"Topic7\", \"Topic7\", \"Topic7\", \"Topic7\", \"Topic7\", \"Topic7\", \"Topic7\", \"Topic7\", \"Topic8\", \"Topic8\", \"Topic8\", \"Topic8\", \"Topic8\", \"Topic8\", \"Topic8\", \"Topic8\", \"Topic8\", \"Topic8\", \"Topic8\", \"Topic8\", \"Topic8\", \"Topic8\", \"Topic8\", \"Topic8\", \"Topic8\", \"Topic8\", \"Topic8\", \"Topic8\", \"Topic8\", \"Topic8\", \"Topic8\", \"Topic8\", \"Topic8\", \"Topic8\", \"Topic8\", \"Topic8\", \"Topic8\", \"Topic8\", \"Topic8\", \"Topic8\", \"Topic8\", \"Topic8\", \"Topic8\", \"Topic8\", \"Topic8\", \"Topic8\", \"Topic8\", \"Topic8\", \"Topic8\", \"Topic8\", \"Topic8\", \"Topic8\", \"Topic8\", \"Topic8\", \"Topic8\", \"Topic8\", \"Topic8\", \"Topic8\", \"Topic8\", \"Topic8\", \"Topic9\", \"Topic9\", \"Topic9\", \"Topic9\", \"Topic9\", \"Topic9\", \"Topic9\", \"Topic9\", \"Topic9\", \"Topic9\", \"Topic9\", \"Topic9\", \"Topic9\", \"Topic9\", \"Topic9\", \"Topic9\", \"Topic9\", \"Topic9\", \"Topic9\", \"Topic9\", \"Topic9\", \"Topic9\", \"Topic9\", \"Topic9\", \"Topic9\", \"Topic9\", \"Topic9\", \"Topic9\", \"Topic9\", \"Topic9\", \"Topic9\", \"Topic9\", \"Topic9\", \"Topic9\", \"Topic9\", \"Topic9\", \"Topic9\", \"Topic9\", \"Topic9\", \"Topic9\", \"Topic9\", \"Topic9\", \"Topic9\", \"Topic9\", \"Topic9\", \"Topic9\", \"Topic9\", \"Topic9\", \"Topic9\", \"Topic9\", \"Topic9\", \"Topic10\", \"Topic10\", \"Topic10\", \"Topic10\", \"Topic10\", \"Topic10\", \"Topic10\", \"Topic10\", \"Topic10\", \"Topic10\", \"Topic10\", \"Topic10\", \"Topic10\", \"Topic10\", \"Topic10\", \"Topic10\", \"Topic10\", \"Topic10\", \"Topic10\", \"Topic10\", \"Topic10\", \"Topic10\", \"Topic10\", \"Topic10\", \"Topic10\", \"Topic10\", \"Topic10\", \"Topic10\", \"Topic10\", \"Topic10\", \"Topic10\", \"Topic10\", \"Topic10\", \"Topic10\", \"Topic10\", \"Topic10\", \"Topic10\", \"Topic10\", \"Topic10\", \"Topic10\", \"Topic10\", \"Topic10\", \"Topic10\", \"Topic10\", \"Topic10\", \"Topic10\", \"Topic10\", \"Topic10\"], \"logprob\": [30.0, 29.0, 28.0, 27.0, 26.0, 25.0, 24.0, 23.0, 22.0, 21.0, 20.0, 19.0, 18.0, 17.0, 16.0, 15.0, 14.0, 13.0, 12.0, 11.0, 10.0, 9.0, 8.0, 7.0, 6.0, 5.0, 4.0, 3.0, 2.0, 1.0, -4.2758, -4.7668, -5.0031, -5.2421, -5.3539, -3.7158, -5.521, -5.6636, -5.6636, -5.7132, -5.7132, -5.7654, -5.7743, -5.8299, -5.889, -2.9955, -5.8991, -5.962, -5.9621, -5.962, -5.9622, -6.1143, -6.1144, -6.1145, -6.1145, -6.1145, -6.1146, -6.1147, -4.2517, -6.1933, -5.6636, -4.3983, -5.3134, -5.3905, -4.9505, -5.1833, -3.2334, -3.5929, -5.2798, -5.2576, -3.6777, -4.7689, -5.4335, -5.2092, -4.6634, -5.4168, -5.5639, -5.088, -5.0577, -5.5134, -5.4339, -5.3174, -5.4907, -5.4524, -5.4721, -4.5935, -4.85, -4.9013, -4.9258, -4.9328, -4.9856, -5.0135, -5.0739, -5.2069, -5.2807, -5.3169, -5.4, -5.4408, -5.5355, -5.5433, -5.701, -5.7012, -5.7012, -5.7012, -5.6945, -5.7568, -5.8156, -5.8888, -5.8888, -5.8888, -5.8888, -5.9565, -5.4478, -6.0411, -6.0411, -5.0877, -5.1093, -4.8882, -5.2952, -4.6911, -4.7624, -5.3608, -5.0305, -5.2178, -4.6137, -5.0814, -3.9292, -4.7849, -4.4317, -4.2859, -3.8053, -4.1637, -5.0587, -4.4334, -4.697, -4.7846, -5.2411, -5.2284, -4.1966, -4.2398, -4.3484, -4.5553, -4.777, -4.8763, -4.9523, -4.9776, -4.9819, -5.067, -5.0955, -5.1247, -5.2973, -5.303, -5.3032, -5.5129, -5.6126, -5.6129, -5.7151, -5.7234, -5.779, -5.838, -5.3839, -5.0169, -5.0855, -6.0634, -6.0635, -6.0635, -6.0635, -6.0636, -4.8495, -4.8097, -4.66, -4.3731, -4.7395, -4.0221, -3.397, -4.7304, -5.1599, -4.8995, -5.0847, -4.3371, -4.6274, -5.2062, -5.1937, -3.279, -4.5205, -4.803, -4.8568, -4.8807, -4.9054, -4.9925, -5.0779, -5.1821, -5.3363, -5.4232, -5.4232, -5.5187, -5.5188, -5.5659, -5.6157, -5.6766, -5.5477, -4.6779, -5.7911, -5.8644, -4.0915, -6.0169, -4.5485, -5.518, -6.0957, -6.0959, -6.0961, -6.0959, -6.0962, -4.6606, -3.183, -5.734, -5.2924, -5.3308, -4.179, -5.1504, -5.3754, -5.0776, -4.6143, -4.5623, -4.8836, -5.2524, -5.2924, -5.1134, -4.5989, -4.9205, -5.0852, -4.7816, -4.9214, -4.9775, -4.1061, -5.0369, -5.0785, -5.0786, -5.0787, -5.1502, -5.3453, -5.3453, -5.4948, -5.4949, -5.5444, -5.5444, -5.6055, -5.6056, -5.6056, -5.7932, -5.7935, -5.7934, -5.7941, -5.8609, -5.9455, -5.9456, -5.9456, -5.9457, -5.9458, -5.9458, -5.9458, -4.7875, -4.1751, -5.5967, -5.037, -5.6653, -4.6855, -4.9489, -4.0842, -4.1495, -4.6536, -5.35, -5.1792, -5.1739, -4.4413, -4.4309, -4.9473, -5.0335, -5.1528, -5.0879, -5.3083, -5.0429, -5.2648, -4.6862, -5.0095, -5.2628, -5.3927, -5.3927, -5.3928, -5.542, -5.542, -5.5943, -5.5943, -5.6031, -5.6032, -5.6588, -5.728, -5.7909, -5.8585, -4.3994, -5.9435, -5.9435, -5.9436, -3.5405, -6.0223, -6.0223, -6.0224, -6.1232, -6.1234, -6.1234, -6.1237, -5.557, -6.2184, -4.828, -5.1091, -4.3727, -5.7286, -5.5943, -5.0691, -4.6074, -5.6035, -5.2374, -5.3584, -4.176, -5.5421, -5.3022, -5.542, -4.3597, -4.6345, -4.7796, -4.9294, -5.134, -5.0339, -4.8459, -5.4316, -5.5188, -5.5352, -5.542, -4.7483, -5.1459, -5.1461, -5.1518, -5.1519, -5.1881, -5.271, -5.3188, -5.3189, -5.4534, -5.5722, -5.6278, -5.7599, -5.7599, -5.7599, -5.8275, -3.932, -5.9126, -5.3623, -4.6218, -5.9912, -5.9912, -5.9913, -5.9914, -5.9914, -5.9914, -6.0922, -6.0922, -6.0923, -6.0924, -4.1888, -5.2711, -5.0099, -5.3192, -4.3411, -4.6206, -5.1169, -5.0722, -4.5165, -4.568, -5.095, -3.7527, -4.9342, -4.8728, -3.7137, -4.0529, -4.9639, -4.948, -5.2948, -5.2038, -4.4068, -4.7339, -4.9863, -5.0169, -5.0585, -5.2447, -5.278, -5.3248, -4.9368, -5.4194, -5.4194, -5.4666, -5.4743, -5.4744, -5.5242, -5.5852, -5.6407, -5.6408, -5.7728, -5.7729, -5.7729, -5.8406, -4.9391, -5.9251, -5.9251, -5.9252, -5.9252, -5.9253, -5.9253, -5.9253, -4.642, -5.0541, -3.6179, -4.2297, -3.6551, -5.3807, -5.6441, -3.9798, -5.0744, -4.7454, -5.3468, -5.3747, -4.8353, -4.9268, -5.0843, -5.2122, -4.9207, -5.1871, -5.3497, -5.3257, -5.2937, -5.3367, -3.5669, -4.3103, -4.7155, -4.17, -4.8705, -4.9555, -4.9282, -5.0131, -5.1173, -5.3517, -5.3585, -5.4014, -5.5508, -5.6029, -5.6119, -5.6673, -5.6674, -5.6681, -5.7995, -5.7996, -4.5788, -5.867, -5.9519, -5.9519, -5.9519, -5.952, -5.952, -5.9521, -6.0309, -6.031, -3.234, -4.5055, -4.5128, -4.6946, -4.9513, -5.6679, -5.2261, -4.8106, -4.8124, -4.5947, -4.867, -5.099, -5.0731, -5.4015, -5.243, -4.3949, -5.2337, -4.6681, -5.1702, -5.2923, -5.2866, -3.8209, -3.8328, -4.7181, -5.3307, -5.3756, -4.5315, -5.4225, -5.4304, -5.4801, -4.3939, -5.5411, -5.5411, -5.5412, -5.6659, -5.7292, -5.4343, -5.7964, -5.7964, -5.8812, -5.8813, -5.8814, -5.8815, -5.8816, -5.8818, -5.9603, -5.9602, -5.9603, -5.9603, -5.9604, -5.4318, -2.9072, -5.5412, -4.8575, -4.3348, -5.075, -5.3307, -5.4304, -5.4804, -5.1293, -4.9131, -5.1258, -4.3516, -5.3283, -5.5323, -5.4644, -5.2752, -5.507, -5.5115], \"loglift\": [30.0, 29.0, 28.0, 27.0, 26.0, 25.0, 24.0, 23.0, 22.0, 21.0, 20.0, 19.0, 18.0, 17.0, 16.0, 15.0, 14.0, 13.0, 12.0, 11.0, 10.0, 9.0, 8.0, 7.0, 6.0, 5.0, 4.0, 3.0, 2.0, 1.0, 2.1327, 2.1113, 2.0966, 2.0779, 2.0677, 2.0579, 2.0503, 2.0333, 2.0333, 2.0269, 2.0269, 2.0198, 2.0186, 2.0106, 2.0015, 2.0012, 2.0002, 1.9902, 1.9901, 1.9901, 1.99, 1.9636, 1.9636, 1.9636, 1.9636, 1.9635, 1.9635, 1.9635, 1.9578, 1.9484, 1.946, 1.8075, 1.858, 1.8474, 1.7432, 1.7543, 1.2489, 1.3159, 1.7519, 1.6964, 0.869, 1.3226, 1.6893, 1.4021, 0.9155, 1.5262, 1.6634, 0.811, 0.5103, 1.3354, 0.8455, 0.1222, 0.9887, 0.5362, -0.3703, 2.1741, 2.1595, 2.1561, 2.1546, 2.1515, 2.1504, 2.1474, 2.143, 2.1324, 2.1259, 2.1224, 2.114, 2.1096, 2.0988, 2.0979, 2.0776, 2.0776, 2.0776, 2.0776, 2.0766, 2.0697, 2.061, 2.0497, 2.0497, 2.0497, 2.0497, 2.0382, 2.0267, 2.0235, 2.0235, 1.9915, 1.9499, 1.9217, 1.9006, 1.6958, 1.7117, 1.8896, 1.7767, 1.8183, 1.5258, 1.7483, 1.0191, 1.5224, 1.2504, 1.141, 0.677, 0.9619, 1.5637, 0.4753, 0.2997, -0.238, 1.3256, 0.4429, 2.2048, 2.2001, 2.1992, 2.1899, 2.1778, 2.1714, 2.1664, 2.1645, 2.1642, 2.1576, 2.1554, 2.153, 2.1373, 2.1369, 2.1368, 2.1142, 2.1018, 2.1017, 2.0874, 2.0868, 2.0787, 2.0695, 2.0547, 2.0469, 2.0309, 2.0307, 2.0307, 2.0307, 2.0307, 2.0307, 1.8872, 1.8457, 1.7857, 1.7045, 1.7743, 1.5568, 1.0852, 1.617, 1.7914, 1.432, 1.5265, 0.5716, -0.0807, 1.546, 0.2332, 2.2592, 2.221, 2.2109, 2.2077, 2.2062, 2.2045, 2.198, 2.1911, 2.1822, 2.167, 2.1577, 2.1577, 2.1464, 2.1463, 2.1405, 2.1338, 2.1256, 2.1172, 2.1123, 2.1086, 2.0969, 2.0905, 2.07, 2.0584, 2.0583, 2.0547, 2.0547, 2.0546, 2.0545, 2.0544, 2.0261, 1.7654, 2.0144, 1.9469, 1.9346, 1.6656, 1.8632, 1.9182, 1.7264, 1.3742, 1.138, 1.4314, 1.7739, 1.8145, 1.5375, -0.0522, 0.1812, -0.1764, 2.2657, 2.2559, 2.2515, 2.2473, 2.2466, 2.2431, 2.243, 2.243, 2.2367, 2.2168, 2.2167, 2.1991, 2.1991, 2.1927, 2.1926, 2.1844, 2.1844, 2.1844, 2.1561, 2.156, 2.156, 2.1553, 2.1446, 2.1296, 2.1296, 2.1296, 2.1296, 2.1296, 2.1296, 2.1296, 2.1076, 2.0891, 2.0931, 2.0117, 2.075, 1.8411, 1.892, 1.5814, 1.5326, 1.6257, 1.8487, 1.6924, 1.6749, 0.6604, 0.1158, 0.9517, 1.0441, 1.2268, 1.0515, 1.5175, 0.3967, 1.249, 2.2789, 2.2567, 2.2334, 2.2191, 2.219, 2.219, 2.2005, 2.2005, 2.1933, 2.1933, 2.1922, 2.1921, 2.1841, 2.1737, 2.1636, 2.1522, 2.1471, 2.1369, 2.1369, 2.1369, 2.1308, 2.1218, 2.1218, 2.1217, 2.101, 2.1009, 2.1009, 2.1005, 2.0933, 2.0797, 2.0633, 2.0448, 1.9836, 2.0587, 1.9307, 1.7205, 1.484, 1.8973, 1.6996, 1.7613, 0.9257, 1.8478, 1.6119, 1.8412, 0.1869, 0.4911, 0.5516, 0.7362, 1.0843, 0.8651, -0.3637, 0.8756, 1.0023, 0.9791, 1.461, 2.2788, 2.2477, 2.2475, 2.2471, 2.2471, 2.2435, 2.2353, 2.2302, 2.2302, 2.2146, 2.1992, 2.1915, 2.1715, 2.1715, 2.1715, 2.1603, 2.155, 2.1454, 2.1404, 2.1385, 2.1307, 2.1307, 2.1307, 2.1307, 2.1307, 2.1307, 2.1104, 2.1104, 2.1104, 2.1103, 2.0919, 2.0948, 2.0721, 2.0824, 2.0071, 1.9953, 2.0438, 2.0062, 1.9297, 1.9114, 1.9842, 1.6742, 1.9327, 1.8982, 1.4119, 0.9146, 1.5208, 1.4511, 1.2719, -0.2951, 2.3096, 2.2924, 2.274, 2.271, 2.2676, 2.2501, 2.246, 2.2415, 2.2373, 2.2305, 2.2305, 2.2245, 2.2237, 2.2236, 2.217, 2.2089, 2.201, 2.2008, 2.1805, 2.1805, 2.1804, 2.1689, 2.1602, 2.1539, 2.1539, 2.1539, 2.1539, 2.1539, 2.1539, 2.1538, 2.1187, 2.1236, 1.9502, 1.9886, 1.7845, 2.0469, 2.0963, 1.7205, 1.9304, 1.7689, 1.9724, 1.9813, 1.6476, 1.6527, 1.614, 1.7446, 1.2335, 1.6698, 1.4455, 0.9894, 0.2851, 0.3454, 2.3388, 2.3156, 2.2943, 2.2911, 2.2834, 2.277, 2.2745, 2.2724, 2.2632, 2.2388, 2.2382, 2.2332, 2.214, 2.2068, 2.2055, 2.1974, 2.1974, 2.1966, 2.1764, 2.1763, 2.1709, 2.1646, 2.1491, 2.1491, 2.149, 2.149, 2.149, 2.149, 2.1335, 2.1334, 2.0972, 2.1034, 2.0083, 1.9709, 2.0054, 2.0916, 1.9948, 1.8812, 1.8346, 1.7641, 1.8113, 1.8115, 1.6594, 1.9309, 1.5548, 0.1517, 1.5242, 0.4336, 0.6744, 1.3189, 0.702, 2.3665, 2.3656, 2.3258, 2.2723, 2.267, 2.2615, 2.2612, 2.2603, 2.2538, 2.2459, 2.2457, 2.2457, 2.2456, 2.2274, 2.2172, 2.2088, 2.2061, 2.2061, 2.191, 2.191, 2.191, 2.191, 2.1909, 2.1909, 2.176, 2.1759, 2.1759, 2.1759, 2.1759, 2.1681, 2.0602, 2.1503, 2.0761, 1.8194, 1.9626, 2.0131, 1.9872, 1.97, 1.7618, 1.62, 1.5879, 0.1951, 1.3655, 1.7188, 1.4924, -0.1735, 1.1399, 1.0651]}, \"token.table\": {\"Topic\": [6, 9, 7, 9, 1, 2, 3, 5, 6, 2, 1, 2, 1, 6, 4, 1, 5, 6, 10, 1, 2, 3, 4, 5, 6, 9, 10, 5, 1, 2, 4, 9, 10, 1, 2, 4, 1, 3, 4, 8, 2, 7, 8, 3, 8, 1, 3, 5, 1, 3, 10, 3, 2, 5, 6, 1, 2, 5, 6, 8, 2, 3, 6, 4, 1, 6, 7, 2, 7, 9, 9, 1, 2, 3, 4, 7, 9, 10, 1, 3, 7, 8, 4, 3, 5, 1, 4, 8, 9, 10, 3, 6, 6, 1, 6, 8, 3, 6, 8, 2, 3, 8, 6, 10, 6, 7, 9, 1, 6, 10, 3, 4, 5, 7, 8, 2, 9, 4, 4, 1, 6, 7, 4, 7, 7, 9, 10, 9, 4, 5, 6, 4, 5, 6, 8, 3, 4, 8, 2, 9, 1, 2, 4, 5, 10, 6, 7, 9, 10, 7, 5, 4, 1, 3, 8, 10, 4, 5, 10, 6, 7, 7, 3, 10, 2, 3, 5, 3, 2, 4, 2, 5, 6, 7, 8, 10, 6, 8, 6, 9, 8, 2, 6, 8, 9, 7, 3, 8, 2, 10, 7, 2, 5, 7, 8, 3, 10, 2, 7, 8, 2, 4, 8, 4, 5, 2, 8, 4, 2, 10, 9, 5, 4, 9, 1, 2, 5, 9, 10, 8, 4, 1, 7, 8, 7, 4, 6, 8, 2, 4, 9, 5, 4, 2, 5, 7, 9, 1, 2, 3, 7, 1, 4, 7, 8, 9, 6, 5, 6, 10, 10, 5, 9, 9, 5, 2, 1, 3, 7, 2, 5, 7, 9, 5, 3, 3, 5, 2, 7, 3, 6, 2, 5, 6, 9, 1, 3, 5, 8, 6, 10, 7, 9, 6, 6, 1, 4, 7, 5, 9, 9, 7, 3, 1, 4, 5, 6, 8, 5, 9, 1, 7, 1, 2, 1, 5, 10, 6, 10, 3, 5, 7, 7, 8, 4, 5, 2, 4, 9, 10, 7, 10, 2, 8, 2, 3, 7, 1, 4, 5, 6, 7, 9, 2, 4, 6, 5, 9, 8, 3, 7, 10, 1, 1, 7, 4, 6, 8, 2, 3, 1, 1, 4, 7, 9, 5, 1, 5, 10, 5, 8, 10, 1, 3, 7, 9, 1, 2, 3, 8, 2, 7, 9, 5, 3, 8, 9, 6, 4, 5, 6, 1, 10, 8, 8, 1, 4, 9, 5, 2, 1, 7, 8, 10, 8, 2, 10, 1, 10, 7, 4, 8, 9, 3, 4, 6, 1, 6, 6, 1, 6, 9, 1, 9, 8, 7, 7, 6, 7, 10, 2, 10, 10, 6, 1, 4, 8, 9, 1, 9, 10, 4, 10, 5, 1, 6, 9, 6, 10, 2, 9, 6, 8, 3, 8, 6, 1, 1, 4, 6, 5, 3, 1, 3, 5, 7, 10, 6, 7, 9, 8, 1, 8, 9, 5, 9, 10, 4, 6, 3, 2, 3, 5, 6, 7, 9, 1, 1, 2, 4, 5, 6, 7, 8, 9, 10, 8, 10, 2, 4, 2, 8, 3, 8, 10, 9, 2, 5, 8, 10, 4, 8, 1, 5, 6, 8, 3, 10, 7, 4, 2, 5, 6, 7, 5, 1, 2, 8, 8, 3, 5, 9, 10, 10, 3, 5, 9, 5, 10, 9, 3, 7, 3, 1, 5, 6, 9, 3, 8, 1, 9, 3, 8, 9, 10, 7, 8, 10, 9, 1, 4, 3, 6, 10, 10, 7, 9, 10, 8, 2, 3, 6, 7, 8, 9, 6, 3, 7, 2, 3, 7, 8, 10, 5, 5, 1, 4, 6, 3, 5, 7, 6, 3, 7, 8, 1, 2, 8, 1, 7, 10, 6, 10, 2, 7, 4, 3, 9, 10, 1, 2, 3, 5, 6, 2, 1, 6, 5, 6, 7, 2, 6, 4, 9, 5, 10, 1, 1, 3, 6, 10, 9, 3, 8, 6, 5, 10, 1, 2, 5, 7, 9, 2, 8, 7, 5, 8, 1, 5, 6, 9, 3, 3, 4, 8, 9, 7, 6, 8, 5, 2, 2, 5, 8, 2, 1, 4, 3, 7, 8, 4, 1, 1, 4, 5, 6, 9, 10, 6, 3, 8, 9, 8, 10, 7, 8, 9, 10, 8, 10, 2, 5, 4, 1, 6, 8, 10, 9, 1, 10, 5, 10, 4, 6, 7, 8, 9, 9, 10, 6, 8, 6, 4, 7, 1, 8, 2, 7, 5, 1, 3, 7, 9, 2, 7, 10, 1, 10, 5, 5, 9, 3, 6, 1, 8, 7, 6, 6, 7, 10, 3, 3, 4, 5, 7, 8, 2, 6, 3, 7, 10, 3, 1, 2, 6, 2, 6, 3, 7, 1, 5, 9, 10, 2, 3, 4, 5, 10, 2, 3, 6, 9, 3, 8, 7, 1, 9, 5, 3, 7, 2, 6, 2, 3, 4, 5, 6, 1, 3, 5, 7, 1, 4, 4, 7], \"Freq\": [0.2895603630878926, 0.6949448714109423, 0.9336098799616439, 0.8986183501544248, 0.24870642786780725, 0.18652982090085543, 0.09326491045042772, 0.24870642786780725, 0.21761812438433134, 0.8148218552203915, 0.6250142217954177, 0.26786323791232186, 0.8241830722289537, 0.8262168310852195, 0.8862740206429963, 0.6342095483707546, 0.21140318279025155, 0.10570159139512578, 0.819747667958339, 0.2733738474183503, 0.08844448004711333, 0.09648488732412364, 0.09648488732412364, 0.11256570187814424, 0.11256570187814424, 0.11256570187814424, 0.11256570187814424, 0.9356232398778936, 0.8263277152862047, 0.24618196986466526, 0.09847278794586611, 0.5416003337022636, 0.09847278794586611, 0.8666285550424059, 0.9154555352042004, 0.8861149529149246, 0.06834551008246537, 0.06834551008246537, 0.751800610907119, 0.8250950435442002, 0.9290743970685044, 0.7078017132113987, 0.2022290609175425, 0.8402677366025761, 0.10503346707532202, 0.8057298043267777, 0.1272204954200175, 0.042406831806672506, 0.6760338836897781, 0.1267563531918334, 0.1267563531918334, 0.9611490215036262, 0.1715907448762066, 0.3431814897524132, 0.5147722346286198, 0.15081319821708894, 0.20108426428945192, 0.35189746250654086, 0.15081319821708894, 0.15081319821708894, 0.7731088326698652, 0.23193264980095957, 0.8805624120220864, 0.9420415636168187, 0.1366217307906575, 0.04554057693021917, 0.7741898078137259, 0.6077898702608201, 0.22101449827666186, 0.1657608737074964, 0.8816600213040853, 0.4273175551421967, 0.17323684667926895, 0.1847859697912202, 0.08084386178365884, 0.06929473867170757, 0.03464736933585379, 0.011549123111951262, 0.2934457278499519, 0.4966004625153032, 0.06771824488845044, 0.13543648977690087, 0.8863606102296699, 0.6324175991213884, 0.34495505406621185, 0.3441649572235496, 0.06883299144470992, 0.13766598288941984, 0.06883299144470992, 0.3441649572235496, 0.11880200968317114, 0.8316140677821979, 0.8262957205380235, 0.17256067630137564, 0.23008090173516751, 0.5752022543379188, 0.6445311432961671, 0.16113278582404178, 0.21484371443205572, 0.3808950626677504, 0.15235802506710017, 0.3808950626677504, 0.8805821757313832, 0.954059739813139, 0.20239345414629722, 0.7083770895120403, 0.8986298944524759, 0.2813037853775538, 0.3750717138367384, 0.2813037853775538, 0.10252431216945672, 0.10252431216945672, 0.2563107804236418, 0.4100972486778269, 0.10252431216945672, 0.6822272911147749, 0.2274090970382583, 0.975329449059021, 0.9194736483298733, 0.7267807943237811, 0.8262436157706796, 0.9752356724303096, 0.834073826046824, 0.861284803195966, 0.1373859449793142, 0.6182367524069139, 0.20607891746897128, 0.9574024211501728, 0.4615581846331953, 0.3296844175951395, 0.1318737670380558, 0.33132608319549317, 0.07645986535280612, 0.07645986535280612, 0.5352190574696428, 0.9762492752167669, 0.9473173247972038, 0.9067392697339758, 0.8147910224330547, 0.8469268398527092, 0.18365802987275984, 0.3673160597455197, 0.06121934329091995, 0.1224386865818399, 0.2448773731636798, 0.5266607114234811, 0.17555357047449371, 0.08777678523724686, 0.17555357047449371, 0.8613451029557602, 0.8220509859614807, 0.9089107200169403, 0.16205340278378347, 0.16205340278378347, 0.4861602083513504, 0.16205340278378347, 0.6633346833000437, 0.2842862928428759, 0.9136586087469208, 0.13479111426922957, 0.8087466856153774, 0.9336481891920081, 0.9611427094268474, 0.8736149365458833, 0.6308520707143089, 0.07885650883928862, 0.23656952651786586, 0.9419808466369322, 0.3839131306925472, 0.5758696960388208, 0.8814208836876253, 0.4214908423993849, 0.5268635529992312, 0.23444338591623484, 0.29305423239529355, 0.4688867718324697, 0.6360743374804104, 0.8274015820195358, 0.8283781654743737, 0.944125537755743, 0.9394994762355118, 0.14677726641551572, 0.2201658996232736, 0.14677726641551572, 0.4403317992465472, 0.8613428433441698, 0.797202471124973, 0.09965030889062163, 0.26243523200737473, 0.6998272853529993, 0.9713223437735901, 0.3754127085618722, 0.45049525027424664, 0.025027513904124814, 0.12513756952062408, 0.8376998679461688, 0.8195052642803048, 0.6076423477076609, 0.2531843115448587, 0.10127372461794348, 0.814710813127503, 0.8863081724302394, 0.784721319472765, 0.7126135598183833, 0.23753785327279442, 0.9187966255821755, 0.8251434641929458, 0.8974287947081518, 0.7935056055617511, 0.19837640139043777, 0.7869291213004792, 0.8200183256006327, 0.8317952951868387, 0.16635905903736772, 0.27286877041313157, 0.04547812840218859, 0.5002594124240745, 0.09095625680437718, 0.04547812840218859, 0.9200256703596355, 0.9384908519101919, 0.586699729341696, 0.2346798917366784, 0.1173399458683392, 0.933614592043649, 0.27656603887069137, 0.2074245291530185, 0.4839905680237099, 0.256458723781743, 0.085486241260581, 0.598403688824067, 0.7814728808597674, 0.7334332215699748, 0.3421243833934066, 0.5702073056556777, 0.26069093578934044, 0.651727339473351, 0.5298636676759038, 0.08831061127931729, 0.2649318338379519, 0.9307218803639935, 0.8199913344217036, 0.42417310310456696, 0.1885213791575853, 0.23565172394698164, 0.14139103436818898, 0.6847761176548182, 0.24034208509666716, 0.24034208509666716, 0.4806841701933343, 0.8891998989041527, 0.7576277915015706, 0.16836173144479347, 0.9159708006671421, 0.8219804763221084, 0.8545654407951652, 0.6194345234043859, 0.20647817446812863, 0.06882605815604288, 0.15709165868247563, 0.4712749760474269, 0.31418331736495125, 0.8433753406597105, 0.8219046411276275, 0.9829578907788027, 0.8376875735944521, 0.8239819111597146, 0.9378556213741364, 0.9491507985212329, 0.8376917622546858, 0.7857662872001213, 0.5140029867306952, 0.27677083900883587, 0.039538691286976554, 0.15815476514790622, 0.23956927424224478, 0.4312246936360406, 0.19165541939379582, 0.09582770969689791, 0.2933436341420873, 0.5866872682841746, 0.19981003869244254, 0.7992401547697702, 0.9761000452144132, 0.8618638942581089, 0.19760575124347485, 0.7904230049738994, 0.9700548573176176, 0.23320012908001947, 0.6996003872400585, 0.8879049732492317, 0.9491571076490536, 0.947430699409105, 0.13746346085756542, 0.07855054906146595, 0.13746346085756542, 0.07855054906146595, 0.5694914806956282, 0.7840049022442582, 0.19600122556106456, 0.33327508212603485, 0.6665501642520697, 0.15025427140974595, 0.7512713570487297, 0.7026496076372477, 0.17566240190931193, 0.08783120095465596, 0.9027953320030779, 0.8543241465459046, 0.19632064490915535, 0.6871222571820438, 0.9713686171199862, 0.970045938795205, 0.9856567740833039, 0.8315599032326532, 0.7814993324141313, 0.9438842459792637, 0.8861471097569253, 0.8489178957664486, 0.87365937296417, 0.8637089666207619, 0.8195262156808538, 0.8875282251009572, 0.9473108399739484, 0.32962797714461506, 0.13572916705954738, 0.5041369062211759, 0.20400338530245163, 0.40800677060490326, 0.03400056421707527, 0.06800112843415054, 0.10200169265122581, 0.20400338530245163, 0.8132979826644402, 0.8251739743883282, 0.12377609615824922, 0.7454260213752981, 0.18635650534382453, 0.9702556592011633, 0.8662570188145473, 0.26369628713071946, 0.6592407178267987, 0.8242922757098445, 0.7768100943229224, 0.22194574123512067, 0.917802363826941, 0.26693232932769073, 0.6673308233192269, 0.8985672895851589, 0.8816324792891826, 0.9012287177870824, 0.9384093678350304, 0.2974063526031002, 0.6691642933569755, 0.8034872289939472, 0.7247573990520224, 0.8276674173451867, 0.13043228684512365, 0.8478098644933038, 0.9027253786726128, 0.7841105592275699, 0.19602763980689247, 0.14602689691626472, 0.5354319553596373, 0.09735126461084315, 0.1947025292216863, 0.9111192253260897, 0.8148338644200712, 0.8407777487577575, 0.8250731603987903, 0.9558942152020636, 0.654746977350335, 0.3273734886751675, 0.7247915579865897, 0.9550396373116614, 0.7168626699131346, 0.14337253398262692, 0.9213096119436104, 0.23293255838141996, 0.5823313959535499, 0.11646627919070998, 0.8244258226063322, 0.8736634004379003, 0.8251762494821754, 0.8676281230618246, 0.8242546345023778, 0.9391377919728497, 0.8403433246068279, 0.7248797893609157, 0.8423758206850306, 0.24559767886716477, 0.12279883943358239, 0.49119535773432954, 0.12279883943358239, 0.8901283184013626, 0.9558792953657093, 0.8198372423677799, 0.7267866273171908, 0.8213174061226257, 0.9605807076434728, 0.1338091870839835, 0.1338091870839835, 0.6690459354199175, 0.9737636024647137, 0.8337301927934281, 0.07579365389031165, 0.8599265462409319, 0.1719853092481864, 0.8219979834935351, 0.44363077213201596, 0.126751649180576, 0.38025494754172795, 0.7115948706830462, 0.23719829022768207, 0.8252171947221467, 0.9116832296019098, 0.8079565578604314, 0.15007196751961752, 0.8253958213578962, 0.7225848687287778, 0.7205616366495798, 0.2401872122165266, 0.8196066972554001, 0.6359915812539679, 0.20096145941460913, 0.11164525523033841, 0.6698715313820305, 0.022329051046067683, 0.8785051466128156, 0.17032657021941713, 0.8516328510970858, 0.7313960128717074, 0.2437986709572358, 0.8929437153001333, 0.27108960257253034, 0.13554480128626517, 0.6099516057881932, 0.283891094048868, 0.7097277351221699, 0.8085162815829477, 0.8437071717599096, 0.7632665576976616, 0.21807615934218902, 0.8697773245556145, 0.14496288742593577, 0.8219979831211204, 0.7267997352127328, 0.41454046407842104, 0.11305649020320574, 0.41454046407842104, 0.9027034282491466, 0.8709580555070943, 0.8242215981613165, 0.16768847270654327, 0.2515327090598149, 0.08384423635327164, 0.5030654181196298, 0.5302463806282411, 0.1514989658937832, 0.3029979317875664, 0.895350641802708, 0.8242732017004599, 0.9598139986539689, 0.8879495011322425, 0.8239692432250421, 0.9702199540778788, 0.821374554458407, 0.835622545085925, 0.6359977995714827, 0.92669453180334, 0.049233342065805916, 0.1230833551645148, 0.4677167496251562, 0.19693336826322366, 0.07385001309870888, 0.07385001309870888, 0.9831605892742455, 0.08404292427404225, 0.056028616182694835, 0.12606438641106338, 0.1820930025937582, 0.23812161877645305, 0.056028616182694835, 0.028014308091347417, 0.1400715404567371, 0.07003577022836854, 0.6432303759407886, 0.2572921503763154, 0.1893028853461004, 0.8203125031664351, 0.8105414653577752, 0.9329237443782404, 0.08025362925282829, 0.32101451701131317, 0.561775404769798, 0.9436476153771484, 0.5126661148942012, 0.1281665287235503, 0.2563330574471006, 0.1281665287235503, 0.8564774522575752, 0.9394656283725408, 0.8550680151115204, 0.8220362509580317, 0.6321861743619263, 0.31609308718096313, 0.07600359384972269, 0.9120431261966722, 0.8613410032911549, 0.9279502923924619, 0.42430079325458875, 0.12122879807273963, 0.12122879807273963, 0.3636863942182189, 0.7247143569261171, 0.84495033070872, 0.1513343875896215, 0.823507746952644, 0.8953232259984159, 0.1404296064846788, 0.2106444097270182, 0.1404296064846788, 0.4212888194540364, 0.9646546835341072, 0.15946640884367164, 0.6378656353746865, 0.15946640884367164, 0.821969407576696, 0.7790399968077235, 0.7442369751077099, 0.14712533147228182, 0.80918932309755, 0.837780776591224, 0.9191319070224281, 0.12645041796862586, 0.06322520898431293, 0.7587025078117552, 0.10324743720608703, 0.8259794976486963, 0.14558072396098778, 0.8006939817854327, 0.9515057706715042, 0.06568061934238613, 0.5911255740814753, 0.2627224773695445, 0.24494652108164183, 0.036741978162246273, 0.7103449111367612, 0.8434222338622087, 0.783822281267806, 0.791241135906197, 0.6233611875531149, 0.1781031964437471, 0.1781031964437471, 0.7642854355537027, 0.7103656164869602, 0.20296160471056005, 0.9261023685977181, 0.8251932308723398, 0.2868972811223192, 0.08606918433669576, 0.15779350461727557, 0.3873113295151309, 0.04303459216834788, 0.02868972811223192, 0.6360622130702732, 0.8708522839459741, 0.8484651957628343, 0.8132979826644402, 0.16722776272685141, 0.22297035030246853, 0.5016832881805542, 0.11148517515123427, 0.9027588657904632, 0.9403800772756776, 0.208073588802371, 0.624220766407113, 0.1040367944011855, 0.1644565855353558, 0.4933697566060674, 0.2466848783030337, 0.728526582364646, 0.214944958619895, 0.6448348758596849, 0.1074724793099475, 0.19385166649529528, 0.6784808327335335, 0.09692583324764764, 0.9103818150882989, 0.975225905873125, 0.8737077138577766, 0.7165451355889477, 0.17913628389723693, 0.809598195681108, 0.1011997744601385, 0.9480368603936241, 0.8638976753186614, 0.8879324614308054, 0.8196519952821266, 0.3995806909287217, 0.21109923294347563, 0.31664884941521343, 0.007539258319409843, 0.06785332487468859, 0.9633247136990132, 0.2054496189108414, 0.8217984756433656, 0.8238968983202412, 0.754751970831654, 0.167722660184812, 0.17330702783828633, 0.8170188455233499, 0.9091166948571487, 0.8705961270934597, 0.9356958915337616, 0.8887621476382159, 0.9383854246168318, 0.1901194696571699, 0.5069852524191197, 0.25349262620955987, 0.06337315655238997, 0.8434926591512251, 0.9805519768293417, 0.7696393169821706, 0.8618414929928266, 0.29122447789488326, 0.6795237817547276, 0.16753311534473728, 0.22337748712631636, 0.05584437178157909, 0.4467549742526327, 0.05584437178157909, 0.9118588645536956, 0.8727818466463114, 0.8088514557216173, 0.8220424201814773, 0.8251434641929458, 0.40185150897731114, 0.4822218107727734, 0.2685734108713167, 0.7161957623235112, 0.8343538089447013, 0.21464932567782738, 0.1430995504518849, 0.1430995504518849, 0.5008484265815972, 0.8612967149875832, 0.29947786613141425, 0.684520836871804, 0.9635845385125476, 0.870391517168947, 0.6167596256582122, 0.15418990641455305, 0.15418990641455305, 0.8784719507318907, 0.3842197532767571, 0.5379076545874599, 0.662373835556876, 0.19871215066706283, 0.0662373835556876, 0.9090453464274331, 0.783841000781372, 0.029442842236236878, 0.5299711602522638, 0.08832852670871064, 0.08832852670871064, 0.17665705341742127, 0.08832852670871064, 0.8687732654277573, 0.2291276392379183, 0.30550351898389105, 0.4582552784758366, 0.18667177587259653, 0.7466871034903861, 0.7727459432714423, 0.15454918865428846, 0.7442123014386348, 0.9768768387075865, 0.5372301273902305, 0.447691772825192, 0.04897240855649937, 0.930475762573488, 0.8356501811400373, 0.8243342017890293, 0.11167016598080115, 0.781691161865608, 0.9325856886886211, 0.8434142963947948, 0.7268178319399595, 0.8213076486873253, 0.7665951093705217, 0.7642811576806733, 0.2761337691811919, 0.5522675383623838, 0.14719239806641857, 0.8095581893653021, 0.9646798000741659, 0.8434357677726135, 0.873633639252487, 0.9213633480474775, 0.8676591585765857, 0.7706094862050269, 0.7523666067661638, 0.25078886892205465, 0.28180695492303287, 0.6575495614870767, 0.24359769028364314, 0.7307930708509294, 0.8200212751219463, 0.19100567653655004, 0.06366855884551668, 0.7003541473006835, 0.8433532104227909, 0.8911865551119554, 0.7685216116023932, 0.2195776033149695, 0.9051143724183052, 0.08228312476530046, 0.8219741034224932, 0.8689655609226721, 0.8723881167496703, 0.3085335159247736, 0.6170670318495473, 0.9296184013448617, 0.7276717780873905, 0.9336973751943782, 0.7857498450777425, 0.5486150277298621, 0.13715375693246554, 0.2743075138649311, 0.9363121304041157, 0.5946960492928065, 0.03716850308080041, 0.26017952156560287, 0.07433700616160081, 0.7276550077452978, 0.9558659821767967, 0.8283535134142728, 0.8376999206415787, 0.838158280143856, 0.13969304669064264, 0.9551862446773242, 0.09822551680651583, 0.19645103361303165, 0.6875786176456108, 0.9640234485179127, 0.8805401905623478, 0.875130346314223, 0.7531591130505245, 0.044794284789978385, 0.7615028414296325, 0.044794284789978385, 0.08958856957995677, 0.3003955612267915, 0.0600791122453583, 0.600791122453583, 0.01201582244907166, 0.02403164489814332, 0.7584160095576641, 0.05286300555226807, 0.15858901665680422, 0.775324081433265, 0.9699127125352279, 0.7276037047812863, 0.861309753607571, 0.05454435870969292, 0.9272540980647795, 0.980207377431593, 0.7184310474251965, 0.2873724189700786, 0.9558643298969414, 0.8618301239219791, 0.5144098803907716, 0.18705813832391696, 0.04676453458097924, 0.04676453458097924, 0.23382267290489622, 0.21891578978393428, 0.5108035094958466, 0.14594385985595618, 0.07297192992797809, 0.6755151733221424, 0.28950650285234675, 0.9048693984840783, 0.9491222315872663], \"Term\": [\"!\", \"!\", \"\\\"\", \"$100\", \"&\", \"&\", \"&\", \"&\", \"&\", \"'71\", \"'73\", \"'73\", \"'75\", \"(\", \"*sold*\", \"+\", \"+\", \"+\", \",\", \"-\", \"-\", \"-\", \"-\", \"-\", \"-\", \"-\", \"-\", \".\", \"...\", \"/\", \"/\", \"/\", \"/\", \"//\", \"14\\\"\", \"16\", \"16\\\"\", \"16\\\"\", \"16\\\"\", \"1966\", \"1967\", \"1970\", \"1970\", \"1971\", \"1971\", \"1972\", \"1972\", \"1972\", \"1973\", \"1973\", \"1973\", \"1974\", \"2\", \"2\", \"2\", \"2000\", \"2000\", \"2000\", \"2000\", \"2000\", \"2000cs\", \"2000cs\", \"2007\", \"265\", \"2800\", \"2800\", \"2800\", \"2800cs\", \"2800cs\", \"2800cs\", \"3\", \"3.0\", \"3.0\", \"3.0\", \"3.0\", \"3.0\", \"3.0\", \"3.0\", \"3.0cs\", \"3.0cs\", \"3.0cs\", \"3.0cs\", \"3.0csa\", \"3.0csi\", \"3.0csi\", \"3.5\", \"3.5\", \"3.5\", \"3.5\", \"3.5\", \"4\", \"4\", \"45\", \"5\", \"5\", \"5\", \"72\", \"72\", \"72\", \"73\", \"73\", \"73\", \"9\", \"?\", \"a/c\", \"a/c\", \"ad\", \"advice\", \"advice\", \"advice\", \"air\", \"air\", \"air\", \"air\", \"air\", \"alloy\", \"alloy\", \"alpina\", \"alpina's\", \"alpinas\", \"alpina\\u00b4s\", \"alternator\", \"alto\", \"aluminum\", \"another\", \"another\", \"another\", \"antenna\", \"anybody\", \"anybody\", \"anybody\", \"anyone\", \"anyone\", \"anyone\", \"anyone\", \"area\", \"article\", \"assembly\", \"atlantic\", \"austria\", \"auto\", \"auto\", \"auto\", \"auto\", \"auto\", \"automatic\", \"automatic\", \"automatic\", \"automatic\", \"available\", \"away\", \"b2\", \"back\", \"back\", \"back\", \"back\", \"badge\", \"badge\", \"ballast\", \"bat\", \"bat\", \"batmobiles\", \"battery\", \"bav\", \"bavaria\", \"bavaria\", \"bavaria\", \"bay\", \"bb\", \"bb\", \"becker\", \"belt\", \"belt\", \"best\", \"best\", \"best\", \"beware\", \"bimmer\", \"bimmerfest\", \"black\", \"blade\", \"blue\", \"blue\", \"blue\", \"blue\", \"board\", \"body\", \"body\", \"bolt\", \"bolt\", \"bracket\", \"brake\", \"brake\", \"brake\", \"brake\", \"buck\", \"build\", \"bumper\", \"bumper\", \"bumper\", \"bushing\", \"button\", \"c\", \"ca\", \"ca\", \"cable\", \"cal.\", \"calendar\", \"caliper\", \"caliper\", \"calling\", \"cam\", \"cap\", \"cap\", \"car\", \"car\", \"car\", \"car\", \"car\", \"car?\", \"carbs\", \"carpet\", \"carpet\", \"carpet\", \"cars.\", \"center\", \"center\", \"center\", \"chrome\", \"chrome\", \"chrome\", \"clutch\", \"coast\", \"coffee\", \"coffee\", \"color\", \"color\", \"complete\", \"complete\", \"complete\", \"conditioning\", \"control\", \"conversion\", \"conversion\", \"conversion\", \"conversion\", \"core\", \"coupe\", \"coupe\", \"coupe\", \"couple\", \"cover\", \"cover\", \"craigslist\", \"crank\", \"cruz\", \"csa\", \"csa\", \"csa\", \"cylinder\", \"cylinder\", \"cylinder\", \"d-jetronic\", \"daily\", \"dash\", \"dc\", \"design\", \"diego\", \"difference\", \"done\", \"donor\", \"door\", \"door\", \"door\", \"door\", \"drive\", \"drive\", \"drive\", \"drive\", \"e3\", \"e3\", \"e9?\", \"e9?\", \"early\", \"east\", \"ebay,\", \"ebay,\", \"ecu\", \"electric\", \"electric\", \"electrical\", \"emblem\", \"end\", \"engine\", \"engine\", \"engine\", \"engine\", \"engine\", \"england\", \"england\", \"euro\", \"euro\", \"event\", \"event\", \"exhaust\", \"exhaust\", \"exhaust\", \"factory\", \"fall\", \"fan\", \"fan\", \"felt\", \"fender\", \"filter\", \"finally\", \"find\", \"fit\", \"fit?\", \"fjord\", \"flywheel\", \"fog\", \"fotos\", \"francisco\", \"friday\", \"front\", \"front\", \"front\", \"fs:\", \"fs:\", \"fs:\", \"fs:\", \"fs:\", \"fs:\", \"fs:battery\", \"fuel\", \"fuel\", \"fun\", \"fun\", \"gas\", \"gauge\", \"gearbox\", \"gearbox\", \"genuine\", \"german\", \"german\", \"getrag\", \"getting\", \"getting\", \"glass\", \"glen\", \"got\", \"green\", \"grill\", \"grill\", \"group\", \"guide\", \"hand\", \"head\", \"head\", \"header\", \"hello\", \"hello\", \"help\", \"help\", \"help\", \"help\", \"help!\", \"here's\", \"hey\", \"hi\", \"home\", \"hood\", \"hood\", \"horn\", \"hose\", \"housing\", \"housing\", \"idle\", \"ignition\", \"ignition\", \"ignition\", \"ii\", \"image\", \"improving\", \"info\", \"information\", \"injector\", \"insulation\", \"intake\", \"interesting\", \"interior\", \"interior\", \"interior\", \"interior\", \"issue\", \"item\", \"january\", \"jet\", \"job\", \"key\", \"kit\", \"kit\", \"kit\", \"knob\", \"know\", \"know\", \"l\", \"l\", \"le\", \"leather\", \"leather\", \"leather\", \"left\", \"left\", \"lever\", \"license\", \"lid\", \"light\", \"light\", \"like\", \"link\", \"link\", \"liter\", \"london\", \"looking\", \"looking\", \"looking\", \"looking\", \"los\", \"lot\", \"lot\", \"lug\", \"lug\", \"m3\", \"m30\", \"m30\", \"m30\", \"m30b35\", \"m30b35\", \"m5\", \"m90\", \"magazine\", \"magazine\", \"make\", \"make\", \"man\", \"manifold\", \"manual\", \"manual\", \"manual\", \"master\", \"may\", \"mechanic\", \"meet\", \"meet\", \"meet\", \"meet\", \"member\", \"member\", \"member\", \"metal\", \"metric\", \"mirror\", \"model\", \"molding\", \"motor\", \"mystery\", \"nardi\", \"nb\", \"nc\", \"need\", \"need\", \"need\", \"need\", \"need\", \"need\", \"needed\", \"new\", \"new\", \"new\", \"new\", \"new\", \"new\", \"new\", \"new\", \"new\", \"newbie\", \"newbie\", \"nice\", \"nice\", \"noise\", \"oem\", \"oil\", \"oil\", \"oil\", \"old\", \"one\", \"one\", \"one\", \"one\", \"open\", \"orange\", \"owner\", \"page\", \"paging\", \"paging\", \"paint\", \"paint\", \"painting\", \"palo\", \"panel\", \"panel\", \"panel\", \"panel\", \"park\", \"part\", \"part\", \"pedal\", \"performance\", \"photo\", \"photo\", \"photo\", \"photo\", \"pic\", \"picture\", \"picture\", \"picture\", \"pin\", \"place\", \"plastic\", \"plate\", \"plate\", \"polaris\", \"potential\", \"power\", \"power\", \"power\", \"price\", \"price\", \"problem\", \"problem\", \"project\", \"pump\", \"pump\", \"pump\", \"question\", \"question\", \"question\", \"questions...\", \"quick\", \"r\", \"racing\", \"racing\", \"racing\", \"radiator\", \"radio\", \"radio\", \"rally\", \"really\", \"rear\", \"rear\", \"rear\", \"rear\", \"rear\", \"rear\", \"refurb\", \"regulator\", \"relay\", \"relocation\", \"removal\", \"removal\", \"removal\", \"removal\", \"remove\", \"removing\", \"repair\", \"repair\", \"repair\", \"replacement\", \"replacement\", \"replacement\", \"rest\", \"restoration\", \"restoration\", \"restoration\", \"rhd\", \"rhd\", \"rhd\", \"right\", \"rocker\", \"rod\", \"roof\", \"roof\", \"rubber\", \"rubber\", \"running\", \"rust\", \"s38\", \"safety\", \"sale\", \"sale\", \"sale\", \"sale\", \"sale\", \"san\", \"scheel\", \"scheel\", \"schnitzer\", \"seal\", \"seal\", \"seat\", \"seat\", \"seats?\", \"seattle\", \"seen\", \"selling\", \"service\", \"set\", \"set\", \"set\", \"set\", \"setup\", \"shift\", \"shifter\", \"short\", \"show\", \"show\", \"side\", \"side\", \"side\", \"side\", \"side\", \"signal\", \"size\", \"slave\", \"slightly\", \"so.\", \"socal\", \"socal\", \"sold\", \"sold\", \"sound\", \"source\", \"source\", \"source\", \"source\", \"spec\", \"speed\", \"speed\", \"speedometer\", \"spoiler\", \"sport\", \"sport\", \"sport\", \"spotted\", \"spotting\", \"spotting\", \"spring\", \"spring\", \"spring\", \"stagger\", \"start\", \"steering\", \"steering\", \"steering\", \"steering\", \"steering\", \"steering\", \"sticker\", \"stock\", \"stock\", \"stock\", \"storage\", \"storage\", \"strut\", \"strut\", \"suggestion\", \"sunroof\", \"swap\", \"swap\", \"switch\", \"switch\", \"take\", \"tan\", \"tank\", \"tank\", \"tbl\", \"test\", \"thanks\", \"think\", \"throttle\", \"tii\", \"time\", \"time\", \"tire\", \"tire\", \"tool\", \"toolkit\", \"torque\", \"total\", \"track\", \"trade\", \"tranny\", \"tranny\", \"transmission\", \"transmission\", \"trim\", \"trim\", \"triple\", \"trunk\", \"trunk\", \"trunk\", \"trying\", \"turn\", \"two\", \"two\", \"uk\", \"uk\", \"ultimate\", \"update\", \"upgrade\", \"use\", \"use\", \"value\", \"velour\", \"veneer\", \"vent\", \"video\", \"video\", \"video\", \"vineyard\", \"vintage\", \"vintage\", \"vintage\", \"vintage\", \"vinyl\", \"visor\", \"vol\", \"voltage\", \"vs.\", \"vs.\", \"want\", \"wanted\", \"wanted\", \"wanted\", \"wanted:\", \"warning\", \"watkins\", \"way\", \"weber\", \"weber\", \"weber\", \"weber\", \"wheel\", \"wheel\", \"wheel\", \"wheel\", \"wheel\", \"white\", \"window\", \"window\", \"window\", \"windshield\", \"wine\", \"wing\", \"wiper\", \"wiper\", \"wire\", \"wood\", \"wood\", \"work\", \"workshop\", \"wtb\", \"wtb\", \"wtb\", \"wtb\", \"wtb\", \"wtb:\", \"wtb:\", \"wtb:\", \"wtb:\", \"year\", \"year\", \"zenith\", \"zf\"]}, \"R\": 30, \"lambda.step\": 0.01, \"plot.opts\": {\"xlab\": \"PC1\", \"ylab\": \"PC2\"}, \"topic.order\": [2, 3, 7, 6, 1, 4, 9, 5, 10, 8]};\n",
              "\n",
              "function LDAvis_load_lib(url, callback){\n",
              "  var s = document.createElement('script');\n",
              "  s.src = url;\n",
              "  s.async = true;\n",
              "  s.onreadystatechange = s.onload = callback;\n",
              "  s.onerror = function(){console.warn(\"failed to load library \" + url);};\n",
              "  document.getElementsByTagName(\"head\")[0].appendChild(s);\n",
              "}\n",
              "\n",
              "if(typeof(LDAvis) !== \"undefined\"){\n",
              "   // already loaded: just create the visualization\n",
              "   !function(LDAvis){\n",
              "       new LDAvis(\"#\" + \"ldavis_el1331350764837159681300876021\", ldavis_el1331350764837159681300876021_data);\n",
              "   }(LDAvis);\n",
              "}else if(typeof define === \"function\" && define.amd){\n",
              "   // require.js is available: use it to load d3/LDAvis\n",
              "   require.config({paths: {d3: \"https://d3js.org/d3.v5\"}});\n",
              "   require([\"d3\"], function(d3){\n",
              "      window.d3 = d3;\n",
              "      LDAvis_load_lib(\"https://cdn.jsdelivr.net/gh/bmabey/pyLDAvis@3.4.0/pyLDAvis/js/ldavis.v3.0.0.js\", function(){\n",
              "        new LDAvis(\"#\" + \"ldavis_el1331350764837159681300876021\", ldavis_el1331350764837159681300876021_data);\n",
              "      });\n",
              "    });\n",
              "}else{\n",
              "    // require.js not available: dynamically load d3 & LDAvis\n",
              "    LDAvis_load_lib(\"https://d3js.org/d3.v5.js\", function(){\n",
              "         LDAvis_load_lib(\"https://cdn.jsdelivr.net/gh/bmabey/pyLDAvis@3.4.0/pyLDAvis/js/ldavis.v3.0.0.js\", function(){\n",
              "                 new LDAvis(\"#\" + \"ldavis_el1331350764837159681300876021\", ldavis_el1331350764837159681300876021_data);\n",
              "            })\n",
              "         });\n",
              "}\n",
              "</script>"
            ]
          },
          "metadata": {},
          "execution_count": 41
        }
      ]
    },
    {
      "cell_type": "code",
      "source": [
        "#Create representative sentences for each topic\n",
        "\n",
        "num_topics = lda.num_topics\n",
        "representative_sentences = []\n",
        "\n",
        "for topic_id in range(num_topics):\n",
        "    try:\n",
        "        sentence = create_representative_sentence(lda, e9_forum_corpus, topic_id)\n",
        "        representative_sentences.append({'Topic': topic_id, 'Representative Sentence': sentence})\n",
        "        print(f\"Topic {topic_id}: {sentence}\")\n",
        "    except IndexError as e:\n",
        "        print(f\"Error with topic {topic_id}: {e}\")\n",
        "\n",
        "# Save to CSV\n",
        "output_df = pd.DataFrame(representative_sentences)\n",
        "output_df.to_csv('/content/drive/MyDrive/Colab Notebooks/Data_sets/e9/representative_sentences.csv', index=False)\n"
      ],
      "metadata": {
        "colab": {
          "base_uri": "https://localhost:8080/"
        },
        "id": "99pNJkgnoqgt",
        "outputId": "b3c2f881-e462-41e6-faef-085ba13c2016"
      },
      "execution_count": 42,
      "outputs": [
        {
          "output_type": "stream",
          "name": "stdout",
          "text": [
            "Topic 0: ignition switch - the sequel\n",
            "Topic 1: For Sale - 1972 3.0 project/parts\n",
            "Topic 2: WTB: 2000cs front and rear bumper set\n",
            "Topic 3: E-9 rear seatbelts needed\n",
            "Topic 4: engine and 5 speed upgrade\n",
            "Topic 5: (FS) REMOTEC 16\" Wide Lip wheels, Powder Coated - $2000\n",
            "Topic 6: 1974 3.0 CS for sale - project car\n",
            "Topic 7: Seat belt help -- pics?\n",
            "Topic 8: light weight front wings and surrounding plates for CSL bat\n",
            "Topic 9: FS: Set of outer trims front door/rear window ! new chrome !\n"
          ]
        },
        {
          "output_type": "stream",
          "name": "stderr",
          "text": [
            "/usr/local/lib/python3.10/dist-packages/ipykernel/ipkernel.py:283: DeprecationWarning: `should_run_async` will not call `transform_cell` automatically in the future. Please pass the result to `transformed_cell` argument and any exception that happen during thetransform in `preprocessing_exc_tuple` in IPython 7.17 and above.\n",
            "  and should_run_async(code)\n"
          ]
        }
      ]
    }
  ],
  "metadata": {
    "colab": {
      "provenance": [],
      "mount_file_id": "1wctjL-efDBIrViaVfSTPhrb_SygtrTmz",
      "authorship_tag": "ABX9TyNpaHjaZbZ3WCuZbnyDo1Dl",
      "include_colab_link": true
    },
    "kernelspec": {
      "display_name": "Python 3",
      "name": "python3"
    },
    "language_info": {
      "name": "python"
    }
  },
  "nbformat": 4,
  "nbformat_minor": 0
}