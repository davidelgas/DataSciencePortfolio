{
  "nbformat": 4,
  "nbformat_minor": 0,
  "metadata": {
    "colab": {
      "provenance": [],
      "authorship_tag": "ABX9TyMtmMGJ0Oq5LewL2em9FiU5",
      "include_colab_link": true
    },
    "kernelspec": {
      "name": "python3",
      "display_name": "Python 3"
    },
    "language_info": {
      "name": "python"
    }
  },
  "cells": [
    {
      "cell_type": "markdown",
      "metadata": {
        "id": "view-in-github",
        "colab_type": "text"
      },
      "source": [
        "<a href=\"https://colab.research.google.com/github/davidelgas/DataSciencePortfolio/blob/main/Neural%20Network%20with%20Knowledge%20Graph/Notebook/KG_DNN_1.ipynb\" target=\"_parent\"><img src=\"https://colab.research.google.com/assets/colab-badge.svg\" alt=\"Open In Colab\"/></a>"
      ]
    },
    {
      "cell_type": "markdown",
      "source": [
        "In this notebook I will be creating a small NN using a knowledge graph."
      ],
      "metadata": {
        "id": "m_PtksQiY6Vq"
      }
    },
    {
      "cell_type": "code",
      "source": [
        "# Access to Google Drive\n",
        "# This seems to propagate credentials better from its own cell\n",
        "\n",
        "from google.colab import drive\n",
        "drive.mount('/content/drive')"
      ],
      "metadata": {
        "colab": {
          "base_uri": "https://localhost:8080/"
        },
        "id": "7MO2kbk7afp3",
        "outputId": "e7245e89-0c39-4dff-ccde-fcd42a5d9ec7"
      },
      "execution_count": null,
      "outputs": [
        {
          "output_type": "stream",
          "name": "stdout",
          "text": [
            "Mounted at /content/drive\n"
          ]
        }
      ]
    },
    {
      "cell_type": "markdown",
      "source": [
        "# Dataset"
      ],
      "metadata": {
        "id": "OljZpwOhukMB"
      }
    },
    {
      "cell_type": "markdown",
      "source": [
        "Using OpenBG500 dataset"
      ],
      "metadata": {
        "id": "xr3PbKvtuplC"
      }
    },
    {
      "cell_type": "code",
      "source": [
        "import pandas as pd\n",
        "\n",
        "# Load tri_ples (subject, predicate, object)\n",
        "triples_df_train = pd.read_csv(\"/content/OpenBG500_train.tsv\", sep='\\t', header=None, names=[\"head\", \"relation\", \"tail\"])\n",
        "triples_df_test = pd.read_csv(\"/content/OpenBG500_test.tsv\", sep='\\t', header=None, names=[\"head\", \"relation\", \"tail\"])\n",
        "triples_df_val = pd.read_csv(\"/content/OpenBG500_dev.tsv\", sep='\\t', header=None, names=[\"head\", \"relation\", \"tail\"])\n",
        "\n"
      ],
      "metadata": {
        "id": "3a1AJuaaaaep"
      },
      "execution_count": 6,
      "outputs": []
    },
    {
      "cell_type": "code",
      "source": [
        "#Create unique entity and relation ID mappings\n",
        "all_entities = set(triples_df_train[\"head\"]).union(set(triples_df_train[\"tail\"]))\n",
        "all_relations = set(triples_df_train[\"relation\"])\n",
        "\n",
        "entity2id = {entity: idx for idx, entity in enumerate(all_entities)}\n",
        "relation2id = {relation: idx for idx, relation in enumerate(all_relations)}"
      ],
      "metadata": {
        "id": "oVUNFid8sTqt"
      },
      "execution_count": 7,
      "outputs": []
    },
    {
      "cell_type": "markdown",
      "source": [
        "# Encoder"
      ],
      "metadata": {
        "id": "GRLnTAAAuxUQ"
      }
    },
    {
      "cell_type": "markdown",
      "source": [
        "# Scoring Criteria for Selecting an Encoder\n",
        "\n",
        "\n",
        "| **Factor**                 | **Description** |\n",
        "|---------------------------|----------------|\n",
        "| **Computational Efficiency** | How fast is the encoding on CPU/GPU? |\n",
        "| **Memory Usage**          | How much memory does it require? |\n",
        "| **Scalability**           | Can it handle large datasets like OpenBG500? |\n",
        "| **Preserves Semantic Meaning** | Does the encoding capture relationships between entities? |\n",
        "| **Compatibility with PyTorch** | How well does it integrate into PyTorch models? |\n",
        "| **Ease of Implementation** | How difficult is it to set up? |\n",
        "\n",
        "Each encoding method gets a **score from 1 to 5** for each factor.\n",
        "\n",
        "---\n",
        "\n",
        "## Scoring Different Encoding Methods\n",
        "\n",
        "| Encoding Method  | Computational Efficiency | Memory Usage | Scalability | Semantic Meaning | PyTorch Compatibility | Ease of Implementation | **Total Score** |\n",
        "|-----------------|------------------------|--------------|-------------|------------------|----------------------|--------------------|--------------|\n",
        "| **Label Encoding** (Integer Mapping) | **5** (Very fast) | **5** (Very low) | **5** (Handles millions of nodes) | **1** (No meaning captured) | **5** (PyTorch works with integers easily) | **5** (Simple `map()`) | **26** |\n",
        "| **One-Hot Encoding** | **2** (Slow for large datasets) | **1** (Consumes huge memory) | **1** (Bad for large graphs) | **3** (Some structure captured) | **3** (Can be used, but not ideal) | **3** (Easy but inefficient) | **13** |\n",
        "| **BERT Embeddings** (Text-Based) | **2** (Slow on CPU) | **3** (Moderate) | **3** (Can use pre-trained models) | **5** (Captures meaning well) | **4** (PyTorch supports it, but needs preprocessing) | **2** (Requires NLP model) | **19** |\n",
        "| **Word2Vec/FastText** | **3** (Faster than BERT) | **3** (Moderate) | **4** (Good for large datasets) | **4** (Captures word meaning) | **4** (PyTorch supports it) | **3** (Requires preprocessing) | **21** |\n",
        "| **Knowledge Graph Embeddings (TransE, RotatE)** | **4** (Moderate) | **4** (Efficient for large graphs) | **5** (Scales well) | **5** (Captures graph meaning) | **5** (Designed for PyTorch models) | **3** (Requires model training) | **26** |\n",
        "\n"
      ],
      "metadata": {
        "id": "w1WMfj7DuMfL"
      }
    },
    {
      "cell_type": "code",
      "source": [
        "def encode_triples(df):\n",
        "    df[\"head\"] = df[\"head\"].map(entity2id)\n",
        "    df[\"relation\"] = df[\"relation\"].map(relation2id)\n",
        "    df[\"tail\"] = df[\"tail\"].map(entity2id)\n",
        "    return df\n",
        "\n",
        "train_encoded = encode_triples(triples_df_train)\n",
        "test_encoded = encode_triples(triples_df_test)\n",
        "val_encoded = encode_triples(triples_df_val)"
      ],
      "metadata": {
        "id": "BL5Gbd-VsaTr"
      },
      "execution_count": 8,
      "outputs": []
    }
  ]
}