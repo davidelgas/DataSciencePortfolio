{
  "cells": [
    {
      "cell_type": "markdown",
      "metadata": {
        "id": "view-in-github",
        "colab_type": "text"
      },
      "source": [
        "<a href=\"https://colab.research.google.com/github/davidelgas/DataSciencePortfolio/blob/main/Language_Models/NLP_with_LDA.ipynb\" target=\"_parent\"><img src=\"https://colab.research.google.com/assets/colab-badge.svg\" alt=\"Open In Colab\"/></a>"
      ]
    },
    {
      "cell_type": "markdown",
      "metadata": {
        "id": "6ZNh7sOsosig"
      },
      "source": [
        "## Topic Modeling with Latent Dirichlet Allocation (LDA)\n",
        "https://nlp.stanford.edu/events/illvi2014/papers/sievert-illvi2014.pdf"
      ]
    },
    {
      "cell_type": "markdown",
      "source": [
        "# Introduction"
      ],
      "metadata": {
        "id": "Eg0SMCGcBuO8"
      }
    },
    {
      "cell_type": "markdown",
      "source": [
        "In this notebook I will be using LDA to identify unique topics in a corpus."
      ],
      "metadata": {
        "id": "LYjybM81BHFA"
      }
    },
    {
      "cell_type": "markdown",
      "source": [
        "# Provision Enviorment"
      ],
      "metadata": {
        "id": "5Y6g2-o5Byis"
      }
    },
    {
      "cell_type": "code",
      "execution_count": 1,
      "metadata": {
        "id": "FIRntbFzGwj7",
        "colab": {
          "base_uri": "https://localhost:8080/"
        },
        "outputId": "0045139a-216c-438d-9356-74c1c4d6f55d"
      },
      "outputs": [
        {
          "output_type": "stream",
          "name": "stdout",
          "text": [
            "Mounted at /content/drive\n"
          ]
        }
      ],
      "source": [
        "from google.colab import drive\n",
        "drive.mount('/content/drive')"
      ]
    },
    {
      "cell_type": "code",
      "source": [
        "# Install all necessary packages\n",
        "!pip install numpy==1.24.3\n",
        "!pip install pandas\n",
        "!pip install nltk\n",
        "!pip install gensim==4.3.0\n",
        "!pip install pyLDAvis\n",
        "!pip install sumy\n",
        "!pip install snowflake-connector-python\n",
        "!pip install requests\n",
        "!pip install beautifulsoup4"
      ],
      "metadata": {
        "colab": {
          "base_uri": "https://localhost:8080/",
          "height": 1000
        },
        "id": "rYvn-WXzVLZG",
        "outputId": "f05465d8-d04c-4bd2-97aa-a0657e645929"
      },
      "execution_count": 2,
      "outputs": [
        {
          "output_type": "stream",
          "name": "stdout",
          "text": [
            "Requirement already satisfied: numpy==1.24.3 in /usr/local/lib/python3.11/dist-packages (1.24.3)\n",
            "Requirement already satisfied: pandas in /usr/local/lib/python3.11/dist-packages (2.2.2)\n",
            "Requirement already satisfied: numpy>=1.23.2 in /usr/local/lib/python3.11/dist-packages (from pandas) (1.24.3)\n",
            "Requirement already satisfied: python-dateutil>=2.8.2 in /usr/local/lib/python3.11/dist-packages (from pandas) (2.8.2)\n",
            "Requirement already satisfied: pytz>=2020.1 in /usr/local/lib/python3.11/dist-packages (from pandas) (2025.1)\n",
            "Requirement already satisfied: tzdata>=2022.7 in /usr/local/lib/python3.11/dist-packages (from pandas) (2025.1)\n",
            "Requirement already satisfied: six>=1.5 in /usr/local/lib/python3.11/dist-packages (from python-dateutil>=2.8.2->pandas) (1.17.0)\n",
            "Requirement already satisfied: nltk in /usr/local/lib/python3.11/dist-packages (3.9.1)\n",
            "Requirement already satisfied: click in /usr/local/lib/python3.11/dist-packages (from nltk) (8.1.8)\n",
            "Requirement already satisfied: joblib in /usr/local/lib/python3.11/dist-packages (from nltk) (1.4.2)\n",
            "Requirement already satisfied: regex>=2021.8.3 in /usr/local/lib/python3.11/dist-packages (from nltk) (2024.11.6)\n",
            "Requirement already satisfied: tqdm in /usr/local/lib/python3.11/dist-packages (from nltk) (4.67.1)\n",
            "Collecting gensim==4.3.0\n",
            "  Downloading gensim-4.3.0-cp311-cp311-manylinux_2_17_x86_64.manylinux2014_x86_64.whl.metadata (8.4 kB)\n",
            "Requirement already satisfied: numpy>=1.18.5 in /usr/local/lib/python3.11/dist-packages (from gensim==4.3.0) (1.24.3)\n",
            "Requirement already satisfied: scipy>=1.7.0 in /usr/local/lib/python3.11/dist-packages (from gensim==4.3.0) (1.14.1)\n",
            "Requirement already satisfied: smart-open>=1.8.1 in /usr/local/lib/python3.11/dist-packages (from gensim==4.3.0) (7.1.0)\n",
            "Collecting FuzzyTM>=0.4.0 (from gensim==4.3.0)\n",
            "  Downloading FuzzyTM-2.0.9-py3-none-any.whl.metadata (7.9 kB)\n",
            "Requirement already satisfied: pandas in /usr/local/lib/python3.11/dist-packages (from FuzzyTM>=0.4.0->gensim==4.3.0) (2.2.2)\n",
            "Collecting pyfume (from FuzzyTM>=0.4.0->gensim==4.3.0)\n",
            "  Downloading pyFUME-0.3.4-py3-none-any.whl.metadata (9.7 kB)\n",
            "Requirement already satisfied: wrapt in /usr/local/lib/python3.11/dist-packages (from smart-open>=1.8.1->gensim==4.3.0) (1.17.2)\n",
            "Requirement already satisfied: python-dateutil>=2.8.2 in /usr/local/lib/python3.11/dist-packages (from pandas->FuzzyTM>=0.4.0->gensim==4.3.0) (2.8.2)\n",
            "Requirement already satisfied: pytz>=2020.1 in /usr/local/lib/python3.11/dist-packages (from pandas->FuzzyTM>=0.4.0->gensim==4.3.0) (2025.1)\n",
            "Requirement already satisfied: tzdata>=2022.7 in /usr/local/lib/python3.11/dist-packages (from pandas->FuzzyTM>=0.4.0->gensim==4.3.0) (2025.1)\n",
            "Collecting scipy>=1.7.0 (from gensim==4.3.0)\n",
            "  Downloading scipy-1.10.1-cp311-cp311-manylinux_2_17_x86_64.manylinux2014_x86_64.whl.metadata (58 kB)\n",
            "\u001b[2K     \u001b[90m━━━━━━━━━━━━━━━━━━━━━━━━━━━━━━━━━━━━━━━━\u001b[0m \u001b[32m58.9/58.9 kB\u001b[0m \u001b[31m3.0 MB/s\u001b[0m eta \u001b[36m0:00:00\u001b[0m\n",
            "\u001b[?25hCollecting numpy>=1.18.5 (from gensim==4.3.0)\n",
            "  Downloading numpy-1.24.4-cp311-cp311-manylinux_2_17_x86_64.manylinux2014_x86_64.whl.metadata (5.6 kB)\n",
            "Collecting simpful==2.12.0 (from pyfume->FuzzyTM>=0.4.0->gensim==4.3.0)\n",
            "  Downloading simpful-2.12.0-py3-none-any.whl.metadata (4.8 kB)\n",
            "Collecting fst-pso==1.8.1 (from pyfume->FuzzyTM>=0.4.0->gensim==4.3.0)\n",
            "  Downloading fst-pso-1.8.1.tar.gz (18 kB)\n",
            "  Preparing metadata (setup.py) ... \u001b[?25l\u001b[?25hdone\n",
            "Collecting pandas (from FuzzyTM>=0.4.0->gensim==4.3.0)\n",
            "  Downloading pandas-1.5.3-cp311-cp311-manylinux_2_17_x86_64.manylinux2014_x86_64.whl.metadata (11 kB)\n",
            "Collecting miniful (from fst-pso==1.8.1->pyfume->FuzzyTM>=0.4.0->gensim==4.3.0)\n",
            "  Downloading miniful-0.0.6.tar.gz (2.8 kB)\n",
            "  Preparing metadata (setup.py) ... \u001b[?25l\u001b[?25hdone\n",
            "Requirement already satisfied: six>=1.5 in /usr/local/lib/python3.11/dist-packages (from python-dateutil>=2.8.2->pandas->FuzzyTM>=0.4.0->gensim==4.3.0) (1.17.0)\n",
            "Downloading gensim-4.3.0-cp311-cp311-manylinux_2_17_x86_64.manylinux2014_x86_64.whl (24.1 MB)\n",
            "\u001b[2K   \u001b[90m━━━━━━━━━━━━━━━━━━━━━━━━━━━━━━━━━━━━━━━━\u001b[0m \u001b[32m24.1/24.1 MB\u001b[0m \u001b[31m49.4 MB/s\u001b[0m eta \u001b[36m0:00:00\u001b[0m\n",
            "\u001b[?25hDownloading FuzzyTM-2.0.9-py3-none-any.whl (31 kB)\n",
            "Downloading pyFUME-0.3.4-py3-none-any.whl (60 kB)\n",
            "\u001b[2K   \u001b[90m━━━━━━━━━━━━━━━━━━━━━━━━━━━━━━━━━━━━━━━━\u001b[0m \u001b[32m60.3/60.3 kB\u001b[0m \u001b[31m4.7 MB/s\u001b[0m eta \u001b[36m0:00:00\u001b[0m\n",
            "\u001b[?25hDownloading numpy-1.24.4-cp311-cp311-manylinux_2_17_x86_64.manylinux2014_x86_64.whl (17.3 MB)\n",
            "\u001b[2K   \u001b[90m━━━━━━━━━━━━━━━━━━━━━━━━━━━━━━━━━━━━━━━━\u001b[0m \u001b[32m17.3/17.3 MB\u001b[0m \u001b[31m57.5 MB/s\u001b[0m eta \u001b[36m0:00:00\u001b[0m\n",
            "\u001b[?25hDownloading scipy-1.10.1-cp311-cp311-manylinux_2_17_x86_64.manylinux2014_x86_64.whl (34.1 MB)\n",
            "\u001b[2K   \u001b[90m━━━━━━━━━━━━━━━━━━━━━━━━━━━━━━━━━━━━━━━━\u001b[0m \u001b[32m34.1/34.1 MB\u001b[0m \u001b[31m12.3 MB/s\u001b[0m eta \u001b[36m0:00:00\u001b[0m\n",
            "\u001b[?25hDownloading pandas-1.5.3-cp311-cp311-manylinux_2_17_x86_64.manylinux2014_x86_64.whl (12.0 MB)\n",
            "\u001b[2K   \u001b[90m━━━━━━━━━━━━━━━━━━━━━━━━━━━━━━━━━━━━━━━━\u001b[0m \u001b[32m12.0/12.0 MB\u001b[0m \u001b[31m97.5 MB/s\u001b[0m eta \u001b[36m0:00:00\u001b[0m\n",
            "\u001b[?25hDownloading simpful-2.12.0-py3-none-any.whl (24 kB)\n",
            "Building wheels for collected packages: fst-pso, miniful\n",
            "  Building wheel for fst-pso (setup.py) ... \u001b[?25l\u001b[?25hdone\n",
            "  Created wheel for fst-pso: filename=fst_pso-1.8.1-py3-none-any.whl size=20430 sha256=1f4e8283d2d570dfc9be526e51b452f6c6a566e2278b35cc911d2d9144006840\n",
            "  Stored in directory: /root/.cache/pip/wheels/69/f5/e5/18ad53fe1ed6b2af9fad05ec052e4acbac8e92441df44bad2e\n",
            "  Building wheel for miniful (setup.py) ... \u001b[?25l\u001b[?25hdone\n",
            "  Created wheel for miniful: filename=miniful-0.0.6-py3-none-any.whl size=3507 sha256=9956ffa4b0e8dc143ae05da2c3079add97c791ca1854d9e5d6203ed324468666\n",
            "  Stored in directory: /root/.cache/pip/wheels/9d/ff/2f/afe4cd56f47de147407705626517d68bea0f3b74eb1fb168e6\n",
            "Successfully built fst-pso miniful\n",
            "Installing collected packages: numpy, scipy, pandas, simpful, miniful, fst-pso, pyfume, FuzzyTM, gensim\n",
            "  Attempting uninstall: numpy\n",
            "    Found existing installation: numpy 1.24.3\n",
            "    Uninstalling numpy-1.24.3:\n",
            "      Successfully uninstalled numpy-1.24.3\n",
            "  Attempting uninstall: scipy\n",
            "    Found existing installation: scipy 1.14.1\n",
            "    Uninstalling scipy-1.14.1:\n",
            "      Successfully uninstalled scipy-1.14.1\n",
            "  Attempting uninstall: pandas\n",
            "    Found existing installation: pandas 2.2.2\n",
            "    Uninstalling pandas-2.2.2:\n",
            "      Successfully uninstalled pandas-2.2.2\n",
            "\u001b[31mERROR: pip's dependency resolver does not currently take into account all the packages that are installed. This behaviour is the source of the following dependency conflicts.\n",
            "google-colab 1.0.0 requires pandas==2.2.2, but you have pandas 1.5.3 which is incompatible.\n",
            "mizani 0.13.1 requires pandas>=2.2.0, but you have pandas 1.5.3 which is incompatible.\n",
            "jax 0.5.2 requires numpy>=1.25, but you have numpy 1.24.4 which is incompatible.\n",
            "jax 0.5.2 requires scipy>=1.11.1, but you have scipy 1.10.1 which is incompatible.\n",
            "xarray 2025.1.2 requires pandas>=2.1, but you have pandas 1.5.3 which is incompatible.\n",
            "tensorflow 2.18.0 requires numpy<2.1.0,>=1.26.0, but you have numpy 1.24.4 which is incompatible.\n",
            "jaxlib 0.5.1 requires numpy>=1.25, but you have numpy 1.24.4 which is incompatible.\n",
            "jaxlib 0.5.1 requires scipy>=1.11.1, but you have scipy 1.10.1 which is incompatible.\n",
            "treescope 0.1.9 requires numpy>=1.25.2, but you have numpy 1.24.4 which is incompatible.\n",
            "dask-expr 1.1.21 requires pandas>=2, but you have pandas 1.5.3 which is incompatible.\n",
            "plotnine 0.14.5 requires pandas>=2.2.0, but you have pandas 1.5.3 which is incompatible.\n",
            "blosc2 3.2.0 requires numpy>=1.26, but you have numpy 1.24.4 which is incompatible.\n",
            "pymc 5.21.1 requires numpy>=1.25.0, but you have numpy 1.24.4 which is incompatible.\n",
            "scikit-image 0.25.2 requires scipy>=1.11.4, but you have scipy 1.10.1 which is incompatible.\n",
            "dask-cudf-cu12 25.2.2 requires pandas<2.2.4dev0,>=2.0, but you have pandas 1.5.3 which is incompatible.\n",
            "cudf-cu12 25.2.1 requires pandas<2.2.4dev0,>=2.0, but you have pandas 1.5.3 which is incompatible.\n",
            "cvxpy 1.6.4 requires scipy>=1.11.0, but you have scipy 1.10.1 which is incompatible.\u001b[0m\u001b[31m\n",
            "\u001b[0mSuccessfully installed FuzzyTM-2.0.9 fst-pso-1.8.1 gensim-4.3.0 miniful-0.0.6 numpy-1.24.4 pandas-1.5.3 pyfume-0.3.4 scipy-1.10.1 simpful-2.12.0\n"
          ]
        },
        {
          "output_type": "display_data",
          "data": {
            "application/vnd.colab-display-data+json": {
              "pip_warning": {
                "packages": [
                  "numpy",
                  "pandas"
                ]
              },
              "id": "5d3fa73983704bf7a34e72a1bd386fb8"
            }
          },
          "metadata": {}
        },
        {
          "output_type": "stream",
          "name": "stdout",
          "text": [
            "Collecting pyLDAvis\n",
            "  Downloading pyLDAvis-3.4.1-py3-none-any.whl.metadata (4.2 kB)\n",
            "Requirement already satisfied: numpy>=1.24.2 in /usr/local/lib/python3.11/dist-packages (from pyLDAvis) (1.24.4)\n",
            "Requirement already satisfied: scipy in /usr/local/lib/python3.11/dist-packages (from pyLDAvis) (1.10.1)\n",
            "Collecting pandas>=2.0.0 (from pyLDAvis)\n",
            "  Downloading pandas-2.2.3-cp311-cp311-manylinux_2_17_x86_64.manylinux2014_x86_64.whl.metadata (89 kB)\n",
            "\u001b[2K     \u001b[90m━━━━━━━━━━━━━━━━━━━━━━━━━━━━━━━━━━━━━━━━\u001b[0m \u001b[32m89.9/89.9 kB\u001b[0m \u001b[31m6.3 MB/s\u001b[0m eta \u001b[36m0:00:00\u001b[0m\n",
            "\u001b[?25hRequirement already satisfied: joblib>=1.2.0 in /usr/local/lib/python3.11/dist-packages (from pyLDAvis) (1.4.2)\n",
            "Requirement already satisfied: jinja2 in /usr/local/lib/python3.11/dist-packages (from pyLDAvis) (3.1.6)\n",
            "Requirement already satisfied: numexpr in /usr/local/lib/python3.11/dist-packages (from pyLDAvis) (2.10.2)\n",
            "Collecting funcy (from pyLDAvis)\n",
            "  Downloading funcy-2.0-py2.py3-none-any.whl.metadata (5.9 kB)\n",
            "Requirement already satisfied: scikit-learn>=1.0.0 in /usr/local/lib/python3.11/dist-packages (from pyLDAvis) (1.6.1)\n",
            "Requirement already satisfied: gensim in /usr/local/lib/python3.11/dist-packages (from pyLDAvis) (4.3.0)\n",
            "Requirement already satisfied: setuptools in /usr/local/lib/python3.11/dist-packages (from pyLDAvis) (75.1.0)\n",
            "Requirement already satisfied: python-dateutil>=2.8.2 in /usr/local/lib/python3.11/dist-packages (from pandas>=2.0.0->pyLDAvis) (2.8.2)\n",
            "Requirement already satisfied: pytz>=2020.1 in /usr/local/lib/python3.11/dist-packages (from pandas>=2.0.0->pyLDAvis) (2025.1)\n",
            "Requirement already satisfied: tzdata>=2022.7 in /usr/local/lib/python3.11/dist-packages (from pandas>=2.0.0->pyLDAvis) (2025.1)\n",
            "Requirement already satisfied: threadpoolctl>=3.1.0 in /usr/local/lib/python3.11/dist-packages (from scikit-learn>=1.0.0->pyLDAvis) (3.6.0)\n",
            "Requirement already satisfied: smart-open>=1.8.1 in /usr/local/lib/python3.11/dist-packages (from gensim->pyLDAvis) (7.1.0)\n",
            "Requirement already satisfied: FuzzyTM>=0.4.0 in /usr/local/lib/python3.11/dist-packages (from gensim->pyLDAvis) (2.0.9)\n",
            "Requirement already satisfied: MarkupSafe>=2.0 in /usr/local/lib/python3.11/dist-packages (from jinja2->pyLDAvis) (3.0.2)\n",
            "Requirement already satisfied: pyfume in /usr/local/lib/python3.11/dist-packages (from FuzzyTM>=0.4.0->gensim->pyLDAvis) (0.3.4)\n",
            "Requirement already satisfied: six>=1.5 in /usr/local/lib/python3.11/dist-packages (from python-dateutil>=2.8.2->pandas>=2.0.0->pyLDAvis) (1.17.0)\n",
            "Requirement already satisfied: wrapt in /usr/local/lib/python3.11/dist-packages (from smart-open>=1.8.1->gensim->pyLDAvis) (1.17.2)\n",
            "Requirement already satisfied: simpful==2.12.0 in /usr/local/lib/python3.11/dist-packages (from pyfume->FuzzyTM>=0.4.0->gensim->pyLDAvis) (2.12.0)\n",
            "Requirement already satisfied: fst-pso==1.8.1 in /usr/local/lib/python3.11/dist-packages (from pyfume->FuzzyTM>=0.4.0->gensim->pyLDAvis) (1.8.1)\n",
            "INFO: pip is looking at multiple versions of pyfume to determine which version is compatible with other requirements. This could take a while.\n",
            "Collecting pyfume (from FuzzyTM>=0.4.0->gensim->pyLDAvis)\n",
            "  Downloading pyFUME-0.3.1-py3-none-any.whl.metadata (9.7 kB)\n",
            "Requirement already satisfied: typing-extensions in /usr/local/lib/python3.11/dist-packages (from pyfume->FuzzyTM>=0.4.0->gensim->pyLDAvis) (4.12.2)\n",
            "Requirement already satisfied: miniful in /usr/local/lib/python3.11/dist-packages (from fst-pso==1.8.1->pyfume->FuzzyTM>=0.4.0->gensim->pyLDAvis) (0.0.6)\n",
            "Downloading pyLDAvis-3.4.1-py3-none-any.whl (2.6 MB)\n",
            "\u001b[2K   \u001b[90m━━━━━━━━━━━━━━━━━━━━━━━━━━━━━━━━━━━━━━━━\u001b[0m \u001b[32m2.6/2.6 MB\u001b[0m \u001b[31m73.1 MB/s\u001b[0m eta \u001b[36m0:00:00\u001b[0m\n",
            "\u001b[?25hDownloading pandas-2.2.3-cp311-cp311-manylinux_2_17_x86_64.manylinux2014_x86_64.whl (13.1 MB)\n",
            "\u001b[2K   \u001b[90m━━━━━━━━━━━━━━━━━━━━━━━━━━━━━━━━━━━━━━━━\u001b[0m \u001b[32m13.1/13.1 MB\u001b[0m \u001b[31m25.1 MB/s\u001b[0m eta \u001b[36m0:00:00\u001b[0m\n",
            "\u001b[?25hDownloading funcy-2.0-py2.py3-none-any.whl (30 kB)\n",
            "Downloading pyFUME-0.3.1-py3-none-any.whl (59 kB)\n",
            "\u001b[2K   \u001b[90m━━━━━━━━━━━━━━━━━━━━━━━━━━━━━━━━━━━━━━━━\u001b[0m \u001b[32m59.6/59.6 kB\u001b[0m \u001b[31m4.9 MB/s\u001b[0m eta \u001b[36m0:00:00\u001b[0m\n",
            "\u001b[?25hInstalling collected packages: funcy, pandas, pyfume, pyLDAvis\n",
            "  Attempting uninstall: pandas\n",
            "    Found existing installation: pandas 1.5.3\n",
            "    Uninstalling pandas-1.5.3:\n",
            "      Successfully uninstalled pandas-1.5.3\n",
            "  Attempting uninstall: pyfume\n",
            "    Found existing installation: pyFUME 0.3.4\n",
            "    Uninstalling pyFUME-0.3.4:\n",
            "      Successfully uninstalled pyFUME-0.3.4\n",
            "\u001b[31mERROR: pip's dependency resolver does not currently take into account all the packages that are installed. This behaviour is the source of the following dependency conflicts.\n",
            "google-colab 1.0.0 requires pandas==2.2.2, but you have pandas 2.2.3 which is incompatible.\n",
            "pymc 5.21.1 requires numpy>=1.25.0, but you have numpy 1.24.4 which is incompatible.\u001b[0m\u001b[31m\n",
            "\u001b[0mSuccessfully installed funcy-2.0 pandas-2.2.3 pyLDAvis-3.4.1 pyfume-0.3.1\n",
            "Collecting sumy\n",
            "  Using cached sumy-0.11.0-py2.py3-none-any.whl.metadata (7.5 kB)\n",
            "Collecting docopt<0.7,>=0.6.1 (from sumy)\n",
            "  Using cached docopt-0.6.2.tar.gz (25 kB)\n",
            "  Preparing metadata (setup.py) ... \u001b[?25l\u001b[?25hdone\n",
            "Collecting breadability>=0.1.20 (from sumy)\n",
            "  Using cached breadability-0.1.20.tar.gz (32 kB)\n",
            "  Preparing metadata (setup.py) ... \u001b[?25l\u001b[?25hdone\n",
            "Requirement already satisfied: requests>=2.7.0 in /usr/local/lib/python3.11/dist-packages (from sumy) (2.32.3)\n",
            "Collecting pycountry>=18.2.23 (from sumy)\n",
            "  Using cached pycountry-24.6.1-py3-none-any.whl.metadata (12 kB)\n",
            "Requirement already satisfied: nltk>=3.0.2 in /usr/local/lib/python3.11/dist-packages (from sumy) (3.9.1)\n",
            "Requirement already satisfied: chardet in /usr/local/lib/python3.11/dist-packages (from breadability>=0.1.20->sumy) (5.2.0)\n",
            "Requirement already satisfied: lxml>=2.0 in /usr/local/lib/python3.11/dist-packages (from breadability>=0.1.20->sumy) (5.3.1)\n",
            "Requirement already satisfied: click in /usr/local/lib/python3.11/dist-packages (from nltk>=3.0.2->sumy) (8.1.8)\n",
            "Requirement already satisfied: joblib in /usr/local/lib/python3.11/dist-packages (from nltk>=3.0.2->sumy) (1.4.2)\n",
            "Requirement already satisfied: regex>=2021.8.3 in /usr/local/lib/python3.11/dist-packages (from nltk>=3.0.2->sumy) (2024.11.6)\n",
            "Requirement already satisfied: tqdm in /usr/local/lib/python3.11/dist-packages (from nltk>=3.0.2->sumy) (4.67.1)\n",
            "Requirement already satisfied: charset-normalizer<4,>=2 in /usr/local/lib/python3.11/dist-packages (from requests>=2.7.0->sumy) (3.4.1)\n",
            "Requirement already satisfied: idna<4,>=2.5 in /usr/local/lib/python3.11/dist-packages (from requests>=2.7.0->sumy) (3.10)\n",
            "Requirement already satisfied: urllib3<3,>=1.21.1 in /usr/local/lib/python3.11/dist-packages (from requests>=2.7.0->sumy) (2.3.0)\n",
            "Requirement already satisfied: certifi>=2017.4.17 in /usr/local/lib/python3.11/dist-packages (from requests>=2.7.0->sumy) (2025.1.31)\n",
            "Using cached sumy-0.11.0-py2.py3-none-any.whl (97 kB)\n",
            "Downloading pycountry-24.6.1-py3-none-any.whl (6.3 MB)\n",
            "\u001b[2K   \u001b[90m━━━━━━━━━━━━━━━━━━━━━━━━━━━━━━━━━━━━━━━━\u001b[0m \u001b[32m6.3/6.3 MB\u001b[0m \u001b[31m77.7 MB/s\u001b[0m eta \u001b[36m0:00:00\u001b[0m\n",
            "\u001b[?25hBuilding wheels for collected packages: breadability, docopt\n",
            "  Building wheel for breadability (setup.py) ... \u001b[?25l\u001b[?25hdone\n",
            "  Created wheel for breadability: filename=breadability-0.1.20-py2.py3-none-any.whl size=21691 sha256=872c3e4d8accc7eee0e10e9cc7b117fada26b10a9cf0f83014cefa45c987ccd4\n",
            "  Stored in directory: /root/.cache/pip/wheels/4d/57/58/7e3d7fedf51fe248b7fcee3df6945ae28638e22cddf01eb92b\n",
            "  Building wheel for docopt (setup.py) ... \u001b[?25l\u001b[?25hdone\n",
            "  Created wheel for docopt: filename=docopt-0.6.2-py2.py3-none-any.whl size=13706 sha256=fff565a043e29bb9e700488a21e8542350295f2b1e2ac270728015d31f57264c\n",
            "  Stored in directory: /root/.cache/pip/wheels/1a/b0/8c/4b75c4116c31f83c8f9f047231251e13cc74481cca4a78a9ce\n",
            "Successfully built breadability docopt\n",
            "Installing collected packages: docopt, pycountry, breadability, sumy\n",
            "Successfully installed breadability-0.1.20 docopt-0.6.2 pycountry-24.6.1 sumy-0.11.0\n",
            "Collecting snowflake-connector-python\n",
            "  Downloading snowflake_connector_python-3.14.0-cp311-cp311-manylinux_2_17_x86_64.manylinux2014_x86_64.whl.metadata (67 kB)\n",
            "\u001b[2K     \u001b[90m━━━━━━━━━━━━━━━━━━━━━━━━━━━━━━━━━━━━━━━━\u001b[0m \u001b[32m67.8/67.8 kB\u001b[0m \u001b[31m5.1 MB/s\u001b[0m eta \u001b[36m0:00:00\u001b[0m\n",
            "\u001b[?25hCollecting asn1crypto<2.0.0,>0.24.0 (from snowflake-connector-python)\n",
            "  Downloading asn1crypto-1.5.1-py2.py3-none-any.whl.metadata (13 kB)\n",
            "Requirement already satisfied: cffi<2.0.0,>=1.9 in /usr/local/lib/python3.11/dist-packages (from snowflake-connector-python) (1.17.1)\n",
            "Requirement already satisfied: cryptography>=3.1.0 in /usr/local/lib/python3.11/dist-packages (from snowflake-connector-python) (43.0.3)\n",
            "Requirement already satisfied: pyOpenSSL<26.0.0,>=22.0.0 in /usr/local/lib/python3.11/dist-packages (from snowflake-connector-python) (24.2.1)\n",
            "Requirement already satisfied: pyjwt<3.0.0 in /usr/local/lib/python3.11/dist-packages (from snowflake-connector-python) (2.10.1)\n",
            "Requirement already satisfied: pytz in /usr/local/lib/python3.11/dist-packages (from snowflake-connector-python) (2025.1)\n",
            "Requirement already satisfied: requests<3.0.0 in /usr/local/lib/python3.11/dist-packages (from snowflake-connector-python) (2.32.3)\n",
            "Requirement already satisfied: packaging in /usr/local/lib/python3.11/dist-packages (from snowflake-connector-python) (24.2)\n",
            "Requirement already satisfied: charset_normalizer<4,>=2 in /usr/local/lib/python3.11/dist-packages (from snowflake-connector-python) (3.4.1)\n",
            "Requirement already satisfied: idna<4,>=2.5 in /usr/local/lib/python3.11/dist-packages (from snowflake-connector-python) (3.10)\n",
            "Requirement already satisfied: certifi>=2017.4.17 in /usr/local/lib/python3.11/dist-packages (from snowflake-connector-python) (2025.1.31)\n",
            "Requirement already satisfied: typing_extensions<5,>=4.3 in /usr/local/lib/python3.11/dist-packages (from snowflake-connector-python) (4.12.2)\n",
            "Requirement already satisfied: filelock<4,>=3.5 in /usr/local/lib/python3.11/dist-packages (from snowflake-connector-python) (3.18.0)\n",
            "Requirement already satisfied: sortedcontainers>=2.4.0 in /usr/local/lib/python3.11/dist-packages (from snowflake-connector-python) (2.4.0)\n",
            "Requirement already satisfied: platformdirs<5.0.0,>=2.6.0 in /usr/local/lib/python3.11/dist-packages (from snowflake-connector-python) (4.3.6)\n",
            "Collecting tomlkit (from snowflake-connector-python)\n",
            "  Downloading tomlkit-0.13.2-py3-none-any.whl.metadata (2.7 kB)\n",
            "Requirement already satisfied: pycparser in /usr/local/lib/python3.11/dist-packages (from cffi<2.0.0,>=1.9->snowflake-connector-python) (2.22)\n",
            "Requirement already satisfied: urllib3<3,>=1.21.1 in /usr/local/lib/python3.11/dist-packages (from requests<3.0.0->snowflake-connector-python) (2.3.0)\n",
            "Downloading snowflake_connector_python-3.14.0-cp311-cp311-manylinux_2_17_x86_64.manylinux2014_x86_64.whl (2.5 MB)\n",
            "\u001b[2K   \u001b[90m━━━━━━━━━━━━━━━━━━━━━━━━━━━━━━━━━━━━━━━━\u001b[0m \u001b[32m2.5/2.5 MB\u001b[0m \u001b[31m78.3 MB/s\u001b[0m eta \u001b[36m0:00:00\u001b[0m\n",
            "\u001b[?25hDownloading asn1crypto-1.5.1-py2.py3-none-any.whl (105 kB)\n",
            "\u001b[2K   \u001b[90m━━━━━━━━━━━━━━━━━━━━━━━━━━━━━━━━━━━━━━━━\u001b[0m \u001b[32m105.0/105.0 kB\u001b[0m \u001b[31m8.7 MB/s\u001b[0m eta \u001b[36m0:00:00\u001b[0m\n",
            "\u001b[?25hDownloading tomlkit-0.13.2-py3-none-any.whl (37 kB)\n",
            "Installing collected packages: asn1crypto, tomlkit, snowflake-connector-python\n",
            "Successfully installed asn1crypto-1.5.1 snowflake-connector-python-3.14.0 tomlkit-0.13.2\n",
            "Requirement already satisfied: requests in /usr/local/lib/python3.11/dist-packages (2.32.3)\n",
            "Requirement already satisfied: charset-normalizer<4,>=2 in /usr/local/lib/python3.11/dist-packages (from requests) (3.4.1)\n",
            "Requirement already satisfied: idna<4,>=2.5 in /usr/local/lib/python3.11/dist-packages (from requests) (3.10)\n",
            "Requirement already satisfied: urllib3<3,>=1.21.1 in /usr/local/lib/python3.11/dist-packages (from requests) (2.3.0)\n",
            "Requirement already satisfied: certifi>=2017.4.17 in /usr/local/lib/python3.11/dist-packages (from requests) (2025.1.31)\n",
            "Requirement already satisfied: beautifulsoup4 in /usr/local/lib/python3.11/dist-packages (4.13.3)\n",
            "Requirement already satisfied: soupsieve>1.2 in /usr/local/lib/python3.11/dist-packages (from beautifulsoup4) (2.6)\n",
            "Requirement already satisfied: typing-extensions>=4.0.0 in /usr/local/lib/python3.11/dist-packages (from beautifulsoup4) (4.12.2)\n"
          ]
        }
      ]
    },
    {
      "cell_type": "code",
      "source": [
        "# Import all necessary libraries\n",
        "import os\n",
        "import numpy as np\n",
        "import pandas as pd\n",
        "import nltk\n",
        "import random\n",
        "import re\n",
        "import requests\n",
        "from bs4 import BeautifulSoup\n",
        "import snowflake.connector\n",
        "\n",
        "# Download NLTK resources\n",
        "nltk.download('wordnet')\n",
        "nltk.download('stopwords')\n",
        "nltk.download('punkt')\n",
        "\n",
        "# NLTK imports\n",
        "from nltk.tokenize import RegexpTokenizer, sent_tokenize\n",
        "from nltk.stem import WordNetLemmatizer\n",
        "from nltk.corpus import wordnet, stopwords\n",
        "\n",
        "# Gensim imports\n",
        "from gensim import corpora\n",
        "from gensim.corpora import Dictionary\n",
        "from gensim.models import LdaModel\n",
        "from gensim.utils import simple_preprocess\n",
        "from gensim.parsing.preprocessing import STOPWORDS\n",
        "\n",
        "# PyLDAvis\n",
        "import pyLDAvis\n",
        "import pyLDAvis.gensim_models as gensimvis\n",
        "\n",
        "# Sumy libraries\n",
        "from sumy.parsers.plaintext import PlaintextParser\n",
        "from sumy.summarizers.lex_rank import LexRankSummarizer\n",
        "from sumy.nlp.tokenizers import Tokenizer\n",
        "\n",
        "print(\"All imports successful!\")"
      ],
      "metadata": {
        "colab": {
          "base_uri": "https://localhost:8080/"
        },
        "id": "ETVa-_x7Ns3X",
        "outputId": "7ff94133-acba-47df-af99-6772ead0b350"
      },
      "execution_count": 5,
      "outputs": [
        {
          "output_type": "stream",
          "name": "stderr",
          "text": [
            "[nltk_data] Downloading package wordnet to /root/nltk_data...\n",
            "[nltk_data]   Package wordnet is already up-to-date!\n",
            "[nltk_data] Downloading package stopwords to /root/nltk_data...\n",
            "[nltk_data]   Package stopwords is already up-to-date!\n",
            "[nltk_data] Downloading package punkt to /root/nltk_data...\n",
            "[nltk_data]   Package punkt is already up-to-date!\n"
          ]
        },
        {
          "output_type": "stream",
          "name": "stdout",
          "text": [
            "All imports successful!\n"
          ]
        }
      ]
    },
    {
      "cell_type": "markdown",
      "metadata": {
        "id": "IOLSOSB0il9i"
      },
      "source": [
        "# Corpus\n",
        "\n",
        "The corpus used was assembled using Beautiful Soup to scrape a pubic forum specific to the BMW E9 (www.e9coupe.com). The data was compiled and stored in a Snowflake database for multiple NLP projects, including LDA, RAG, GRU and LSTM. Furture ideas include supplementing the forum text with an existing users guide specific to this model."
      ]
    },
    {
      "cell_type": "code",
      "source": [
        "path_to_credentials = '/content/drive/Othercomputers/My Mac/Git/credentials/snowflake_credentials.txt'\n",
        "lda_model_path = '/content/drive/Othercomputers/My Mac/Git/Language_Models/lda_model'\n",
        "dictionary_path = '/content/drive/Othercomputers/My Mac/Git/Language_Models/datasets'\n",
        "\n"
      ],
      "metadata": {
        "id": "UTnppJEsle5m"
      },
      "execution_count": 6,
      "outputs": []
    },
    {
      "cell_type": "markdown",
      "source": [
        "## Load data"
      ],
      "metadata": {
        "id": "yZQBtSkZ4J4H"
      }
    },
    {
      "cell_type": "code",
      "source": [
        "# Data is stored in Snowflake\n",
        "\n",
        "# Main sequence\n",
        "\n",
        "def load_credentials(path_to_credentials):\n",
        "    with open(path_to_credentials, 'r') as file:\n",
        "        for line_num, line in enumerate(file, start=1):\n",
        "            line = line.strip()\n",
        "            if line and '=' in line:\n",
        "                key, value = line.split('=')\n",
        "                os.environ[key] = value\n",
        "            else:\n",
        "                print(f\"Issue with line {line_num} in {path_to_credentials}: '{line}'\")\n",
        "\n",
        "def fetch_data_from_snowflake():\n",
        "    conn = snowflake.connector.connect(\n",
        "        user=os.environ.get('USER'),\n",
        "        password=os.environ.get('PASSWORD'),\n",
        "        account=os.environ.get('ACCOUNT'),\n",
        "    )\n",
        "\n",
        "    cur = conn.cursor()\n",
        "\n",
        "    query = \"\"\"\n",
        "    SELECT THREAD_TITLE, THREAD_FIRST_POST FROM \"E9_CORPUS\".\"E9_CORPUS_SCHEMA\".\"E9_FORUM_CORPUS\";\n",
        "    \"\"\"\n",
        "    cur.execute(query)\n",
        "    e9_forum_corpus = cur.fetch_pandas_all()\n",
        "\n",
        "    cur.close()\n",
        "    conn.close()\n",
        "\n",
        "    return e9_forum_corpus\n",
        "\n",
        "\n",
        "\n",
        "\n",
        "# Load credentials\n",
        "# load_credentials(path_to_credentials)\n",
        "\n",
        "# Fetch data from Snowflake\n",
        "# df_raw = fetch_data_from_snowflake()\n",
        "\n",
        "# df_tensorboard = df_raw.copy()\n",
        "\n",
        "# df_tensorboard.to_csv('/content/drive/MyDrive/Colab Notebooks/NLP/NLP_with_Tensorboard/df_tensorboard.csv', index=False)\n"
      ],
      "metadata": {
        "id": "-D7Xc9453TFD"
      },
      "execution_count": 7,
      "outputs": []
    },
    {
      "cell_type": "code",
      "execution_count": 8,
      "metadata": {
        "id": "LTKkPGoBkxvJ"
      },
      "outputs": [],
      "source": [
        "#Process data for LDA\n",
        "\n",
        "lda_num_topics = 10\n",
        "\n",
        "def load_credentials(path_to_credentials):\n",
        "    with open(path_to_credentials, 'r') as file:\n",
        "        for line_num, line in enumerate(file, start=1):\n",
        "            line = line.strip()\n",
        "            if line and '=' in line:\n",
        "                key, value = line.split('=')\n",
        "                os.environ[key] = value\n",
        "            else:\n",
        "                print(f\"Issue with line {line_num} in {path_to_credentials}: '{line}'\")\n",
        "\n",
        "\n",
        "def fetch_data_from_snowflake():\n",
        "    conn = snowflake.connector.connect(\n",
        "        user=os.environ.get('USER'),\n",
        "        password=os.environ.get('PASSWORD'),\n",
        "        account=os.environ.get('ACCOUNT'),\n",
        "    )\n",
        "\n",
        "    cur = conn.cursor()\n",
        "\n",
        "    query = \"\"\"\n",
        "    SELECT THREAD_TITLE, THREAD_FIRST_POST FROM \"E9_CORPUS\".\"E9_CORPUS_SCHEMA\".\"E9_FORUM_CORPUS\";\n",
        "    \"\"\"\n",
        "    cur.execute(query)\n",
        "    e9_forum_corpus = cur.fetch_pandas_all()\n",
        "\n",
        "    cur.close()\n",
        "    conn.close()\n",
        "\n",
        "    return e9_forum_corpus\n",
        "\n",
        "# Create a longer form \"TITLE\" for potential use as a QUESTION\n",
        "def engineer_data(e9_forum_corpus):\n",
        "    e9_forum_corpus['THREAD_TITLE_EXP'] = e9_forum_corpus['THREAD_TITLE'] + \" \" + e9_forum_corpus['THREAD_FIRST_POST']\n",
        "    return e9_forum_corpus\n",
        "\n",
        "# Drop NA and Stopwords and Lemmatize\n",
        "def preprocess_data(df):\n",
        "    #df = df[['THREAD_TITLE_EXP']].copy()\n",
        "    df = df[['THREAD_TITLE']].copy()\n",
        "    df.dropna(inplace=True)\n",
        "    df['THREAD_TITLE'] = df['THREAD_TITLE'].astype(str)\n",
        "\n",
        "    #df['THREAD_TITLE_EXP'] = df['THREAD_TITLE_EXP'].astype(str)\n",
        "\n",
        "    lemmatizer = WordNetLemmatizer()\n",
        "    stop_words = set(stopwords.words('english')).union({'car', 'csi', 'cs', 'csl', 'e9', 'coupe', 'http', 'https', 'www', 'ebay', 'bmw', 'html'})\n",
        "\n",
        "    # Remove URLs\n",
        "    def remove_urls(text):\n",
        "        url_pattern = re.compile(r'https?://\\S+|www\\.\\S+')\n",
        "        return url_pattern.sub(r'', text)\n",
        "\n",
        "    # Function to preprocess text\n",
        "    def preprocess(text):\n",
        "        text = remove_urls(text)\n",
        "        return [lemmatizer.lemmatize(word) for word in text.lower().split() if word not in stop_words]\n",
        "\n",
        "    #df['PROCESSED'] = df['THREAD_TITLE_EXP'].map(preprocess)\n",
        "    df['PROCESSED'] = df['THREAD_TITLE'].map(preprocess)\n",
        "\n",
        "    return df\n",
        "\n",
        "def vectorize_data(df):\n",
        "    dictionary = Dictionary(df['PROCESSED'])\n",
        "    corpus = [dictionary.doc2bow(doc) for doc in df['PROCESSED']]\n",
        "    return df, dictionary, corpus\n",
        "\n",
        "def train_lda_model(corpus, dictionary, num_topics=lda_num_topics, random_state=42, passes=10):\n",
        "    lda = LdaModel(corpus=corpus, id2word=dictionary, num_topics=num_topics, random_state=random_state, passes=passes)\n",
        "    return lda\n",
        "\n",
        "def review_topics(lda):\n",
        "    for idx, topic in lda.print_topics(-1):\n",
        "        print(f\"Topic: {idx} \\nWords: {topic}\\n\")\n",
        "\n",
        "def assign_topics(lda, corpus, df):\n",
        "    topics = [lda[doc] for doc in corpus]\n",
        "    df['TOPICS'] = [[(int(topic[0]), float(topic[1])) for topic in doc] for doc in topics]  # Ensure topics are JSON serializable\n",
        "    return df\n",
        "\n",
        "def prepare_visualization_data(lda, corpus, dictionary):\n",
        "    vis_data = gensimvis.prepare(lda, corpus, dictionary)\n",
        "    return vis_data\n",
        "\n"
      ]
    },
    {
      "cell_type": "code",
      "source": [
        "# Generate LDA\n",
        "\n",
        "# New UDF to save the LDA model and dictionary\n",
        "def save_lda_model_and_dictionary(lda, dictionary, lda_model_path, dictionary_path):\n",
        "    # Create directories if they don't exist\n",
        "    import os\n",
        "    os.makedirs(os.path.dirname(lda_model_path), exist_ok=True)\n",
        "    os.makedirs(dictionary_path, exist_ok=True)\n",
        "\n",
        "    # Save model - append a filename if lda_model_path is a directory\n",
        "    if os.path.isdir(lda_model_path):\n",
        "        lda_model_path = os.path.join(lda_model_path, 'lda_model')\n",
        "    lda.save(lda_model_path)\n",
        "\n",
        "    # Save dictionary - create a specific filename in the dictionary_path\n",
        "    dictionary_file_path = os.path.join(dictionary_path, 'dictionary.dict')\n",
        "    dictionary.save(dictionary_file_path)\n",
        "\n",
        "    print(f\"LDA model saved to: {lda_model_path}\")\n",
        "    print(f\"Dictionary saved to: {dictionary_file_path}\")\n",
        "\n",
        "# Load credentials\n",
        "load_credentials(path_to_credentials)\n",
        "\n",
        "# Fetch data from Snowflake\n",
        "e9_forum_corpus = fetch_data_from_snowflake()\n",
        "\n",
        "# Engineer the data\n",
        "e9_forum_corpus = engineer_data(e9_forum_corpus)\n",
        "\n",
        "# Preprocess the data\n",
        "df = preprocess_data(e9_forum_corpus)\n",
        "\n",
        "# Vectorize the data\n",
        "df, dictionary, corpus = vectorize_data(df)\n",
        "\n",
        "# Train the LDA Model\n",
        "lda = train_lda_model(corpus, dictionary)\n",
        "\n",
        "# Save the LDA model and dictionary\n",
        "save_lda_model_and_dictionary(lda, dictionary, lda_model_path, dictionary_path)\n",
        "\n",
        "# Review the Topics\n",
        "review_topics(lda)\n",
        "\n",
        "# Function to assign topics to documents\n",
        "def assign_topics(lda, corpus, df):\n",
        "    topic_assignments = []\n",
        "    for i, row in enumerate(lda[corpus]):\n",
        "        row = sorted(row, key=lambda x: (x[1]), reverse=True)\n",
        "        topic_assignments.append(row[0][0])\n",
        "    df['Topic'] = topic_assignments\n",
        "    return df\n",
        "\n",
        "# Assign Documents to Topics\n",
        "df = assign_topics(lda, corpus, df)\n",
        "\n",
        "# Prepare the visualization data\n",
        "vis_data = prepare_visualization_data(lda, corpus, dictionary)\n",
        "\n",
        "# Visualize\n",
        "pyLDAvis.display(vis_data)\n"
      ],
      "metadata": {
        "id": "Tl-4RJD_xyQt",
        "colab": {
          "base_uri": "https://localhost:8080/",
          "height": 1000
        },
        "outputId": "e34f497e-c409-4fc4-99bc-454ea73cff6e"
      },
      "execution_count": 9,
      "outputs": [
        {
          "output_type": "stream",
          "name": "stdout",
          "text": [
            "LDA model saved to: /content/drive/Othercomputers/My Mac/Git/Language_Models/lda_model\n",
            "Dictionary saved to: /content/drive/Othercomputers/My Mac/Git/Language_Models/datasets/dictionary.dict\n",
            "Topic: 0 \n",
            "Words: 0.051*\"seat\" + 0.026*\"link\" + 0.026*\"looking\" + 0.026*\"company\" + 0.026*\"posted\" + 0.026*\"italian\" + 0.026*\"making\" + 0.026*\"3.5\" + 0.026*\"brand\" + 0.026*\"liter\"\n",
            "\n",
            "Topic: 1 \n",
            "Words: 0.048*\"sale\" + 0.048*\"wheel\" + 0.048*\"steering\" + 0.048*\"brake\" + 0.025*\"question\" + 0.024*\"link\" + 0.024*\")\" + 0.024*\"(\" + 0.024*\"germany\" + 0.024*\"swap\"\n",
            "\n",
            "Topic: 2 \n",
            "Words: 0.069*\"engine\" + 0.047*\"close\" + 0.047*\"ratio\" + 0.046*\"option\" + 0.024*\"opinion\" + 0.024*\"gear\" + 0.024*\"overdrive\" + 0.024*\"wanted:\" + 0.024*\"box?\" + 0.024*\"glad\"\n",
            "\n",
            "Topic: 3 \n",
            "Words: 0.041*\"-\" + 0.041*\"back\" + 0.041*\"getting\" + 0.021*\"interior\" + 0.021*\"welcome\" + 0.021*\"noise\" + 0.021*\",\" + 0.021*\"thanks\" + 0.021*\"more?\" + 0.021*\"want\"\n",
            "\n",
            "Topic: 4 \n",
            "Words: 0.051*\"picture\" + 0.051*\"lsd\" + 0.051*\"bucket\" + 0.051*\"dear\" + 0.051*\"old\" + 0.026*\"nice\" + 0.026*\"2800\" + 0.026*\"e-bay\" + 0.026*\"(link)\" + 0.026*\"bumper\"\n",
            "\n",
            "Topic: 5 \n",
            "Words: 0.061*\"1973\" + 0.041*\"sale\" + 0.021*\"block\" + 0.021*\"santa\" + 0.021*\"spotted\" + 0.021*\"cruz\" + 0.021*\"point\" + 0.021*\"heel/rubbing\" + 0.021*\"melting\" + 0.021*\"black\"\n",
            "\n",
            "Topic: 6 \n",
            "Words: 0.039*\"pictures:\" + 0.039*\"dob\" + 0.020*\"color?\" + 0.020*\"<picture\" + 0.020*\"up>\" + 0.020*\"factory\" + 0.020*\"update\" + 0.020*\"joint\" + 0.020*\"project\" + 0.020*\"cv\"\n",
            "\n",
            "Topic: 7 \n",
            "Words: 0.062*\"box\" + 0.061*\"tire\" + 0.032*\"need\" + 0.032*\"tool\" + 0.032*\"1964\" + 0.032*\"diego\" + 0.032*\"san\" + 0.032*\"contest\" + 0.032*\"3200\" + 0.032*\"clean\"\n",
            "\n",
            "Topic: 8 \n",
            "Words: 0.053*\"available\" + 0.053*\"new\" + 0.036*\"replacement\" + 0.036*\"6\" + 0.036*\"series\" + 0.036*\"type\" + 0.036*\"airdam\" + 0.036*\"now.\" + 0.018*\"floor\" + 0.018*\"pan\"\n",
            "\n",
            "Topic: 9 \n",
            "Words: 0.041*\"front\" + 0.041*\"dob\" + 0.021*\"running\" + 0.021*\"local\" + 0.021*\"bmwcca\" + 0.021*\"best\" + 0.021*\"ever....\" + 0.021*\"logo\" + 0.021*\"rich\" + 0.021*\"weber\"\n",
            "\n"
          ]
        },
        {
          "output_type": "execute_result",
          "data": {
            "text/plain": [
              "<IPython.core.display.HTML object>"
            ],
            "text/html": [
              "\n",
              "<link rel=\"stylesheet\" type=\"text/css\" href=\"https://cdn.jsdelivr.net/gh/bmabey/pyLDAvis@3.4.0/pyLDAvis/js/ldavis.v1.0.0.css\">\n",
              "\n",
              "\n",
              "<div id=\"ldavis_el63931393935059825288426771930\" style=\"background-color:white;\"></div>\n",
              "<script type=\"text/javascript\">\n",
              "\n",
              "var ldavis_el63931393935059825288426771930_data = {\"mdsDat\": {\"x\": [-0.1731033057744412, 0.15406461569678195, 0.058259915901148845, 0.1709930424903375, -0.13753326486743567, -0.010210408524609924, -0.004770247629598928, -0.07149965646919744, 0.04157848585550154, -0.027779176678487127], \"y\": [-0.140468274500309, 0.0887350831377625, -0.17675656134784604, -0.07428418062724342, 0.07915075647956361, -0.035892107672065084, 0.1253970966584289, 0.06262526312750369, 0.0374104989663202, 0.03408242577788425], \"topics\": [1, 2, 3, 4, 5, 6, 7, 8, 9, 10], \"cluster\": [1, 1, 1, 1, 1, 1, 1, 1, 1, 1], \"Freq\": [13.16440278316838, 11.303278253716284, 10.984766127096465, 10.833244395619971, 10.792824882385569, 9.419107534269443, 9.101311072998552, 8.997165624275182, 8.472147915172773, 6.93175141129738]}, \"tinfo\": {\"Term\": [\"engine\", \"1973\", \"sale\", \"available\", \"new\", \"box\", \"tire\", \"dob\", \"picture\", \"seat\", \"wheel\", \"lsd\", \"dear\", \"bucket\", \"old\", \"steering\", \"brake\", \"back\", \"close\", \"ratio\", \"-\", \"option\", \"front\", \"pictures:\", \"getting\", \"6\", \"series\", \"question\", \"need\", \"window\", \"available\", \"new\", \"replacement\", \"airdam\", \"type\", \"now.\", \"pan\", \"floor\", \"lojack\", \"or:\", \"stop\", \"love\", \"worrying\", \"antitheft\", \"learned\", \"re-do\", \"body\", \"74\", \"windshield\", \"experience\", \"beige\", \"kit\", \"carpet\", \"tranny\", \"speed\", \"5\", \"speaker\", \"grille?\", \"6\", \"series\", \"interior\", \"brand\", \"-\", \"color?\", \"<picture\", \"up>\", \"factory\", \"update\", \"joint\", \"project\", \"cv\", \"help!!\", \"weekend\", \"event\", \"owners:\", \"attention\", \"dc\", \"someone\", \"motor!\", \"stole\", \"end\", \"location?\", \"battery\", \"(again)\", \"badge\", \"16\\\"\", \"dob,\", \"heck!\", \"flipping\", \"sorts?\", \"rebuild\", \"boot\", \"paint\", \"pictures:\", \"dob\", \"wheel\", \"area\", \"getting\", \",\", \"want\", \"more?\", \"thanks\", \"german\", \"tan\", \"dang\", \"anybody\", \"valve\", \"breather\", \"complete\", \"order?\", \"bilstein\", \"clunking\", \"torque\", \"spec??\", \"engine/transmission\", \"headlight\", \"vineyard\", \"closer!!!!!\", \"27th,\", \"may\", \"vintage\", \"nc\", \"back\", \"-\", \"swap\", \"welcome\", \"noise\", \"interior\", \"dob\", \"local\", \"bmwcca\", \"best\", \"ever....\", \"logo\", \"weber\", \"rich\", \"pic\", \"rusty\", \"suspension\", \"all!\", \"\\\"hiccups\\\"\", \"murray!!\", \"next\", \"topic,\", \"mike\", \"inport?\", \"slighty\", \"tony,\", \"housing\", \"ac\", \"fan\", \"cone\", \"sorts.\", \"nose\", \"wtb:\", \"clip...\", \"disturbing\", \"front\", \"running\", \"dob\", \"welcome\", \"block\", \"santa\", \"spotted\", \"cruz\", \"heel/rubbing\", \"point\", \"melting\", \"black\", \"radio\", \"antenna\", \"manual\", \"console\", \"switch\", \"3.0csl\", \"buy?\", \"possible\", \"seats,\", \"them?\", \"fit\", \"e24\", \"restored\", \"original?\", \"&\", \"appraisal\", \"insurance\", \"offset\", \"1973\", \"sale\", \"need\", \"window\", \"looking\", \"good\", \"close\", \"ratio\", \"option\", \"opinion\", \"gear\", \"wanted:\", \"overdrive\", \"box?\", \"glad\", \"gathering\", \"2.8\", \"+\", \"issue\", \"zenith\", \"e9's\", \"great!!\", \"blast\", \"sale:\", \"1970\", \"european\", \"alive!\", \"engine\", \"2800\", \"back\", \"question\", \"-\", \"re-location\", \"fuse\", \"3200\", \"san\", \"old\", \"dear\", \"bucket\", \"tire\", \"brake\", \"steering\", \")\", \"(\", \"germany\", \"find\", \"trying\", \"info\", \"original\", \"key\", \"2002\", \"meet\", \"bay\", \"master\", \"cylinder\", \"coil-overs\", \"installing\", \"squeal\", \"uk\", \"wheel\", \"sale\", \"nice\", \"area\", \"swap\", \"link\", \"question\", \"end\", \"re-location\", \"fuse\", \"clean\", \"bucket\", \"old\", \"dear\", \"dob\", \"running\", \"front\", \"seat\", \"company\", \"posted\", \"italian\", \"making\", \"liter\", \"3.5\", \"sparkplug\", \"635??\", \"3.0\", \"one\", \"craigslist\", \"!!\", \"seattle\", \"owner\", \"/\", \"-!!\", \"rare\", \"wtc\", \"hatch\", \"looking\", \"brand\", \"link\", \"question\", \"engine\", \"1973\", \"trim\", \"top\", \"glue\", \"boot\", \"pictures:\", \"dob\", \"window\", \"clip...\", \"lsd\", \"dear\", \"bucket\", \"old\", \"bumper\", \"e-bay\", \"(link)\", \"alpine\", \"500\", \"rally!!\", \"photo?\", \"post\", \"dagmars\", \"sale?\", \"3.64\", \"anyone\", \"know\", \"wanted\", \"picture\", \"nice\", \"2800\", \"part\", \"bay\", \"cylinder\", \"2002\", \"meet\", \"master\", \"battery\", \"location?\", \"re-location\", \"now.\", \"type\", \"airdam\", \"series\", \"6\", \"new\", \"available\", \"swap\", \"box\", \"tire\", \"tool\", \"1964\", \"diego\", \"san\", \"contest\", \"3200\", \"clean\", \"fuse\", \"re-location\", \"glue\", \"trim\", \"top\", \"14\\\"\", \"choices...hhmmmm\", \"need\", \"window\", \"anyone\", \"know\", \"3.64\", \"sale?\", \"info\", \"find\", \"original\", \"key\", \"trying\", \"dc\", \"attention\", \"owners:\", \"lsd\", \"engine\", \"area\", \"love\", \"lojack\", \"antitheft\", \"or:\"], \"Freq\": [6.0, 6.0, 6.0, 5.0, 5.0, 3.0, 3.0, 7.0, 4.0, 3.0, 4.0, 3.0, 3.0, 3.0, 3.0, 3.0, 3.0, 5.0, 3.0, 3.0, 6.0, 3.0, 4.0, 4.0, 3.0, 5.0, 5.0, 6.0, 3.0, 3.0, 4.6395100669215426, 4.6395100669215426, 3.125223195806252, 3.1184655701569692, 3.1184655701569692, 3.1184652464848908, 1.604177404353366, 1.604177404353366, 1.5974199405401222, 1.5974199405401222, 1.597419616868044, 1.5974199405401222, 1.597419616868044, 1.597419616868044, 1.5974194550320047, 1.5974131434264793, 1.5974133052625183, 1.5974131434264793, 1.5974179985076526, 1.5974178366716136, 1.5974192931959657, 1.5974192931959657, 1.5974192931959657, 1.5919052156712417, 1.5919048919991634, 1.5919034354748114, 1.588179588214777, 1.588179588214777, 3.118472043598534, 3.1184713962543773, 1.5973921047413944, 1.597419616868044, 1.597387573332299, 1.4805523196984574, 1.4805523196984574, 1.4805519028293115, 1.4805516249165476, 1.480548567876144, 1.4805481510069982, 1.4805475951814704, 1.4805467614431784, 1.4805368955400584, 1.474313317104214, 1.474313178147832, 1.474313178147832, 1.47431303919145, 1.47431303919145, 1.4743108158893385, 1.4743108158893385, 1.4743105379765746, 1.4743120664967764, 1.4743081757180811, 1.474307619892553, 1.4743109548457205, 1.4743106769329566, 1.474308036761699, 1.4743108158893385, 1.4743106769329566, 1.4743106769329566, 1.474308036761699, 1.4743122054531583, 1.4743120664967764, 1.4743081757180811, 2.8781501805734098, 2.8781443444053667, 1.4804915957595348, 1.4743115106712483, 2.9584752702375363, 1.5187800022450482, 1.5187798672042818, 1.5187798672042818, 1.5187798672042818, 1.5187795971227491, 1.5187793270412162, 1.5187795971227491, 1.5187795971227491, 1.5187791920004499, 1.5187790569596835, 1.5187786518373845, 1.5187786518373845, 1.5187779766335527, 1.5187778415927862, 1.5187750057366924, 1.518774870695926, 1.5187746006143934, 1.5187633922307848, 1.5185153223429673, 1.5184588753026256, 1.5183987821615919, 1.5183858182480205, 1.5182852128770765, 1.5181981115827694, 2.958877961802845, 2.971687118655894, 1.5187528590510082, 1.518796477218545, 1.5187886448540957, 1.5187993130746387, 1.5187642024753831, 1.5013293655655342, 1.501329232387494, 1.501329232387494, 1.5013289660314135, 1.5013289660314135, 1.50132710153885, 1.50132710153885, 1.5013269683608097, 1.5013264356486486, 1.5013243048000047, 1.5013240384439241, 1.501313916912865, 1.5013135173787444, 1.4950026095853197, 1.4950026095853197, 1.4950026095853197, 1.4950023432292392, 1.4950023432292392, 1.495002210051199, 1.4949998128464745, 1.4949998128464745, 1.4949998128464745, 1.4950010114488368, 1.4950008782707964, 1.4950008782707964, 1.495000611914716, 1.4950008782707964, 1.4949971492856695, 2.9248619798495845, 1.5013389543844324, 2.924857984508377, 1.5013076575449733, 1.495222561888262, 1.4952221638448282, 1.4952221638448282, 1.4952220311636835, 1.4952220311636835, 1.4952220311636835, 1.4952217658013942, 1.4952213677579602, 1.4952205716710925, 1.4952204389899477, 1.4952204389899477, 1.4952201736276585, 1.4952172546424762, 1.4889202075176686, 1.4889199421553794, 1.4889215343291151, 1.4889217996914044, 1.4889215343291151, 1.4889215343291151, 1.4889214016479706, 1.4889164924456186, 1.4889158290398954, 1.4889190133873669, 1.4889191460685116, 1.4889188807062224, 1.4889054799106132, 4.330672756839055, 2.91292483820678, 1.4952025270354208, 1.4951883301529438, 1.4952062421074708, 1.4889348024435796, 2.895446575510573, 2.895446575510573, 2.8658009157477, 1.4862369856279296, 1.4862367540411148, 1.4862367540411148, 1.4862367540411148, 1.4862364066608924, 1.4862317749245941, 1.4799703622099931, 1.4799705937968082, 1.4799705937968082, 1.4799683937220665, 1.4799681621352516, 1.4799717517308826, 1.4799717517308826, 1.4799714043506602, 1.4799717517308826, 1.4799715201440677, 1.4799715201440677, 1.479958782869248, 4.2750430435778375, 1.4799666568209546, 1.4862016686386565, 1.4799709411770305, 1.4799650357132503, 0.0707738714565679, 0.070773849745304, 0.07077384250821604, 0.07077382079695214, 0.09415069325258676, 0.0941505991704432, 0.0941503458723644, 0.07077443594942923, 2.854599265618161, 2.8546012795767783, 1.468448163957835, 1.4684478282980655, 1.4684432409478816, 1.462257255168312, 1.4622570313951322, 1.4622569195085424, 1.4622546817767454, 1.4622545698901557, 1.46225870969398, 1.4622583740342106, 1.4622583740342106, 1.462257255168312, 1.4622565838487729, 1.4622546817767454, 1.462254346116976, 1.4622546817767454, 1.4622570313951322, 2.854656327778984, 2.8608125517256537, 1.4622470734886357, 1.462260276106238, 1.4622800800326412, 1.4684641637401834, 1.4746806945587818, 0.07611526527214685, 0.0699267970088649, 0.06992674106556997, 0.06992674106556997, 0.07611544708785535, 0.07611534219417737, 0.07611528625088244, 0.07611559393900454, 0.07611552400988587, 0.07611546806659095, 3.0334301563548722, 1.553704584068235, 1.553704473461953, 1.553704473461953, 1.5537042522493887, 1.5537018189111826, 1.5537018189111826, 1.5536998279981047, 1.553699164360412, 1.552818738354908, 1.5521515612612897, 1.5520741368638207, 1.5520088791573825, 1.5519581108738993, 1.5519035819768248, 1.551750281669836, 1.5516874573016042, 1.5515726479807859, 1.5471537057983857, 1.5471530421606932, 1.5537194053100363, 1.5537018189111826, 1.553727037143501, 1.5536774855291209, 1.5536701855145023, 1.5520360883027788, 0.08053421060934175, 0.08053419678355649, 0.0805337336197502, 0.08053411382884491, 0.08708263480230699, 0.0870827937988375, 0.08053474290207435, 0.08053443873479858, 2.8545667344130625, 2.8314739449601887, 2.8314739449601887, 2.8314739449601887, 1.4684326762157704, 1.4684326762157704, 1.4684326762157704, 1.4684321554557769, 1.4684321554557769, 1.4684321554557769, 1.4684289267438175, 1.468428510135823, 1.4684199696719304, 1.4622441727577875, 1.4622437561497927, 1.4622437561497927, 1.4622437561497927, 1.4537849474244313, 2.854582148908868, 1.4684424665036468, 1.4684379879677034, 1.4537972373602763, 0.07611444337794082, 0.07611432620694229, 0.07611422856444353, 0.07611415695994443, 0.07611364270945091, 0.0761141829979441, 0.07611386403244813, 0.06992605709095653, 0.08230313561142125, 0.08230271900342649, 0.08230243909493003, 0.08230334391541862, 0.08230309004492183, 0.0823028622124247, 0.08230278409842567, 0.0761148014004363, 2.8342109650920424, 2.8052517729918645, 1.45166493225761, 1.4516647618272136, 1.4516645913968171, 1.4516644209664207, 1.4516644209664207, 1.4516644209664207, 1.4516642505360242, 1.451663739244835, 1.4516630575232492, 1.4455461401650678, 1.4455463105954642, 1.4455461401650678, 1.4371873813722784, 1.4371873813722784, 1.451682486588442, 1.4455749429020641, 0.07524513186771391, 0.07524510523796447, 0.07524488687401905, 0.07524484426641995, 0.07524511056391436, 0.07524500404491659, 0.07524483894047006, 0.07524478035502129, 0.07524475905122173, 0.07524524371266157, 0.07524517447531302, 0.07524503600061593, 0.07524588282664817, 0.07524539283925845, 0.07524528099431078, 0.07524524371266157, 0.0752451851272128, 0.07524516382341324, 0.0752451371936638], \"Total\": [6.0, 6.0, 6.0, 5.0, 5.0, 3.0, 3.0, 7.0, 4.0, 3.0, 4.0, 3.0, 3.0, 3.0, 3.0, 3.0, 3.0, 5.0, 3.0, 3.0, 6.0, 3.0, 4.0, 4.0, 3.0, 5.0, 5.0, 6.0, 3.0, 3.0, 5.2976969334048505, 5.297697086303533, 3.770886520123247, 3.7701040531322545, 3.7701042010429244, 3.7701042836248284, 2.24343949554211, 2.243439548426225, 2.2427991761860935, 2.242799180373485, 2.2427987441104382, 2.242799221438788, 2.2427988479967267, 2.2427989085799442, 2.2427987358716175, 2.242793230891136, 2.242976536245832, 2.242976953653118, 2.2430801873576263, 2.2430800363900247, 2.2432284593209966, 2.2432284837840073, 2.243228588433361, 2.2426516518599584, 2.2426516183845204, 2.242651003248926, 2.2423513646581976, 2.242351423670011, 5.194225179928405, 5.194225272808108, 3.689248319747847, 3.722514886914231, 6.551532674907001, 2.1257011438116304, 2.125701214271534, 2.125700880451047, 2.1257007297545893, 2.1256978929344528, 2.1256977442973217, 2.125697642792044, 2.1256973385648474, 2.1256889749969026, 2.12557959636125, 2.1255794720389924, 2.125579531052089, 2.125579544662438, 2.12557962138105, 2.125577477506658, 2.1255774796068625, 2.125577381807774, 2.1256495166754856, 2.1256458893117993, 2.1256457453019095, 2.125786929197135, 2.125786849099413, 2.1257845198828362, 2.1258603305987505, 2.1258602135903724, 2.1258603703924734, 2.125857807894399, 2.126008713243797, 2.126008637581322, 2.1260051163524745, 4.966078759922366, 7.842386318723834, 4.9234597124808595, 3.5241005991897865, 3.608359603036742, 2.1621083597750483, 2.1621082507876954, 2.1621082815114185, 2.1621082875197692, 2.1621080341791856, 2.1621077995751534, 2.1621081951664363, 2.16210827794587, 2.1621077165979914, 2.1621077592803366, 2.162107590327041, 2.162107625943205, 2.1621067330812735, 2.162106775437504, 2.1621043310855144, 2.1621044608593616, 2.1621043536105837, 2.162095773506247, 2.162104950717954, 2.1621040333493977, 2.1621030413914193, 2.1621026688925347, 2.162101294396813, 2.1620996015071126, 5.023825309199368, 6.551532674907001, 3.5606247688437516, 3.5919418754747245, 3.5921600840295813, 3.689248319747847, 7.842386318723834, 2.1454887971434866, 2.145488710703589, 2.1454887209544977, 2.145488477483252, 2.145488569019017, 2.1454870324398145, 2.145487084389611, 2.145486992294187, 2.1454867911816935, 2.1454848727936247, 2.145484807679713, 2.145476477688501, 2.1454763536781085, 2.1455623400508044, 2.1455624114280663, 2.145562451619206, 2.145562216090702, 2.1455622791843383, 2.1455621068975246, 2.1455600017472887, 2.1455600327436994, 2.1455600436991986, 2.1457083279928835, 2.145708180054379, 2.1457082247907615, 2.14570789033033, 2.1457083505222885, 2.1457048716905227, 4.985556369129197, 3.5917266769892433, 7.842386318723834, 3.5919418754747245, 2.1396727729201634, 2.1396724344592606, 2.139672490689576, 2.1396723969055027, 2.13967242687758, 2.1396724813206243, 2.139672312258198, 2.1396721137720185, 2.139671192112639, 2.139671231834322, 2.1396713217767487, 2.139671199708061, 2.139668886130513, 2.1396100133550378, 2.1396098923706215, 2.1397718435897795, 2.1397724110810965, 2.1397721483487038, 2.1397721812594472, 2.1397721323774133, 2.1397675105875353, 2.1397675583687548, 2.1399169539257206, 2.1399171752051607, 2.1399171500917338, 2.139905752249471, 6.467388922788987, 6.361265639468231, 3.522209007767548, 3.522635696065757, 3.6193901635432777, 3.5858493099078452, 3.5465136993107476, 3.546513711505268, 3.5487913827233646, 2.131114969181019, 2.131114830843461, 2.1311148604948373, 2.131114905397351, 2.1311145854164466, 2.1311111844694177, 2.130966714533129, 2.131150323066775, 2.131150434495538, 2.1311482669797166, 2.131148229161521, 2.131176998872464, 2.1311770258607257, 2.131176574359941, 2.131397666059832, 2.1313974820960615, 2.131397509047004, 2.131599464113547, 6.444019325442443, 3.529905277767905, 5.023825309199368, 6.419407563535357, 6.551532674907001, 2.0981883483289385, 2.0981886624322623, 2.098189311257352, 2.098189218113667, 3.513167158550796, 3.513166817123304, 3.5131668639898823, 3.4815995176864876, 3.512841268176089, 3.513326317576201, 2.1141733148847113, 2.1141731410989926, 2.1141696686134575, 2.1141004207133554, 2.1141002747865127, 2.114100367425104, 2.114098237924143, 2.1140983847603523, 2.1141723130905814, 2.1141720698394204, 2.1141721922160834, 2.1141709222376153, 2.114170825583229, 2.1142199832455955, 2.114219784873741, 2.1143074684033554, 2.1147430127294764, 4.9234597124808595, 6.361265639468231, 3.513250372602405, 3.5241005991897865, 3.5606247688437516, 5.120589247328784, 6.419407563535357, 2.1256495166754856, 2.0981883483289385, 2.0981886624322623, 2.0981891463955638, 3.5131668639898823, 3.513167158550796, 3.513166817123304, 7.842386318723834, 3.5917266769892433, 4.985556369129197, 3.67509721715132, 2.195369868161679, 2.1953697576984457, 2.1953697768743785, 2.195369631300551, 2.19536783628284, 2.19536793045866, 2.195366097311375, 2.1953658884183516, 2.195398890716207, 2.1954204551659364, 2.1954230426834656, 2.195424960887648, 2.195426912891535, 2.195428578666025, 2.195433371856352, 2.1954356364591474, 2.195439116829325, 2.194937019189224, 2.1949369251459214, 3.6193901635432777, 3.722514886914231, 5.120589247328784, 6.419407563535357, 6.444019325442443, 6.467388922788987, 2.098618746449763, 2.0986186108732325, 2.098618337970564, 2.126008637581322, 4.966078759922366, 7.842386318723834, 3.522635696065757, 2.1457083505222885, 3.5129602225029566, 3.513166817123304, 3.5131668639898823, 3.513167158550796, 2.1141587327402154, 2.114158768975073, 2.1141587806622497, 2.1141584228656636, 2.114158444965445, 2.1141584524987707, 2.1141558631923423, 2.114155872485812, 2.1141492224088942, 2.1140877331371986, 2.1140874478861407, 2.1140876052707362, 2.114087607129419, 2.114482445088601, 4.942798962185782, 3.513250372602405, 3.529905277767905, 3.5246887231870745, 2.1141721922160834, 2.114170825583229, 2.1141723130905814, 2.1141720698394204, 2.1141709222376153, 2.1256457453019095, 2.1256458893117993, 2.0981883483289385, 3.7701042836248284, 3.7701042010429244, 3.7701040531322545, 5.194225272808108, 5.194225179928405, 5.297697086303533, 5.2976969334048505, 3.5606247688437516, 3.4807365138402604, 3.4815995176864876, 2.0981896143519085, 2.098189483808535, 2.0981892977755687, 2.098189218113667, 2.098189239387384, 2.098189311257352, 2.0981891463955638, 2.0981886624322623, 2.0981883483289385, 2.098618337970564, 2.098618746449763, 2.0986186108732325, 2.09862184181346, 2.0986218631026374, 3.522209007767548, 3.522635696065757, 2.1140876052707362, 2.114087607129419, 2.1140874478861407, 2.1140877331371986, 2.114100367425104, 2.1141004207133554, 2.114098237924143, 2.1140983847603523, 2.1141002747865127, 2.12557962138105, 2.125579544662438, 2.125579531052089, 3.5129602225029566, 6.444019325442443, 3.5241005991897865, 2.242799221438788, 2.2427991761860935, 2.2427989085799442, 2.242799180373485], \"Category\": [\"Default\", \"Default\", \"Default\", \"Default\", \"Default\", \"Default\", \"Default\", \"Default\", \"Default\", \"Default\", \"Default\", \"Default\", \"Default\", \"Default\", \"Default\", \"Default\", \"Default\", \"Default\", \"Default\", \"Default\", \"Default\", \"Default\", \"Default\", \"Default\", \"Default\", \"Default\", \"Default\", \"Default\", \"Default\", \"Default\", \"Topic1\", \"Topic1\", \"Topic1\", \"Topic1\", \"Topic1\", \"Topic1\", \"Topic1\", \"Topic1\", \"Topic1\", \"Topic1\", \"Topic1\", \"Topic1\", \"Topic1\", \"Topic1\", \"Topic1\", \"Topic1\", \"Topic1\", \"Topic1\", \"Topic1\", \"Topic1\", \"Topic1\", \"Topic1\", \"Topic1\", \"Topic1\", \"Topic1\", \"Topic1\", \"Topic1\", \"Topic1\", \"Topic1\", \"Topic1\", \"Topic1\", \"Topic1\", \"Topic1\", \"Topic2\", \"Topic2\", \"Topic2\", \"Topic2\", \"Topic2\", \"Topic2\", \"Topic2\", \"Topic2\", \"Topic2\", \"Topic2\", \"Topic2\", \"Topic2\", \"Topic2\", \"Topic2\", \"Topic2\", \"Topic2\", \"Topic2\", \"Topic2\", \"Topic2\", \"Topic2\", \"Topic2\", \"Topic2\", \"Topic2\", \"Topic2\", \"Topic2\", \"Topic2\", \"Topic2\", \"Topic2\", \"Topic2\", \"Topic2\", \"Topic2\", \"Topic2\", \"Topic2\", \"Topic2\", \"Topic3\", \"Topic3\", \"Topic3\", \"Topic3\", \"Topic3\", \"Topic3\", \"Topic3\", \"Topic3\", \"Topic3\", \"Topic3\", \"Topic3\", \"Topic3\", \"Topic3\", \"Topic3\", \"Topic3\", \"Topic3\", \"Topic3\", \"Topic3\", \"Topic3\", \"Topic3\", \"Topic3\", \"Topic3\", \"Topic3\", \"Topic3\", \"Topic3\", \"Topic3\", \"Topic3\", \"Topic3\", \"Topic3\", \"Topic3\", \"Topic3\", \"Topic3\", \"Topic4\", \"Topic4\", \"Topic4\", \"Topic4\", \"Topic4\", \"Topic4\", \"Topic4\", \"Topic4\", \"Topic4\", \"Topic4\", \"Topic4\", \"Topic4\", \"Topic4\", \"Topic4\", \"Topic4\", \"Topic4\", \"Topic4\", \"Topic4\", \"Topic4\", \"Topic4\", \"Topic4\", \"Topic4\", \"Topic4\", \"Topic4\", \"Topic4\", \"Topic4\", \"Topic4\", \"Topic4\", \"Topic4\", \"Topic4\", \"Topic4\", \"Topic4\", \"Topic5\", \"Topic5\", \"Topic5\", \"Topic5\", \"Topic5\", \"Topic5\", \"Topic5\", \"Topic5\", \"Topic5\", \"Topic5\", \"Topic5\", \"Topic5\", \"Topic5\", \"Topic5\", \"Topic5\", \"Topic5\", \"Topic5\", \"Topic5\", \"Topic5\", \"Topic5\", \"Topic5\", \"Topic5\", \"Topic5\", \"Topic5\", \"Topic5\", \"Topic5\", \"Topic5\", \"Topic5\", \"Topic5\", \"Topic5\", \"Topic5\", \"Topic5\", \"Topic6\", \"Topic6\", \"Topic6\", \"Topic6\", \"Topic6\", \"Topic6\", \"Topic6\", \"Topic6\", \"Topic6\", \"Topic6\", \"Topic6\", \"Topic6\", \"Topic6\", \"Topic6\", \"Topic6\", \"Topic6\", \"Topic6\", \"Topic6\", \"Topic6\", \"Topic6\", \"Topic6\", \"Topic6\", \"Topic6\", \"Topic6\", \"Topic6\", \"Topic6\", \"Topic6\", \"Topic6\", \"Topic6\", \"Topic6\", \"Topic6\", \"Topic6\", \"Topic6\", \"Topic6\", \"Topic7\", \"Topic7\", \"Topic7\", \"Topic7\", \"Topic7\", \"Topic7\", \"Topic7\", \"Topic7\", \"Topic7\", \"Topic7\", \"Topic7\", \"Topic7\", \"Topic7\", \"Topic7\", \"Topic7\", \"Topic7\", \"Topic7\", \"Topic7\", \"Topic7\", \"Topic7\", \"Topic7\", \"Topic7\", \"Topic7\", \"Topic7\", \"Topic7\", \"Topic7\", \"Topic7\", \"Topic7\", \"Topic7\", \"Topic7\", \"Topic7\", \"Topic7\", \"Topic7\", \"Topic7\", \"Topic7\", \"Topic7\", \"Topic8\", \"Topic8\", \"Topic8\", \"Topic8\", \"Topic8\", \"Topic8\", \"Topic8\", \"Topic8\", \"Topic8\", \"Topic8\", \"Topic8\", \"Topic8\", \"Topic8\", \"Topic8\", \"Topic8\", \"Topic8\", \"Topic8\", \"Topic8\", \"Topic8\", \"Topic8\", \"Topic8\", \"Topic8\", \"Topic8\", \"Topic8\", \"Topic8\", \"Topic8\", \"Topic8\", \"Topic8\", \"Topic8\", \"Topic8\", \"Topic8\", \"Topic8\", \"Topic8\", \"Topic8\", \"Topic9\", \"Topic9\", \"Topic9\", \"Topic9\", \"Topic9\", \"Topic9\", \"Topic9\", \"Topic9\", \"Topic9\", \"Topic9\", \"Topic9\", \"Topic9\", \"Topic9\", \"Topic9\", \"Topic9\", \"Topic9\", \"Topic9\", \"Topic9\", \"Topic9\", \"Topic9\", \"Topic9\", \"Topic9\", \"Topic9\", \"Topic9\", \"Topic9\", \"Topic9\", \"Topic9\", \"Topic9\", \"Topic9\", \"Topic9\", \"Topic9\", \"Topic9\", \"Topic9\", \"Topic9\", \"Topic9\", \"Topic9\", \"Topic9\", \"Topic9\", \"Topic10\", \"Topic10\", \"Topic10\", \"Topic10\", \"Topic10\", \"Topic10\", \"Topic10\", \"Topic10\", \"Topic10\", \"Topic10\", \"Topic10\", \"Topic10\", \"Topic10\", \"Topic10\", \"Topic10\", \"Topic10\", \"Topic10\", \"Topic10\", \"Topic10\", \"Topic10\", \"Topic10\", \"Topic10\", \"Topic10\", \"Topic10\", \"Topic10\", \"Topic10\", \"Topic10\", \"Topic10\", \"Topic10\", \"Topic10\", \"Topic10\", \"Topic10\", \"Topic10\", \"Topic10\", \"Topic10\", \"Topic10\", \"Topic10\"], \"logprob\": [30.0, 29.0, 28.0, 27.0, 26.0, 25.0, 24.0, 23.0, 22.0, 21.0, 20.0, 19.0, 18.0, 17.0, 16.0, 15.0, 14.0, 13.0, 12.0, 11.0, 10.0, 9.0, 8.0, 7.0, 6.0, 5.0, 4.0, 3.0, 2.0, 1.0, -2.93, -2.93, -3.3251, -3.3272, -3.3272, -3.3272, -3.992, -3.992, -3.9962, -3.9962, -3.9962, -3.9962, -3.9962, -3.9962, -3.9962, -3.9962, -3.9962, -3.9962, -3.9962, -3.9962, -3.9962, -3.9962, -3.9962, -3.9997, -3.9997, -3.9997, -4.002, -4.002, -3.3272, -3.3272, -3.9962, -3.9962, -3.9962, -3.9197, -3.9197, -3.9197, -3.9197, -3.9197, -3.9198, -3.9198, -3.9198, -3.9198, -3.924, -3.924, -3.924, -3.924, -3.924, -3.924, -3.924, -3.924, -3.924, -3.924, -3.924, -3.924, -3.924, -3.924, -3.924, -3.924, -3.924, -3.924, -3.924, -3.924, -3.924, -3.255, -3.255, -3.9198, -3.924, -3.1989, -3.8657, -3.8657, -3.8657, -3.8657, -3.8657, -3.8657, -3.8657, -3.8657, -3.8657, -3.8657, -3.8657, -3.8657, -3.8657, -3.8657, -3.8657, -3.8657, -3.8657, -3.8657, -3.8658, -3.8659, -3.8659, -3.8659, -3.866, -3.8661, -3.1988, -3.1944, -3.8657, -3.8657, -3.8657, -3.8657, -3.8657, -3.8633, -3.8633, -3.8633, -3.8633, -3.8633, -3.8633, -3.8633, -3.8633, -3.8633, -3.8633, -3.8633, -3.8633, -3.8633, -3.8676, -3.8676, -3.8676, -3.8676, -3.8676, -3.8676, -3.8676, -3.8676, -3.8676, -3.8676, -3.8676, -3.8676, -3.8676, -3.8676, -3.8676, -3.1964, -3.8633, -3.1964, -3.8634, -3.8637, -3.8637, -3.8637, -3.8637, -3.8637, -3.8637, -3.8637, -3.8637, -3.8637, -3.8637, -3.8637, -3.8637, -3.8637, -3.8679, -3.8679, -3.8679, -3.8679, -3.8679, -3.8679, -3.8679, -3.8679, -3.8679, -3.8679, -3.8679, -3.8679, -3.8679, -2.8002, -3.1968, -3.8637, -3.8637, -3.8637, -3.8679, -3.0667, -3.0667, -3.077, -3.7336, -3.7336, -3.7336, -3.7336, -3.7336, -3.7336, -3.7378, -3.7378, -3.7378, -3.7378, -3.7378, -3.7378, -3.7378, -3.7378, -3.7378, -3.7378, -3.7378, -3.7378, -2.677, -3.7378, -3.7336, -3.7378, -3.7378, -6.7781, -6.7781, -6.7781, -6.7781, -6.4927, -6.4927, -6.4927, -6.7781, -3.0466, -3.0466, -3.7113, -3.7113, -3.7113, -3.7155, -3.7155, -3.7155, -3.7155, -3.7155, -3.7155, -3.7155, -3.7155, -3.7155, -3.7155, -3.7155, -3.7155, -3.7155, -3.7155, -3.0465, -3.0444, -3.7155, -3.7155, -3.7155, -3.7113, -3.707, -6.671, -6.7558, -6.7558, -6.7558, -6.671, -6.671, -6.671, -6.671, -6.671, -6.671, -2.9743, -3.6433, -3.6433, -3.6433, -3.6433, -3.6433, -3.6433, -3.6433, -3.6433, -3.6439, -3.6443, -3.6444, -3.6444, -3.6445, -3.6445, -3.6446, -3.6446, -3.6447, -3.6476, -3.6476, -3.6433, -3.6433, -3.6433, -3.6434, -3.6434, -3.6444, -6.6031, -6.6031, -6.6031, -6.6031, -6.5249, -6.5249, -6.603, -6.603, -2.9749, -2.9831, -2.9831, -2.9831, -3.6397, -3.6397, -3.6397, -3.6397, -3.6397, -3.6397, -3.6397, -3.6397, -3.6397, -3.6439, -3.6439, -3.6439, -3.6439, -3.6497, -2.9749, -3.6397, -3.6397, -3.6497, -6.5994, -6.5994, -6.5994, -6.5994, -6.5994, -6.5994, -6.5994, -6.6842, -6.5212, -6.5212, -6.5212, -6.5212, -6.5212, -6.5212, -6.5212, -6.5994, -2.7814, -2.7917, -3.4505, -3.4505, -3.4505, -3.4505, -3.4505, -3.4505, -3.4505, -3.4505, -3.4505, -3.4547, -3.4547, -3.4547, -3.4605, -3.4605, -3.4505, -3.4547, -6.4102, -6.4102, -6.4102, -6.4102, -6.4102, -6.4102, -6.4102, -6.4102, -6.4102, -6.4102, -6.4102, -6.4102, -6.4102, -6.4102, -6.4102, -6.4102, -6.4102, -6.4102, -6.4102], \"loglift\": [30.0, 29.0, 28.0, 27.0, 26.0, 25.0, 24.0, 23.0, 22.0, 21.0, 20.0, 19.0, 18.0, 17.0, 16.0, 15.0, 14.0, 13.0, 12.0, 11.0, 10.0, 9.0, 8.0, 7.0, 6.0, 5.0, 4.0, 3.0, 2.0, 1.0, 1.895, 1.895, 1.8398, 1.8379, 1.8379, 1.8379, 1.6923, 1.6923, 1.6883, 1.6883, 1.6883, 1.6883, 1.6883, 1.6883, 1.6883, 1.6883, 1.6882, 1.6882, 1.6882, 1.6882, 1.6881, 1.6881, 1.6881, 1.6849, 1.6849, 1.6849, 1.6827, 1.6827, 1.5174, 1.5174, 1.1906, 1.1816, 0.6163, 1.8184, 1.8184, 1.8184, 1.8184, 1.8184, 1.8184, 1.8184, 1.8184, 1.8184, 1.8142, 1.8142, 1.8142, 1.8142, 1.8142, 1.8142, 1.8142, 1.8142, 1.8142, 1.8142, 1.8142, 1.8141, 1.8141, 1.8141, 1.8141, 1.8141, 1.8141, 1.8141, 1.814, 1.814, 1.814, 1.6346, 1.1777, 0.9784, 1.3086, 2.0101, 1.8555, 1.8555, 1.8555, 1.8555, 1.8555, 1.8555, 1.8555, 1.8555, 1.8555, 1.8555, 1.8555, 1.8555, 1.8555, 1.8555, 1.8555, 1.8555, 1.8555, 1.8555, 1.8553, 1.8553, 1.8552, 1.8552, 1.8552, 1.8551, 1.6793, 1.4181, 1.3566, 1.3479, 1.3478, 1.3212, 0.567, 1.8655, 1.8655, 1.8655, 1.8655, 1.8655, 1.8655, 1.8655, 1.8655, 1.8655, 1.8655, 1.8655, 1.8655, 1.8655, 1.8613, 1.8613, 1.8613, 1.8613, 1.8613, 1.8613, 1.8613, 1.8613, 1.8613, 1.8612, 1.8612, 1.8612, 1.8612, 1.8612, 1.8612, 1.6893, 1.3503, 1.2363, 1.3502, 1.8679, 1.8679, 1.8679, 1.8679, 1.8679, 1.8679, 1.8679, 1.8679, 1.8679, 1.8679, 1.8679, 1.8679, 1.8679, 1.8637, 1.8637, 1.8636, 1.8636, 1.8636, 1.8636, 1.8636, 1.8636, 1.8636, 1.8636, 1.8636, 1.8636, 1.8636, 1.8252, 1.4452, 1.3695, 1.3693, 1.3422, 1.3474, 2.1596, 2.1596, 2.1487, 2.002, 2.002, 2.002, 2.002, 2.002, 2.002, 1.9979, 1.9978, 1.9978, 1.9978, 1.9978, 1.9978, 1.9978, 1.9978, 1.9977, 1.9977, 1.9977, 1.9976, 1.9521, 1.4932, 1.1445, 0.8951, 0.8747, -1.0269, -1.0269, -1.0269, -1.0269, -1.2569, -1.2569, -1.257, -1.5333, 2.1893, 2.1891, 2.0323, 2.0323, 2.0323, 2.0281, 2.0281, 2.0281, 2.0281, 2.0281, 2.0281, 2.0281, 2.0281, 2.0281, 2.0281, 2.028, 2.028, 2.028, 2.0278, 1.8517, 1.5976, 1.5202, 1.5171, 1.5068, 1.1477, 0.9259, -0.9328, -1.0046, -1.0046, -1.0046, -1.4353, -1.4353, -1.4353, -2.2383, -1.4574, -1.7853, 2.2164, 2.0626, 2.0626, 2.0626, 2.0626, 2.0626, 2.0626, 2.0626, 2.0626, 2.062, 2.0615, 2.0615, 2.0614, 2.0614, 2.0614, 2.0613, 2.0612, 2.0611, 2.0585, 2.0585, 1.5626, 1.5345, 1.2156, 0.9896, 0.9857, 0.9811, -0.8521, -0.8521, -0.8521, -0.8651, -1.6353, -2.0922, -1.37, -0.8743, 2.2608, 2.2527, 2.2527, 2.2527, 2.1039, 2.1039, 2.1039, 2.1039, 2.1039, 2.1039, 2.1039, 2.1039, 2.1039, 2.0997, 2.0997, 2.0997, 2.0997, 2.0937, 1.9194, 1.596, 1.5913, 1.5828, -0.8558, -0.8558, -0.8558, -0.8558, -0.8558, -0.8612, -0.8612, -0.933, -1.3561, -1.3561, -1.3561, -1.6765, -1.6765, -1.6962, -1.6962, -1.3771, 2.4636, 2.4531, 2.3007, 2.3007, 2.3007, 2.3007, 2.3007, 2.3007, 2.3007, 2.3007, 2.3007, 2.2963, 2.2963, 2.2963, 2.2905, 2.2905, 1.7827, 1.7784, -0.6666, -0.6666, -0.6666, -0.6666, -0.6666, -0.6666, -0.6666, -0.6666, -0.6666, -0.672, -0.672, -0.672, -1.1744, -1.7811, -1.1776, -0.7257, -0.7257, -0.7257, -0.7257]}, \"token.table\": {\"Topic\": [8, 4, 5, 7, 2, 9, 7, 6, 3, 1, 3, 6, 8, 8, 10, 2, 10, 6, 5, 8, 6, 7, 3, 6, 9, 8, 5, 8, 9, 10, 1, 9, 1, 5, 8, 1, 2, 4, 1, 6, 4, 9, 5, 1, 3, 9, 5, 2, 7, 2, 1, 3, 6, 2, 2, 7, 1, 4, 3, 5, 6, 5, 4, 1, 2, 10, 6, 7, 1, 8, 3, 9, 9, 5, 1, 10, 10, 4, 6, 3, 3, 7, 2, 8, 3, 4, 5, 10, 8, 5, 2, 7, 9, 3, 2, 9, 10, 4, 2, 3, 4, 2, 9, 5, 6, 2, 6, 8, 3, 6, 2, 4, 1, 2, 4, 7, 5, 2, 1, 2, 4, 10, 6, 6, 3, 7, 3, 6, 10, 3, 5, 6, 1, 8, 3, 2, 5, 2, 4, 7, 4, 7, 5, 1, 3, 6, 8, 2, 7, 1, 9, 1, 1, 7, 8, 8, 4, 2, 4, 1, 5, 8, 1, 9, 8, 5, 7, 3, 7, 5, 4, 3, 2, 4, 3, 5, 10, 1, 4, 7, 9, 3, 4, 4, 1, 5, 9, 8, 6, 6, 1, 3, 7, 5, 6, 8, 2, 2, 1, 2, 9, 9, 4, 4, 9, 2, 4, 5, 5, 9, 8, 2, 2, 6, 7, 8, 5, 9, 8, 6, 1, 10, 2, 1, 5, 4, 3, 4, 4, 5, 7, 6, 9, 10, 5, 8, 5, 8, 1, 5, 4, 2, 4, 2, 8, 1, 3, 1, 5, 7, 7, 2, 1, 4, 3, 7, 5, 3, 3, 5, 10, 4, 10, 10, 4, 3, 1, 10, 7, 1, 7, 2, 2, 3, 3, 3, 3, 9, 6, 4, 2, 3, 4, 2, 7, 5, 10, 1, 1, 4, 8, 6], \"Freq\": [0.9109853607528292, 0.9321938603376183, 0.46730785424428734, 0.4729981573222421, 0.47041403174761215, 0.47300137016518456, 0.47299811844164313, 0.46923013214536813, 0.9250230179065057, 0.3052720789534015, 0.45790811843010226, 0.15263603947670076, 0.9109809309762545, 0.9109818706585922, 0.47650318893845145, 0.47041456490383865, 0.47660137833921795, 0.4691757442711149, 0.6184876227105027, 0.30924381135525136, 0.4692301566794109, 0.4729983425703651, 0.9250252932963371, 0.2832937207403873, 0.2832937207403873, 0.910996178624987, 0.46737489250760217, 0.9110090259823357, 0.4730173300068037, 0.47660141753402807, 0.8918017101647123, 0.473001445270742, 0.5775644867289621, 0.1925214955763207, 0.9110098733659825, 0.8916721131452628, 0.47043300031359037, 0.46607877884508314, 0.7957340056722197, 0.4691312870149659, 0.9321902410313261, 0.4730014502151343, 0.4673615203690469, 0.8917428987275211, 0.9250230529157947, 0.4730172947927279, 0.4673078059220338, 0.2837603444776538, 0.2837603444776538, 0.4704599282163347, 0.94380634884421, 0.5971545217757783, 0.19905150725859277, 0.4704140494723865, 0.47044527631671196, 0.47299836961330766, 0.8915721408979362, 0.9321885407583165, 0.925023713861595, 0.4673613277303056, 0.46922437682120793, 0.4673611837548547, 0.9321885452122105, 0.8916722790812104, 0.47036497515723236, 0.8618865542023263, 0.4692380254178531, 0.8540095526598153, 0.5372711891712258, 0.5372711891712258, 0.9250232748185064, 0.8539304041462232, 0.4730013808867957, 0.46737491893535366, 0.891572089582173, 0.4765031841046311, 0.4766014549822067, 0.46604656208593737, 0.8459011452805157, 0.9250248689013006, 0.9250236957401414, 0.4729876776894679, 0.4704330159068754, 0.9110082218968987, 0.9250233471024815, 0.46604656697931063, 0.467361527386283, 0.47660143385921355, 0.9109861567069096, 0.46736126588642646, 0.47043385803697924, 0.4729986753667994, 0.47300350864570695, 0.9250230883316376, 0.4704599112360098, 0.8539304155378816, 0.4766014205964005, 0.4660473176873278, 0.3825366257254437, 0.25502441715029583, 0.3825366257254437, 0.47039778935916693, 0.47300137277996, 0.46733948202650016, 0.4692242833556609, 0.470444441642477, 0.6207306027477443, 0.31036530137387214, 0.925024731882215, 0.4691757383385151, 0.4704599442902672, 0.9321886465435992, 0.8916311355607116, 0.47043310754070694, 0.46607877646522633, 0.4730144274142723, 0.4673394713503615, 0.4703977805538476, 0.8914882513339849, 0.2005794190177144, 0.6017382570531432, 0.4766015649139863, 0.46927058652771536, 0.46923797137867795, 0.9250231572074391, 0.4729989342131813, 0.8314027231308222, 0.4692387742542723, 0.47650398450584125, 0.5577479216636125, 0.27887396083180627, 0.46922427741361683, 0.8919208554414012, 0.9111879148267726, 0.9250284027689587, 0.4703978152500896, 0.467361259339729, 0.47043570896888015, 0.4660787855784158, 0.47301443933712706, 0.46607830455834504, 0.4729877220686964, 0.46730781140621824, 0.5421158530572147, 0.5421158530572147, 0.4692306093828044, 0.9110082597782079, 0.47043376824514793, 0.4730148829442282, 0.8915721311751019, 0.4730172943768563, 0.8917429673968231, 0.390580049169795, 0.1952900245848975, 0.390580049169795, 0.9110090650623571, 0.9321885076551362, 0.4704452444446242, 0.9321886067724244, 0.8917427923266066, 0.27628963853430744, 0.5525792770686149, 0.8917427743340178, 0.8539806345608216, 0.9110083201866955, 0.46736150072321203, 0.4729986537425323, 0.9250254526647588, 0.472998396992329, 0.46736128437564617, 0.4660782533947326, 0.9250230513903324, 0.47046038528078293, 0.9321939142192314, 0.9250267650046652, 0.283912737090472, 0.283912737090472, 0.943806321604686, 0.4660782776306193, 0.2846367021827881, 0.2846367021827881, 0.556768059667446, 0.278384029833723, 0.46604658939475097, 0.7957339570234914, 0.4673103004414092, 0.8539303325485711, 0.9109872303931112, 0.4692379409189251, 0.8453582294538208, 0.8917427906616889, 0.9250233318646722, 0.4730149157978162, 0.4673404810204464, 0.46923795496308435, 0.9109838595684263, 0.4704599312287479, 0.47036575420649557, 0.891488272348845, 0.283712996674437, 0.283712996674437, 0.47300202289249177, 0.9321892918406295, 0.2023145201029549, 0.6069435603088646, 0.604098353052882, 0.201366117684294, 0.4673612474479231, 0.4673395450995159, 0.4730020208132554, 0.9110082677356068, 0.4704337907090719, 0.1557776150061534, 0.1557776150061534, 0.1557776150061534, 0.3115552300123068, 0.46736152904532674, 0.4730014435853083, 0.9109794868228549, 0.8459011423719245, 0.8917451561976286, 0.47660163626226915, 0.47036495841742415, 0.7955688891698466, 0.46734049145620543, 0.9321892518262341, 0.5568352438433583, 0.5568352438433583, 0.9321893792216907, 0.471604263998443, 0.471604263998443, 0.46917570377593176, 0.47301726618320183, 0.4766014386915156, 0.4673612576836887, 0.8163049363699258, 0.46733942115589805, 0.9109845507750728, 0.5775644764013357, 0.19252149213377856, 0.46607829085257885, 0.47046038574562743, 0.4660465991114677, 0.47039834756891447, 0.9110097866817584, 0.8919208789140237, 0.925024685997396, 0.8918014655529454, 0.4673612454014955, 0.47296810655224236, 0.8538916482058124, 0.470460406926947, 0.8917429641210454, 0.9321902127400276, 0.5616991763637772, 0.2808495881818886, 0.46736203273416355, 0.9250232575790129, 0.9250230488197567, 0.46733947853827146, 0.8616729134870431, 0.4660783282782695, 0.4766013486864395, 0.47650392254164814, 0.46607826212541137, 0.9250247415192366, 0.8918014522412727, 0.476503891758187, 0.47301446006433284, 0.7957339744535733, 0.47287069586261954, 0.47043307419048186, 0.4704337353505744, 0.9250232930794665, 0.9250244764186285, 0.9250260407239448, 0.9250230645349804, 0.47292896771157544, 0.46923796484991126, 0.9321892743978187, 0.47045991677370547, 0.5568018830303796, 0.5568018830303796, 0.20310920742684713, 0.6093276222805414, 0.28387834743083035, 0.28387834743083035, 0.8916310755506349, 0.8917429228155725, 0.4660466620393751, 0.9111878757864175, 0.46923061770951524], \"Term\": [\"!!\", \"\\\"hiccups\\\"\", \"&\", \"(\", \"(again)\", \"(link)\", \")\", \"+\", \",\", \"-\", \"-\", \"-\", \"-!!\", \"/\", \"14\\\"\", \"16\\\"\", \"1964\", \"1970\", \"1973\", \"1973\", \"2.8\", \"2002\", \"27th,\", \"2800\", \"2800\", \"3.0\", \"3.0csl\", \"3.5\", \"3.64\", \"3200\", \"5\", \"500\", \"6\", \"6\", \"635??\", \"74\", \"<picture\", \"ac\", \"airdam\", \"alive!\", \"all!\", \"alpine\", \"antenna\", \"antitheft\", \"anybody\", \"anyone\", \"appraisal\", \"area\", \"area\", \"attention\", \"available\", \"back\", \"back\", \"badge\", \"battery\", \"bay\", \"beige\", \"best\", \"bilstein\", \"black\", \"blast\", \"block\", \"bmwcca\", \"body\", \"boot\", \"box\", \"box?\", \"brake\", \"brand\", \"brand\", \"breather\", \"bucket\", \"bumper\", \"buy?\", \"carpet\", \"choices...hhmmmm\", \"clean\", \"clip...\", \"close\", \"closer!!!!!\", \"clunking\", \"coil-overs\", \"color?\", \"company\", \"complete\", \"cone\", \"console\", \"contest\", \"craigslist\", \"cruz\", \"cv\", \"cylinder\", \"dagmars\", \"dang\", \"dc\", \"dear\", \"diego\", \"disturbing\", \"dob\", \"dob\", \"dob\", \"dob,\", \"e-bay\", \"e24\", \"e9's\", \"end\", \"engine\", \"engine\", \"engine/transmission\", \"european\", \"event\", \"ever....\", \"experience\", \"factory\", \"fan\", \"find\", \"fit\", \"flipping\", \"floor\", \"front\", \"front\", \"fuse\", \"gathering\", \"gear\", \"german\", \"germany\", \"getting\", \"glad\", \"glue\", \"good\", \"good\", \"great!!\", \"grille?\", \"hatch\", \"headlight\", \"heck!\", \"heel/rubbing\", \"help!!\", \"housing\", \"info\", \"inport?\", \"installing\", \"insurance\", \"interior\", \"interior\", \"issue\", \"italian\", \"joint\", \"key\", \"kit\", \"know\", \"learned\", \"link\", \"link\", \"link\", \"liter\", \"local\", \"location?\", \"logo\", \"lojack\", \"looking\", \"looking\", \"love\", \"lsd\", \"making\", \"manual\", \"master\", \"may\", \"meet\", \"melting\", \"mike\", \"more?\", \"motor!\", \"murray!!\", \"nc\", \"need\", \"need\", \"new\", \"next\", \"nice\", \"nice\", \"noise\", \"noise\", \"nose\", \"now.\", \"offset\", \"old\", \"one\", \"opinion\", \"option\", \"or:\", \"order?\", \"original\", \"original?\", \"overdrive\", \"owner\", \"owners:\", \"paint\", \"pan\", \"part\", \"part\", \"photo?\", \"pic\", \"picture\", \"picture\", \"pictures:\", \"pictures:\", \"point\", \"possible\", \"post\", \"posted\", \"project\", \"question\", \"question\", \"question\", \"question\", \"radio\", \"rally!!\", \"rare\", \"ratio\", \"re-do\", \"re-location\", \"rebuild\", \"replacement\", \"restored\", \"rich\", \"running\", \"running\", \"rusty\", \"sale\", \"sale\", \"sale:\", \"sale?\", \"san\", \"santa\", \"seat\", \"seats,\", \"seattle\", \"series\", \"series\", \"slighty\", \"someone\", \"sorts.\", \"sorts?\", \"sparkplug\", \"speaker\", \"spec??\", \"speed\", \"spotted\", \"squeal\", \"steering\", \"stole\", \"stop\", \"suspension\", \"swap\", \"swap\", \"switch\", \"tan\", \"thanks\", \"them?\", \"tire\", \"tony,\", \"tool\", \"top\", \"topic,\", \"torque\", \"tranny\", \"trim\", \"trying\", \"type\", \"uk\", \"up>\", \"update\", \"valve\", \"vineyard\", \"vintage\", \"want\", \"wanted\", \"wanted:\", \"weber\", \"weekend\", \"welcome\", \"welcome\", \"wheel\", \"wheel\", \"window\", \"window\", \"windshield\", \"worrying\", \"wtb:\", \"wtc\", \"zenith\"]}, \"R\": 30, \"lambda.step\": 0.01, \"plot.opts\": {\"xlab\": \"PC1\", \"ylab\": \"PC2\"}, \"topic.order\": [9, 7, 4, 10, 6, 3, 2, 1, 5, 8]};\n",
              "\n",
              "function LDAvis_load_lib(url, callback){\n",
              "  var s = document.createElement('script');\n",
              "  s.src = url;\n",
              "  s.async = true;\n",
              "  s.onreadystatechange = s.onload = callback;\n",
              "  s.onerror = function(){console.warn(\"failed to load library \" + url);};\n",
              "  document.getElementsByTagName(\"head\")[0].appendChild(s);\n",
              "}\n",
              "\n",
              "if(typeof(LDAvis) !== \"undefined\"){\n",
              "   // already loaded: just create the visualization\n",
              "   !function(LDAvis){\n",
              "       new LDAvis(\"#\" + \"ldavis_el63931393935059825288426771930\", ldavis_el63931393935059825288426771930_data);\n",
              "   }(LDAvis);\n",
              "}else if(typeof define === \"function\" && define.amd){\n",
              "   // require.js is available: use it to load d3/LDAvis\n",
              "   require.config({paths: {d3: \"https://d3js.org/d3.v5\"}});\n",
              "   require([\"d3\"], function(d3){\n",
              "      window.d3 = d3;\n",
              "      LDAvis_load_lib(\"https://cdn.jsdelivr.net/gh/bmabey/pyLDAvis@3.4.0/pyLDAvis/js/ldavis.v3.0.0.js\", function(){\n",
              "        new LDAvis(\"#\" + \"ldavis_el63931393935059825288426771930\", ldavis_el63931393935059825288426771930_data);\n",
              "      });\n",
              "    });\n",
              "}else{\n",
              "    // require.js not available: dynamically load d3 & LDAvis\n",
              "    LDAvis_load_lib(\"https://d3js.org/d3.v5.js\", function(){\n",
              "         LDAvis_load_lib(\"https://cdn.jsdelivr.net/gh/bmabey/pyLDAvis@3.4.0/pyLDAvis/js/ldavis.v3.0.0.js\", function(){\n",
              "                 new LDAvis(\"#\" + \"ldavis_el63931393935059825288426771930\", ldavis_el63931393935059825288426771930_data);\n",
              "            })\n",
              "         });\n",
              "}\n",
              "</script>"
            ]
          },
          "metadata": {},
          "execution_count": 9
        }
      ]
    },
    {
      "cell_type": "code",
      "execution_count": 11,
      "metadata": {
        "id": "99pNJkgnoqgt",
        "colab": {
          "base_uri": "https://localhost:8080/"
        },
        "outputId": "072dd300-7ef5-4480-def5-7b56258bc39d"
      },
      "outputs": [
        {
          "output_type": "stream",
          "name": "stdout",
          "text": [
            "Topic 0: Looking for link I posted about italian company making seats\n",
            "Topic 1: Further steering wheel question ( link )\n",
            "Topic 2: Opinions wanted: Close ratio or overdrive gear box?\n",
            "Topic 3: DOB - Anybody want more?\n",
            "Topic 4: Does anyone know of a 3.64 lsd for sale?\n",
            "Topic 5: looking for radio console\n",
            "Topic 6: CSL project update\n",
            "Topic 7: Need tool box for a 3200 CS 1964\n",
            "Topic 8: New 6 series type Airdam Available Now.\n",
            "Topic 9: Slighty off topic, Pictures for Mike and Tony, Next inport?\n"
          ]
        }
      ],
      "source": [
        "#Create representative sentences for each topic\n",
        "\n",
        "\n",
        "representative_sentences = []\n",
        "\n",
        "def score_text_block(text, topic_words):\n",
        "    if isinstance(text, str):\n",
        "        return sum(1 for word in topic_words if word in text)\n",
        "    return 0\n",
        "\n",
        "\n",
        "def create_representative_sentence(lda, df, topic_id, top_n=20):\n",
        "    topic_words = [word for word, prob in lda.show_topic(topic_id, topn=top_n)]\n",
        "    #df['SCORE'] = df['THREAD_TITLE_EXP'].map(lambda x: score_text_block(x, topic_words))\n",
        "    #representative_sentence = df.loc[df['SCORE'].idxmax(), 'THREAD_TITLE_EXP']\n",
        "    df['SCORE'] = df['THREAD_TITLE'].map(lambda x: score_text_block(x, topic_words))\n",
        "    representative_sentence = df.loc[df['SCORE'].idxmax(), 'THREAD_TITLE']\n",
        "\n",
        "    return representative_sentence\n",
        "\n",
        "\n",
        "\n",
        "for topic_id in range(lda_num_topics):\n",
        "    try:\n",
        "        sentence = create_representative_sentence(lda, e9_forum_corpus, topic_id)\n",
        "        representative_sentences.append({'Topic': topic_id, 'Representative Sentence': sentence})\n",
        "        print(f\"Topic {topic_id}: {sentence}\")\n",
        "    except IndexError as e:\n",
        "        print(f\"Error with topic {topic_id}: {e}\")\n",
        "\n",
        "# Save to CSV\n",
        "output_df = pd.DataFrame(representative_sentences)\n",
        "output_df.to_csv('/content/drive/MyDrive/Colab Notebooks/datasets/e9/representative_sentences.csv', index=False)\n"
      ]
    },
    {
      "cell_type": "code",
      "source": [],
      "metadata": {
        "id": "ToisfIbboPgy"
      },
      "execution_count": 10,
      "outputs": []
    }
  ],
  "metadata": {
    "colab": {
      "provenance": [],
      "include_colab_link": true
    },
    "kernelspec": {
      "display_name": "Python 3",
      "name": "python3"
    },
    "language_info": {
      "name": "python"
    }
  },
  "nbformat": 4,
  "nbformat_minor": 0
}