{
  "cells": [
    {
      "cell_type": "markdown",
      "metadata": {
        "id": "view-in-github",
        "colab_type": "text"
      },
      "source": [
        "<a href=\"https://colab.research.google.com/github/davidelgas/DataSciencePortfolio/blob/main/Language_Models/NLP_with_LDA.ipynb\" target=\"_parent\"><img src=\"https://colab.research.google.com/assets/colab-badge.svg\" alt=\"Open In Colab\"/></a>"
      ]
    },
    {
      "cell_type": "markdown",
      "metadata": {
        "id": "6ZNh7sOsosig"
      },
      "source": [
        "## Topic Modeling with Latent Dirichlet Allocation (LDA)\n",
        "https://nlp.stanford.edu/events/illvi2014/papers/sievert-illvi2014.pdf"
      ]
    },
    {
      "cell_type": "markdown",
      "source": [
        "# Introduction"
      ],
      "metadata": {
        "id": "Eg0SMCGcBuO8"
      }
    },
    {
      "cell_type": "markdown",
      "source": [
        "In this notebook I will be using LDA to identify unique topics in a corpus."
      ],
      "metadata": {
        "id": "LYjybM81BHFA"
      }
    },
    {
      "cell_type": "markdown",
      "source": [
        "# Provision Enviorment"
      ],
      "metadata": {
        "id": "5Y6g2-o5Byis"
      }
    },
    {
      "cell_type": "code",
      "execution_count": 8,
      "metadata": {
        "colab": {
          "base_uri": "https://localhost:8080/"
        },
        "id": "FIRntbFzGwj7",
        "outputId": "a952a563-2b30-4d66-fd6f-8eb0d0699271"
      },
      "outputs": [
        {
          "output_type": "stream",
          "name": "stdout",
          "text": [
            "Drive already mounted at /content/drive; to attempt to forcibly remount, call drive.mount(\"/content/drive\", force_remount=True).\n"
          ]
        }
      ],
      "source": [
        "from google.colab import drive\n",
        "drive.mount('/content/drive')"
      ]
    },
    {
      "cell_type": "code",
      "source": [
        "# Install all necessary packages\n",
        "!pip install numpy==1.24.3\n",
        "!pip install pandas\n",
        "!pip install nltk\n",
        "!pip install gensim==4.3.0\n",
        "!pip install pyLDAvis\n",
        "!pip install sumy\n",
        "!pip install snowflake-connector-python\n",
        "!pip install requests\n",
        "!pip install beautifulsoup4"
      ],
      "metadata": {
        "colab": {
          "base_uri": "https://localhost:8080/",
          "height": 1000
        },
        "id": "rYvn-WXzVLZG",
        "outputId": "23750264-130f-4805-9ca5-1cb4156f3c8f"
      },
      "execution_count": null,
      "outputs": [
        {
          "output_type": "stream",
          "name": "stdout",
          "text": [
            "Collecting numpy==1.24.3\n",
            "  Using cached numpy-1.24.3-cp311-cp311-manylinux_2_17_x86_64.manylinux2014_x86_64.whl.metadata (5.6 kB)\n",
            "Using cached numpy-1.24.3-cp311-cp311-manylinux_2_17_x86_64.manylinux2014_x86_64.whl (17.3 MB)\n",
            "Installing collected packages: numpy\n",
            "  Attempting uninstall: numpy\n",
            "    Found existing installation: numpy 1.24.4\n",
            "    Uninstalling numpy-1.24.4:\n",
            "      Successfully uninstalled numpy-1.24.4\n",
            "\u001b[31mERROR: pip's dependency resolver does not currently take into account all the packages that are installed. This behaviour is the source of the following dependency conflicts.\n",
            "google-colab 1.0.0 requires pandas==2.2.2, but you have pandas 2.2.3 which is incompatible.\n",
            "albumentations 2.0.5 requires numpy>=1.24.4, but you have numpy 1.24.3 which is incompatible.\n",
            "jax 0.5.2 requires numpy>=1.25, but you have numpy 1.24.3 which is incompatible.\n",
            "jax 0.5.2 requires scipy>=1.11.1, but you have scipy 1.10.1 which is incompatible.\n",
            "tensorflow 2.18.0 requires numpy<2.1.0,>=1.26.0, but you have numpy 1.24.3 which is incompatible.\n",
            "jaxlib 0.5.1 requires numpy>=1.25, but you have numpy 1.24.3 which is incompatible.\n",
            "jaxlib 0.5.1 requires scipy>=1.11.1, but you have scipy 1.10.1 which is incompatible.\n",
            "treescope 0.1.9 requires numpy>=1.25.2, but you have numpy 1.24.3 which is incompatible.\n",
            "albucore 0.0.23 requires numpy>=1.24.4, but you have numpy 1.24.3 which is incompatible.\n",
            "blosc2 3.2.0 requires numpy>=1.26, but you have numpy 1.24.3 which is incompatible.\n",
            "pymc 5.21.1 requires numpy>=1.25.0, but you have numpy 1.24.3 which is incompatible.\n",
            "scikit-image 0.25.2 requires scipy>=1.11.4, but you have scipy 1.10.1 which is incompatible.\n",
            "cvxpy 1.6.4 requires scipy>=1.11.0, but you have scipy 1.10.1 which is incompatible.\u001b[0m\u001b[31m\n",
            "\u001b[0mSuccessfully installed numpy-1.24.3\n"
          ]
        },
        {
          "output_type": "display_data",
          "data": {
            "application/vnd.colab-display-data+json": {
              "pip_warning": {
                "packages": [
                  "numpy"
                ]
              },
              "id": "de06dc0050234165b3b9cf3a80d48a6d"
            }
          },
          "metadata": {}
        },
        {
          "output_type": "stream",
          "name": "stdout",
          "text": [
            "Requirement already satisfied: pandas in /usr/local/lib/python3.11/dist-packages (2.2.3)\n",
            "Requirement already satisfied: numpy>=1.23.2 in /usr/local/lib/python3.11/dist-packages (from pandas) (1.24.3)\n",
            "Requirement already satisfied: python-dateutil>=2.8.2 in /usr/local/lib/python3.11/dist-packages (from pandas) (2.8.2)\n",
            "Requirement already satisfied: pytz>=2020.1 in /usr/local/lib/python3.11/dist-packages (from pandas) (2025.1)\n",
            "Requirement already satisfied: tzdata>=2022.7 in /usr/local/lib/python3.11/dist-packages (from pandas) (2025.1)\n",
            "Requirement already satisfied: six>=1.5 in /usr/local/lib/python3.11/dist-packages (from python-dateutil>=2.8.2->pandas) (1.17.0)\n",
            "Traceback (most recent call last):\n",
            "  File \"/usr/local/lib/python3.11/dist-packages/pip/_internal/cli/base_command.py\", line 179, in exc_logging_wrapper\n",
            "    status = run_func(*args)\n",
            "             ^^^^^^^^^^^^^^^\n",
            "  File \"/usr/local/lib/python3.11/dist-packages/pip/_internal/cli/req_command.py\", line 67, in wrapper\n",
            "    return func(self, options, args)\n",
            "           ^^^^^^^^^^^^^^^^^^^^^^^^^\n",
            "  File \"/usr/local/lib/python3.11/dist-packages/pip/_internal/commands/install.py\", line 324, in run\n",
            "    session = self.get_default_session(options)\n",
            "              ^^^^^^^^^^^^^^^^^^^^^^^^^^^^^^^^^\n",
            "  File \"/usr/local/lib/python3.11/dist-packages/pip/_internal/cli/index_command.py\", line 71, in get_default_session\n",
            "    self._session = self.enter_context(self._build_session(options))\n",
            "                                       ^^^^^^^^^^^^^^^^^^^^^^^^^^^^\n",
            "  File \"/usr/local/lib/python3.11/dist-packages/pip/_internal/cli/index_command.py\", line 100, in _build_session\n",
            "    session = PipSession(\n",
            "              ^^^^^^^^^^^\n",
            "  File \"/usr/local/lib/python3.11/dist-packages/pip/_internal/network/session.py\", line 344, in __init__\n",
            "    self.headers[\"User-Agent\"] = user_agent()\n",
            "^C\n",
            "^C\n",
            "^C\n",
            "^C\n"
          ]
        }
      ]
    },
    {
      "cell_type": "code",
      "source": [
        "# Import all necessary libraries\n",
        "import os\n",
        "import numpy as np\n",
        "import pandas as pd\n",
        "import nltk\n",
        "import random\n",
        "import re\n",
        "import requests\n",
        "from bs4 import BeautifulSoup\n",
        "import snowflake.connector\n",
        "\n",
        "# Download NLTK resources\n",
        "nltk.download('wordnet')\n",
        "nltk.download('stopwords')\n",
        "nltk.download('punkt')\n",
        "\n",
        "# NLTK imports\n",
        "from nltk.tokenize import RegexpTokenizer, sent_tokenize\n",
        "from nltk.stem import WordNetLemmatizer\n",
        "from nltk.corpus import wordnet, stopwords\n",
        "\n",
        "# Gensim imports\n",
        "from gensim import corpora\n",
        "from gensim.corpora import Dictionary\n",
        "from gensim.models import LdaModel\n",
        "from gensim.utils import simple_preprocess\n",
        "from gensim.parsing.preprocessing import STOPWORDS\n",
        "\n",
        "# PyLDAvis\n",
        "import pyLDAvis\n",
        "import pyLDAvis.gensim_models as gensimvis\n",
        "\n",
        "# Sumy libraries\n",
        "from sumy.parsers.plaintext import PlaintextParser\n",
        "from sumy.summarizers.lex_rank import LexRankSummarizer\n",
        "from sumy.nlp.tokenizers import Tokenizer\n",
        "\n",
        "print(\"All imports successful!\")"
      ],
      "metadata": {
        "colab": {
          "base_uri": "https://localhost:8080/"
        },
        "id": "ETVa-_x7Ns3X",
        "outputId": "242ab52c-8a9e-44a3-dca8-e09bfe763b85"
      },
      "execution_count": 1,
      "outputs": [
        {
          "output_type": "stream",
          "name": "stderr",
          "text": [
            "[nltk_data] Downloading package wordnet to /root/nltk_data...\n",
            "[nltk_data]   Package wordnet is already up-to-date!\n",
            "[nltk_data] Downloading package stopwords to /root/nltk_data...\n",
            "[nltk_data]   Package stopwords is already up-to-date!\n",
            "[nltk_data] Downloading package punkt to /root/nltk_data...\n",
            "[nltk_data]   Package punkt is already up-to-date!\n"
          ]
        },
        {
          "output_type": "stream",
          "name": "stdout",
          "text": [
            "All imports successful!\n"
          ]
        }
      ]
    },
    {
      "cell_type": "markdown",
      "metadata": {
        "id": "IOLSOSB0il9i"
      },
      "source": [
        "# Corpus\n",
        "\n",
        "The corpus used was assembled using Beautiful Soup to scrape a pubic forum specific to the BMW E9 (www.e9coupe.com). The data was compiled and stored in a Snowflake database for multiple NLP projects, including LDA, RAG, GRU and LSTM. Furture ideas include supplementing the forum text with an existing users guide specific to this model."
      ]
    },
    {
      "cell_type": "markdown",
      "source": [
        "## Load data"
      ],
      "metadata": {
        "id": "yZQBtSkZ4J4H"
      }
    },
    {
      "cell_type": "code",
      "source": [
        "# Data is stored in Snowflake\n",
        "\n",
        "# Main sequence\n",
        "path_to_credentials = '/content/drive/MyDrive/Colab Notebooks/credentials/snowflake_credentials.txt'\n",
        "\n",
        "\n",
        "\n",
        "def load_credentials(path_to_credentials):\n",
        "    with open(path_to_credentials, 'r') as file:\n",
        "        for line_num, line in enumerate(file, start=1):\n",
        "            line = line.strip()\n",
        "            if line and '=' in line:\n",
        "                key, value = line.split('=')\n",
        "                os.environ[key] = value\n",
        "            else:\n",
        "                print(f\"Issue with line {line_num} in {path_to_credentials}: '{line}'\")\n",
        "\n",
        "def fetch_data_from_snowflake():\n",
        "    conn = snowflake.connector.connect(\n",
        "        user=os.environ.get('USER'),\n",
        "        password=os.environ.get('PASSWORD'),\n",
        "        account=os.environ.get('ACCOUNT'),\n",
        "    )\n",
        "\n",
        "    cur = conn.cursor()\n",
        "\n",
        "    query = \"\"\"\n",
        "    SELECT THREAD_TITLE, THREAD_FIRST_POST FROM \"E9_CORPUS\".\"E9_CORPUS_SCHEMA\".\"E9_FORUM_CORPUS\";\n",
        "    \"\"\"\n",
        "    cur.execute(query)\n",
        "    e9_forum_corpus = cur.fetch_pandas_all()\n",
        "\n",
        "    cur.close()\n",
        "    conn.close()\n",
        "\n",
        "    return e9_forum_corpus\n",
        "\n",
        "\n",
        "\n",
        "\n",
        "# Load credentials\n",
        "# load_credentials(path_to_credentials)\n",
        "\n",
        "# Fetch data from Snowflake\n",
        "# df_raw = fetch_data_from_snowflake()\n",
        "\n",
        "# df_tensorboard = df_raw.copy()\n",
        "\n",
        "# df_tensorboard.to_csv('/content/drive/MyDrive/Colab Notebooks/NLP/NLP_with_Tensorboard/df_tensorboard.csv', index=False)\n"
      ],
      "metadata": {
        "id": "-D7Xc9453TFD"
      },
      "execution_count": 2,
      "outputs": []
    },
    {
      "cell_type": "code",
      "execution_count": 3,
      "metadata": {
        "id": "LTKkPGoBkxvJ"
      },
      "outputs": [],
      "source": [
        "#Process data for LDA\n",
        "\n",
        "def load_credentials(path_to_credentials):\n",
        "    with open(path_to_credentials, 'r') as file:\n",
        "        for line_num, line in enumerate(file, start=1):\n",
        "            line = line.strip()\n",
        "            if line and '=' in line:\n",
        "                key, value = line.split('=')\n",
        "                os.environ[key] = value\n",
        "            else:\n",
        "                print(f\"Issue with line {line_num} in {path_to_credentials}: '{line}'\")\n",
        "\n",
        "\n",
        "def fetch_data_from_snowflake():\n",
        "    conn = snowflake.connector.connect(\n",
        "        user=os.environ.get('USER'),\n",
        "        password=os.environ.get('PASSWORD'),\n",
        "        account=os.environ.get('ACCOUNT'),\n",
        "    )\n",
        "\n",
        "    cur = conn.cursor()\n",
        "\n",
        "    query = \"\"\"\n",
        "    SELECT THREAD_TITLE, THREAD_FIRST_POST FROM \"E9_CORPUS\".\"E9_CORPUS_SCHEMA\".\"E9_FORUM_CORPUS\";\n",
        "    \"\"\"\n",
        "    cur.execute(query)\n",
        "    e9_forum_corpus = cur.fetch_pandas_all()\n",
        "\n",
        "    cur.close()\n",
        "    conn.close()\n",
        "\n",
        "    return e9_forum_corpus\n",
        "\n",
        "# Create a longer form \"TITLE\" for potential use as a QUESTION\n",
        "def engineer_data(e9_forum_corpus):\n",
        "    e9_forum_corpus['THREAD_TITLE_EXP'] = e9_forum_corpus['THREAD_TITLE'] + \" \" + e9_forum_corpus['THREAD_FIRST_POST']\n",
        "    return e9_forum_corpus\n",
        "\n",
        "# Drop NA and Stopwords and Lemmatize\n",
        "def preprocess_data(df):\n",
        "    #df = df[['THREAD_TITLE_EXP']].copy()\n",
        "    df = df[['THREAD_TITLE']].copy()\n",
        "    df.dropna(inplace=True)\n",
        "    df['THREAD_TITLE'] = df['THREAD_TITLE'].astype(str)\n",
        "\n",
        "    #df['THREAD_TITLE_EXP'] = df['THREAD_TITLE_EXP'].astype(str)\n",
        "\n",
        "    lemmatizer = WordNetLemmatizer()\n",
        "    stop_words = set(stopwords.words('english')).union({'car', 'csi', 'cs', 'csl', 'e9', 'coupe', 'http', 'https', 'www', 'ebay', 'bmw', 'html'})\n",
        "\n",
        "    # Remove URLs\n",
        "    def remove_urls(text):\n",
        "        url_pattern = re.compile(r'https?://\\S+|www\\.\\S+')\n",
        "        return url_pattern.sub(r'', text)\n",
        "\n",
        "    # Function to preprocess text\n",
        "    def preprocess(text):\n",
        "        text = remove_urls(text)\n",
        "        return [lemmatizer.lemmatize(word) for word in text.lower().split() if word not in stop_words]\n",
        "\n",
        "    #df['PROCESSED'] = df['THREAD_TITLE_EXP'].map(preprocess)\n",
        "    df['PROCESSED'] = df['THREAD_TITLE'].map(preprocess)\n",
        "\n",
        "    return df\n",
        "\n",
        "def vectorize_data(df):\n",
        "    dictionary = Dictionary(df['PROCESSED'])\n",
        "    corpus = [dictionary.doc2bow(doc) for doc in df['PROCESSED']]\n",
        "    return df, dictionary, corpus\n",
        "\n",
        "def train_lda_model(corpus, dictionary, num_topics=10, random_state=42, passes=10):\n",
        "    lda = LdaModel(corpus=corpus, id2word=dictionary, num_topics=num_topics, random_state=random_state, passes=passes)\n",
        "    return lda\n",
        "\n",
        "def review_topics(lda):\n",
        "    for idx, topic in lda.print_topics(-1):\n",
        "        print(f\"Topic: {idx} \\nWords: {topic}\\n\")\n",
        "\n",
        "def assign_topics(lda, corpus, df):\n",
        "    topics = [lda[doc] for doc in corpus]\n",
        "    df['TOPICS'] = [[(int(topic[0]), float(topic[1])) for topic in doc] for doc in topics]  # Ensure topics are JSON serializable\n",
        "    return df\n",
        "\n",
        "def prepare_visualization_data(lda, corpus, dictionary):\n",
        "    vis_data = gensimvis.prepare(lda, corpus, dictionary)\n",
        "    return vis_data\n",
        "\n",
        "def score_text_block(text, topic_words):\n",
        "    if isinstance(text, str):\n",
        "        return sum(1 for word in topic_words if word in text)\n",
        "    return 0\n",
        "\n",
        "def create_representative_sentence(lda, df, topic_id, top_n=20):\n",
        "    topic_words = [word for word, prob in lda.show_topic(topic_id, topn=top_n)]\n",
        "    #df['SCORE'] = df['THREAD_TITLE_EXP'].map(lambda x: score_text_block(x, topic_words))\n",
        "    #representative_sentence = df.loc[df['SCORE'].idxmax(), 'THREAD_TITLE_EXP']\n",
        "    df['SCORE'] = df['THREAD_TITLE'].map(lambda x: score_text_block(x, topic_words))\n",
        "    representative_sentence = df.loc[df['SCORE'].idxmax(), 'THREAD_TITLE']\n",
        "\n",
        "    return representative_sentence\n",
        "\n",
        "# New UDF to save the LDA model and dictionary\n",
        "def save_lda_model_and_dictionary(lda, dictionary, lda_model_path, dictionary_path):\n",
        "    lda.save(lda_model_path)  # Use gensim's save method for the LDA model\n",
        "    dictionary.save(dictionary_path)  # Use gensim's save method for the dictionary\n",
        "    print(f\"LDA model saved to {lda_model_path}\")\n",
        "    print(f\"Dictionary saved to {dictionary_path}\")\n"
      ]
    },
    {
      "cell_type": "code",
      "source": [
        "# Generate LDA\n",
        "\n",
        "# Main sequence\n",
        "path_to_credentials = '/content/drive/MyDrive/Colab Notebooks/credentials/snowflake_credentials.txt'\n",
        "\n",
        "lda_model_path = '/content/drive/Othercomputers/My Mac/Git Portfolio/Language_Models/lda_model'\n",
        "dictionary_path = '/content/drive/Othercomputers/My Mac/Git Portfolio/Language_Models/lda_dictionary'\n",
        "\n",
        "# Load credentials\n",
        "load_credentials(path_to_credentials)\n",
        "\n",
        "# Fetch data from Snowflake\n",
        "e9_forum_corpus = fetch_data_from_snowflake()\n",
        "\n",
        "# Engineer the data\n",
        "e9_forum_corpus = engineer_data(e9_forum_corpus)\n",
        "\n",
        "# Preprocess the data\n",
        "df = preprocess_data(e9_forum_corpus)\n",
        "\n",
        "# Vectorize the data\n",
        "df, dictionary, corpus = vectorize_data(df)\n",
        "\n",
        "# Train the LDA Model\n",
        "lda = train_lda_model(corpus, dictionary)\n",
        "\n",
        "# Save the LDA model and dictionary\n",
        "save_lda_model_and_dictionary(lda, dictionary, lda_model_path, dictionary_path)\n",
        "\n",
        "# Review the Topics\n",
        "review_topics(lda)\n",
        "\n",
        "# Function to assign topics to documents\n",
        "def assign_topics(lda, corpus, df):\n",
        "    topic_assignments = []\n",
        "    for i, row in enumerate(lda[corpus]):\n",
        "        row = sorted(row, key=lambda x: (x[1]), reverse=True)\n",
        "        topic_assignments.append(row[0][0])\n",
        "    df['Topic'] = topic_assignments\n",
        "    return df\n",
        "\n",
        "# Assign Documents to Topics\n",
        "df = assign_topics(lda, corpus, df)\n",
        "\n",
        "# Prepare the visualization data\n",
        "vis_data = prepare_visualization_data(lda, corpus, dictionary)\n",
        "\n",
        "# Visualize\n",
        "pyLDAvis.display(vis_data)\n"
      ],
      "metadata": {
        "id": "Tl-4RJD_xyQt",
        "colab": {
          "base_uri": "https://localhost:8080/",
          "height": 1000
        },
        "outputId": "14f37ea3-fb82-4f0b-e0f5-6070af8f8fe7"
      },
      "execution_count": 4,
      "outputs": [
        {
          "output_type": "stream",
          "name": "stdout",
          "text": [
            "LDA model saved to /content/drive/Othercomputers/My Mac/Git Portfolio/Language_Models/lda_model\n",
            "Dictionary saved to /content/drive/Othercomputers/My Mac/Git Portfolio/Language_Models/lda_dictionary\n",
            "Topic: 0 \n",
            "Words: 0.043*\"dob\" + 0.029*\"pictures:\" + 0.029*\"question\" + 0.029*\"link\" + 0.015*\"seat\" + 0.015*\"looking\" + 0.015*\"company\" + 0.015*\"posted\" + 0.015*\"making\" + 0.015*\"italian\"\n",
            "\n",
            "Topic: 1 \n",
            "Words: 0.021*\"question\" + 0.021*\"front\" + 0.021*\"2800\" + 0.021*\"brake\" + 0.021*\"end\" + 0.021*\"diego\" + 0.021*\"contest\" + 0.021*\"san\" + 0.021*\"clean\" + 0.021*\"sale:\"\n",
            "\n",
            "Topic: 2 \n",
            "Words: 0.032*\"old\" + 0.032*\"dear\" + 0.032*\"bucket\" + 0.017*\"need\" + 0.017*\"nice\" + 0.017*\"ratio\" + 0.017*\"box\" + 0.017*\"close\" + 0.017*\"gear\" + 0.017*\"opinion\"\n",
            "\n",
            "Topic: 3 \n",
            "Words: 0.028*\"back\" + 0.028*\"good\" + 0.014*\"swap\" + 0.014*\"welcome\" + 0.014*\"interior\" + 0.014*\"bmwcca\" + 0.014*\"local\" + 0.014*\",\" + 0.014*\"2002\" + 0.014*\"thanks\"\n",
            "\n",
            "Topic: 4 \n",
            "Words: 0.054*\"series\" + 0.054*\"6\" + 0.036*\"available\" + 0.036*\"new\" + 0.036*\"now.\" + 0.036*\"type\" + 0.036*\"airdam\" + 0.019*\"seats,\" + 0.019*\"fit\" + 0.019*\"e24\"\n",
            "\n",
            "Topic: 5 \n",
            "Words: 0.032*\"-\" + 0.019*\"lsd\" + 0.017*\"sale\" + 0.017*\"getting\" + 0.017*\"engine\" + 0.017*\"may\" + 0.017*\"closer!!!!!\" + 0.017*\"27th,\" + 0.017*\"vintage\" + 0.017*\"nc\"\n",
            "\n",
            "Topic: 6 \n",
            "Words: 0.052*\"1973\" + 0.052*\"sale\" + 0.027*\"part\" + 0.027*\"color?\" + 0.027*\"<picture\" + 0.027*\"up>\" + 0.027*\"factory\" + 0.027*\"joint\" + 0.027*\"paint\" + 0.027*\"regulations.\"\n",
            "\n",
            "Topic: 7 \n",
            "Words: 0.033*\"tire\" + 0.017*\"window\" + 0.017*\"engine\" + 0.017*\"area\" + 0.017*\"love\" + 0.017*\"learned\" + 0.017*\"lojack\" + 0.017*\"or:\" + 0.017*\"antitheft\" + 0.017*\"worrying\"\n",
            "\n",
            "Topic: 8 \n",
            "Words: 0.021*\"available\" + 0.021*\"new\" + 0.020*\"picture\" + 0.020*\"running\" + 0.020*\"brand\" + 0.020*\"mike\" + 0.020*\"slighty\" + 0.020*\"next\" + 0.020*\"tony,\" + 0.020*\"inport?\"\n",
            "\n",
            "Topic: 9 \n",
            "Words: 0.027*\"noise\" + 0.027*\"wheel\" + 0.027*\"question\" + 0.027*\"badge\" + 0.027*\"(again)\" + 0.027*\"bilstein\" + 0.027*\"clunking\" + 0.027*\"front\" + 0.027*\"16\"\" + 0.027*\"suspension\"\n",
            "\n"
          ]
        },
        {
          "output_type": "execute_result",
          "data": {
            "text/plain": [
              "<IPython.core.display.HTML object>"
            ],
            "text/html": [
              "\n",
              "<link rel=\"stylesheet\" type=\"text/css\" href=\"https://cdn.jsdelivr.net/gh/bmabey/pyLDAvis@3.4.0/pyLDAvis/js/ldavis.v1.0.0.css\">\n",
              "\n",
              "\n",
              "<div id=\"ldavis_el4327134718773344208602773160\" style=\"background-color:white;\"></div>\n",
              "<script type=\"text/javascript\">\n",
              "\n",
              "var ldavis_el4327134718773344208602773160_data = {\"mdsDat\": {\"x\": [-0.15621349974346174, 0.01609005145615353, 0.044101307584837934, -0.03857700839181053, 0.07465666235115817, 0.09101799690467784, 0.0547978933378672, -0.06766289507863917, -0.023106036282227953, 0.004895527861444773], \"y\": [-0.030613207157308378, 0.17466282453354764, 0.018633467024017247, -0.039561288353910595, 0.007805354005036312, -0.11261238546938944, -0.016170141851146822, -0.010252808517338693, 0.004312375187866682, 0.0037958105986258817], \"topics\": [1, 2, 3, 4, 5, 6, 7, 8, 9, 10], \"cluster\": [1, 1, 1, 1, 1, 1, 1, 1, 1, 1], \"Freq\": [14.045522028322988, 13.97208287748427, 11.929188293030608, 11.666564508415869, 11.118953260704716, 9.828211869676558, 8.886646988298114, 8.103435727465977, 5.244885919067506, 5.204508527533398]}, \"tinfo\": {\"Term\": [\"sale\", \"1973\", \"series\", \"6\", \"question\", \"dob\", \"back\", \"available\", \"new\", \"front\", \"now.\", \"type\", \"airdam\", \"pictures:\", \"wheel\", \"part\", \"link\", \"noise\", \"tire\", \"old\", \"dear\", \"bucket\", \"-\", \"brand\", \"color?\", \"<picture\", \"up>\", \"factory\", \"joint\", \"paint\", \"company\", \"posted\", \"italian\", \"making\", \"want\", \"more?\", \"anybody\", \"clip...\", \"wtb:\", \"cone\", \"boot\", \"sorts.\", \"nose\", \"rebuild\", \"manual\", \"antenna\", \"sparkplug\", \"switch\", \"craigslist\", \"owner\", \"-!!\", \"3.0\", \"seattle\", \"one\", \"!!\", \"rare\", \"(\", \"/\", \")\", \"pictures:\", \"dob\", \"link\", \"question\", \"seat\", \"looking\", \"-\", \"need\", \"front\", \"window\", \"good\", \"back\", \",\", \"bmwcca\", \"local\", \"2002\", \"thanks\", \"best\", \"meet\", \"dang\", \"ever....\", \"german\", \"bay\", \"logo\", \"tan\", \"rally!!\", \"valve\", \"alpine\", \"500\", \"breather\", \"buy?\", \"3.0csl\", \"complete\", \"order?\", \"master\", \"rusty\", \"flipping\", \"dob,\", \"heck!\", \"+\", \"swap\", \"welcome\", \"interior\", \"27th,\", \"nc\", \"may\", \"closer!!!!!\", \"vintage\", \"vineyard\", \"sale?\", \"know\", \"anyone\", \"block\", \"3.64\", \"heel/rubbing\", \"experience\", \"point\", \"melting\", \"windshield\", \"appraisal\", \"radio\", \"&\", \"uk\", \"3.5\", \"liter\", \"insurance\", \"console\", \"project\", \"update\", \"all!\", \"blast\", \"great!!\", \"e9's\", \"-\", \"lsd\", \"sale\", \"getting\", \"engine\", \"replacement\", \"old\", \"dear\", \"bucket\", \"opinion\", \"gear\", \"wanted:\", \"overdrive\", \"box?\", \"3200\", \"e-bay\", \"tool\", \"(link)\", \"1964\", \"spotted\", \"bumper\", \"black\", \"santa\", \"cruz\", \"5\", \"tranny\", \"speed\", \"issue\", \"engine/transmission\", \"zenith\", \"alive!\", \"ratio\", \"close\", \"2800\", \"running\", \"box\", \"need\", \"nice\", \"picture\", \"tire\", \"love\", \"lojack\", \"worrying\", \"or:\", \"antitheft\", \"learned\", \"dc\", \"attention\", \"stop\", \"weekend\", \"owners:\", \"event\", \"trim\", \"top\", \"glue\", \"fuse\", \"info\", \"find\", \"14\\\"\", \"someone\", \"choices...hhmmmm\", \"stole\", \"gathering\", \"motor!\", \"trying\", \"re-location\", \"original\", \"disturbing\", \"key\", \"window\", \"engine\", \"area\", \"option\", \"series\", \"6\", \"now.\", \"type\", \"airdam\", \"seats,\", \"e24\", \"fit\", \"possible\", \"them?\", \"ac\", \"housing\", \"fan\", \"photo?\", \"635??\", \"post\", \"sorts?\", \"dagmars\", \"new\", \"available\", \"part\", \"seat\", \"lsd\", \"headlight\", \"murray!!\", \"\\\"hiccups\\\"\", \"glad\", \"suspension\", \"16\\\"\", \"bilstein\", \"sale\", \"back\", \"question\", \"help!!\", \"wheel\", \"mike\", \"tony,\", \"next\", \"slighty\", \"beige\", \"inport?\", \"kit\", \"carpet\", \"topic,\", \"weber\", \"pan\", \"floor\", \"speaker\", \"rich\", \"grille?\", \"battery\", \"location?\", \"re-do\", \"brand\", \"option\", \"running\", \"replacement\", \"interior\", \"available\", \"new\", \"picture\", \"link\", \"engine\", \"headlight\", \"\\\"hiccups\\\"\", \"e9's\", \"great!!\", \"type\", \"airdam\", \"6\", \"end\", \"diego\", \"clean\", \"contest\", \"san\", \"european\", \"sale:\", \"1970\", \"hatch\", \"wtc\", \"squeal\", \"coil-overs\", \"germany\", \"installing\", \"body\", \"74\", \"brand\", \"2800\", \"close\", \"ratio\", \"brake\", \"front\", \"pictures:\", \"sale\", \"question\", \"dob\", \"headlight\", \"murray!!\", \"\\\"hiccups\\\"\", \"glad\", \")\", \"(\", \"steering\", \"link\", \"badge\", \"(again)\", \"bilstein\", \"clunking\", \"16\\\"\", \"suspension\", \"glad\", \"\\\"hiccups\\\"\", \"murray!!\", \"headlight\", \"noise\", \"front\", \"back\", \"wheel\", \"question\", \"wanted\", \"cv\", \"regulations.\", \"paint\", \"joint\", \"factory\", \"up>\", \"<picture\", \"color?\", \"installing\", \"body\", \"74\", \"germany\", \"squeal\", \"coil-overs\", \"dob\", \"offset\", \"help!!\", \"alive!\", \"engine\", \"1973\", \"sale\", \"tire\", \"lsd\", \"dagmars\", \"part\", \"brake\", \"-\", \"swap\", \"running\", \"color?\", \"<picture\", \"up>\", \"factory\", \"joint\", \"paint\", \"wanted\", \"regulations.\", \"cv\", \"sale\", \"1973\", \"part\", \"headlight\", \"\\\"hiccups\\\"\", \"murray!!\", \"glad\", \"suspension\", \"16\\\"\", \"clunking\", \"(again)\", \"bilstein\", \"badge\", \"squeal\", \"installing\", \"body\", \"coil-overs\", \"74\", \"germany\", \"wtc\", \"hatch\", \"contest\", \"/\", \"rare\", \"!!\", \"one\", \"seattle\", \"3.0\", \"-!!\", \"owner\", \"craigslist\", \"help!!\", \"engine\", \"tire\", \"alive!\", \"lsd\", \"wheel\", \"dagmars\", \"offset\"], \"Freq\": [2.0, 2.0, 2.0, 2.0, 2.0, 3.0, 2.0, 2.0, 2.0, 2.0, 1.0, 1.0, 1.0, 2.0, 2.0, 1.0, 2.0, 1.0, 1.0, 1.0, 1.0, 1.0, 2.0, 1.0, 0.0, 0.0, 0.0, 0.0, 0.0, 0.0, 0.6989781043291552, 0.6989780179951344, 0.6989780179951344, 0.6989780179951344, 0.698977499991009, 0.6989773273229671, 0.6989772409889462, 0.6989771114879149, 0.6989768524858522, 0.6989768524858522, 0.6989768524858522, 0.6989768524858522, 0.6989768093188418, 0.6989767229848208, 0.6989759028116224, 0.6989757301435805, 0.698974132964194, 0.6989736149600686, 0.697189910921314, 0.6969259878194302, 0.6968916700461234, 0.6968613236377779, 0.6967840546890746, 0.6967067857403711, 0.6965356717109522, 0.6965139155376859, 0.6967028143754099, 0.6964420424652887, 0.6963169444690082, 1.3344253336983436, 1.9699016576325745, 1.331971979826497, 1.3323248269699055, 0.6989836728735032, 0.6989813418549389, 0.6989718019456297, 0.6989716292775879, 0.6989703774342849, 0.6989654995621042, 1.2740392381567018, 1.274043016991556, 0.6673491917374795, 0.6673491917374795, 0.6673491917374795, 0.6673491917374795, 0.6673491487961744, 0.667349062913564, 0.667349062913564, 0.6673489770309536, 0.6673489770309536, 0.6673488482070382, 0.6673489340896486, 0.6673489340896486, 0.6673487623244279, 0.6673487623244279, 0.6673486335005124, 0.6673486335005124, 0.6673485476179021, 0.6673485476179021, 0.6673485476179021, 0.6673484187939867, 0.6673483329113763, 0.6673483329113763, 0.6673478176157144, 0.6673478176157144, 0.6673477746744092, 0.6673476887917988, 0.6673476887917988, 0.6673476887917988, 0.6673544305767092, 0.6673542588114885, 0.6673497929157517, 0.6544372615080044, 0.6544372615080044, 0.6544372615080044, 0.6544372615080044, 0.6544372615080044, 0.654437188182514, 0.6544367482295712, 0.6544366749040808, 0.6544366015785903, 0.6544364549276094, 0.6544364549276094, 0.6544363082766286, 0.6544363082766286, 0.6544362349511381, 0.6544362349511381, 0.6544362349511381, 0.654435575021724, 0.654435575021724, 0.6544355016962335, 0.6544355016962335, 0.6544355016962335, 0.6544354283707431, 0.6544353550452526, 0.6544352817197622, 0.6544336685589722, 0.6544336685589722, 0.6544333752570104, 0.652253041798419, 0.6521514126686525, 0.652055796229103, 1.2473506236012444, 0.7527561853335638, 0.6596826737929815, 0.6544455472884255, 0.6544377747864376, 0.6544358683236858, 1.2248288115211634, 1.2248285246763106, 1.224828237831458, 0.6415732606983621, 0.6415732606983621, 0.6415731889871489, 0.6415731172759358, 0.6415730455647226, 0.64157275871987, 0.64157275871987, 0.6415726870086568, 0.6415726152974437, 0.6415725435862305, 0.641572328452591, 0.6415724001638042, 0.6415722567413779, 0.6415721133189516, 0.6415721133189516, 0.6415715396292463, 0.6415713244956068, 0.6415713244956068, 0.6415698185601305, 0.6415696751377042, 0.6415696751377042, 0.6415627908612411, 0.6415751969011173, 0.6415751251899041, 0.6415716830516727, 0.641562288882749, 0.6415751251899041, 0.6415763442805278, 0.6415756271683962, 0.6415701054049832, 1.1990655990317747, 0.6307383271065199, 0.6307382587613248, 0.6307382587613248, 0.6307382587613248, 0.6307382587613248, 0.6307382587613248, 0.6307381220709346, 0.6307380537257395, 0.6307380537257395, 0.6307379853805445, 0.6307379853805445, 0.6307378486901543, 0.6307373019285936, 0.6307373019285936, 0.6307372335833985, 0.6307367551670329, 0.6307367551670329, 0.6307366868218377, 0.6307365501314476, 0.6307365501314476, 0.6307365501314476, 0.6307365501314476, 0.6307365501314476, 0.6307364817862524, 0.6307364817862524, 0.6307364134410574, 0.6307350465371556, 0.6307349781919604, 0.6307349098467654, 0.6307450932808338, 0.6307404458075677, 0.6307398307008119, 0.6307377803449592, 1.7353463217123752, 1.7353459592442317, 1.17395239889474, 1.1739522780720255, 1.1739521572493112, 0.6175262228060582, 0.6175261623947009, 0.6175261623947009, 0.6175261019833437, 0.6175259811606292, 0.6175248333448415, 0.617524712522127, 0.6175243500539835, 0.6175233230609104, 0.6175232626495532, 0.6175230814154814, 0.6175229605927669, 0.6175178256274011, 1.1739562652216038, 1.1739562652216038, 0.6175158320526121, 0.6175180068614728, 0.5247411441500788, 0.056139613538359424, 0.056139594659810284, 0.056139545575582525, 0.05613947006138597, 0.056139458734256485, 0.05613945495854666, 0.05613944363141717, 0.05613970415539529, 0.05613962108977908, 0.05613959843552011, 0.056139594659810284, 0.056139587108390634, 0.5965281973961276, 0.5965281427723147, 0.5965281427723147, 0.5965281427723147, 0.5965279789008762, 0.5965279789008762, 0.5965279789008762, 0.5965279242770632, 0.5965277604056247, 0.5965268318008061, 0.5965267771769932, 0.5965267771769932, 0.5965266679293675, 0.5965265586817418, 0.5965265586817418, 0.5965254115816717, 0.596525302334046, 0.5965251384626075, 0.596530764715332, 0.5965243737292274, 0.5965335505297878, 0.5965271049198704, 0.5965245922244788, 0.6013239496699907, 0.601323840422365, 0.5965360086013666, 0.5965185836050642, 0.5965251384626075, 0.05423061699915453, 0.054230586273259794, 0.05639962277419067, 0.05631261045429288, 0.05902989250894711, 0.05902987202501729, 0.05902987202501729, 0.56544135693827, 0.5654413071286447, 0.5654412573190194, 0.5654412573190194, 0.5654412573190194, 0.5654412075093941, 0.5654412075093941, 0.5654411576997688, 0.5654407094131411, 0.5654405101746398, 0.5654394641725085, 0.5654394143628831, 0.5654394143628831, 0.5654393147436325, 0.5654393147436325, 0.5654391653147567, 0.5654378204548735, 0.565442004463399, 0.5654389660762554, 0.5654389660762554, 0.565441506367146, 0.5654461386622993, 0.5654384181703771, 0.5654152566946105, 0.5671333401002395, 0.5654389660762554, 0.051404545072287165, 0.051404545072287165, 0.0514044703578492, 0.05140442988752865, 0.053556386260575996, 0.05324429782702731, 0.05323638432280706, 0.053394828740900756, 0.46436128640261154, 0.4643612219248243, 0.46436112520814343, 0.464360996252569, 0.4643604159524838, 0.4643603837135901, 0.464360222519122, 0.46435722430201515, 0.46435715982422787, 0.4643568696741853, 0.4643702488150386, 0.4643607705803136, 0.46435777236320674, 0.4643678308980169, 0.46436396223078225, 0.04221515074620558, 0.04221515074620558, 0.04221514671634388, 0.04221513865662047, 0.04221513865662047, 0.04221511447745026, 0.04221510641772685, 0.04221510641772685, 0.04221510238786515, 0.04221516283579069, 0.042215154776067285, 0.04221515074620558, 0.042215142686482174, 0.04221513865662047, 0.04221513462675877, 0.04221526358233326, 0.04221526358233326, 0.04221525552260985, 0.04221525149274815, 0.04221525149274815, 0.04221525149274815, 0.04221524343302475, 0.04221523134343964, 0.04221523134343964, 0.042215227313577935, 0.04221521119413112, 0.04221519910454601, 0.04221519104482261, 0.0422151789552375, 0.0422151749253758, 0.4720898048266144, 0.4720898048266144, 0.4720897088545002, 0.4720896768637955, 0.47208865316124415, 0.47208858917983465, 0.4720884932077205, 0.4720884932077205, 0.47208823728208266, 0.8975004368288015, 0.8994203909638385, 0.4720941555624576, 0.042917809732140134, 0.042917757747244954, 0.042917757747244954, 0.04291772575654022, 0.04291770576234977, 0.04291770176351167, 0.042917697764673586, 0.042917689766997405, 0.04291768176932122, 0.04291767777048313, 0.04291771376002595, 0.04291770976118786, 0.04291770976118786, 0.04291770176351167, 0.042917697764673586, 0.04291769376583549, 0.042917697764673586, 0.04291766977280695, 0.04291767777048313, 0.044630400119121366, 0.044581802239799385, 0.04456715449587143, 0.04445163206225564, 0.044399415234461156, 0.04434731437297131, 0.044326764344020796, 0.04430355508773965, 0.04412541884729233, 0.042917857718197235, 0.04291785371935914, 0.04291784972052105, 0.042917809732140134, 0.042917797735625866, 0.04291779373678777, 0.04291778573911159, 0.04291778573911159], \"Total\": [2.0, 2.0, 2.0, 2.0, 2.0, 3.0, 2.0, 2.0, 2.0, 2.0, 1.0, 1.0, 1.0, 2.0, 2.0, 1.0, 2.0, 1.0, 1.0, 1.0, 1.0, 1.0, 2.0, 1.0, 0.0, 0.0, 0.0, 0.0, 0.0, 0.0, 1.1817154054266985, 1.181715310118527, 1.181715317754876, 1.1817153505434719, 1.1817148562160689, 1.1817147397452301, 1.1817146832192154, 1.1817144858845756, 1.1817142914978858, 1.1817143086596615, 1.1817143141821227, 1.1817143211061223, 1.1817142843229367, 1.1817142433147079, 1.1817134869839616, 1.1817133953635535, 1.1817118229028343, 1.1817115913422866, 1.181134946027272, 1.181049184758679, 1.1810380685149608, 1.1810282514899089, 1.1810030954315918, 1.1809780432774322, 1.1809224428391425, 1.1809153664569711, 1.1812801343414272, 1.1808920719563403, 1.1812063133642239, 2.3311973511386714, 3.5733213254538687, 2.3589883391685147, 2.7529410737674835, 1.7431003385554913, 1.776656285698589, 2.978105610713342, 1.7649602426816582, 2.117896029624588, 1.7551079985731548, 1.7596525487150083, 2.1817996664971706, 1.152961844884571, 1.1529618597027267, 1.1529618695922548, 1.1529618742237677, 1.1529618337961123, 1.1529617857689358, 1.152961789993737, 1.1529617209396683, 1.1529617250553594, 1.1529615294499551, 1.1529617160755354, 1.1529617271317154, 1.1529614586234442, 1.1529614624486775, 1.1529613515353667, 1.1529613725100256, 1.152961320704769, 1.1529613338092848, 1.152961337501642, 1.1529612576365587, 1.15296120437766, 1.1529612216747913, 1.1529606201277898, 1.1529606302372148, 1.152960644411616, 1.1529605505101357, 1.1529605689301323, 1.1529605737080044, 1.7362067897251798, 1.7479012990310543, 1.6952572099409116, 1.1412238538075057, 1.141223856106884, 1.141223861192182, 1.1412238780009352, 1.1412238781181334, 1.1412238381621742, 1.1412234337028724, 1.1412233907527383, 1.1412233481638727, 1.141223136522036, 1.141223227562541, 1.1412230468523663, 1.1412230640680263, 1.141222984425989, 1.1412230333698432, 1.1412230340660763, 1.141222329708177, 1.1412224021031048, 1.1412223277975801, 1.1412223492658988, 1.1412223547326055, 1.1412222907812517, 1.1412222717391125, 1.141222263566593, 1.141220765988932, 1.1412207874527645, 1.1412206581558797, 1.1410293165265533, 1.1410203703133834, 1.1410118393857593, 2.978105610713342, 1.7081460397165669, 2.5150649557355464, 1.7244687372943202, 2.863592907446908, 1.6835197197551055, 1.7127854048886852, 1.712785181150194, 1.7127850611896305, 1.1295293155535275, 1.129529356410726, 1.129529292954946, 1.1295292413110365, 1.129529182399128, 1.129528889487457, 1.129528907356382, 1.129528868232857, 1.12952881115957, 1.1295287470175486, 1.1295285294650927, 1.1295286614768205, 1.1295284809372585, 1.1295283842431294, 1.129528397369353, 1.1295278010902055, 1.129527723070356, 1.1295277511539463, 1.129526320040765, 1.1295262608016308, 1.1295263166830871, 1.129520570881144, 1.6435662790612438, 1.643566189393619, 1.643565861322747, 1.6718224179389576, 1.7029253631236667, 1.7649602426816582, 1.724469556237556, 2.278505264220051, 1.6931687342672588, 1.1196794093734312, 1.1196793656712514, 1.119679381113531, 1.1196793834273295, 1.119679388763993, 1.1196793959069566, 1.1196792398481277, 1.1196791929968835, 1.1196792339216115, 1.1196791578720562, 1.119679166474977, 1.1196790533553973, 1.119678565112134, 1.1196785968160177, 1.1196785225330284, 1.1196780545559815, 1.1196780596579605, 1.1196780010485408, 1.11967791599851, 1.1196779189701986, 1.1196779200378837, 1.1196779262831942, 1.1196779505110481, 1.11967789489405, 1.1196779505330463, 1.1196778489299817, 1.1196766262171247, 1.119676558991392, 1.11967654115581, 1.7551079985731548, 2.863592907446908, 1.726359226600756, 1.6619736569870096, 2.2302880635408178, 2.230287975518328, 1.6688941492592317, 1.668894165336301, 1.6688940813008286, 1.1076685032207407, 1.1076684557519947, 1.107668490086715, 1.1076684475006529, 1.1076683712025333, 1.1076672887860703, 1.1076672620167494, 1.107667124563824, 1.1076660255622015, 1.107666014308702, 1.1076659243027502, 1.107665934552577, 1.107661376832991, 2.211192337008459, 2.211192428996018, 1.5368357072010363, 1.7431003385554913, 1.7081460397165669, 0.9684251532901499, 0.968425161924762, 0.968425111783283, 0.9684274334323453, 0.9684274876381418, 0.9684274478057755, 0.9684280278892651, 2.5150649557355464, 2.1817996664971706, 2.7529410737674835, 1.1196710957723341, 2.1866840070052085, 1.0885794339001849, 1.0885794074682047, 1.0885794222895055, 1.0885794399653632, 1.0885792439263733, 1.0885792778282597, 1.0885792810790356, 1.0885792471134816, 1.08857917174755, 1.0885782971650204, 1.0885782578447427, 1.0885782813488893, 1.0885782361685434, 1.088578172140933, 1.088578199925528, 1.0885771630623844, 1.088577173794224, 1.0885769887732477, 1.602616027796305, 1.6619736569870096, 1.6718224179389576, 1.6835197197551055, 1.6952572099409116, 2.211192428996018, 2.211192337008459, 2.278505264220051, 2.3589883391685147, 2.863592907446908, 0.9684251532901499, 0.968425111783283, 1.1410118393857593, 1.1410203703133834, 1.668894165336301, 1.6688940813008286, 2.230287975518328, 1.0603187656656825, 1.0603187323933057, 1.0603187366058537, 1.0603187385817656, 1.0603187393501983, 1.0603186951017904, 1.0603187150708338, 1.0603186799495308, 1.0603182565830707, 1.0603181670863489, 1.0603172635798597, 1.0603172137161043, 1.060317234943892, 1.0603172753627923, 1.0603172766871, 1.0603171769925757, 1.602616027796305, 1.643565861322747, 1.643566189393619, 1.6435662790612438, 1.6669956746315737, 2.117896029624588, 2.3311973511386714, 2.5150649557355464, 2.7529410737674835, 3.5733213254538687, 0.9684251532901499, 0.968425161924762, 0.968425111783283, 0.9684274334323453, 1.1812063133642239, 1.1812801343414272, 1.7645272872403766, 2.3589883391685147, 0.9684280818365294, 0.9684280701673242, 0.9684280278892651, 0.9684280208764634, 0.9684274478057755, 0.9684274876381418, 0.9684274334323453, 0.968425111783283, 0.968425161924762, 0.9684251532901499, 1.541819676311343, 2.117896029624588, 2.1817996664971706, 2.1866840070052085, 2.7529410737674835, 0.9754530146743786, 0.9754530523949354, 0.9754530517603911, 0.9754530633200447, 0.9754530783065333, 0.9754539132799951, 0.9754538990717868, 0.9754539493586423, 0.9754539285399237, 1.0603172753627923, 1.0603172766871, 1.0603171769925757, 1.060317234943892, 1.0603172635798597, 1.0603172137161043, 3.5733213254538687, 1.1529518460325543, 1.1196710957723341, 1.129520570881144, 2.863592907446908, 2.6472727532753515, 2.5150649557355464, 1.6931687342672588, 1.7081460397165669, 1.107661376832991, 1.5368357072010363, 1.6669956746315737, 2.978105610713342, 1.7362067897251798, 1.6718224179389576, 0.9754539285399237, 0.9754539493586423, 0.9754538990717868, 0.9754539132799951, 0.9754530783065333, 0.9754530633200447, 0.9754530146743786, 0.9754530517603911, 0.9754530523949354, 2.5150649557355464, 2.6472727532753515, 1.5368357072010363, 0.9684251532901499, 0.968425111783283, 0.968425161924762, 0.9684274334323453, 0.9684274876381418, 0.9684274478057755, 0.9684280208764634, 0.9684280701673242, 0.9684280278892651, 0.9684280818365294, 1.0603172635798597, 1.0603172753627923, 1.0603172766871, 1.0603172137161043, 1.0603171769925757, 1.060317234943892, 1.0603181670863489, 1.0603182565830707, 1.0603187385817656, 1.1808920719563403, 1.1809153664569711, 1.1809224428391425, 1.1809780432774322, 1.1810030954315918, 1.1810282514899089, 1.1810380685149608, 1.181049184758679, 1.181134946027272, 1.1196710957723341, 2.863592907446908, 1.6931687342672588, 1.129520570881144, 1.7081460397165669, 2.1866840070052085, 1.107661376832991, 1.1529518460325543], \"Category\": [\"Default\", \"Default\", \"Default\", \"Default\", \"Default\", \"Default\", \"Default\", \"Default\", \"Default\", \"Default\", \"Default\", \"Default\", \"Default\", \"Default\", \"Default\", \"Default\", \"Default\", \"Default\", \"Default\", \"Default\", \"Default\", \"Default\", \"Default\", \"Default\", \"Default\", \"Default\", \"Default\", \"Default\", \"Default\", \"Default\", \"Topic1\", \"Topic1\", \"Topic1\", \"Topic1\", \"Topic1\", \"Topic1\", \"Topic1\", \"Topic1\", \"Topic1\", \"Topic1\", \"Topic1\", \"Topic1\", \"Topic1\", \"Topic1\", \"Topic1\", \"Topic1\", \"Topic1\", \"Topic1\", \"Topic1\", \"Topic1\", \"Topic1\", \"Topic1\", \"Topic1\", \"Topic1\", \"Topic1\", \"Topic1\", \"Topic1\", \"Topic1\", \"Topic1\", \"Topic1\", \"Topic1\", \"Topic1\", \"Topic1\", \"Topic1\", \"Topic1\", \"Topic1\", \"Topic1\", \"Topic1\", \"Topic1\", \"Topic2\", \"Topic2\", \"Topic2\", \"Topic2\", \"Topic2\", \"Topic2\", \"Topic2\", \"Topic2\", \"Topic2\", \"Topic2\", \"Topic2\", \"Topic2\", \"Topic2\", \"Topic2\", \"Topic2\", \"Topic2\", \"Topic2\", \"Topic2\", \"Topic2\", \"Topic2\", \"Topic2\", \"Topic2\", \"Topic2\", \"Topic2\", \"Topic2\", \"Topic2\", \"Topic2\", \"Topic2\", \"Topic2\", \"Topic2\", \"Topic2\", \"Topic2\", \"Topic2\", \"Topic3\", \"Topic3\", \"Topic3\", \"Topic3\", \"Topic3\", \"Topic3\", \"Topic3\", \"Topic3\", \"Topic3\", \"Topic3\", \"Topic3\", \"Topic3\", \"Topic3\", \"Topic3\", \"Topic3\", \"Topic3\", \"Topic3\", \"Topic3\", \"Topic3\", \"Topic3\", \"Topic3\", \"Topic3\", \"Topic3\", \"Topic3\", \"Topic3\", \"Topic3\", \"Topic3\", \"Topic3\", \"Topic3\", \"Topic3\", \"Topic3\", \"Topic3\", \"Topic3\", \"Topic3\", \"Topic3\", \"Topic3\", \"Topic4\", \"Topic4\", \"Topic4\", \"Topic4\", \"Topic4\", \"Topic4\", \"Topic4\", \"Topic4\", \"Topic4\", \"Topic4\", \"Topic4\", \"Topic4\", \"Topic4\", \"Topic4\", \"Topic4\", \"Topic4\", \"Topic4\", \"Topic4\", \"Topic4\", \"Topic4\", \"Topic4\", \"Topic4\", \"Topic4\", \"Topic4\", \"Topic4\", \"Topic4\", \"Topic4\", \"Topic4\", \"Topic4\", \"Topic4\", \"Topic4\", \"Topic4\", \"Topic4\", \"Topic5\", \"Topic5\", \"Topic5\", \"Topic5\", \"Topic5\", \"Topic5\", \"Topic5\", \"Topic5\", \"Topic5\", \"Topic5\", \"Topic5\", \"Topic5\", \"Topic5\", \"Topic5\", \"Topic5\", \"Topic5\", \"Topic5\", \"Topic5\", \"Topic5\", \"Topic5\", \"Topic5\", \"Topic5\", \"Topic5\", \"Topic5\", \"Topic5\", \"Topic5\", \"Topic5\", \"Topic5\", \"Topic5\", \"Topic5\", \"Topic5\", \"Topic5\", \"Topic5\", \"Topic5\", \"Topic6\", \"Topic6\", \"Topic6\", \"Topic6\", \"Topic6\", \"Topic6\", \"Topic6\", \"Topic6\", \"Topic6\", \"Topic6\", \"Topic6\", \"Topic6\", \"Topic6\", \"Topic6\", \"Topic6\", \"Topic6\", \"Topic6\", \"Topic6\", \"Topic6\", \"Topic6\", \"Topic6\", \"Topic6\", \"Topic6\", \"Topic6\", \"Topic6\", \"Topic6\", \"Topic6\", \"Topic6\", \"Topic6\", \"Topic6\", \"Topic6\", \"Topic6\", \"Topic6\", \"Topic6\", \"Topic6\", \"Topic7\", \"Topic7\", \"Topic7\", \"Topic7\", \"Topic7\", \"Topic7\", \"Topic7\", \"Topic7\", \"Topic7\", \"Topic7\", \"Topic7\", \"Topic7\", \"Topic7\", \"Topic7\", \"Topic7\", \"Topic7\", \"Topic7\", \"Topic7\", \"Topic7\", \"Topic7\", \"Topic7\", \"Topic7\", \"Topic7\", \"Topic7\", \"Topic7\", \"Topic7\", \"Topic7\", \"Topic7\", \"Topic7\", \"Topic7\", \"Topic7\", \"Topic7\", \"Topic7\", \"Topic7\", \"Topic7\", \"Topic8\", \"Topic8\", \"Topic8\", \"Topic8\", \"Topic8\", \"Topic8\", \"Topic8\", \"Topic8\", \"Topic8\", \"Topic8\", \"Topic8\", \"Topic8\", \"Topic8\", \"Topic8\", \"Topic8\", \"Topic8\", \"Topic8\", \"Topic8\", \"Topic8\", \"Topic8\", \"Topic8\", \"Topic8\", \"Topic8\", \"Topic8\", \"Topic8\", \"Topic8\", \"Topic8\", \"Topic8\", \"Topic8\", \"Topic8\", \"Topic8\", \"Topic8\", \"Topic8\", \"Topic8\", \"Topic9\", \"Topic9\", \"Topic9\", \"Topic9\", \"Topic9\", \"Topic9\", \"Topic9\", \"Topic9\", \"Topic9\", \"Topic9\", \"Topic9\", \"Topic9\", \"Topic9\", \"Topic9\", \"Topic9\", \"Topic9\", \"Topic9\", \"Topic9\", \"Topic9\", \"Topic9\", \"Topic9\", \"Topic9\", \"Topic9\", \"Topic9\", \"Topic9\", \"Topic9\", \"Topic9\", \"Topic9\", \"Topic9\", \"Topic9\", \"Topic9\", \"Topic9\", \"Topic9\", \"Topic9\", \"Topic9\", \"Topic9\", \"Topic9\", \"Topic9\", \"Topic9\", \"Topic9\", \"Topic9\", \"Topic9\", \"Topic9\", \"Topic9\", \"Topic9\", \"Topic10\", \"Topic10\", \"Topic10\", \"Topic10\", \"Topic10\", \"Topic10\", \"Topic10\", \"Topic10\", \"Topic10\", \"Topic10\", \"Topic10\", \"Topic10\", \"Topic10\", \"Topic10\", \"Topic10\", \"Topic10\", \"Topic10\", \"Topic10\", \"Topic10\", \"Topic10\", \"Topic10\", \"Topic10\", \"Topic10\", \"Topic10\", \"Topic10\", \"Topic10\", \"Topic10\", \"Topic10\", \"Topic10\", \"Topic10\", \"Topic10\", \"Topic10\", \"Topic10\", \"Topic10\", \"Topic10\", \"Topic10\", \"Topic10\", \"Topic10\", \"Topic10\", \"Topic10\", \"Topic10\", \"Topic10\", \"Topic10\", \"Topic10\", \"Topic10\", \"Topic10\", \"Topic10\", \"Topic10\"], \"logprob\": [30.0, 29.0, 28.0, 27.0, 26.0, 25.0, 24.0, 23.0, 22.0, 21.0, 20.0, 19.0, 18.0, 17.0, 16.0, 15.0, 14.0, 13.0, 12.0, 11.0, 10.0, 9.0, 8.0, 7.0, 6.0, 5.0, 4.0, 3.0, 2.0, 1.0, -4.1944, -4.1944, -4.1944, -4.1944, -4.1944, -4.1944, -4.1944, -4.1944, -4.1944, -4.1944, -4.1944, -4.1944, -4.1944, -4.1944, -4.1944, -4.1944, -4.1944, -4.1944, -4.1969, -4.1973, -4.1974, -4.1974, -4.1975, -4.1976, -4.1979, -4.1979, -4.1976, -4.198, -4.1982, -3.5477, -3.1582, -3.5496, -3.5493, -4.1944, -4.1944, -4.1944, -4.1944, -4.1944, -4.1944, -3.5888, -3.5888, -4.2354, -4.2354, -4.2354, -4.2354, -4.2354, -4.2354, -4.2354, -4.2354, -4.2354, -4.2354, -4.2354, -4.2354, -4.2354, -4.2354, -4.2354, -4.2354, -4.2354, -4.2354, -4.2354, -4.2354, -4.2354, -4.2354, -4.2354, -4.2354, -4.2354, -4.2354, -4.2354, -4.2354, -4.2354, -4.2354, -4.2354, -4.0969, -4.0969, -4.0969, -4.0969, -4.0969, -4.0969, -4.0969, -4.0969, -4.0969, -4.0969, -4.0969, -4.0969, -4.0969, -4.0969, -4.0969, -4.0969, -4.0969, -4.0969, -4.0969, -4.0969, -4.0969, -4.0969, -4.0969, -4.0969, -4.0969, -4.0969, -4.0969, -4.1002, -4.1004, -4.1005, -3.4519, -3.9569, -4.0889, -4.0969, -4.0969, -4.0969, -3.4478, -3.4478, -3.4478, -4.0945, -4.0945, -4.0945, -4.0945, -4.0945, -4.0945, -4.0945, -4.0945, -4.0945, -4.0945, -4.0945, -4.0945, -4.0945, -4.0945, -4.0945, -4.0945, -4.0945, -4.0945, -4.0945, -4.0945, -4.0945, -4.0945, -4.0945, -4.0945, -4.0945, -4.0945, -4.0945, -4.0945, -4.0945, -4.0945, -3.421, -4.0634, -4.0634, -4.0634, -4.0634, -4.0634, -4.0634, -4.0634, -4.0634, -4.0634, -4.0634, -4.0634, -4.0634, -4.0634, -4.0634, -4.0634, -4.0634, -4.0634, -4.0634, -4.0634, -4.0634, -4.0634, -4.0634, -4.0634, -4.0634, -4.0634, -4.0634, -4.0634, -4.0634, -4.0634, -4.0634, -4.0634, -4.0634, -4.0634, -2.928, -2.928, -3.3188, -3.3188, -3.3188, -3.9612, -3.9612, -3.9612, -3.9612, -3.9612, -3.9612, -3.9612, -3.9612, -3.9612, -3.9612, -3.9612, -3.9612, -3.9612, -3.3188, -3.3188, -3.9612, -3.9612, -4.124, -6.3591, -6.3591, -6.3591, -6.3591, -6.3591, -6.3591, -6.3591, -6.3591, -6.3591, -6.3591, -6.3591, -6.3591, -3.8951, -3.8951, -3.8951, -3.8951, -3.8951, -3.8951, -3.8951, -3.8951, -3.8951, -3.8951, -3.8951, -3.8951, -3.8951, -3.8951, -3.8951, -3.8951, -3.8951, -3.8951, -3.8951, -3.8951, -3.8951, -3.8951, -3.8951, -3.8871, -3.8871, -3.8951, -3.8951, -3.8951, -6.293, -6.293, -6.2538, -6.2553, -6.2082, -6.2082, -6.2082, -3.8564, -3.8564, -3.8564, -3.8564, -3.8564, -3.8564, -3.8564, -3.8564, -3.8564, -3.8564, -3.8564, -3.8564, -3.8564, -3.8564, -3.8564, -3.8564, -3.8564, -3.8564, -3.8564, -3.8564, -3.8564, -3.8564, -3.8564, -3.8564, -3.8534, -3.8564, -6.2542, -6.2542, -6.2542, -6.2542, -6.2132, -6.2191, -6.2192, -6.2163, -3.6183, -3.6183, -3.6183, -3.6183, -3.6183, -3.6183, -3.6183, -3.6183, -3.6183, -3.6183, -3.6182, -3.6183, -3.6183, -3.6183, -3.6183, -6.0162, -6.0162, -6.0162, -6.0162, -6.0162, -6.0162, -6.0162, -6.0162, -6.0162, -6.0162, -6.0162, -6.0162, -6.0162, -6.0162, -6.0162, -6.0161, -6.0161, -6.0161, -6.0161, -6.0161, -6.0161, -6.0161, -6.0162, -6.0162, -6.0162, -6.0162, -6.0162, -6.0162, -6.0162, -6.0162, -3.594, -3.594, -3.594, -3.594, -3.594, -3.594, -3.594, -3.594, -3.594, -2.9516, -2.9495, -3.594, -5.9919, -5.9919, -5.9919, -5.9919, -5.9919, -5.9919, -5.9919, -5.9919, -5.9919, -5.9919, -5.9919, -5.9919, -5.9919, -5.9919, -5.9919, -5.9919, -5.9919, -5.9919, -5.9919, -5.9528, -5.9539, -5.9542, -5.9568, -5.958, -5.9592, -5.9596, -5.9601, -5.9642, -5.9919, -5.9919, -5.9919, -5.9919, -5.9919, -5.9919, -5.9919, -5.9919], \"loglift\": [30.0, 29.0, 28.0, 27.0, 26.0, 25.0, 24.0, 23.0, 22.0, 21.0, 20.0, 19.0, 18.0, 17.0, 16.0, 15.0, 14.0, 13.0, 12.0, 11.0, 10.0, 9.0, 8.0, 7.0, 6.0, 5.0, 4.0, 3.0, 2.0, 1.0, 1.4378, 1.4378, 1.4378, 1.4378, 1.4378, 1.4378, 1.4378, 1.4378, 1.4378, 1.4378, 1.4378, 1.4378, 1.4378, 1.4378, 1.4378, 1.4378, 1.4378, 1.4378, 1.4357, 1.4354, 1.4353, 1.4353, 1.4352, 1.4351, 1.4349, 1.4349, 1.4349, 1.4348, 1.4344, 1.405, 1.3674, 1.3913, 1.2371, 1.0491, 1.03, 0.5134, 1.0366, 0.8543, 1.0422, 1.6452, 1.4302, 1.4213, 1.4213, 1.4213, 1.4213, 1.4213, 1.4213, 1.4213, 1.4213, 1.4213, 1.4213, 1.4213, 1.4213, 1.4213, 1.4213, 1.4213, 1.4213, 1.4213, 1.4213, 1.4213, 1.4213, 1.4213, 1.4213, 1.4213, 1.4213, 1.4213, 1.4213, 1.4213, 1.4213, 1.012, 1.0053, 1.0358, 1.5701, 1.5701, 1.5701, 1.5701, 1.5701, 1.5701, 1.5701, 1.5701, 1.5701, 1.5701, 1.5701, 1.5701, 1.5701, 1.5701, 1.5701, 1.5701, 1.5701, 1.5701, 1.5701, 1.5701, 1.5701, 1.5701, 1.5701, 1.5701, 1.5701, 1.5701, 1.5701, 1.5669, 1.5668, 1.5666, 1.2559, 1.3068, 0.7879, 1.1573, 0.6501, 1.1813, 1.8131, 1.8131, 1.8131, 1.5828, 1.5828, 1.5828, 1.5828, 1.5828, 1.5828, 1.5828, 1.5828, 1.5828, 1.5828, 1.5828, 1.5828, 1.5828, 1.5828, 1.5828, 1.5828, 1.5828, 1.5828, 1.5828, 1.5828, 1.5828, 1.5828, 1.2077, 1.2077, 1.2077, 1.1907, 1.1723, 1.1365, 1.1597, 0.8811, 1.8515, 1.6226, 1.6226, 1.6226, 1.6226, 1.6226, 1.6226, 1.6226, 1.6226, 1.6226, 1.6226, 1.6226, 1.6226, 1.6226, 1.6226, 1.6226, 1.6226, 1.6226, 1.6226, 1.6226, 1.6226, 1.6226, 1.6226, 1.6226, 1.6226, 1.6226, 1.6226, 1.6226, 1.6226, 1.6226, 1.1731, 0.6836, 1.1896, 1.2276, 2.069, 2.069, 1.9681, 1.9681, 1.9681, 1.7356, 1.7356, 1.7356, 1.7356, 1.7356, 1.7356, 1.7356, 1.7356, 1.7356, 1.7356, 1.7356, 1.7356, 1.7356, 1.6868, 1.6868, 1.4081, 1.2822, 1.1397, -0.5279, -0.5279, -0.5279, -0.5279, -0.5279, -0.5279, -0.5279, -1.4823, -1.3402, -1.5727, -0.673, -1.3424, 1.8191, 1.8191, 1.8191, 1.8191, 1.8191, 1.8191, 1.8191, 1.8191, 1.8191, 1.8191, 1.8191, 1.8191, 1.8191, 1.8191, 1.8191, 1.8191, 1.8191, 1.8191, 1.4324, 1.396, 1.3901, 1.3831, 1.3762, 1.1185, 1.1185, 1.0805, 1.0457, 0.8519, -0.4618, -0.4618, -0.5866, -0.5881, -0.9213, -0.9213, -1.2112, 1.8842, 1.8842, 1.8842, 1.8842, 1.8842, 1.8842, 1.8842, 1.8842, 1.8842, 1.8842, 1.8842, 1.8842, 1.8842, 1.8842, 1.8842, 1.8842, 1.4711, 1.4459, 1.4459, 1.4459, 1.4317, 1.1923, 1.0963, 1.0204, 0.9331, 0.6692, -0.4231, -0.4231, -0.4231, -0.4231, -0.5807, -0.5866, -0.988, -1.2754, 2.2129, 2.2129, 2.2129, 2.2129, 2.2129, 2.2129, 2.2129, 2.2129, 2.2129, 2.2129, 1.7479, 1.4304, 1.4007, 1.3985, 1.1682, -0.1922, -0.1922, -0.1922, -0.1922, -0.1922, -0.1922, -0.1922, -0.1922, -0.1922, -0.2756, -0.2756, -0.2756, -0.2756, -0.2756, -0.2756, -1.4906, -0.3594, -0.3301, -0.3389, -1.2691, -1.1906, -1.1394, -0.7437, -0.7525, -0.3193, -0.6468, -0.7281, -1.3083, -0.7688, -0.731, 2.2299, 2.2299, 2.2299, 2.2299, 2.2299, 2.2299, 2.2299, 2.2299, 2.2299, 1.9252, 1.8761, 1.7753, -0.1607, -0.1607, -0.1607, -0.1607, -0.1607, -0.1607, -0.1607, -0.1607, -0.1607, -0.1607, -0.2514, -0.2514, -0.2514, -0.2514, -0.2514, -0.2514, -0.2514, -0.2514, -0.2514, -0.32, -0.3211, -0.3214, -0.3241, -0.3252, -0.3264, -0.3269, -0.3274, -0.3316, -0.3059, -1.2449, -0.7194, -0.3146, -0.7282, -0.9752, -0.2951, -0.3351]}, \"token.table\": {\"Topic\": [1, 3, 1, 4, 1, 2, 2, 1, 2, 3, 1, 1, 5, 4, 8, 1, 2, 10, 2, 3, 4, 8, 1, 2, 3, 3, 4, 4, 2, 6, 6, 8, 6, 6, 4, 3, 2, 1, 5, 1, 3, 3, 2, 5, 5, 6, 7, 2, 7, 2, 7, 2, 4, 3, 3, 2, 8, 1, 4, 5, 4, 2, 8, 7, 8, 2, 4, 4, 2, 7, 5, 8, 1, 4, 8, 3, 8, 1, 2, 1, 3, 8, 1, 4, 6, 2, 5, 4, 8, 5, 1, 2, 8, 2, 4, 6, 3, 8, 2, 3, 5, 7, 4, 8, 5, 2, 3, 6, 5, 6, 2, 7, 1, 8, 5, 5, 4, 2, 8, 3, 4, 5, 2, 3, 7, 8, 2, 3, 5, 6, 5, 7, 8, 3, 2, 7, 4, 1, 5, 7, 3, 5, 1, 7, 3, 2, 7, 2, 5, 1, 3, 5, 3, 6, 1, 1, 2, 3, 2, 3, 7, 1, 5, 3, 1, 4, 6, 7, 7, 3, 4, 5, 1, 6, 2, 4, 1, 4, 5, 7, 5, 2, 5, 4, 1, 5, 7, 6, 6, 2, 4, 7, 1, 8, 3, 6, 6, 1, 3, 1, 8, 3, 2, 1, 4, 8, 7, 5, 1, 3, 7, 7, 4, 7, 2, 3, 8, 10, 8, 3, 8, 4, 1, 6, 6, 1, 6, 7, 5, 1, 6, 1, 7, 4, 4, 8, 1, 4, 5, 5, 2, 4, 1, 2, 2, 6, 5, 7, 4, 5, 7, 4, 5, 5, 6, 3, 3, 2, 3, 3, 1, 4, 7, 5, 2, 3, 1, 4, 1, 5, 3, 5, 1, 8, 4], \"Freq\": [0.846795660514188, 0.8762534482916032, 0.8465392508759217, 0.8853249161244535, 0.846592156413281, 0.8673323466594594, 0.8673313903983658, 0.3357839280120329, 0.3357839280120329, 0.3357839280120329, 0.8467127577499696, 0.8468174389072973, 0.8931139801111615, 0.8853249663989861, 0.9431126876380205, 0.3777472490368607, 0.3777472490368607, 0.3777472490368607, 0.8673313683275525, 0.8762522765920678, 0.6084331778436897, 0.6084331778436897, 0.8467197958545569, 0.8673318321639774, 0.8762534276103497, 0.8762527574345207, 0.8853248547310436, 0.8853257078177386, 0.8673317847200037, 0.8967451835609668, 0.9027992075969788, 0.9431140244623256, 0.9027981688399713, 0.599199200958604, 0.8853313749035093, 0.8762547302779456, 0.867331745748754, 0.8462288774278899, 0.8931128053575172, 0.8462279551911888, 0.8762526648345492, 0.8762534468246086, 0.5792537176454432, 0.5792537176454432, 0.8931129615112741, 0.4522446743606325, 0.4522446743606325, 0.4583372228695392, 0.9186303313462877, 0.8673314872967436, 0.9186285753466338, 0.867331434868917, 0.8853251749528452, 0.8764016712945943, 0.8762528273371462, 0.8673313792512047, 0.9431139357876371, 0.84622821945938, 0.5872247966086461, 0.5872247966086461, 0.8853246251469067, 0.5998815805092068, 0.5998815805092068, 0.6239797822158694, 0.6239797822158694, 0.8673317748619429, 0.583844419629303, 0.8853250334458391, 0.8673317720843139, 0.9186285726571016, 0.8931139768891446, 0.9431126372444028, 0.8462280965028937, 0.6084330563948521, 0.6084330563948521, 0.8762522580159163, 0.9431139917980677, 0.8462274380174607, 0.8673318722287584, 0.8462282234140266, 0.8762534976094494, 0.9431126354869054, 0.846643309778856, 0.8853252404534301, 0.9028029873707298, 0.867331483637632, 0.893112924140345, 0.583844378737832, 0.9431126409913019, 0.8931150625327041, 0.5597033733723815, 0.27985168668619076, 0.27985168668619076, 0.8673323641104137, 0.8853248407253789, 0.9027972177117758, 0.8764150953405793, 0.9431126113968061, 0.34921164855502085, 0.34921164855502085, 0.34921164855502085, 0.34921164855502085, 0.885326915100048, 0.9431126741606684, 0.8931130728964258, 0.8673314805415462, 0.8762528829687162, 0.9027983026884353, 0.8931139122707901, 0.9027971897275094, 0.8673322934715819, 0.9186293876457563, 0.4721667097970135, 0.4721667097970135, 0.8931138695904504, 0.8931139525821472, 0.8853244887566908, 0.867331627688455, 0.9431139729167151, 0.5798887381217437, 0.5798887381217437, 0.8931134963075993, 0.5682940082292115, 0.8764085427548923, 0.9186294563573036, 0.9431130642063551, 0.8673323502536872, 0.8762528961872292, 0.8931194203153144, 0.9027981906581606, 0.8931138655208446, 0.918628546737563, 0.9431139369655611, 0.8762534913344239, 0.5898809892304514, 0.5898809892304514, 0.885326868668195, 0.8462275007993344, 0.8931150767593368, 0.9186285439943034, 0.8762526321340216, 0.893112799659929, 0.4239105312205466, 0.4239105312205466, 0.8762534767134854, 0.8673313718116716, 0.9186303222898848, 0.8673314789795785, 0.8931128237774542, 0.5628550710959805, 0.5628550710959805, 0.8931127889183892, 0.5854300374492162, 0.5854300374492162, 0.8462274773193893, 0.8462288118182171, 0.8673323117394623, 0.87625227092198, 0.867331431690752, 0.8762529065393686, 0.9186284150318543, 0.8462279147128124, 0.8931139969451888, 0.8762522748265636, 0.566585000510047, 0.566585000510047, 0.4522446931744113, 0.4522446931744113, 0.9186284248298532, 0.5798884627350557, 0.5798884627350557, 0.648584276983937, 0.8462282408416093, 0.5991991765588415, 0.8673389122374191, 0.5838443024711496, 0.8467557933802184, 0.8853245207805417, 0.6016942541754235, 0.6016942541754235, 0.8931128096143095, 0.8673318592167394, 0.8931150089097981, 0.8853245789717734, 0.8467047883398079, 0.8931129826664935, 0.9186294074804349, 0.6506876403992793, 0.9027991984248546, 0.43888421751893875, 0.43888421751893875, 0.43888421751893875, 0.42896411130166684, 0.42896411130166684, 0.8762529441193991, 0.9027972244369727, 0.9027992809560126, 0.8462275062677315, 0.8762546474813256, 0.36324787679943676, 0.36324787679943676, 0.8762533912383312, 0.8673316780911171, 0.8468007347556493, 0.6084330232007257, 0.6084330232007257, 0.9186304784257217, 0.8931140336085495, 0.8462282702076946, 0.5939936362286661, 0.5939936362286661, 0.9186294798041703, 0.598149653497775, 0.598149653497775, 0.8673323041344924, 0.39760404506433267, 0.39760404506433267, 0.39760404506433267, 0.9431126563989732, 0.8762525991561078, 0.9431126348034141, 0.8853252507417746, 0.5736904398909708, 0.5736904398909708, 0.902797179022717, 0.8467378314826135, 0.8967451481692409, 0.9186284099135827, 0.8931139777407864, 0.8462282145010886, 0.9027992726019268, 0.8462300034737188, 0.918629425772546, 0.8853257469578606, 0.8853251369166982, 0.9431139474460544, 0.5667240213462184, 0.5667240213462184, 0.8931139719075567, 0.8931129288676347, 0.5759682578814749, 0.5759682578814749, 0.8462301692954679, 0.8673316809687034, 0.8673313987398114, 0.9027972866232122, 0.5906085907219184, 0.9186284373372258, 0.8853248713904016, 0.8931134370556492, 0.918628636256792, 0.8853257689698264, 0.8931134623443039, 0.8931139525646004, 0.5991991707865362, 0.8762534318077968, 0.8762546310009187, 0.8673317615272426, 0.8762522886048358, 0.8762522579259293, 0.846227831307857, 0.8853245384932991, 0.9186293742988405, 0.8931129895286202, 0.5721146843671024, 0.5721146843671024, 0.4573134466600679, 0.4573134466600679, 0.5697655077710131, 0.5697655077710131, 0.8762529060047876, 0.893112811459912, 0.8462282357036123, 0.9431131438103175, 0.8853268712999552], \"Term\": [\"!!\", \"&\", \"(\", \"(link)\", \")\", \"+\", \",\", \"-\", \"-\", \"-\", \"-!!\", \"/\", \"14\\\"\", \"1964\", \"1970\", \"1973\", \"1973\", \"1973\", \"2002\", \"27th,\", \"2800\", \"2800\", \"3.0\", \"3.0csl\", \"3.5\", \"3.64\", \"3200\", \"5\", \"500\", \"6\", \"635??\", \"74\", \"ac\", \"airdam\", \"alive!\", \"all!\", \"alpine\", \"antenna\", \"antitheft\", \"anybody\", \"anyone\", \"appraisal\", \"area\", \"area\", \"attention\", \"available\", \"available\", \"back\", \"battery\", \"bay\", \"beige\", \"best\", \"black\", \"blast\", \"block\", \"bmwcca\", \"body\", \"boot\", \"box\", \"box\", \"box?\", \"brake\", \"brake\", \"brand\", \"brand\", \"breather\", \"bucket\", \"bumper\", \"buy?\", \"carpet\", \"choices...hhmmmm\", \"clean\", \"clip...\", \"close\", \"close\", \"closer!!!!!\", \"coil-overs\", \"company\", \"complete\", \"cone\", \"console\", \"contest\", \"craigslist\", \"cruz\", \"dagmars\", \"dang\", \"dc\", \"dear\", \"diego\", \"disturbing\", \"dob\", \"dob\", \"dob\", \"dob,\", \"e-bay\", \"e24\", \"e9's\", \"end\", \"engine\", \"engine\", \"engine\", \"engine\", \"engine/transmission\", \"european\", \"event\", \"ever....\", \"experience\", \"fan\", \"find\", \"fit\", \"flipping\", \"floor\", \"front\", \"front\", \"fuse\", \"gathering\", \"gear\", \"german\", \"germany\", \"getting\", \"getting\", \"glue\", \"good\", \"great!!\", \"grille?\", \"hatch\", \"heck!\", \"heel/rubbing\", \"help!!\", \"housing\", \"info\", \"inport?\", \"installing\", \"insurance\", \"interior\", \"interior\", \"issue\", \"italian\", \"key\", \"kit\", \"know\", \"learned\", \"link\", \"link\", \"liter\", \"local\", \"location?\", \"logo\", \"lojack\", \"looking\", \"looking\", \"love\", \"lsd\", \"lsd\", \"making\", \"manual\", \"master\", \"may\", \"meet\", \"melting\", \"mike\", \"more?\", \"motor!\", \"nc\", \"need\", \"need\", \"new\", \"new\", \"next\", \"nice\", \"nice\", \"noise\", \"nose\", \"now.\", \"offset\", \"old\", \"one\", \"opinion\", \"option\", \"option\", \"or:\", \"order?\", \"original\", \"overdrive\", \"owner\", \"owners:\", \"pan\", \"part\", \"photo?\", \"picture\", \"picture\", \"picture\", \"pictures:\", \"pictures:\", \"point\", \"possible\", \"post\", \"posted\", \"project\", \"question\", \"question\", \"radio\", \"rally!!\", \"rare\", \"ratio\", \"ratio\", \"re-do\", \"re-location\", \"rebuild\", \"replacement\", \"replacement\", \"rich\", \"running\", \"running\", \"rusty\", \"sale\", \"sale\", \"sale\", \"sale:\", \"sale?\", \"san\", \"santa\", \"seat\", \"seat\", \"seats,\", \"seattle\", \"series\", \"slighty\", \"someone\", \"sorts.\", \"sorts?\", \"sparkplug\", \"speaker\", \"speed\", \"spotted\", \"squeal\", \"steering\", \"steering\", \"stole\", \"stop\", \"swap\", \"swap\", \"switch\", \"tan\", \"thanks\", \"them?\", \"tire\", \"tony,\", \"tool\", \"top\", \"topic,\", \"tranny\", \"trim\", \"trying\", \"type\", \"uk\", \"update\", \"valve\", \"vineyard\", \"vintage\", \"want\", \"wanted:\", \"weber\", \"weekend\", \"welcome\", \"welcome\", \"wheel\", \"wheel\", \"window\", \"window\", \"windshield\", \"worrying\", \"wtb:\", \"wtc\", \"zenith\"]}, \"R\": 30, \"lambda.step\": 0.01, \"plot.opts\": {\"xlab\": \"PC1\", \"ylab\": \"PC2\"}, \"topic.order\": [1, 4, 6, 3, 8, 5, 9, 2, 10, 7]};\n",
              "\n",
              "function LDAvis_load_lib(url, callback){\n",
              "  var s = document.createElement('script');\n",
              "  s.src = url;\n",
              "  s.async = true;\n",
              "  s.onreadystatechange = s.onload = callback;\n",
              "  s.onerror = function(){console.warn(\"failed to load library \" + url);};\n",
              "  document.getElementsByTagName(\"head\")[0].appendChild(s);\n",
              "}\n",
              "\n",
              "if(typeof(LDAvis) !== \"undefined\"){\n",
              "   // already loaded: just create the visualization\n",
              "   !function(LDAvis){\n",
              "       new LDAvis(\"#\" + \"ldavis_el4327134718773344208602773160\", ldavis_el4327134718773344208602773160_data);\n",
              "   }(LDAvis);\n",
              "}else if(typeof define === \"function\" && define.amd){\n",
              "   // require.js is available: use it to load d3/LDAvis\n",
              "   require.config({paths: {d3: \"https://d3js.org/d3.v5\"}});\n",
              "   require([\"d3\"], function(d3){\n",
              "      window.d3 = d3;\n",
              "      LDAvis_load_lib(\"https://cdn.jsdelivr.net/gh/bmabey/pyLDAvis@3.4.0/pyLDAvis/js/ldavis.v3.0.0.js\", function(){\n",
              "        new LDAvis(\"#\" + \"ldavis_el4327134718773344208602773160\", ldavis_el4327134718773344208602773160_data);\n",
              "      });\n",
              "    });\n",
              "}else{\n",
              "    // require.js not available: dynamically load d3 & LDAvis\n",
              "    LDAvis_load_lib(\"https://d3js.org/d3.v5.js\", function(){\n",
              "         LDAvis_load_lib(\"https://cdn.jsdelivr.net/gh/bmabey/pyLDAvis@3.4.0/pyLDAvis/js/ldavis.v3.0.0.js\", function(){\n",
              "                 new LDAvis(\"#\" + \"ldavis_el4327134718773344208602773160\", ldavis_el4327134718773344208602773160_data);\n",
              "            })\n",
              "         });\n",
              "}\n",
              "</script>"
            ]
          },
          "metadata": {},
          "execution_count": 4
        }
      ]
    },
    {
      "cell_type": "code",
      "execution_count": 5,
      "metadata": {
        "id": "99pNJkgnoqgt",
        "colab": {
          "base_uri": "https://localhost:8080/"
        },
        "outputId": "ada44fdb-bb1e-488a-9e83-8fd0de2d2e3b"
      },
      "outputs": [
        {
          "output_type": "stream",
          "name": "stdout",
          "text": [
            "Topic 0: Looking for link I posted about italian company making seats\n",
            "Topic 1: 74 e9 coupe body\n",
            "Topic 2: Opinions wanted: Close ratio or overdrive gear box?\n",
            "Topic 3: Complete tan interior up on German Ebay\n",
            "Topic 4: E24 6 series seats, is it possible to fit them?\n",
            "Topic 5: Does anyone know of a 3.64 lsd for sale?\n",
            "Topic 6: Seattle Craigslist -!! RARE !! 1973 BMW 3.0 CS / One owner\n",
            "Topic 7: Antitheft or: How I Learned to Stop Worrying and Love Lojack\n",
            "Topic 8: Coupe Link for speaker grille?\n",
            "Topic 9: So glad to be back\n"
          ]
        }
      ],
      "source": [
        "#Create representative sentences for each topic\n",
        "\n",
        "num_topics = lda.num_topics\n",
        "representative_sentences = []\n",
        "\n",
        "for topic_id in range(num_topics):\n",
        "    try:\n",
        "        sentence = create_representative_sentence(lda, e9_forum_corpus, topic_id)\n",
        "        representative_sentences.append({'Topic': topic_id, 'Representative Sentence': sentence})\n",
        "        print(f\"Topic {topic_id}: {sentence}\")\n",
        "    except IndexError as e:\n",
        "        print(f\"Error with topic {topic_id}: {e}\")\n",
        "\n",
        "# Save to CSV\n",
        "output_df = pd.DataFrame(representative_sentences)\n",
        "output_df.to_csv('/content/drive/MyDrive/Colab Notebooks/datasets/e9/representative_sentences.csv', index=False)\n"
      ]
    }
  ],
  "metadata": {
    "colab": {
      "provenance": [],
      "include_colab_link": true
    },
    "kernelspec": {
      "display_name": "Python 3",
      "name": "python3"
    },
    "language_info": {
      "name": "python"
    }
  },
  "nbformat": 4,
  "nbformat_minor": 0
}