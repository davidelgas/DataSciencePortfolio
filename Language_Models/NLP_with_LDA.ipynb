{
  "cells": [
    {
      "cell_type": "markdown",
      "metadata": {
        "id": "view-in-github",
        "colab_type": "text"
      },
      "source": [
        "<a href=\"https://colab.research.google.com/github/davidelgas/DataSciencePortfolio/blob/main/Language_Models/NLP_with_LDA.ipynb\" target=\"_parent\"><img src=\"https://colab.research.google.com/assets/colab-badge.svg\" alt=\"Open In Colab\"/></a>"
      ]
    },
    {
      "cell_type": "markdown",
      "metadata": {
        "id": "6ZNh7sOsosig"
      },
      "source": [
        "## Topic Modeling with Latent Dirichlet Allocation (LDA)\n",
        "https://nlp.stanford.edu/events/illvi2014/papers/sievert-illvi2014.pdf"
      ]
    },
    {
      "cell_type": "markdown",
      "source": [
        "# Introduction"
      ],
      "metadata": {
        "id": "Eg0SMCGcBuO8"
      }
    },
    {
      "cell_type": "markdown",
      "source": [
        "In this notebook I will be using LDA to identify unique topics in a corpus."
      ],
      "metadata": {
        "id": "LYjybM81BHFA"
      }
    },
    {
      "cell_type": "markdown",
      "source": [
        "# Provision Enviorment"
      ],
      "metadata": {
        "id": "5Y6g2-o5Byis"
      }
    },
    {
      "cell_type": "code",
      "execution_count": 1,
      "metadata": {
        "id": "FIRntbFzGwj7",
        "colab": {
          "base_uri": "https://localhost:8080/"
        },
        "outputId": "303a2d69-c6cf-4eed-89df-0e67f1754d64"
      },
      "outputs": [
        {
          "output_type": "stream",
          "name": "stdout",
          "text": [
            "Drive already mounted at /content/drive; to attempt to forcibly remount, call drive.mount(\"/content/drive\", force_remount=True).\n"
          ]
        }
      ],
      "source": [
        "from google.colab import drive\n",
        "drive.mount('/content/drive')"
      ]
    },
    {
      "cell_type": "code",
      "source": [
        "# Install all necessary packages\n",
        "!pip install numpy==1.24.3\n",
        "!pip install pandas\n",
        "!pip install nltk\n",
        "!pip install gensim==4.3.0\n",
        "!pip install pyLDAvis\n",
        "!pip install sumy\n",
        "!pip install snowflake-connector-python\n",
        "!pip install requests\n",
        "!pip install beautifulsoup4"
      ],
      "metadata": {
        "colab": {
          "base_uri": "https://localhost:8080/",
          "height": 1000
        },
        "id": "rYvn-WXzVLZG",
        "outputId": "28f6efe2-81d2-4247-daa0-2842850bb5dd"
      },
      "execution_count": 2,
      "outputs": [
        {
          "output_type": "stream",
          "name": "stdout",
          "text": [
            "Collecting numpy==1.24.3\n",
            "  Using cached numpy-1.24.3-cp311-cp311-manylinux_2_17_x86_64.manylinux2014_x86_64.whl.metadata (5.6 kB)\n",
            "Using cached numpy-1.24.3-cp311-cp311-manylinux_2_17_x86_64.manylinux2014_x86_64.whl (17.3 MB)\n",
            "Installing collected packages: numpy\n",
            "  Attempting uninstall: numpy\n",
            "    Found existing installation: numpy 1.24.4\n",
            "    Uninstalling numpy-1.24.4:\n",
            "      Successfully uninstalled numpy-1.24.4\n",
            "\u001b[31mERROR: pip's dependency resolver does not currently take into account all the packages that are installed. This behaviour is the source of the following dependency conflicts.\n",
            "pyfume 0.3.4 requires numpy==1.24.4, but you have numpy 1.24.3 which is incompatible.\n",
            "google-colab 1.0.0 requires pandas==2.2.2, but you have pandas 1.5.3 which is incompatible.\n",
            "xarray 2025.1.2 requires pandas>=2.1, but you have pandas 1.5.3 which is incompatible.\n",
            "treescope 0.1.9 requires numpy>=1.25.2, but you have numpy 1.24.3 which is incompatible.\n",
            "mizani 0.13.1 requires pandas>=2.2.0, but you have pandas 1.5.3 which is incompatible.\n",
            "pymc 5.21.1 requires numpy>=1.25.0, but you have numpy 1.24.3 which is incompatible.\n",
            "dask-cudf-cu12 25.2.2 requires pandas<2.2.4dev0,>=2.0, but you have pandas 1.5.3 which is incompatible.\n",
            "albumentations 2.0.5 requires numpy>=1.24.4, but you have numpy 1.24.3 which is incompatible.\n",
            "cudf-cu12 25.2.1 requires pandas<2.2.4dev0,>=2.0, but you have pandas 1.5.3 which is incompatible.\n",
            "blosc2 3.2.1 requires numpy>=1.26, but you have numpy 1.24.3 which is incompatible.\n",
            "plotnine 0.14.5 requires pandas>=2.2.0, but you have pandas 1.5.3 which is incompatible.\n",
            "albucore 0.0.23 requires numpy>=1.24.4, but you have numpy 1.24.3 which is incompatible.\n",
            "scikit-image 0.25.2 requires scipy>=1.11.4, but you have scipy 1.10.1 which is incompatible.\n",
            "dask-expr 1.1.21 requires pandas>=2, but you have pandas 1.5.3 which is incompatible.\n",
            "jax 0.5.2 requires numpy>=1.25, but you have numpy 1.24.3 which is incompatible.\n",
            "jax 0.5.2 requires scipy>=1.11.1, but you have scipy 1.10.1 which is incompatible.\n",
            "tensorflow 2.18.0 requires numpy<2.1.0,>=1.26.0, but you have numpy 1.24.3 which is incompatible.\n",
            "jaxlib 0.5.1 requires numpy>=1.25, but you have numpy 1.24.3 which is incompatible.\n",
            "jaxlib 0.5.1 requires scipy>=1.11.1, but you have scipy 1.10.1 which is incompatible.\n",
            "cvxpy 1.6.4 requires scipy>=1.11.0, but you have scipy 1.10.1 which is incompatible.\u001b[0m\u001b[31m\n",
            "\u001b[0mSuccessfully installed numpy-1.24.3\n"
          ]
        },
        {
          "output_type": "display_data",
          "data": {
            "application/vnd.colab-display-data+json": {
              "pip_warning": {
                "packages": [
                  "numpy"
                ]
              },
              "id": "e2fd3af62c4c47d9b5340c8914fdf1b0"
            }
          },
          "metadata": {}
        },
        {
          "output_type": "stream",
          "name": "stdout",
          "text": [
            "Requirement already satisfied: pandas in /usr/local/lib/python3.11/dist-packages (1.5.3)\n",
            "Requirement already satisfied: python-dateutil>=2.8.1 in /usr/local/lib/python3.11/dist-packages (from pandas) (2.8.2)\n",
            "Requirement already satisfied: pytz>=2020.1 in /usr/local/lib/python3.11/dist-packages (from pandas) (2025.2)\n",
            "Requirement already satisfied: numpy>=1.21.0 in /usr/local/lib/python3.11/dist-packages (from pandas) (1.24.3)\n",
            "Requirement already satisfied: six>=1.5 in /usr/local/lib/python3.11/dist-packages (from python-dateutil>=2.8.1->pandas) (1.17.0)\n",
            "Requirement already satisfied: nltk in /usr/local/lib/python3.11/dist-packages (3.9.1)\n",
            "Requirement already satisfied: click in /usr/local/lib/python3.11/dist-packages (from nltk) (8.1.8)\n",
            "Requirement already satisfied: joblib in /usr/local/lib/python3.11/dist-packages (from nltk) (1.4.2)\n",
            "Requirement already satisfied: regex>=2021.8.3 in /usr/local/lib/python3.11/dist-packages (from nltk) (2024.11.6)\n",
            "Requirement already satisfied: tqdm in /usr/local/lib/python3.11/dist-packages (from nltk) (4.67.1)\n",
            "Requirement already satisfied: gensim==4.3.0 in /usr/local/lib/python3.11/dist-packages (4.3.0)\n",
            "Requirement already satisfied: numpy>=1.18.5 in /usr/local/lib/python3.11/dist-packages (from gensim==4.3.0) (1.24.3)\n",
            "Requirement already satisfied: scipy>=1.7.0 in /usr/local/lib/python3.11/dist-packages (from gensim==4.3.0) (1.10.1)\n",
            "Requirement already satisfied: smart-open>=1.8.1 in /usr/local/lib/python3.11/dist-packages (from gensim==4.3.0) (7.1.0)\n",
            "Requirement already satisfied: FuzzyTM>=0.4.0 in /usr/local/lib/python3.11/dist-packages (from gensim==4.3.0) (2.0.9)\n",
            "Requirement already satisfied: pandas in /usr/local/lib/python3.11/dist-packages (from FuzzyTM>=0.4.0->gensim==4.3.0) (1.5.3)\n",
            "Requirement already satisfied: pyfume in /usr/local/lib/python3.11/dist-packages (from FuzzyTM>=0.4.0->gensim==4.3.0) (0.3.4)\n",
            "Requirement already satisfied: wrapt in /usr/local/lib/python3.11/dist-packages (from smart-open>=1.8.1->gensim==4.3.0) (1.17.2)\n",
            "Requirement already satisfied: python-dateutil>=2.8.1 in /usr/local/lib/python3.11/dist-packages (from pandas->FuzzyTM>=0.4.0->gensim==4.3.0) (2.8.2)\n",
            "Requirement already satisfied: pytz>=2020.1 in /usr/local/lib/python3.11/dist-packages (from pandas->FuzzyTM>=0.4.0->gensim==4.3.0) (2025.2)\n",
            "Collecting numpy>=1.18.5 (from gensim==4.3.0)\n",
            "  Using cached numpy-1.24.4-cp311-cp311-manylinux_2_17_x86_64.manylinux2014_x86_64.whl.metadata (5.6 kB)\n",
            "Requirement already satisfied: simpful==2.12.0 in /usr/local/lib/python3.11/dist-packages (from pyfume->FuzzyTM>=0.4.0->gensim==4.3.0) (2.12.0)\n",
            "Requirement already satisfied: fst-pso==1.8.1 in /usr/local/lib/python3.11/dist-packages (from pyfume->FuzzyTM>=0.4.0->gensim==4.3.0) (1.8.1)\n",
            "Requirement already satisfied: miniful in /usr/local/lib/python3.11/dist-packages (from fst-pso==1.8.1->pyfume->FuzzyTM>=0.4.0->gensim==4.3.0) (0.0.6)\n",
            "Requirement already satisfied: six>=1.5 in /usr/local/lib/python3.11/dist-packages (from python-dateutil>=2.8.1->pandas->FuzzyTM>=0.4.0->gensim==4.3.0) (1.17.0)\n",
            "Using cached numpy-1.24.4-cp311-cp311-manylinux_2_17_x86_64.manylinux2014_x86_64.whl (17.3 MB)\n",
            "Installing collected packages: numpy\n",
            "  Attempting uninstall: numpy\n",
            "    Found existing installation: numpy 1.24.3\n",
            "    Uninstalling numpy-1.24.3:\n",
            "      Successfully uninstalled numpy-1.24.3\n",
            "\u001b[31mERROR: pip's dependency resolver does not currently take into account all the packages that are installed. This behaviour is the source of the following dependency conflicts.\n",
            "google-colab 1.0.0 requires pandas==2.2.2, but you have pandas 1.5.3 which is incompatible.\n",
            "xarray 2025.1.2 requires pandas>=2.1, but you have pandas 1.5.3 which is incompatible.\n",
            "treescope 0.1.9 requires numpy>=1.25.2, but you have numpy 1.24.4 which is incompatible.\n",
            "mizani 0.13.1 requires pandas>=2.2.0, but you have pandas 1.5.3 which is incompatible.\n",
            "pymc 5.21.1 requires numpy>=1.25.0, but you have numpy 1.24.4 which is incompatible.\n",
            "dask-cudf-cu12 25.2.2 requires pandas<2.2.4dev0,>=2.0, but you have pandas 1.5.3 which is incompatible.\n",
            "cudf-cu12 25.2.1 requires pandas<2.2.4dev0,>=2.0, but you have pandas 1.5.3 which is incompatible.\n",
            "blosc2 3.2.1 requires numpy>=1.26, but you have numpy 1.24.4 which is incompatible.\n",
            "plotnine 0.14.5 requires pandas>=2.2.0, but you have pandas 1.5.3 which is incompatible.\n",
            "scikit-image 0.25.2 requires scipy>=1.11.4, but you have scipy 1.10.1 which is incompatible.\n",
            "dask-expr 1.1.21 requires pandas>=2, but you have pandas 1.5.3 which is incompatible.\n",
            "jax 0.5.2 requires numpy>=1.25, but you have numpy 1.24.4 which is incompatible.\n",
            "jax 0.5.2 requires scipy>=1.11.1, but you have scipy 1.10.1 which is incompatible.\n",
            "tensorflow 2.18.0 requires numpy<2.1.0,>=1.26.0, but you have numpy 1.24.4 which is incompatible.\n",
            "jaxlib 0.5.1 requires numpy>=1.25, but you have numpy 1.24.4 which is incompatible.\n",
            "jaxlib 0.5.1 requires scipy>=1.11.1, but you have scipy 1.10.1 which is incompatible.\n",
            "cvxpy 1.6.4 requires scipy>=1.11.0, but you have scipy 1.10.1 which is incompatible.\u001b[0m\u001b[31m\n",
            "\u001b[0mSuccessfully installed numpy-1.24.4\n"
          ]
        },
        {
          "output_type": "display_data",
          "data": {
            "application/vnd.colab-display-data+json": {
              "pip_warning": {
                "packages": [
                  "numpy"
                ]
              },
              "id": "38270efeac1d44dab5c9a1236ee3db24"
            }
          },
          "metadata": {}
        },
        {
          "output_type": "stream",
          "name": "stdout",
          "text": [
            "Collecting pyLDAvis\n",
            "  Downloading pyLDAvis-3.4.1-py3-none-any.whl.metadata (4.2 kB)\n",
            "Requirement already satisfied: numpy>=1.24.2 in /usr/local/lib/python3.11/dist-packages (from pyLDAvis) (1.24.4)\n",
            "Requirement already satisfied: scipy in /usr/local/lib/python3.11/dist-packages (from pyLDAvis) (1.10.1)\n",
            "Collecting pandas>=2.0.0 (from pyLDAvis)\n",
            "  Downloading pandas-2.2.3-cp311-cp311-manylinux_2_17_x86_64.manylinux2014_x86_64.whl.metadata (89 kB)\n",
            "\u001b[2K     \u001b[90m━━━━━━━━━━━━━━━━━━━━━━━━━━━━━━━━━━━━━━━━\u001b[0m \u001b[32m89.9/89.9 kB\u001b[0m \u001b[31m2.2 MB/s\u001b[0m eta \u001b[36m0:00:00\u001b[0m\n",
            "\u001b[?25hRequirement already satisfied: joblib>=1.2.0 in /usr/local/lib/python3.11/dist-packages (from pyLDAvis) (1.4.2)\n",
            "Requirement already satisfied: jinja2 in /usr/local/lib/python3.11/dist-packages (from pyLDAvis) (3.1.6)\n",
            "Requirement already satisfied: numexpr in /usr/local/lib/python3.11/dist-packages (from pyLDAvis) (2.10.2)\n",
            "Collecting funcy (from pyLDAvis)\n",
            "  Downloading funcy-2.0-py2.py3-none-any.whl.metadata (5.9 kB)\n",
            "Requirement already satisfied: scikit-learn>=1.0.0 in /usr/local/lib/python3.11/dist-packages (from pyLDAvis) (1.6.1)\n",
            "Requirement already satisfied: gensim in /usr/local/lib/python3.11/dist-packages (from pyLDAvis) (4.3.0)\n",
            "Requirement already satisfied: setuptools in /usr/local/lib/python3.11/dist-packages (from pyLDAvis) (75.2.0)\n",
            "Requirement already satisfied: python-dateutil>=2.8.2 in /usr/local/lib/python3.11/dist-packages (from pandas>=2.0.0->pyLDAvis) (2.8.2)\n",
            "Requirement already satisfied: pytz>=2020.1 in /usr/local/lib/python3.11/dist-packages (from pandas>=2.0.0->pyLDAvis) (2025.2)\n",
            "Requirement already satisfied: tzdata>=2022.7 in /usr/local/lib/python3.11/dist-packages (from pandas>=2.0.0->pyLDAvis) (2025.2)\n",
            "Requirement already satisfied: threadpoolctl>=3.1.0 in /usr/local/lib/python3.11/dist-packages (from scikit-learn>=1.0.0->pyLDAvis) (3.6.0)\n",
            "Requirement already satisfied: smart-open>=1.8.1 in /usr/local/lib/python3.11/dist-packages (from gensim->pyLDAvis) (7.1.0)\n",
            "Requirement already satisfied: FuzzyTM>=0.4.0 in /usr/local/lib/python3.11/dist-packages (from gensim->pyLDAvis) (2.0.9)\n",
            "Requirement already satisfied: MarkupSafe>=2.0 in /usr/local/lib/python3.11/dist-packages (from jinja2->pyLDAvis) (3.0.2)\n",
            "Requirement already satisfied: pyfume in /usr/local/lib/python3.11/dist-packages (from FuzzyTM>=0.4.0->gensim->pyLDAvis) (0.3.4)\n",
            "Requirement already satisfied: six>=1.5 in /usr/local/lib/python3.11/dist-packages (from python-dateutil>=2.8.2->pandas>=2.0.0->pyLDAvis) (1.17.0)\n",
            "Requirement already satisfied: wrapt in /usr/local/lib/python3.11/dist-packages (from smart-open>=1.8.1->gensim->pyLDAvis) (1.17.2)\n",
            "Requirement already satisfied: simpful==2.12.0 in /usr/local/lib/python3.11/dist-packages (from pyfume->FuzzyTM>=0.4.0->gensim->pyLDAvis) (2.12.0)\n",
            "Requirement already satisfied: fst-pso==1.8.1 in /usr/local/lib/python3.11/dist-packages (from pyfume->FuzzyTM>=0.4.0->gensim->pyLDAvis) (1.8.1)\n",
            "INFO: pip is looking at multiple versions of pyfume to determine which version is compatible with other requirements. This could take a while.\n",
            "Collecting pyfume (from FuzzyTM>=0.4.0->gensim->pyLDAvis)\n",
            "  Downloading pyFUME-0.3.1-py3-none-any.whl.metadata (9.7 kB)\n",
            "Requirement already satisfied: typing-extensions in /usr/local/lib/python3.11/dist-packages (from pyfume->FuzzyTM>=0.4.0->gensim->pyLDAvis) (4.13.0)\n",
            "Requirement already satisfied: miniful in /usr/local/lib/python3.11/dist-packages (from fst-pso==1.8.1->pyfume->FuzzyTM>=0.4.0->gensim->pyLDAvis) (0.0.6)\n",
            "Downloading pyLDAvis-3.4.1-py3-none-any.whl (2.6 MB)\n",
            "\u001b[2K   \u001b[90m━━━━━━━━━━━━━━━━━━━━━━━━━━━━━━━━━━━━━━━━\u001b[0m \u001b[32m2.6/2.6 MB\u001b[0m \u001b[31m32.3 MB/s\u001b[0m eta \u001b[36m0:00:00\u001b[0m\n",
            "\u001b[?25hDownloading pandas-2.2.3-cp311-cp311-manylinux_2_17_x86_64.manylinux2014_x86_64.whl (13.1 MB)\n",
            "\u001b[2K   \u001b[90m━━━━━━━━━━━━━━━━━━━━━━━━━━━━━━━━━━━━━━━━\u001b[0m \u001b[32m13.1/13.1 MB\u001b[0m \u001b[31m69.5 MB/s\u001b[0m eta \u001b[36m0:00:00\u001b[0m\n",
            "\u001b[?25hDownloading funcy-2.0-py2.py3-none-any.whl (30 kB)\n",
            "Downloading pyFUME-0.3.1-py3-none-any.whl (59 kB)\n",
            "\u001b[2K   \u001b[90m━━━━━━━━━━━━━━━━━━━━━━━━━━━━━━━━━━━━━━━━\u001b[0m \u001b[32m59.6/59.6 kB\u001b[0m \u001b[31m4.9 MB/s\u001b[0m eta \u001b[36m0:00:00\u001b[0m\n",
            "\u001b[?25hInstalling collected packages: funcy, pandas, pyfume, pyLDAvis\n",
            "  Attempting uninstall: pandas\n",
            "    Found existing installation: pandas 1.5.3\n",
            "    Uninstalling pandas-1.5.3:\n",
            "      Successfully uninstalled pandas-1.5.3\n",
            "  Attempting uninstall: pyfume\n",
            "    Found existing installation: pyFUME 0.3.4\n",
            "    Uninstalling pyFUME-0.3.4:\n",
            "      Successfully uninstalled pyFUME-0.3.4\n",
            "\u001b[31mERROR: pip's dependency resolver does not currently take into account all the packages that are installed. This behaviour is the source of the following dependency conflicts.\n",
            "google-colab 1.0.0 requires pandas==2.2.2, but you have pandas 2.2.3 which is incompatible.\n",
            "pymc 5.21.1 requires numpy>=1.25.0, but you have numpy 1.24.4 which is incompatible.\u001b[0m\u001b[31m\n",
            "\u001b[0mSuccessfully installed funcy-2.0 pandas-2.2.3 pyLDAvis-3.4.1 pyfume-0.3.1\n",
            "Collecting sumy\n",
            "  Downloading sumy-0.11.0-py2.py3-none-any.whl.metadata (7.5 kB)\n",
            "Collecting docopt<0.7,>=0.6.1 (from sumy)\n",
            "  Downloading docopt-0.6.2.tar.gz (25 kB)\n",
            "  Preparing metadata (setup.py) ... \u001b[?25l\u001b[?25hdone\n",
            "Collecting breadability>=0.1.20 (from sumy)\n",
            "  Downloading breadability-0.1.20.tar.gz (32 kB)\n",
            "  Preparing metadata (setup.py) ... \u001b[?25l\u001b[?25hdone\n",
            "Requirement already satisfied: requests>=2.7.0 in /usr/local/lib/python3.11/dist-packages (from sumy) (2.32.3)\n",
            "Collecting pycountry>=18.2.23 (from sumy)\n",
            "  Downloading pycountry-24.6.1-py3-none-any.whl.metadata (12 kB)\n",
            "Requirement already satisfied: nltk>=3.0.2 in /usr/local/lib/python3.11/dist-packages (from sumy) (3.9.1)\n",
            "Requirement already satisfied: chardet in /usr/local/lib/python3.11/dist-packages (from breadability>=0.1.20->sumy) (5.2.0)\n",
            "Requirement already satisfied: lxml>=2.0 in /usr/local/lib/python3.11/dist-packages (from breadability>=0.1.20->sumy) (5.3.1)\n",
            "Requirement already satisfied: click in /usr/local/lib/python3.11/dist-packages (from nltk>=3.0.2->sumy) (8.1.8)\n",
            "Requirement already satisfied: joblib in /usr/local/lib/python3.11/dist-packages (from nltk>=3.0.2->sumy) (1.4.2)\n",
            "Requirement already satisfied: regex>=2021.8.3 in /usr/local/lib/python3.11/dist-packages (from nltk>=3.0.2->sumy) (2024.11.6)\n",
            "Requirement already satisfied: tqdm in /usr/local/lib/python3.11/dist-packages (from nltk>=3.0.2->sumy) (4.67.1)\n",
            "Requirement already satisfied: charset-normalizer<4,>=2 in /usr/local/lib/python3.11/dist-packages (from requests>=2.7.0->sumy) (3.4.1)\n",
            "Requirement already satisfied: idna<4,>=2.5 in /usr/local/lib/python3.11/dist-packages (from requests>=2.7.0->sumy) (3.10)\n",
            "Requirement already satisfied: urllib3<3,>=1.21.1 in /usr/local/lib/python3.11/dist-packages (from requests>=2.7.0->sumy) (2.3.0)\n",
            "Requirement already satisfied: certifi>=2017.4.17 in /usr/local/lib/python3.11/dist-packages (from requests>=2.7.0->sumy) (2025.1.31)\n",
            "Downloading sumy-0.11.0-py2.py3-none-any.whl (97 kB)\n",
            "\u001b[2K   \u001b[90m━━━━━━━━━━━━━━━━━━━━━━━━━━━━━━━━━━━━━━━━\u001b[0m \u001b[32m97.3/97.3 kB\u001b[0m \u001b[31m4.6 MB/s\u001b[0m eta \u001b[36m0:00:00\u001b[0m\n",
            "\u001b[?25hDownloading pycountry-24.6.1-py3-none-any.whl (6.3 MB)\n",
            "\u001b[2K   \u001b[90m━━━━━━━━━━━━━━━━━━━━━━━━━━━━━━━━━━━━━━━━\u001b[0m \u001b[32m6.3/6.3 MB\u001b[0m \u001b[31m49.1 MB/s\u001b[0m eta \u001b[36m0:00:00\u001b[0m\n",
            "\u001b[?25hBuilding wheels for collected packages: breadability, docopt\n",
            "  Building wheel for breadability (setup.py) ... \u001b[?25l\u001b[?25hdone\n",
            "  Created wheel for breadability: filename=breadability-0.1.20-py2.py3-none-any.whl size=21693 sha256=6542ae3811e3450da81b51184893b98ed75d1b7faad9eb53dfa7868342b500f4\n",
            "  Stored in directory: /root/.cache/pip/wheels/4d/57/58/7e3d7fedf51fe248b7fcee3df6945ae28638e22cddf01eb92b\n",
            "  Building wheel for docopt (setup.py) ... \u001b[?25l\u001b[?25hdone\n",
            "  Created wheel for docopt: filename=docopt-0.6.2-py2.py3-none-any.whl size=13706 sha256=f5314a3855694ab799af568ec6bd8a52747ed621029cc5e1ff92531e4528c990\n",
            "  Stored in directory: /root/.cache/pip/wheels/1a/b0/8c/4b75c4116c31f83c8f9f047231251e13cc74481cca4a78a9ce\n",
            "Successfully built breadability docopt\n",
            "Installing collected packages: docopt, pycountry, breadability, sumy\n",
            "Successfully installed breadability-0.1.20 docopt-0.6.2 pycountry-24.6.1 sumy-0.11.0\n",
            "Collecting snowflake-connector-python\n",
            "  Downloading snowflake_connector_python-3.14.0-cp311-cp311-manylinux_2_17_x86_64.manylinux2014_x86_64.whl.metadata (67 kB)\n",
            "\u001b[2K     \u001b[90m━━━━━━━━━━━━━━━━━━━━━━━━━━━━━━━━━━━━━━━━\u001b[0m \u001b[32m67.8/67.8 kB\u001b[0m \u001b[31m1.8 MB/s\u001b[0m eta \u001b[36m0:00:00\u001b[0m\n",
            "\u001b[?25hCollecting asn1crypto<2.0.0,>0.24.0 (from snowflake-connector-python)\n",
            "  Downloading asn1crypto-1.5.1-py2.py3-none-any.whl.metadata (13 kB)\n",
            "Requirement already satisfied: cffi<2.0.0,>=1.9 in /usr/local/lib/python3.11/dist-packages (from snowflake-connector-python) (1.17.1)\n",
            "Requirement already satisfied: cryptography>=3.1.0 in /usr/local/lib/python3.11/dist-packages (from snowflake-connector-python) (43.0.3)\n",
            "Requirement already satisfied: pyOpenSSL<26.0.0,>=22.0.0 in /usr/local/lib/python3.11/dist-packages (from snowflake-connector-python) (24.2.1)\n",
            "Requirement already satisfied: pyjwt<3.0.0 in /usr/local/lib/python3.11/dist-packages (from snowflake-connector-python) (2.10.1)\n",
            "Requirement already satisfied: pytz in /usr/local/lib/python3.11/dist-packages (from snowflake-connector-python) (2025.2)\n",
            "Requirement already satisfied: requests<3.0.0 in /usr/local/lib/python3.11/dist-packages (from snowflake-connector-python) (2.32.3)\n",
            "Requirement already satisfied: packaging in /usr/local/lib/python3.11/dist-packages (from snowflake-connector-python) (24.2)\n",
            "Requirement already satisfied: charset_normalizer<4,>=2 in /usr/local/lib/python3.11/dist-packages (from snowflake-connector-python) (3.4.1)\n",
            "Requirement already satisfied: idna<4,>=2.5 in /usr/local/lib/python3.11/dist-packages (from snowflake-connector-python) (3.10)\n",
            "Requirement already satisfied: certifi>=2017.4.17 in /usr/local/lib/python3.11/dist-packages (from snowflake-connector-python) (2025.1.31)\n",
            "Requirement already satisfied: typing_extensions<5,>=4.3 in /usr/local/lib/python3.11/dist-packages (from snowflake-connector-python) (4.13.0)\n",
            "Requirement already satisfied: filelock<4,>=3.5 in /usr/local/lib/python3.11/dist-packages (from snowflake-connector-python) (3.18.0)\n",
            "Requirement already satisfied: sortedcontainers>=2.4.0 in /usr/local/lib/python3.11/dist-packages (from snowflake-connector-python) (2.4.0)\n",
            "Requirement already satisfied: platformdirs<5.0.0,>=2.6.0 in /usr/local/lib/python3.11/dist-packages (from snowflake-connector-python) (4.3.7)\n",
            "Collecting tomlkit (from snowflake-connector-python)\n",
            "  Downloading tomlkit-0.13.2-py3-none-any.whl.metadata (2.7 kB)\n",
            "Requirement already satisfied: pycparser in /usr/local/lib/python3.11/dist-packages (from cffi<2.0.0,>=1.9->snowflake-connector-python) (2.22)\n",
            "Requirement already satisfied: urllib3<3,>=1.21.1 in /usr/local/lib/python3.11/dist-packages (from requests<3.0.0->snowflake-connector-python) (2.3.0)\n",
            "Downloading snowflake_connector_python-3.14.0-cp311-cp311-manylinux_2_17_x86_64.manylinux2014_x86_64.whl (2.5 MB)\n",
            "\u001b[2K   \u001b[90m━━━━━━━━━━━━━━━━━━━━━━━━━━━━━━━━━━━━━━━━\u001b[0m \u001b[32m2.5/2.5 MB\u001b[0m \u001b[31m29.9 MB/s\u001b[0m eta \u001b[36m0:00:00\u001b[0m\n",
            "\u001b[?25hDownloading asn1crypto-1.5.1-py2.py3-none-any.whl (105 kB)\n",
            "\u001b[2K   \u001b[90m━━━━━━━━━━━━━━━━━━━━━━━━━━━━━━━━━━━━━━━━\u001b[0m \u001b[32m105.0/105.0 kB\u001b[0m \u001b[31m8.7 MB/s\u001b[0m eta \u001b[36m0:00:00\u001b[0m\n",
            "\u001b[?25hDownloading tomlkit-0.13.2-py3-none-any.whl (37 kB)\n",
            "Installing collected packages: asn1crypto, tomlkit, snowflake-connector-python\n",
            "Successfully installed asn1crypto-1.5.1 snowflake-connector-python-3.14.0 tomlkit-0.13.2\n",
            "Requirement already satisfied: requests in /usr/local/lib/python3.11/dist-packages (2.32.3)\n",
            "Requirement already satisfied: charset-normalizer<4,>=2 in /usr/local/lib/python3.11/dist-packages (from requests) (3.4.1)\n",
            "Requirement already satisfied: idna<4,>=2.5 in /usr/local/lib/python3.11/dist-packages (from requests) (3.10)\n",
            "Requirement already satisfied: urllib3<3,>=1.21.1 in /usr/local/lib/python3.11/dist-packages (from requests) (2.3.0)\n",
            "Requirement already satisfied: certifi>=2017.4.17 in /usr/local/lib/python3.11/dist-packages (from requests) (2025.1.31)\n",
            "Requirement already satisfied: beautifulsoup4 in /usr/local/lib/python3.11/dist-packages (4.13.3)\n",
            "Requirement already satisfied: soupsieve>1.2 in /usr/local/lib/python3.11/dist-packages (from beautifulsoup4) (2.6)\n",
            "Requirement already satisfied: typing-extensions>=4.0.0 in /usr/local/lib/python3.11/dist-packages (from beautifulsoup4) (4.13.0)\n"
          ]
        }
      ]
    },
    {
      "cell_type": "code",
      "source": [
        "# Import all necessary libraries\n",
        "import os\n",
        "import numpy as np\n",
        "import pandas as pd\n",
        "import nltk\n",
        "import random\n",
        "import re\n",
        "import requests\n",
        "from bs4 import BeautifulSoup\n",
        "import snowflake.connector\n",
        "\n",
        "# Download NLTK resources\n",
        "nltk.download('wordnet')\n",
        "nltk.download('stopwords')\n",
        "nltk.download('punkt')\n",
        "\n",
        "# NLTK imports\n",
        "from nltk.tokenize import RegexpTokenizer, sent_tokenize\n",
        "from nltk.stem import WordNetLemmatizer\n",
        "from nltk.corpus import wordnet, stopwords\n",
        "\n",
        "# Gensim imports\n",
        "from gensim import corpora\n",
        "from gensim.corpora import Dictionary\n",
        "from gensim.models import LdaModel\n",
        "from gensim.utils import simple_preprocess\n",
        "from gensim.parsing.preprocessing import STOPWORDS\n",
        "\n",
        "# PyLDAvis\n",
        "import pyLDAvis\n",
        "import pyLDAvis.gensim_models as gensimvis\n",
        "\n",
        "# Sumy libraries\n",
        "from sumy.parsers.plaintext import PlaintextParser\n",
        "from sumy.summarizers.lex_rank import LexRankSummarizer\n",
        "from sumy.nlp.tokenizers import Tokenizer\n",
        "\n",
        "print(\"All imports successful!\")"
      ],
      "metadata": {
        "colab": {
          "base_uri": "https://localhost:8080/"
        },
        "id": "ETVa-_x7Ns3X",
        "outputId": "f81922b6-f267-45a0-cb54-b014537115d2"
      },
      "execution_count": 3,
      "outputs": [
        {
          "output_type": "stream",
          "name": "stderr",
          "text": [
            "[nltk_data] Downloading package wordnet to /root/nltk_data...\n",
            "[nltk_data] Downloading package stopwords to /root/nltk_data...\n",
            "[nltk_data]   Unzipping corpora/stopwords.zip.\n",
            "[nltk_data] Downloading package punkt to /root/nltk_data...\n",
            "[nltk_data]   Unzipping tokenizers/punkt.zip.\n"
          ]
        },
        {
          "output_type": "stream",
          "name": "stdout",
          "text": [
            "All imports successful!\n"
          ]
        }
      ]
    },
    {
      "cell_type": "markdown",
      "metadata": {
        "id": "IOLSOSB0il9i"
      },
      "source": [
        "# Corpus\n",
        "\n",
        "The corpus used was assembled using Beautiful Soup to scrape a pubic forum specific to the BMW E9 (www.e9coupe.com). The data was compiled and stored in a Snowflake database for multiple NLP projects, including LDA, RAG, GRU and LSTM. Furture ideas include supplementing the forum text with an existing users guide specific to this model."
      ]
    },
    {
      "cell_type": "code",
      "source": [
        "path_to_credentials = '/content/drive/Othercomputers/My Mac/Git/credentials/snowflake_credentials.txt'\n",
        "lda_model_path = '/content/drive/Othercomputers/My Mac/Git/Language_Models/lda_model'\n",
        "dictionary_path = '/content/drive/Othercomputers/My Mac/Git/Language_Models/datasets'\n",
        "\n"
      ],
      "metadata": {
        "id": "UTnppJEsle5m"
      },
      "execution_count": 4,
      "outputs": []
    },
    {
      "cell_type": "markdown",
      "source": [
        "## Load data"
      ],
      "metadata": {
        "id": "yZQBtSkZ4J4H"
      }
    },
    {
      "cell_type": "code",
      "source": [
        "# Data is stored in Snowflake\n",
        "\n",
        "# Main sequence\n",
        "\n",
        "def load_credentials(path_to_credentials):\n",
        "    with open(path_to_credentials, 'r') as file:\n",
        "        for line_num, line in enumerate(file, start=1):\n",
        "            line = line.strip()\n",
        "            if line and '=' in line:\n",
        "                key, value = line.split('=')\n",
        "                os.environ[key] = value\n",
        "            else:\n",
        "                print(f\"Issue with line {line_num} in {path_to_credentials}: '{line}'\")\n",
        "\n",
        "def fetch_data_from_snowflake():\n",
        "    conn = snowflake.connector.connect(\n",
        "        user=os.environ.get('USER'),\n",
        "        password=os.environ.get('PASSWORD'),\n",
        "        account=os.environ.get('ACCOUNT'),\n",
        "    )\n",
        "\n",
        "    cur = conn.cursor()\n",
        "\n",
        "    query = \"\"\"\n",
        "    SELECT THREAD_TITLE, THREAD_FIRST_POST FROM \"E9_CORPUS\".\"E9_CORPUS_SCHEMA\".\"E9_FORUM_CORPUS\";\n",
        "    \"\"\"\n",
        "    cur.execute(query)\n",
        "    e9_forum_corpus = cur.fetch_pandas_all()\n",
        "\n",
        "    cur.close()\n",
        "    conn.close()\n",
        "\n",
        "    return e9_forum_corpus\n",
        "\n",
        "\n",
        "\n",
        "\n",
        "# Load credentials\n",
        "# load_credentials(path_to_credentials)\n",
        "\n",
        "# Fetch data from Snowflake\n",
        "# df_raw = fetch_data_from_snowflake()\n",
        "\n",
        "# df_tensorboard = df_raw.copy()\n",
        "\n",
        "# df_tensorboard.to_csv('/content/drive/MyDrive/Colab Notebooks/NLP/NLP_with_Tensorboard/df_tensorboard.csv', index=False)\n"
      ],
      "metadata": {
        "id": "-D7Xc9453TFD"
      },
      "execution_count": 5,
      "outputs": []
    },
    {
      "cell_type": "code",
      "execution_count": 6,
      "metadata": {
        "id": "LTKkPGoBkxvJ"
      },
      "outputs": [],
      "source": [
        "#Process data for LDA\n",
        "\n",
        "lda_num_topics = 10\n",
        "\n",
        "def load_credentials(path_to_credentials):\n",
        "    with open(path_to_credentials, 'r') as file:\n",
        "        for line_num, line in enumerate(file, start=1):\n",
        "            line = line.strip()\n",
        "            if line and '=' in line:\n",
        "                key, value = line.split('=')\n",
        "                os.environ[key] = value\n",
        "            else:\n",
        "                print(f\"Issue with line {line_num} in {path_to_credentials}: '{line}'\")\n",
        "\n",
        "\n",
        "def fetch_data_from_snowflake():\n",
        "    conn = snowflake.connector.connect(\n",
        "        user=os.environ.get('USER'),\n",
        "        password=os.environ.get('PASSWORD'),\n",
        "        account=os.environ.get('ACCOUNT'),\n",
        "    )\n",
        "\n",
        "    cur = conn.cursor()\n",
        "\n",
        "    query = \"\"\"\n",
        "    SELECT THREAD_TITLE, THREAD_FIRST_POST FROM \"E9_CORPUS\".\"E9_CORPUS_SCHEMA\".\"E9_FORUM_CORPUS\";\n",
        "    \"\"\"\n",
        "    cur.execute(query)\n",
        "    e9_forum_corpus = cur.fetch_pandas_all()\n",
        "\n",
        "    cur.close()\n",
        "    conn.close()\n",
        "\n",
        "    return e9_forum_corpus\n",
        "\n",
        "# Create a longer form \"TITLE\" for potential use as a QUESTION\n",
        "def engineer_data(e9_forum_corpus):\n",
        "    e9_forum_corpus['THREAD_TITLE_EXP'] = e9_forum_corpus['THREAD_TITLE'] + \" \" + e9_forum_corpus['THREAD_FIRST_POST']\n",
        "    return e9_forum_corpus\n",
        "\n",
        "# Drop NA and Stopwords and Lemmatize\n",
        "def preprocess_data(df):\n",
        "    #df = df[['THREAD_TITLE_EXP']].copy()\n",
        "    df = df[['THREAD_TITLE']].copy()\n",
        "    df.dropna(inplace=True)\n",
        "    df['THREAD_TITLE'] = df['THREAD_TITLE'].astype(str)\n",
        "\n",
        "    #df['THREAD_TITLE_EXP'] = df['THREAD_TITLE_EXP'].astype(str)\n",
        "\n",
        "    lemmatizer = WordNetLemmatizer()\n",
        "    stop_words = set(stopwords.words('english')).union({'car', 'csi', 'cs', 'csl', 'e9', 'coupe', 'http', 'https', 'www', 'ebay', 'bmw', 'html'})\n",
        "\n",
        "    # Remove URLs\n",
        "    def remove_urls(text):\n",
        "        url_pattern = re.compile(r'https?://\\S+|www\\.\\S+')\n",
        "        return url_pattern.sub(r'', text)\n",
        "\n",
        "    # Function to preprocess text\n",
        "    def preprocess(text):\n",
        "        text = remove_urls(text)\n",
        "        return [lemmatizer.lemmatize(word) for word in text.lower().split() if word not in stop_words]\n",
        "\n",
        "    #df['PROCESSED'] = df['THREAD_TITLE_EXP'].map(preprocess)\n",
        "    df['PROCESSED'] = df['THREAD_TITLE'].map(preprocess)\n",
        "\n",
        "    return df\n",
        "\n",
        "def vectorize_data(df):\n",
        "    dictionary = Dictionary(df['PROCESSED'])\n",
        "    corpus = [dictionary.doc2bow(doc) for doc in df['PROCESSED']]\n",
        "    return df, dictionary, corpus\n",
        "\n",
        "def train_lda_model(corpus, dictionary, num_topics=lda_num_topics, random_state=42, passes=10):\n",
        "    lda = LdaModel(corpus=corpus, id2word=dictionary, num_topics=num_topics, random_state=random_state, passes=passes)\n",
        "    return lda\n",
        "\n",
        "def review_topics(lda):\n",
        "    for idx, topic in lda.print_topics(-1):\n",
        "        print(f\"Topic: {idx} \\nWords: {topic}\\n\")\n",
        "\n",
        "def assign_topics(lda, corpus, df):\n",
        "    topics = [lda[doc] for doc in corpus]\n",
        "    df['TOPICS'] = [[(int(topic[0]), float(topic[1])) for topic in doc] for doc in topics]  # Ensure topics are JSON serializable\n",
        "    return df\n",
        "\n",
        "def prepare_visualization_data(lda, corpus, dictionary):\n",
        "    vis_data = gensimvis.prepare(lda, corpus, dictionary)\n",
        "    return vis_data\n",
        "\n"
      ]
    },
    {
      "cell_type": "code",
      "source": [
        "# Generate LDA\n",
        "\n",
        "# New UDF to save the LDA model and dictionary\n",
        "def save_lda_model_and_dictionary(lda, dictionary, lda_model_path, dictionary_path):\n",
        "    # Create directories if they don't exist\n",
        "    import os\n",
        "    os.makedirs(os.path.dirname(lda_model_path), exist_ok=True)\n",
        "    os.makedirs(dictionary_path, exist_ok=True)\n",
        "\n",
        "    # Save model - append a filename if lda_model_path is a directory\n",
        "    if os.path.isdir(lda_model_path):\n",
        "        lda_model_path = os.path.join(lda_model_path, 'lda_model')\n",
        "    lda.save(lda_model_path)\n",
        "\n",
        "    # Save dictionary - create a specific filename in the dictionary_path\n",
        "    dictionary_file_path = os.path.join(dictionary_path, 'dictionary.dict')\n",
        "    dictionary.save(dictionary_file_path)\n",
        "\n",
        "    print(f\"LDA model saved to: {lda_model_path}\")\n",
        "    print(f\"Dictionary saved to: {dictionary_file_path}\")\n",
        "\n",
        "# Load credentials\n",
        "load_credentials(path_to_credentials)\n",
        "\n",
        "# Fetch data from Snowflake\n",
        "e9_forum_corpus = fetch_data_from_snowflake()\n",
        "\n",
        "# Engineer the data\n",
        "e9_forum_corpus = engineer_data(e9_forum_corpus)\n",
        "\n",
        "# Preprocess the data\n",
        "df = preprocess_data(e9_forum_corpus)\n",
        "\n",
        "# Vectorize the data\n",
        "df, dictionary, corpus = vectorize_data(df)\n",
        "\n",
        "# Train the LDA Model\n",
        "lda = train_lda_model(corpus, dictionary)\n",
        "\n",
        "# Save the LDA model and dictionary\n",
        "save_lda_model_and_dictionary(lda, dictionary, lda_model_path, dictionary_path)\n",
        "\n",
        "# Review the Topics\n",
        "review_topics(lda)\n",
        "\n",
        "# Function to assign topics to documents\n",
        "def assign_topics(lda, corpus, df):\n",
        "    topic_assignments = []\n",
        "    for i, row in enumerate(lda[corpus]):\n",
        "        row = sorted(row, key=lambda x: (x[1]), reverse=True)\n",
        "        topic_assignments.append(row[0][0])\n",
        "    df['Topic'] = topic_assignments\n",
        "    return df\n",
        "\n",
        "# Assign Documents to Topics\n",
        "df = assign_topics(lda, corpus, df)\n",
        "\n",
        "# Prepare the visualization data\n",
        "vis_data = prepare_visualization_data(lda, corpus, dictionary)\n",
        "\n",
        "# Visualize\n",
        "pyLDAvis.display(vis_data)\n"
      ],
      "metadata": {
        "id": "Tl-4RJD_xyQt",
        "colab": {
          "base_uri": "https://localhost:8080/",
          "height": 1000
        },
        "outputId": "1a97f447-ed6c-49b3-853a-75ad0a43d8ce"
      },
      "execution_count": 7,
      "outputs": [
        {
          "output_type": "stream",
          "name": "stdout",
          "text": [
            "LDA model saved to: /content/drive/Othercomputers/My Mac/Git/Language_Models/lda_model\n",
            "Dictionary saved to: /content/drive/Othercomputers/My Mac/Git/Language_Models/datasets/dictionary.dict\n",
            "Topic: 0 \n",
            "Words: 0.032*\"-\" + 0.029*\"sale\" + 0.020*\"3.0\" + 0.016*\"removal\" + 0.014*\"uk\" + 0.014*\"anyone\" + 0.013*\"2\" + 0.010*\"2000\" + 0.010*\"looking\" + 0.010*\"lock\"\n",
            "\n",
            "Topic: 1 \n",
            "Words: 0.033*\"question\" + 0.018*\"-\" + 0.016*\"3.0\" + 0.015*\"spotting\" + 0.015*\"light\" + 0.014*\"mirror\" + 0.013*\"factory\" + 0.012*\"head\" + 0.011*\"year\" + 0.011*\"fuel\"\n",
            "\n",
            "Topic: 2 \n",
            "Words: 0.029*\"front\" + 0.029*\"steering\" + 0.029*\"manual\" + 0.019*\"wheel\" + 0.015*\"question\" + 0.013*\"trunk\" + 0.011*\"3.0\" + 0.011*\"air\" + 0.011*\"&\" + 0.010*\"box\"\n",
            "\n",
            "Topic: 3 \n",
            "Words: 0.017*\"question\" + 0.015*\"watkins\" + 0.013*\"?\" + 0.011*\"glen\" + 0.011*\"tool\" + 0.010*\"sale\" + 0.010*\"vintage\" + 0.009*\"wiper\" + 0.009*\"friday\" + 0.009*\"w/\"\n",
            "\n",
            "Topic: 4 \n",
            "Words: 0.024*\"3.0\" + 0.020*\"rear\" + 0.016*\"1973\" + 0.016*\"need\" + 0.014*\"trim\" + 0.014*\"looking\" + 0.012*\"area\" + 0.011*\"!\" + 0.011*\"master\" + 0.011*\"part\"\n",
            "\n",
            "Topic: 5 \n",
            "Words: 0.045*\"new\" + 0.020*\"pic\" + 0.014*\"san\" + 0.013*\"wheel\" + 0.013*\"pump\" + 0.010*\"running\" + 0.009*\"need\" + 0.009*\"advice\" + 0.009*\"tire\" + 0.009*\"ignition\"\n",
            "\n",
            "Topic: 6 \n",
            "Words: 0.037*\"seat\" + 0.016*\"rear\" + 0.014*\"video\" + 0.012*\"remove\" + 0.012*\"floor\" + 0.011*\"front\" + 0.008*\"'73\" + 0.008*\"anyone\" + 0.007*\"3.0\" + 0.007*\"no\"\n",
            "\n",
            "Topic: 7 \n",
            "Words: 0.040*\"part\" + 0.035*\"sale\" + 0.017*\"area\" + 0.017*\"panel\" + 0.015*\"2800\" + 0.013*\"question\" + 0.012*\"bay\" + 0.012*\"restoration\" + 0.012*\"74\" + 0.011*\"needed\"\n",
            "\n",
            "Topic: 8 \n",
            "Words: 0.033*\"alpina\" + 0.032*\"engine\" + 0.019*\"power\" + 0.016*\"car\" + 0.015*\"speed\" + 0.014*\"wheel\" + 0.012*\"16\"\" + 0.010*\"transmission\" + 0.009*\"4\" + 0.009*\"fs:\"\n",
            "\n",
            "Topic: 9 \n",
            "Words: 0.059*\"window\" + 0.020*\"motor\" + 0.020*\"3.0cs\" + 0.019*\"wanted\" + 0.018*\"-\" + 0.017*\"calendar\" + 0.016*\"brake\" + 0.015*\"1974\" + 0.012*\"vintage\" + 0.012*\"electric\"\n",
            "\n"
          ]
        },
        {
          "output_type": "execute_result",
          "data": {
            "text/plain": [
              "<IPython.core.display.HTML object>"
            ],
            "text/html": [
              "\n",
              "<link rel=\"stylesheet\" type=\"text/css\" href=\"https://cdn.jsdelivr.net/gh/bmabey/pyLDAvis@3.4.0/pyLDAvis/js/ldavis.v1.0.0.css\">\n",
              "\n",
              "\n",
              "<div id=\"ldavis_el8731385956809416969110086870\" style=\"background-color:white;\"></div>\n",
              "<script type=\"text/javascript\">\n",
              "\n",
              "var ldavis_el8731385956809416969110086870_data = {\"mdsDat\": {\"x\": [-0.24760676476918989, 0.0008239001179372316, -0.058212546577240114, -0.017231580219362788, 0.04175782066408789, 0.12770534474570916, 0.05981422060755139, 0.10351808350518842, 0.02334418750091976, -0.033912665575601124], \"y\": [-0.0917914523972976, 0.04078037309377058, -0.016227140737766956, 0.20640103222116316, 0.02711237019638564, -0.10356679281123336, -0.07108300826165012, -0.07120820345988627, 0.10943783174110117, -0.029855009584586197], \"topics\": [1, 2, 3, 4, 5, 6, 7, 8, 9, 10], \"cluster\": [1, 1, 1, 1, 1, 1, 1, 1, 1, 1], \"Freq\": [12.234442069441414, 10.943133215236452, 10.715897591302335, 10.198204077935575, 10.16839788508319, 10.086464177335753, 9.475460278796504, 9.452941666535224, 8.406100123074681, 8.318958915258872]}, \"tinfo\": {\"Term\": [\"window\", \"new\", \"part\", \"alpina\", \"question\", \"seat\", \"sale\", \"engine\", \"steering\", \"manual\", \"front\", \"-\", \"rear\", \"power\", \"3.0\", \"3.0cs\", \"pic\", \"wheel\", \"area\", \"motor\", \"wanted\", \"car\", \"calendar\", \"panel\", \"need\", \"removal\", \"spotting\", \"brake\", \"speed\", \"2800\", \"alpina\", \"power\", \"car\", \"16\\\"\", \"coffee\", \"rim\", \"swap\", \"lug\", \"open\", \"early\", \"socal\", \"--\", \"made\", \"cruz\", \"noise\", \"vehicle\", \"january\", \"ac\", \"clutch\", \"1971\", \"storage\", \"style\", \"engine\", \"tranny\", \"nardi\", \"change\", \"stagger\", \"becker\", \"interested\", \"car?\", \"speed\", \"good\", \"5\", \"transmission\", \"santa\", \"fs:\", \"+\", \"4\", \"replacement\", \"spotted\", \"v\", \"wheel\", \"&\", \"best\", \"get\", \"anyone\", \"steering\", \"day\", \"radio\", \"sale\", \"3.0cs\", \"lock\", \"know\", \"project\", \"c\", \"value\", \"type\", \"72\", \"cover\", \"booster\", \"pressure\", \"available\", \"oem\", \"1966\", \"1\", \"exterior\", \"happy\", \"2\", \"console\", \"regulator\", \"u\", \"update\", \"rebuild\", \"tii\", \"???\", \"batmobile\", \"start\", \"jet\", \"seats?\", \"race\", \"molding\", \"removal\", \"2000\", \"uk\", \"picture\", \"-\", \"sale\", \"anyone\", \"3.0\", \"vol\", \"looking\", \"bolt\", \"blue\", \"old\", \"brake\", \"radio\", \"center\", \"new\", \"manual\", \"trunk\", \"sport\", \"key\", \"spare\", \"assembly\", \"sold\", \"newbie\", \"black\", \"bracket\", \"alternator\", \"worth?\", \"wiring\", \"longer,\", \"guide\", \"skin\", \"cs?\", \"blade\", \"thanks\", \"bushing\", \"replace\", \"sun\", \"heater\", \"grille\", \"subframe\", \"roof\", \"e3\", \"covering\", \"wtb-\", \"slop\", \"air\", \"spring\", \"steering\", \"3.0csi\", \"1972\", \"box\", \"front\", \"first\", \"fan\", \"hood\", \"&\", \"wheel\", \"strut\", \"question\", \"3.0\", \"headliner\", \"looking\", \"-\", \"pic\", \"running\", \"tire\", \"shift\", \"ignition\", \"francisco\", \"correct\", \"member\", \"diego\", \"distributor\", \"knob\", \"valve\", \"original\", \"rusty\", \"group\", \"glass\", \"sale-\", \"'colorado'\", \"size\", \"leak\", \"seen\", \"check\", \"campagnolo\", \"cca\", \"around\", \"brand\", \"recommendation\", \"suggestion\", \"buy\", \"design\", \"san\", \"pump\", \"new\", \"advice\", \"sunroof\", \"color\", \"paint\", \"wheel\", \"need\", \"old\", \"set\", \"-\", \"oil\", \"spotting\", \"light\", \"factory\", \"head\", \"year\", \"injector\", \"arm\", \"shock\", \"repair\", \"look\", \"bat\", \"cheap\", \"complete\", \"workshop\", \"clock\", \"system\", \"material\", \"tan\", \"temp\", \"going\", \"block\", \"speed,\", \"fleabay\", \"beam\", \"shelf\", \"taken\", \"year?\", \"brace\", \"3.5l\", \"'70\", \"mirror\", \"tail\", \"auto\", \"set\", \"rust\", \"question\", \"racing\", \"3.5\", \"fuel\", \"carpet\", \"conversion\", \"-\", \"interior\", \"3.0\", \"euro\", \"rear\", \"4\", \"kit\", \"new\", \"1973\", \"restoration\", \"74\", \"body\", \"speaker\", \"magazine\", \"shop\", \"exhaust\", \"speedometer\", \"removing\", \"header\", \"post\", \"back\", \"site\", \"auction\", \"dash\", \"difference\", \"pm\", \"lower\", \"csa\", \"\\\"\", \"fun\", \"emblem\", \"great\", \"housing\", \"zf\", \"e\", \"panel\", \"insurance\", \"potential\", \"s38\", \"2800\", \"part\", \"wood\", \"bay\", \"area\", \"73\", \"sale\", \"needed\", \"price\", \"roundel\", \"3.0cs\", \"question\", \"m30\", \"motor\", \"side\", \"-\", \"window\", \"wanted\", \"calendar\", \"1974\", \"electric\", \"right\", \"caliper\", \"grill\", \"cable\", \"a/c\", \"bar\", \"roll\", \"seal\", \"relay\", \"cam\", \"please\", \"nc\", \"vineyard\", \"may\", \"'74\", \"getting\", \"hey\", \"shipping\", \"went\", \"sway\", \"fs:battery\", \"relocation\", \"movie\", \"fs:e28\", \"run\", \"motor\", \"badge\", \"3.0cs\", \"door\", \"vintage\", \"brake\", \"upgrade\", \"without\", \"-\", \"front\", \"fuel\", \"part\", \"rear\", \"drive\", \"3.0\", \"trim\", \"!\", \"master\", \"plate\", \"chrome\", \"wtb\", \"license\", \"event\", \"2007\", \"carbs\", \"concorso\", \"last\", \"italiano\", \"headlight\", \"passenger\", \"sc\", \"bavaria\", \"inka\", \"work\", \"felt\", \"vienna\", \"driveshaft\", \"aftermarket\", \"topic,\", \"shifter\", \"name\", \"clone\", \"thing\", \"fuse\", \"sunday\", \"craigslist\", \"seattle\", \"1973\", \"need\", \"wire\", \"rear\", \"issue\", \"cylinder\", \"3.0\", \"area\", \"interior\", \"looking\", \"part\", \"bumper\", \"another\", \"picture\", \"brake\", \"watkins\", \"?\", \"glen\", \"tool\", \"friday\", \"w/\", \"weekend\", \"gathering\", \"german\", \"show\", \"tank\", \"rally\", \"two\", \"see\", \"short\", \"lsd\", \"guy\", \"1967\", \"install\", \"info\", \"find\", \"take\", \"m3\", \"e9?\", \"aptos\", \"coupevent\", \"like\", \"italian\", \"five\", \"71\", \"number\", \"one\", \"wiper\", \"coupe\", \"vintage\", \"gas\", \"question\", \"weber\", \"another\", \"sale\", \"looking\", \"new\", \"-\", \"seat\", \"video\", \"remove\", \"floor\", \"'73\", \"no\", \"fender\", \"ratio\", \"way\", \"selling\", \"letter\", \"raised\", \"chain\", \"belt\", \"meet\", \"amg\", \"ever\", \"seatbelt\", \"gearbox\", \"love\", \"pan\", \"close\", \"drawing\", \"e9s\", \"le\", \"man\", \"question.\", \"experience\", \"oh\", \"stuff\", \"la\", \"wanted:\", \"rear\", \"nice\", \"front\", \"roundel\", \"anyone\", \"3.0\", \"sale\"], \"Freq\": [51.0, 60.0, 53.0, 37.0, 69.0, 28.0, 82.0, 41.0, 37.0, 28.0, 46.0, 87.0, 49.0, 21.0, 79.0, 32.0, 19.0, 52.0, 29.0, 27.0, 16.0, 18.0, 15.0, 18.0, 27.0, 19.0, 14.0, 26.0, 19.0, 17.0, 36.243788469604624, 21.108498506903928, 17.460246669649713, 12.81119439385693, 9.504779735041003, 8.031149254428705, 6.556766169685372, 6.49014363419156, 6.1048984711096645, 5.718993441846531, 5.71885892086441, 5.400029925860571, 5.334372986052818, 5.01663544538119, 5.016423472924514, 4.947865669665188, 4.947755097494278, 5.006578473320116, 4.6306972954217, 4.6257811649841845, 4.245666397767766, 4.243778772850086, 35.34843719457374, 3.860796517653038, 3.8607919317104655, 3.8605353737010035, 3.86050785804557, 3.4754601452688703, 3.475437725105184, 3.475259637668626, 15.950772461892242, 6.164354707010481, 8.768344618419182, 10.593966573423211, 8.832036227060112, 9.65005322384662, 4.589492601409501, 9.863357642064921, 6.164247701683793, 6.104260005993764, 6.485207121787057, 15.586628239683892, 9.175022948436526, 6.421665320603488, 6.104699746931531, 9.198721061453522, 9.158232284031778, 6.1043634444762285, 5.80650800305226, 6.146805323884602, 5.824470630558821, 9.34971776809295, 8.720859412485284, 8.405208321263942, 7.8902071377867005, 7.193974910137516, 7.193402010038371, 6.4969291370014775, 6.114769676752362, 5.666999254233798, 5.351746504051958, 5.351219636498567, 5.284585931331361, 4.903343020087322, 4.90321905125123, 4.903052696011621, 4.902727733584659, 12.447849385398214, 6.837533058396343, 4.588550139595249, 4.5883017461552855, 4.588259359751769, 4.588175954248074, 4.5211215754201595, 4.189004050084236, 3.8250342819249354, 3.8249713859713297, 3.4433178279577357, 3.443161043841502, 3.4432417147385177, 3.0618055579558643, 15.772888637994173, 10.035001086369205, 14.002053975767527, 8.737210537351588, 30.88538070155755, 28.326977492852073, 13.686079289422562, 19.443144637683844, 5.2716088553385445, 9.648473547718964, 5.644139765472666, 5.501401956442833, 5.821661771453005, 6.308451385131511, 5.5280124140313065, 5.415596379620451, 6.608362991846973, 27.460493661371984, 12.896281950001429, 9.283809641707778, 6.659822374025766, 6.364119393968801, 5.924594599998627, 5.614453695218101, 5.550626910347438, 5.2357980314928385, 5.177004213457032, 5.176896654265119, 4.803092758072154, 4.4947571517617, 4.4287265192160765, 4.427713409815072, 4.120420368949881, 4.104309697955411, 3.7468998756069767, 3.7467601825486003, 3.7468382856962545, 3.74631521775882, 3.3730589362068386, 3.3729946684739116, 3.3729431203964593, 3.3727625905494523, 2.999072055496512, 2.99903077240418, 2.625215495466843, 2.6251949654966023, 2.6251146308304434, 10.852442185274873, 9.178531954313916, 27.864132513665268, 7.634149768637996, 9.289772259151574, 9.598319859719949, 27.965536284935467, 9.158730351713146, 6.958904765705816, 6.6728508716619395, 10.573935286812926, 18.517751093093707, 5.430867114163627, 14.69772346348967, 11.004876321704021, 5.1858187115494685, 7.484762547574776, 5.913817258229707, 18.60341366355275, 9.404643156063367, 7.95340705790108, 7.824486691631085, 7.866409617481197, 7.067458091472279, 6.749031676107364, 6.442941904187532, 5.997870892412452, 5.618946291160112, 5.241079723263659, 4.928426406804083, 4.927080822833209, 4.862615118046816, 4.862484722125396, 4.861962713697301, 4.861289072227035, 4.48227909774927, 4.171787295439875, 3.7932534572093806, 3.7928508013999145, 3.7928338117033125, 3.414728538569601, 3.414745103523788, 3.414568410679128, 3.4146401921472713, 3.4145429261342253, 3.414592196254371, 3.4140954599999715, 3.03623207767163, 12.896579671870814, 11.5433061643153, 40.74376615127216, 8.201641815982333, 5.99526934512028, 6.727049557158947, 4.616024537854215, 11.745290720821929, 8.34715516943861, 5.033600698875963, 4.5380324861181895, 5.804863691590288, 4.645011083969196, 13.66985246244379, 13.358844321090736, 12.061608168974878, 10.655820234263757, 10.20282066942233, 8.730536297851119, 7.960379356781156, 7.633233285389186, 6.87182164047478, 6.8716314885147876, 6.487405949043113, 5.014320737034606, 4.629400655882781, 4.5551410217429105, 3.8591327575444048, 3.858713068029143, 3.473918554931077, 3.0889341016235305, 3.088910809067184, 3.08882441485819, 2.7711899647255764, 2.7038928991787037, 2.703812857485077, 2.7038088342253443, 2.7037520850880634, 2.703655738604994, 2.703608518240764, 2.7033851214503497, 2.703390415213156, 2.703269293920154, 12.2949513044502, 2.75624164906443, 7.257217736778123, 8.303467700738732, 6.4102021357810415, 29.88807998960646, 4.2184627892918956, 5.004093610794387, 9.604915147042039, 6.1024066731997095, 4.9229198989288205, 16.608673449681937, 6.639610099736875, 14.454774343231298, 5.657025891788716, 8.63969448109765, 5.74296144917356, 5.1065105575490035, 6.703701897779954, 4.947046328792544, 10.476752297217994, 10.41510345671231, 8.019333196749965, 7.606439045643458, 6.966361406089551, 6.9654506540301835, 6.615576512581469, 6.5538802020653115, 5.913345086038779, 5.562494238622339, 5.561942242217353, 9.654320502825248, 5.210972089641843, 4.921726393517905, 4.921497865325887, 4.8602460085361185, 4.508864589232694, 4.50757659762106, 4.533465817138915, 4.157853267975534, 3.868507590767588, 3.517472534505191, 3.5171564178425183, 3.166620426822985, 3.1664530215205597, 3.1660455355899386, 15.538492116763084, 2.8156448130958283, 2.8156244387992975, 2.815602174104119, 13.551964597898012, 35.93260674705979, 8.660343012881242, 10.951538100034204, 15.610676779062558, 9.266284673840982, 31.799180370226352, 9.683146141575104, 6.1400227878259015, 6.5539226310127265, 9.369235784168117, 11.461145886109225, 6.388682465171387, 7.86243935098036, 6.404241706303702, 7.115009332960021, 50.263626782606075, 16.04495556768945, 14.690719575488467, 12.582734189676824, 9.887007532363066, 7.642938076083651, 6.87323808084272, 6.615805047128492, 6.488156823571718, 6.16502000279668, 6.102798922930367, 5.332669163594839, 5.014642549670967, 4.629558924553714, 4.628825681497921, 4.621993655781081, 4.244354933918691, 3.859587021634934, 3.8587136810092773, 3.858913369376463, 3.5418252118501554, 3.4741655837858416, 3.4735183724771757, 3.089283028279421, 3.0892488918292997, 3.089265466753058, 3.089265466753058, 3.0892188991101173, 3.089217715186992, 3.089217517866471, 16.644555802499735, 8.353207498265327, 16.611672732327023, 7.710446951269971, 10.1778627159132, 13.25969906505307, 6.487019862730093, 4.560240225549381, 14.979874645430229, 9.41573193585532, 6.638017023529061, 7.639371310347237, 7.167376677861205, 4.3881672599093875, 4.475066428046911, 11.983089838573136, 9.341699051031675, 8.945119485773779, 8.66504377514594, 6.362183776383016, 6.024597875212237, 5.687457252326613, 5.687150951260432, 5.349682767337453, 5.349583947841809, 5.349686704369152, 5.343702022483523, 5.012184268270391, 5.010918118875997, 4.6727377259186715, 3.998894671775522, 4.297916166345221, 3.3830948822673554, 3.045449335066337, 3.045465673747888, 3.0455152803472947, 3.045448350808412, 2.7080081198104957, 2.707998277231248, 2.707975836150564, 2.707972686525205, 2.7079498517413505, 2.707932135098705, 2.707904575876812, 2.7078972923681692, 8.472990644431356, 6.700348421213545, 13.801434700565457, 13.465579124826382, 5.012038204394359, 16.656192133627133, 4.674614115226408, 6.497479083312336, 20.29888976798443, 10.213546059302429, 6.689719223032622, 11.5312784430165, 8.940563552691712, 4.480806643186756, 4.674768446869009, 4.6599415854906265, 4.827142597308531, 11.438309515697386, 10.084823265251107, 8.596494639467426, 8.296824221486643, 6.839518969877693, 6.779733890344742, 5.754236532165995, 5.391126303882048, 5.09165264408623, 5.091721614482028, 4.728889368402464, 4.665291311302851, 4.664831625365377, 4.6648449292995915, 4.365434288139528, 4.3653019490044445, 4.365314902835127, 4.002398982011422, 4.002277145982297, 3.639112301547363, 3.639101798441404, 3.2760157273011625, 3.2755907016133534, 3.2755935024416094, 2.913006503886188, 2.913006503886188, 2.9129996768673148, 2.912879241252318, 2.912814297047138, 2.912790139903432, 5.754314605253624, 6.762020052041298, 6.867376707916372, 5.63414646935512, 7.224795303081118, 3.9563509147622917, 12.544449021222533, 5.497088638867426, 5.39137207656149, 7.501996776587272, 6.298092960381305, 5.653589118899421, 5.943038264264405, 27.425504243883783, 10.294058524230453, 9.246296953230518, 8.610074676962434, 6.227474784758159, 5.53012267773964, 5.241924390517773, 5.181246015662846, 5.179172713990772, 4.832248434086794, 4.832256749467832, 4.832253631199943, 4.832055447951877, 4.544131221830044, 4.543973576064537, 4.4831864083076995, 4.4831656198551055, 3.8458997632667855, 3.845794435106974, 3.844752240683579, 3.4972431123132806, 3.1483598672264974, 3.1482826034776887, 3.148208111522559, 2.7993078891994907, 2.7993078891994907, 2.799277226231914, 2.7992938569939896, 2.799242232336714, 2.7992172861936004, 5.2970182940574455, 5.031416015382973, 12.115571151429869, 5.160905207747724, 8.139142773168615, 4.4833683072679005, 6.209848255803436, 5.536940943716367, 4.9674263865039805], \"Total\": [51.0, 60.0, 53.0, 37.0, 69.0, 28.0, 82.0, 41.0, 37.0, 28.0, 46.0, 87.0, 49.0, 21.0, 79.0, 32.0, 19.0, 52.0, 29.0, 27.0, 16.0, 18.0, 15.0, 18.0, 27.0, 19.0, 14.0, 26.0, 19.0, 17.0, 37.03222310191803, 21.75993085194651, 18.11029659823922, 13.620330414191855, 10.154393967196883, 8.680868873453798, 7.207141061412887, 7.139758372922767, 6.754463545484135, 6.368585180771101, 6.368485609492727, 6.051003903138828, 5.983872201215243, 5.6662239483100585, 5.666106960564698, 5.597533776882641, 5.597442849802251, 5.66505201189815, 5.2807457155640884, 5.280320923381993, 4.895382329756308, 4.895301391045711, 41.110838870169346, 4.510347616053555, 4.510345232463658, 4.510175363525001, 4.510144832621158, 4.124966921178088, 4.124980039817442, 4.124830651909631, 19.113218143128844, 7.568426049345973, 11.481104949106129, 14.641255085344003, 12.004071773370269, 14.01823023193095, 5.661693683126377, 16.181202153758324, 8.787779171054325, 9.05823286170484, 10.125754160905096, 52.11343565561829, 21.458880461101046, 10.364789368904985, 9.38226183948421, 36.10873788842257, 37.59876722531021, 10.514485292131495, 11.955680931660151, 82.24413650154264, 32.33584001909997, 10.000015018978239, 9.371243277811473, 9.056370940221486, 8.540470436245407, 7.844234668740389, 7.843814263402926, 7.147619337599772, 6.765797157970027, 6.3172290832947535, 6.002474048442605, 6.002000840248155, 5.934866067212681, 5.553550296665299, 5.553456615952676, 5.553302748549393, 5.553033632115266, 14.141968342602262, 7.802759739609907, 5.238889939488174, 5.238846860604308, 5.238824563593967, 5.238769570563948, 5.171372189283002, 4.854957680389409, 4.475340994230159, 4.475316175721765, 4.093572283134992, 4.093434267060062, 4.093596044042746, 3.712000509541965, 19.26501688849272, 12.762702131692809, 18.860025745372543, 13.981332985094197, 87.77431622345398, 82.24413650154264, 36.10873788842257, 79.33481453893089, 7.407417091149282, 45.28190324929031, 9.715439793678737, 9.892204349485043, 14.036253143173058, 26.147900118782523, 11.955680931660151, 10.887396051302305, 60.161112224525674, 28.113587210255567, 13.550234039454114, 9.942203436360476, 7.324917475290163, 7.016145718841158, 6.576471397048054, 6.268242630437317, 6.202419760249278, 5.893858342656026, 5.828765634395071, 5.828675851782986, 5.454822257804294, 5.146593666628259, 5.0804795581332005, 5.079746219198804, 4.772291184138185, 4.7712178027931635, 4.3987222782644295, 4.398585918854789, 4.398682355896569, 4.398166876112859, 4.024818757849803, 4.024760204304356, 4.0247530409974175, 4.024679197445412, 3.650837999407795, 3.650809845447095, 3.276943571932385, 3.276927268027218, 3.276852940933548, 13.953901973832709, 11.905882609741573, 37.59876722531021, 9.895396155276407, 12.245942395489303, 13.091900792717507, 46.502064635796856, 14.639223326031072, 10.714748818446747, 10.337919840322114, 21.458880461101046, 52.11343565561829, 8.104704136850213, 69.02872191047277, 79.33481453893089, 9.278002919625997, 45.28190324929031, 87.77431622345398, 19.254368407309244, 10.055728911544838, 8.608184564278389, 8.475442781151356, 8.542104950049653, 7.718292749967476, 7.4053956404131105, 7.094105305880497, 6.648822642753327, 6.270348103679727, 5.891933508139744, 5.579707362469156, 5.579719141656768, 5.513434374908311, 5.513317908389659, 5.5128465469487615, 5.512277761475107, 5.133752708941857, 4.822732357218114, 4.444148806015049, 4.443883764138948, 4.444018903086845, 4.065611414326885, 4.065636584371689, 4.0654730532449115, 4.065566389630862, 4.06545712470869, 4.065518476918192, 4.065552667495877, 3.687053284943867, 15.886895997159483, 14.576143245931483, 60.161112224525674, 11.096978299702426, 9.662493177216318, 11.990830286502225, 6.9556456324956315, 52.11343565561829, 27.771262234709717, 14.036253143173058, 13.470453355978513, 87.77431622345398, 18.41828196911207, 14.319592508522122, 14.067778462688697, 12.711189676293309, 11.306009698468433, 10.852994191442683, 9.380203155125635, 8.609940555891484, 8.29161562996032, 7.522126627175333, 7.522072925055428, 7.137053566197008, 5.664059894640969, 5.279031874239157, 5.210607499257106, 4.508751440351631, 4.508380226224336, 4.123541049351087, 3.7385027068559653, 3.7384857530322377, 3.7384016105193094, 3.420894625459168, 3.3534196103083627, 3.353342247584038, 3.353342593143268, 3.353295254986305, 3.35320552275822, 3.3531684542269953, 3.3529599566712553, 3.352979859830296, 3.3528545022200973, 15.829751123526066, 3.420508283113282, 10.385530135897204, 13.470453355978513, 9.766389490770354, 69.02872191047277, 6.002920731509349, 8.045579407294717, 22.279883480918222, 11.481702315873473, 8.675987760597591, 87.77431622345398, 15.997226436971578, 79.33481453893089, 12.37710577178818, 49.22104368532016, 16.181202153758324, 12.23413190054561, 60.161112224525674, 25.35000400968889, 11.133543123408046, 11.071841037553636, 8.676142756412288, 8.263109186923938, 7.62278029194526, 7.622932663145655, 7.271910120131379, 7.210130780883887, 6.569728482060431, 6.218752289373408, 6.218731108282535, 10.82344798630905, 5.867290773898641, 5.578141566097409, 5.578078090808458, 5.516493110598462, 5.165156233105731, 5.164072497790725, 5.230736860419971, 4.814076247957827, 4.524941783237409, 4.173857037950066, 4.173505665847743, 3.8228615896191442, 3.822795685891862, 3.822406347524621, 18.767516673693656, 3.4718750146905952, 3.471880397573682, 3.4718570905795567, 17.564495802741696, 53.06911827747245, 11.620738887643718, 16.739354552563366, 29.32892363245769, 15.782300366887148, 82.24413650154264, 17.519042900204514, 9.513829800078868, 11.6249458722968, 32.33584001909997, 69.02872191047277, 14.477276582195682, 27.578686080219676, 17.729070352914558, 87.77431622345398, 51.96421375278503, 16.69932780798506, 15.34083638578446, 13.232630119046256, 10.536662613853332, 8.292827969005238, 7.522806986178285, 7.272729645601022, 7.1377645563984675, 6.81991119376503, 6.752376667202214, 5.982218292584742, 5.6644931167909665, 5.279349253993813, 5.279306117599873, 5.279103920210882, 4.894212073015014, 4.509168299855903, 4.508502977716733, 4.508861662595277, 4.191480656099296, 4.123747810687993, 4.123224670637928, 3.7388072026701455, 3.7387740131024993, 3.7388154105942224, 3.7388154105942224, 3.7387745852133323, 3.7387734173900147, 3.7387759371736697, 27.578686080219676, 12.43160879770543, 32.33584001909997, 12.07968390063727, 17.988552119140156, 26.147900118782523, 11.563626775721858, 7.177329492977982, 87.77431622345398, 46.502064635796856, 22.279883480918222, 53.06911827747245, 49.22104368532016, 13.088638860105181, 79.33481453893089, 12.643010926190811, 10.001118000262188, 9.604042006056414, 9.32606666568604, 7.021332024342939, 6.683704027831158, 6.346386891666073, 6.346103690863823, 6.008658911258147, 6.008575691835668, 6.008704682777938, 6.00945791802862, 5.671058185721307, 5.671141456540092, 5.333096309539338, 4.657755065369269, 5.058249248407644, 4.042069016679353, 3.7044006092092983, 3.7044207057145164, 3.704490394228739, 3.7044269221867125, 3.3669006472707066, 3.3668935827115734, 3.366866561759529, 3.3668703114462715, 3.366852226604973, 3.366831974871138, 3.3668093872396754, 3.366831147529585, 11.932359719114881, 9.987547704173217, 25.35000400968889, 27.771262234709717, 8.222686569023079, 49.22104368532016, 7.715223515796353, 13.196822442269182, 79.33481453893089, 29.32892363245769, 15.997226436971578, 45.28190324929031, 53.06911827747245, 8.719398138187236, 13.994266702360111, 13.981332985094197, 26.147900118782523, 12.092470652525936, 10.768586292504908, 9.25062426736031, 8.951153281126595, 7.497885518697068, 7.433704605940037, 6.408605038927075, 6.045441118361686, 5.745871685662136, 5.745973944606828, 5.3828312101923625, 5.319131306592691, 5.31873177465939, 5.318748314352236, 5.019461231865835, 5.019554398529541, 5.019618912564077, 4.656412460450511, 4.656305668748745, 4.293092961600815, 4.293127760097207, 3.9299670126681407, 3.9295842321568206, 3.9295941036824638, 3.5668505648469795, 3.5668543091134404, 3.566874064910697, 3.5667749494665446, 3.566733733922307, 3.566708430921204, 8.991556170306835, 11.228555267497182, 13.907320765546922, 11.05443974196435, 17.988552119140156, 6.172465602590408, 69.02872191047277, 14.250387777371603, 13.994266702360111, 82.24413650154264, 45.28190324929031, 60.161112224525674, 87.77431622345398, 28.09718598976411, 10.950763468858455, 9.90353965427224, 9.26693283874745, 6.884713352274558, 6.186881243774655, 5.899092435521626, 5.837939099032447, 5.837758661230275, 5.488909073136242, 5.488920789931615, 5.488920542396643, 5.488743193162596, 5.201067233143922, 5.200937802282013, 5.1398233531857445, 5.1398034558973915, 4.503024391220361, 4.502940731484386, 4.503111244096075, 4.154015166701996, 3.8050604600704503, 3.8049817881333885, 3.8049389278124988, 3.4559678495812856, 3.4559678561984892, 3.45594436398351, 3.4559662758924103, 3.4559265195022344, 3.4558994530787737, 8.453034914732251, 8.839873393393304, 49.22104368532016, 13.522394060251031, 46.502064635796856, 11.6249458722968, 36.10873788842257, 79.33481453893089, 82.24413650154264], \"Category\": [\"Default\", \"Default\", \"Default\", \"Default\", \"Default\", \"Default\", \"Default\", \"Default\", \"Default\", \"Default\", \"Default\", \"Default\", \"Default\", \"Default\", \"Default\", \"Default\", \"Default\", \"Default\", \"Default\", \"Default\", \"Default\", \"Default\", \"Default\", \"Default\", \"Default\", \"Default\", \"Default\", \"Default\", \"Default\", \"Default\", \"Topic1\", \"Topic1\", \"Topic1\", \"Topic1\", \"Topic1\", \"Topic1\", \"Topic1\", \"Topic1\", \"Topic1\", \"Topic1\", \"Topic1\", \"Topic1\", \"Topic1\", \"Topic1\", \"Topic1\", \"Topic1\", \"Topic1\", \"Topic1\", \"Topic1\", \"Topic1\", \"Topic1\", \"Topic1\", \"Topic1\", \"Topic1\", \"Topic1\", \"Topic1\", \"Topic1\", \"Topic1\", \"Topic1\", \"Topic1\", \"Topic1\", \"Topic1\", \"Topic1\", \"Topic1\", \"Topic1\", \"Topic1\", \"Topic1\", \"Topic1\", \"Topic1\", \"Topic1\", \"Topic1\", \"Topic1\", \"Topic1\", \"Topic1\", \"Topic1\", \"Topic1\", \"Topic1\", \"Topic1\", \"Topic1\", \"Topic1\", \"Topic1\", \"Topic2\", \"Topic2\", \"Topic2\", \"Topic2\", \"Topic2\", \"Topic2\", \"Topic2\", \"Topic2\", \"Topic2\", \"Topic2\", \"Topic2\", \"Topic2\", \"Topic2\", \"Topic2\", \"Topic2\", \"Topic2\", \"Topic2\", \"Topic2\", \"Topic2\", \"Topic2\", \"Topic2\", \"Topic2\", \"Topic2\", \"Topic2\", \"Topic2\", \"Topic2\", \"Topic2\", \"Topic2\", \"Topic2\", \"Topic2\", \"Topic2\", \"Topic2\", \"Topic2\", \"Topic2\", \"Topic2\", \"Topic2\", \"Topic2\", \"Topic2\", \"Topic2\", \"Topic2\", \"Topic2\", \"Topic2\", \"Topic2\", \"Topic2\", \"Topic2\", \"Topic2\", \"Topic2\", \"Topic3\", \"Topic3\", \"Topic3\", \"Topic3\", \"Topic3\", \"Topic3\", \"Topic3\", \"Topic3\", \"Topic3\", \"Topic3\", \"Topic3\", \"Topic3\", \"Topic3\", \"Topic3\", \"Topic3\", \"Topic3\", \"Topic3\", \"Topic3\", \"Topic3\", \"Topic3\", \"Topic3\", \"Topic3\", \"Topic3\", \"Topic3\", \"Topic3\", \"Topic3\", \"Topic3\", \"Topic3\", \"Topic3\", \"Topic3\", \"Topic3\", \"Topic3\", \"Topic3\", \"Topic3\", \"Topic3\", \"Topic3\", \"Topic3\", \"Topic3\", \"Topic3\", \"Topic3\", \"Topic3\", \"Topic3\", \"Topic3\", \"Topic3\", \"Topic3\", \"Topic3\", \"Topic3\", \"Topic3\", \"Topic4\", \"Topic4\", \"Topic4\", \"Topic4\", \"Topic4\", \"Topic4\", \"Topic4\", \"Topic4\", \"Topic4\", \"Topic4\", \"Topic4\", \"Topic4\", \"Topic4\", \"Topic4\", \"Topic4\", \"Topic4\", \"Topic4\", \"Topic4\", \"Topic4\", \"Topic4\", \"Topic4\", \"Topic4\", \"Topic4\", \"Topic4\", \"Topic4\", \"Topic4\", \"Topic4\", \"Topic4\", \"Topic4\", \"Topic4\", \"Topic4\", \"Topic4\", \"Topic4\", \"Topic4\", \"Topic4\", \"Topic4\", \"Topic4\", \"Topic4\", \"Topic4\", \"Topic4\", \"Topic4\", \"Topic4\", \"Topic4\", \"Topic5\", \"Topic5\", \"Topic5\", \"Topic5\", \"Topic5\", \"Topic5\", \"Topic5\", \"Topic5\", \"Topic5\", \"Topic5\", \"Topic5\", \"Topic5\", \"Topic5\", \"Topic5\", \"Topic5\", \"Topic5\", \"Topic5\", \"Topic5\", \"Topic5\", \"Topic5\", \"Topic5\", \"Topic5\", \"Topic5\", \"Topic5\", \"Topic5\", \"Topic5\", \"Topic5\", \"Topic5\", \"Topic5\", \"Topic5\", \"Topic5\", \"Topic5\", \"Topic5\", \"Topic5\", \"Topic5\", \"Topic5\", \"Topic5\", \"Topic5\", \"Topic5\", \"Topic5\", \"Topic5\", \"Topic5\", \"Topic5\", \"Topic5\", \"Topic5\", \"Topic5\", \"Topic5\", \"Topic5\", \"Topic5\", \"Topic5\", \"Topic6\", \"Topic6\", \"Topic6\", \"Topic6\", \"Topic6\", \"Topic6\", \"Topic6\", \"Topic6\", \"Topic6\", \"Topic6\", \"Topic6\", \"Topic6\", \"Topic6\", \"Topic6\", \"Topic6\", \"Topic6\", \"Topic6\", \"Topic6\", \"Topic6\", \"Topic6\", \"Topic6\", \"Topic6\", \"Topic6\", \"Topic6\", \"Topic6\", \"Topic6\", \"Topic6\", \"Topic6\", \"Topic6\", \"Topic6\", \"Topic6\", \"Topic6\", \"Topic6\", \"Topic6\", \"Topic6\", \"Topic6\", \"Topic6\", \"Topic6\", \"Topic6\", \"Topic6\", \"Topic6\", \"Topic6\", \"Topic6\", \"Topic6\", \"Topic6\", \"Topic6\", \"Topic7\", \"Topic7\", \"Topic7\", \"Topic7\", \"Topic7\", \"Topic7\", \"Topic7\", \"Topic7\", \"Topic7\", \"Topic7\", \"Topic7\", \"Topic7\", \"Topic7\", \"Topic7\", \"Topic7\", \"Topic7\", \"Topic7\", \"Topic7\", \"Topic7\", \"Topic7\", \"Topic7\", \"Topic7\", \"Topic7\", \"Topic7\", \"Topic7\", \"Topic7\", \"Topic7\", \"Topic7\", \"Topic7\", \"Topic7\", \"Topic7\", \"Topic7\", \"Topic7\", \"Topic7\", \"Topic7\", \"Topic7\", \"Topic7\", \"Topic7\", \"Topic7\", \"Topic7\", \"Topic7\", \"Topic7\", \"Topic7\", \"Topic7\", \"Topic7\", \"Topic8\", \"Topic8\", \"Topic8\", \"Topic8\", \"Topic8\", \"Topic8\", \"Topic8\", \"Topic8\", \"Topic8\", \"Topic8\", \"Topic8\", \"Topic8\", \"Topic8\", \"Topic8\", \"Topic8\", \"Topic8\", \"Topic8\", \"Topic8\", \"Topic8\", \"Topic8\", \"Topic8\", \"Topic8\", \"Topic8\", \"Topic8\", \"Topic8\", \"Topic8\", \"Topic8\", \"Topic8\", \"Topic8\", \"Topic8\", \"Topic8\", \"Topic8\", \"Topic8\", \"Topic8\", \"Topic8\", \"Topic8\", \"Topic8\", \"Topic8\", \"Topic8\", \"Topic8\", \"Topic8\", \"Topic8\", \"Topic8\", \"Topic8\", \"Topic8\", \"Topic8\", \"Topic8\", \"Topic9\", \"Topic9\", \"Topic9\", \"Topic9\", \"Topic9\", \"Topic9\", \"Topic9\", \"Topic9\", \"Topic9\", \"Topic9\", \"Topic9\", \"Topic9\", \"Topic9\", \"Topic9\", \"Topic9\", \"Topic9\", \"Topic9\", \"Topic9\", \"Topic9\", \"Topic9\", \"Topic9\", \"Topic9\", \"Topic9\", \"Topic9\", \"Topic9\", \"Topic9\", \"Topic9\", \"Topic9\", \"Topic9\", \"Topic9\", \"Topic9\", \"Topic9\", \"Topic9\", \"Topic9\", \"Topic9\", \"Topic9\", \"Topic9\", \"Topic9\", \"Topic9\", \"Topic9\", \"Topic9\", \"Topic9\", \"Topic9\", \"Topic10\", \"Topic10\", \"Topic10\", \"Topic10\", \"Topic10\", \"Topic10\", \"Topic10\", \"Topic10\", \"Topic10\", \"Topic10\", \"Topic10\", \"Topic10\", \"Topic10\", \"Topic10\", \"Topic10\", \"Topic10\", \"Topic10\", \"Topic10\", \"Topic10\", \"Topic10\", \"Topic10\", \"Topic10\", \"Topic10\", \"Topic10\", \"Topic10\", \"Topic10\", \"Topic10\", \"Topic10\", \"Topic10\", \"Topic10\", \"Topic10\", \"Topic10\", \"Topic10\", \"Topic10\", \"Topic10\", \"Topic10\", \"Topic10\", \"Topic10\", \"Topic10\"], \"logprob\": [30.0, 29.0, 28.0, 27.0, 26.0, 25.0, 24.0, 23.0, 22.0, 21.0, 20.0, 19.0, 18.0, 17.0, 16.0, 15.0, 14.0, 13.0, 12.0, 11.0, 10.0, 9.0, 8.0, 7.0, 6.0, 5.0, 4.0, 3.0, 2.0, 1.0, -3.4076, -3.9481, -4.1379, -4.4475, -4.746, -4.9145, -5.1173, -5.1275, -5.1887, -5.254, -5.2541, -5.3114, -5.3237, -5.3851, -5.3851, -5.3989, -5.3989, -5.3871, -5.4651, -5.4662, -5.5519, -5.5524, -3.4326, -5.6469, -5.647, -5.647, -5.647, -5.7521, -5.7521, -5.7522, -4.2283, -5.179, -4.8267, -4.6375, -4.8194, -4.7309, -5.4741, -4.709, -5.1791, -5.1888, -5.1283, -4.2514, -4.7813, -5.1381, -5.1888, -4.7788, -4.7832, -5.1888, -5.2388, -5.1819, -5.2358, -4.6509, -4.7206, -4.7574, -4.8207, -4.913, -4.9131, -5.015, -5.0756, -5.1516, -5.2089, -5.209, -5.2215, -5.2964, -5.2964, -5.2964, -5.2965, -4.3647, -4.9639, -5.3627, -5.3628, -5.3628, -5.3628, -5.3775, -5.4538, -5.5447, -5.5447, -5.6498, -5.6499, -5.6499, -5.7673, -4.128, -4.5802, -4.2471, -4.7187, -3.456, -3.5425, -4.2699, -3.9188, -5.2239, -4.6195, -5.1557, -5.1813, -5.1247, -5.0444, -5.1765, -5.197, -4.9979, -3.5525, -4.3084, -4.637, -4.9692, -5.0146, -5.0862, -5.14, -5.1514, -5.2098, -5.2211, -5.2211, -5.296, -5.3624, -5.3772, -5.3774, -5.4493, -5.4533, -5.5444, -5.5444, -5.5444, -5.5445, -5.6495, -5.6495, -5.6495, -5.6496, -5.767, -5.767, -5.9001, -5.9001, -5.9002, -4.4809, -4.6484, -3.538, -4.8327, -4.6364, -4.6037, -3.5343, -4.6506, -4.9253, -4.9672, -4.5069, -3.9466, -5.1732, -4.1776, -4.467, -5.2194, -4.8524, -5.088, -3.8924, -4.5746, -4.7422, -4.7585, -4.7532, -4.8603, -4.9064, -4.9528, -5.0244, -5.0896, -5.1593, -5.2208, -5.221, -5.2342, -5.2342, -5.2343, -5.2345, -5.3156, -5.3874, -5.4826, -5.4827, -5.4827, -5.5877, -5.5877, -5.5877, -5.5877, -5.5877, -5.5877, -5.5879, -5.7052, -4.2588, -4.3697, -3.1085, -4.7114, -5.0248, -4.9096, -5.2862, -4.3523, -4.6939, -5.1996, -5.3033, -5.0571, -5.28, -4.1977, -4.2207, -4.3228, -4.4467, -4.4902, -4.646, -4.7384, -4.7803, -4.8854, -4.8855, -4.943, -5.2006, -5.2804, -5.2966, -5.4624, -5.4625, -5.5676, -5.685, -5.685, -5.6851, -5.7936, -5.8182, -5.8182, -5.8182, -5.8182, -5.8182, -5.8183, -5.8183, -5.8183, -5.8184, -4.3037, -5.799, -4.8309, -4.6962, -4.955, -3.4154, -5.3734, -5.2026, -4.5506, -5.0042, -5.219, -4.0029, -4.9198, -4.1418, -5.08, -4.6565, -5.0649, -5.1823, -4.9102, -5.2141, -4.4556, -4.4615, -4.7229, -4.7758, -4.8637, -4.8638, -4.9153, -4.9247, -5.0276, -5.0887, -5.0888, -4.5374, -5.154, -5.2111, -5.2111, -5.2237, -5.2987, -5.299, -5.2933, -5.3798, -5.4519, -5.547, -5.5471, -5.6521, -5.6522, -5.6523, -4.0614, -5.7696, -5.7696, -5.7696, -4.1982, -3.2231, -4.646, -4.4113, -4.0568, -4.5784, -3.3453, -4.5344, -4.9899, -4.9247, -4.5673, -4.3658, -4.9502, -4.7427, -4.9478, -4.8426, -2.825, -3.9669, -4.0551, -4.2099, -4.4511, -4.7085, -4.8146, -4.8528, -4.8723, -4.9234, -4.9335, -5.0684, -5.1299, -5.2098, -5.21, -5.2114, -5.2967, -5.3917, -5.3919, -5.3919, -5.4776, -5.4969, -5.4971, -5.6143, -5.6143, -5.6143, -5.6143, -5.6144, -5.6144, -5.6144, -3.9302, -4.6196, -3.9322, -4.6997, -4.4221, -4.1575, -4.8725, -5.2249, -4.0356, -4.4999, -4.8495, -4.709, -4.7727, -5.2634, -5.2438, -4.2564, -4.5054, -4.5488, -4.5806, -4.8895, -4.944, -5.0016, -5.0017, -5.0629, -5.0629, -5.0629, -5.064, -5.128, -5.1283, -5.1981, -5.3539, -5.2818, -5.5211, -5.6262, -5.6262, -5.6262, -5.6262, -5.7437, -5.7437, -5.7437, -5.7437, -5.7437, -5.7437, -5.7437, -5.7437, -4.603, -4.8377, -4.1151, -4.1398, -5.1281, -3.9271, -5.1977, -4.8685, -3.7293, -4.4162, -4.8393, -4.2948, -4.5493, -5.2401, -5.1977, -5.2009, -5.1656, -4.1856, -4.3115, -4.4712, -4.5067, -4.6998, -4.7086, -4.8726, -4.9378, -4.9949, -4.9949, -5.0688, -5.0824, -5.0825, -5.0825, -5.1488, -5.1488, -5.1488, -5.2356, -5.2357, -5.3308, -5.3308, -5.4359, -5.436, -5.436, -5.5533, -5.5533, -5.5533, -5.5534, -5.5534, -5.5534, -4.8726, -4.7112, -4.6957, -4.8937, -4.645, -5.2472, -4.0932, -4.9183, -4.9377, -4.6074, -4.7823, -4.8902, -4.8403, -3.3006, -4.2805, -4.3879, -4.4592, -4.7831, -4.9019, -4.9554, -4.9671, -4.9675, -5.0368, -5.0368, -5.0368, -5.0368, -5.0983, -5.0983, -5.1118, -5.1118, -5.2651, -5.2651, -5.2654, -5.3601, -5.4652, -5.4652, -5.4653, -5.5827, -5.5827, -5.5827, -5.5827, -5.5828, -5.5828, -4.945, -4.9964, -4.1176, -4.971, -4.5154, -5.1117, -4.786, -4.9007, -5.0092], \"loglift\": [30.0, 29.0, 28.0, 27.0, 26.0, 25.0, 24.0, 23.0, 22.0, 21.0, 20.0, 19.0, 18.0, 17.0, 16.0, 15.0, 14.0, 13.0, 12.0, 11.0, 10.0, 9.0, 8.0, 7.0, 6.0, 5.0, 4.0, 3.0, 2.0, 1.0, 2.0794, 2.0705, 2.0644, 2.0397, 2.0348, 2.0231, 2.0063, 2.0055, 1.9998, 1.9933, 1.9933, 1.9871, 1.986, 1.9792, 1.9791, 1.9775, 1.9775, 1.9774, 1.9696, 1.9686, 1.9585, 1.9581, 1.9499, 1.9454, 1.9454, 1.9454, 1.9454, 1.9296, 1.9296, 1.9296, 1.92, 1.8957, 1.8314, 1.7774, 1.7941, 1.7275, 1.891, 1.6059, 1.7463, 1.7062, 1.6554, 0.8939, 1.2513, 1.6222, 1.6712, 0.7334, 0.6886, 1.5572, 1.3787, -0.4928, 0.3868, 2.1452, 2.1405, 2.1378, 2.1333, 2.1259, 2.1259, 2.117, 2.1113, 2.1038, 2.0977, 2.0977, 2.0964, 2.0879, 2.0879, 2.0879, 2.0879, 2.0849, 2.0804, 2.0799, 2.0799, 2.0799, 2.0799, 2.0781, 2.0649, 2.0554, 2.0554, 2.0395, 2.0395, 2.0394, 2.0199, 2.0125, 1.972, 1.9146, 1.7423, 1.168, 1.1466, 1.2423, 0.8063, 1.8723, 0.6664, 1.6694, 1.6257, 1.3324, 0.7906, 1.4411, 1.5141, 0.0038, 2.2099, 2.184, 2.1649, 2.1383, 2.1359, 2.1291, 2.1233, 2.1224, 2.1151, 2.1149, 2.1149, 2.1062, 2.098, 2.0961, 2.0961, 2.0866, 2.0829, 2.0731, 2.0731, 2.073, 2.073, 2.0568, 2.0568, 2.0568, 2.0567, 2.0368, 2.0368, 2.0117, 2.0117, 2.0117, 1.9821, 1.9733, 1.9338, 1.974, 1.9572, 1.923, 1.7249, 1.7644, 1.8018, 1.7957, 1.5257, 1.1987, 1.8331, 0.6866, 0.2581, 1.6517, 0.4334, -0.464, 2.2486, 2.216, 2.2038, 2.203, 2.2006, 2.1949, 2.1901, 2.1867, 2.1799, 2.1733, 2.1659, 2.1588, 2.1586, 2.1573, 2.1573, 2.1573, 2.1573, 2.1473, 2.138, 2.1246, 2.1245, 2.1245, 2.1085, 2.1085, 2.1085, 2.1085, 2.1085, 2.1085, 2.1083, 2.0887, 2.0744, 2.0497, 1.8932, 1.9806, 1.8057, 1.705, 1.8729, 0.793, 1.0809, 1.2575, 1.195, -0.4331, 0.9054, 2.2394, 2.2342, 2.2334, 2.2267, 2.2241, 2.2141, 2.2074, 2.2032, 2.1955, 2.1954, 2.1904, 2.164, 2.1546, 2.1514, 2.1303, 2.1303, 2.1145, 2.095, 2.095, 2.095, 2.0753, 2.0706, 2.0706, 2.0706, 2.0706, 2.0706, 2.0706, 2.0705, 2.0705, 2.0705, 2.0332, 2.07, 1.9275, 1.8021, 1.8648, 1.4488, 1.9331, 1.811, 1.4445, 1.6538, 1.7192, 0.621, 1.4065, 0.5832, 1.5029, 0.5459, 1.25, 1.4122, 0.0915, 0.6519, 2.2332, 2.2328, 2.2153, 2.2112, 2.2039, 2.2038, 2.1994, 2.1985, 2.1887, 2.1825, 2.1824, 2.1797, 2.1753, 2.1688, 2.1687, 2.1673, 2.1581, 2.158, 2.1509, 2.1474, 2.1372, 2.1229, 2.1229, 2.1056, 2.1056, 2.1056, 2.1052, 2.0845, 2.0845, 2.0845, 2.0346, 1.904, 1.9999, 1.8697, 1.6634, 1.7615, 1.3437, 1.7011, 1.8561, 1.7209, 1.0552, 0.4984, 1.4759, 1.039, 1.2757, -0.2186, 2.3232, 2.3165, 2.3132, 2.3061, 2.2928, 2.2749, 2.2662, 2.2618, 2.261, 2.2555, 2.2553, 2.2415, 2.2346, 2.2251, 2.225, 2.2235, 2.214, 2.2009, 2.2008, 2.2008, 2.1881, 2.1851, 2.185, 2.1656, 2.1656, 2.1656, 2.1656, 2.1656, 2.1656, 2.1656, 1.8515, 1.9589, 1.6904, 1.9075, 1.7869, 1.6774, 1.7784, 1.9029, 0.5884, 0.7594, 1.1456, 0.4182, 0.4297, 1.2636, -0.5187, 2.3052, 2.2906, 2.2878, 2.2853, 2.2603, 2.255, 2.2492, 2.2492, 2.2427, 2.2427, 2.2427, 2.2414, 2.2353, 2.2351, 2.2267, 2.2063, 2.196, 2.1809, 2.163, 2.163, 2.163, 2.163, 2.1411, 2.1411, 2.1411, 2.1411, 2.1411, 2.1411, 2.1411, 2.141, 2.0165, 1.9597, 1.7508, 1.635, 1.8638, 1.2753, 1.8578, 1.6503, 0.9957, 1.304, 1.487, 0.991, 0.5778, 1.6931, 1.2624, 1.2601, 0.6693, 2.4206, 2.4106, 2.4029, 2.4003, 2.3843, 2.3841, 2.3685, 2.3617, 2.3553, 2.3553, 2.3467, 2.3451, 2.345, 2.345, 2.3366, 2.3366, 2.3365, 2.3249, 2.3249, 2.3109, 2.3109, 2.2942, 2.2942, 2.2942, 2.2737, 2.2737, 2.2737, 2.2737, 2.2737, 2.2737, 2.0299, 1.9691, 1.7706, 1.8022, 1.564, 2.0314, 0.771, 1.5236, 1.5224, 0.0817, 0.5036, 0.1115, -0.2163, 2.4624, 2.4248, 2.418, 2.4131, 2.3863, 2.3744, 2.3685, 2.3673, 2.3669, 2.3592, 2.3592, 2.3592, 2.3592, 2.3516, 2.3516, 2.3499, 2.3499, 2.3289, 2.3289, 2.3286, 2.3145, 2.2972, 2.2972, 2.2972, 2.2759, 2.2759, 2.2759, 2.2759, 2.2759, 2.2759, 2.0193, 1.9231, 1.0848, 1.5234, 0.7438, 1.5339, 0.7262, -0.1756, -0.3202]}, \"token.table\": {\"Topic\": [8, 6, 1, 3, 10, 5, 10, 7, 4, 1, 2, 3, 4, 5, 6, 7, 9, 1, 2, 1, 2, 9, 1, 3, 8, 2, 3, 5, 8, 7, 2, 5, 2, 3, 8, 5, 6, 1, 2, 3, 5, 7, 8, 10, 1, 6, 7, 3, 4, 6, 5, 10, 5, 1, 5, 1, 10, 9, 2, 3, 6, 7, 10, 6, 9, 2, 7, 1, 4, 7, 8, 3, 4, 1, 3, 10, 4, 8, 9, 1, 2, 3, 7, 10, 9, 5, 6, 8, 5, 4, 3, 6, 5, 9, 2, 2, 6, 2, 7, 7, 5, 2, 8, 6, 8, 9, 5, 1, 10, 1, 2, 6, 3, 3, 5, 2, 3, 9, 6, 2, 5, 2, 3, 9, 5, 3, 2, 4, 7, 8, 4, 3, 8, 3, 4, 2, 7, 7, 7, 7, 4, 1, 1, 8, 3, 5, 4, 2, 4, 8, 10, 1, 5, 4, 8, 5, 8, 10, 1, 1, 3, 4, 6, 5, 8, 2, 3, 4, 5, 4, 5, 6, 9, 9, 2, 3, 4, 8, 1, 3, 6, 5, 8, 9, 6, 1, 2, 5, 4, 4, 6, 4, 4, 7, 10, 3, 4, 7, 8, 8, 6, 3, 9, 10, 1, 7, 6, 1, 2, 10, 3, 5, 8, 10, 8, 10, 6, 10, 2, 5, 3, 7, 8, 10, 9, 2, 3, 9, 5, 10, 4, 9, 3, 7, 8, 10, 1, 7, 8, 7, 7, 2, 5, 7, 8, 6, 8, 4, 9, 9, 10, 9, 1, 5, 7, 4, 9, 5, 1, 3, 6, 7, 3, 4, 3, 9, 2, 5, 6, 8, 3, 6, 3, 7, 3, 5, 6, 4, 9, 5, 8, 9, 6, 1, 2, 5, 8, 8, 10, 9, 8, 1, 2, 3, 5, 7, 9, 4, 2, 5, 10, 8, 10, 4, 10, 8, 5, 9, 2, 3, 5, 2, 3, 5, 6, 8, 9, 10, 10, 6, 9, 1, 9, 1, 5, 6, 1, 6, 10, 3, 8, 5, 7, 10, 4, 5, 6, 2, 6, 7, 8, 7, 8, 1, 7, 4, 6, 8, 9, 1, 3, 6, 8, 2, 4, 5, 9, 3, 2, 9, 10, 10, 1, 4, 9, 2, 10, 2, 4, 6, 9, 10, 2, 3, 4, 4, 5, 9, 1, 4, 4, 8, 10, 3, 6, 6, 7, 8, 8, 4, 2, 8, 8, 7, 6, 6, 6, 1, 2, 4, 6, 2, 4, 10, 3, 5, 6, 9, 10, 2, 3, 5, 1, 2, 10, 9, 10, 3, 5, 7, 8, 10, 2, 4, 2, 7, 7, 2, 9, 10, 6, 5, 3, 1, 8, 6, 7, 1, 7, 3, 6, 10, 7, 4, 1, 5, 4, 6, 1, 2, 5, 6, 9, 10, 4, 4, 5, 1, 3, 8, 7, 10, 10, 2, 7, 8, 9, 4, 10, 4, 5, 5, 4, 8, 7, 5, 6, 9, 9, 3, 5, 6, 7, 6, 4, 3, 3, 1, 3, 3, 6, 1, 9, 5, 6, 3, 1, 8, 5, 3, 10, 1, 2, 1, 3, 1, 3, 5, 7, 10, 1, 3, 4, 3, 8, 4, 7, 1, 7, 5, 5, 9, 5, 5, 9, 5, 3, 8, 2, 4, 9, 8, 1, 1, 5, 8, 3, 9, 2, 2, 2, 6, 8, 2, 6, 7, 10, 1, 2, 2, 4, 1, 10, 8, 7, 7, 9, 2, 5, 9, 7, 3, 10, 9, 10, 3, 4, 8, 9, 9, 7, 1, 3, 4, 9, 10, 7, 8, 10, 3, 9, 10, 3, 8, 3, 7, 8, 6, 8, 8, 5, 3, 8, 3, 5, 5, 6], \"Freq\": [0.8998993912244668, 0.8308966858796295, 0.4194067820226915, 0.5126082891388452, 0.046600753558076836, 0.8947599718429612, 0.8714959785533747, 0.8871418773353142, 0.7791571247740252, 0.8831279613204027, 0.3531784847070852, 0.06835712607233907, 0.06835712607233907, 0.19367852387162734, 0.0797499804177289, 0.17089281518084767, 0.06835712607233907, 0.8263091678731784, 0.9003401567299841, 0.9544555531820657, 0.9003249692367628, 0.859030430395549, 0.9469121427561925, 0.734937313057677, 0.163319402901706, 0.11834317654756132, 0.11834317654756132, 0.19723862757926888, 0.5522681572219529, 0.9824199636086388, 0.8485381744103014, 0.07071151453419179, 0.7835331340349654, 0.15670662680699307, 0.8321324398413981, 0.17079909572648938, 0.7970624467236171, 0.05041922670704845, 0.23949132685848015, 0.13865287344438323, 0.17646729347466958, 0.05041922670704845, 0.25209613353524224, 0.07562884006057267, 0.18555262508894002, 0.27832893763341005, 0.5257324377519967, 0.8084567686291421, 0.10105709607864276, 0.10105709607864276, 0.621459281784806, 0.2485837127139224, 0.8947265195180263, 0.6180010548646011, 0.3708006329187607, 0.7838966754415656, 0.17419926120923682, 0.8411116462427417, 0.8394403390283021, 0.06336211938394612, 0.570259074455515, 0.19008635815183833, 0.12672423876789224, 0.9031921580233903, 0.9286270015740269, 0.823900075619025, 0.8797768518577459, 0.8826044296678371, 0.7209169725252618, 0.18022924313131544, 0.8910271832439947, 0.7883099666765566, 0.21499362727542454, 0.9721263533361959, 0.8578277686295602, 0.7782368624635195, 0.21437350479350623, 0.35728917465584376, 0.35728917465584376, 0.2492471497566699, 0.3877177885103754, 0.0830823832522233, 0.0830823832522233, 0.1661647665044466, 0.8410781291390328, 0.10228810431624447, 0.5455365563533039, 0.3409603477208149, 0.9291585636472109, 0.7379215064789348, 0.9123433582776911, 0.8963558813904592, 0.674014702032856, 0.28886344372836686, 0.8330555314939397, 0.09239199941321234, 0.9239199941321233, 0.3217604467040744, 0.6435208934081488, 0.8885760222979453, 0.8406830555984058, 0.8937866422149747, 0.790787445134147, 0.6571340588705987, 0.23895783958930863, 0.05973945989732716, 0.8946297363514949, 0.7272785593982901, 0.9613411586255574, 0.5788829648579618, 0.09648049414299363, 0.19296098828598726, 0.848340714912192, 0.9093549778683118, 0.8769635807175225, 0.6065382181790797, 0.10108970302984661, 0.30326910908953986, 0.9220687377564678, 0.6175736896546717, 0.30878684482733587, 0.9497835080678596, 0.7638310248701697, 0.22914930746105092, 0.8947318306116407, 0.8578145551942262, 0.22946393296378276, 0.038243988827297126, 0.49717185475486264, 0.19121994413648563, 0.7379045654380246, 0.45874725945609823, 0.45874725945609823, 0.9093632311589576, 0.7379070560283284, 0.9367165497170188, 0.8405993154567494, 0.9777824117790412, 0.9305037352229237, 0.9470941613579222, 0.7378963934989564, 0.9386925226643075, 0.7273025860131058, 0.8321439649655906, 0.43547549504810723, 0.5225705940577287, 0.7378918252388821, 0.4592466349565671, 0.2755479809739403, 0.18369865398262683, 0.9109553542655393, 0.8868834751635323, 0.8827590267417075, 0.9000861803764096, 0.8545387084954843, 0.8871635646626034, 0.8910399976256471, 0.7884237403009505, 0.9468359715301877, 0.9847953538442922, 0.16679412119203701, 0.5837794241721295, 0.16679412119203701, 0.9471433624788688, 0.8321261010431961, 0.8971184854590897, 0.11526065130492084, 0.2305213026098417, 0.5763032565246042, 0.9452567208967521, 0.18092278276281096, 0.18092278276281096, 0.5427683482884329, 0.8410772462264278, 0.8868134618744922, 0.9154872319729711, 0.2514171606136036, 0.6704457616362762, 0.8824218819468371, 0.8383603862431772, 0.955888268407093, 0.3031032672825901, 0.4546549009238852, 0.2273274504619426, 0.89636608139979, 0.5706413422338509, 0.28532067111692544, 0.09510689037230849, 0.8136578910455516, 0.9024154083188712, 0.9063729256534085, 0.9568846738315733, 0.3311344926657375, 0.662268985331475, 0.7884400417778902, 0.22920641573694484, 0.15280427715796321, 0.30560855431592643, 0.22920641573694484, 0.8098418629970189, 0.7848459130837283, 0.8217354852763102, 0.7634376276136684, 0.7884489230750237, 0.9421244797221237, 0.9490671160764185, 0.9583461924140426, 0.8513569891028552, 0.1216224270146936, 0.02432448540293872, 0.24238299771486688, 0.48476599542973375, 0.08079433257162229, 0.24238299771486688, 0.9454620176846319, 0.7782398751863585, 0.9626081571912407, 0.8680640262397614, 0.900365102786099, 0.9440501090452851, 0.6533050954912397, 0.27998789806767416, 0.8098432220109713, 0.8475880069097231, 0.9317216312960205, 0.3415481742879853, 0.6147867137183735, 0.8411056792571183, 0.8946298285423718, 0.9711951253567593, 0.9069363169762507, 0.933596542991285, 0.6021238028740311, 0.19353979378093858, 0.021504421531215397, 0.17203537224972318, 0.7133568099931644, 0.07133568099931645, 0.21400704299794931, 0.8023931835466571, 0.8024021958769189, 0.17953415256528746, 0.44883538141321866, 0.3141847669892531, 0.08976707628264373, 0.8839892735897621, 0.8910513352404518, 0.324019626640067, 0.648039253280134, 0.8270695061132279, 0.888308383015605, 0.8701899857034165, 0.6395046421268765, 0.31975232106343826, 0.9543167029005227, 0.9069724610360121, 0.9729073130507951, 0.802481999675595, 0.7927672095730514, 0.1321278682621752, 0.9584268766501125, 0.9624996859650922, 0.74538734909721, 0.9068949193717744, 0.7874409128712132, 0.7968732427053422, 0.9004087371420072, 0.9729338903264972, 0.9648237654123623, 0.8816567243678755, 0.5389090780973319, 0.43112726247786554, 0.7453860224496339, 0.7274935659800907, 0.6771188119196996, 0.2901937765370141, 0.7847524504016578, 0.9365373109766695, 0.9317291835461383, 0.9594674924585317, 0.742194155424037, 0.8590501321350947, 0.8640864049846427, 0.7272762464403998, 0.12502167221798846, 0.43757585276295957, 0.43757585276295957, 0.6480693643888433, 0.25922774575553736, 0.8410959599367734, 0.8816696701488781, 0.8932650380122492, 0.7328562420552891, 0.9556421657464077, 0.4086926674198284, 0.24521560045189705, 0.32695413393586276, 0.8486178591615923, 0.9603848425650762, 0.35490211861913556, 0.5915035310318926, 0.8320218010013508, 0.868063630963312, 0.9000598707644749, 0.9109258798508357, 0.9454198274421403, 0.9240975776295657, 0.8410725877632325, 0.8999986482939887, 0.7873272501601762, 0.930594540859017, 0.2208387740450536, 0.15458714183153752, 0.08833550961802143, 0.1104193870225268, 0.2650065288540643, 0.13250326442703214, 0.022083877404505358, 0.8882747467640971, 0.9682280800935854, 0.796883484552291, 0.8403645735064015, 0.7634395454486537, 0.20722129490082644, 0.2762950598677686, 0.4144425898016529, 0.8355793425843165, 0.9183001125451128, 0.868063629301215, 0.960389714698189, 0.9371054389729347, 0.7275300437404651, 0.8872124560569199, 0.961365082621475, 0.8457726156146057, 0.758066245410876, 0.189516561352719, 0.8081895442331659, 0.2900790841423681, 0.6164180538025322, 0.10877965655338805, 0.8024019452429283, 0.8910352114843774, 0.8868500732958539, 0.8172919236693095, 0.2880675689994838, 0.18004223062467736, 0.46810979962416116, 0.03600844612493548, 0.1712422315014126, 0.1712422315014126, 0.5708074383380419, 0.11416148766760839, 0.11635423184790014, 0.6815033579662723, 0.11635423184790014, 0.09973219872677155, 0.9673643887267085, 0.29580560825083246, 0.29580560825083246, 0.3697570103135406, 0.969793950067702, 0.8824401012545813, 0.33364636145042575, 0.6672927229008515, 0.8424789950396063, 0.8680740123004981, 0.27146940243314377, 0.27146940243314377, 0.16288164145988626, 0.16288164145988626, 0.16288164145988626, 0.42746450486455323, 0.21373225243227661, 0.356220420720461, 0.26717595706047526, 0.08905865235349174, 0.6234105664744422, 0.8883014853209845, 0.8961024512275659, 0.7188405310127967, 0.2875362124051187, 0.722192837437759, 0.15985066389764216, 0.8525368741207583, 0.6783606204228534, 0.15074680453841188, 0.16959015510571335, 0.9375416661905154, 0.9867890547262677, 0.6437154461305725, 0.35761969229476254, 0.9650370646731748, 0.9471304364473029, 0.9680249298080912, 0.9648270516164923, 0.86408506528524, 0.9650765961933867, 0.8329898571235463, 0.31533042560579866, 0.6306608512115973, 0.8833560432546007, 0.8232630399916974, 0.1372105066652829, 0.21730085078866654, 0.4346017015773331, 0.15935395724502213, 0.18832740401684434, 0.8680695300725375, 0.7328519882575579, 0.16658557471049001, 0.6663422988419601, 0.5018534731979375, 0.5018534731979375, 0.9109259209310462, 0.9400031155092655, 0.8564666254960894, 0.08126605412052594, 0.18284862177118338, 0.1422155947109204, 0.34538073001223524, 0.24379816236157784, 0.9544225858099263, 0.737924397669048, 0.9544006569621669, 0.9470864228612104, 0.8023931835466571, 0.8305209433559873, 0.1557226768792476, 0.908765988140163, 0.9132797521821252, 0.9305878971394823, 0.9094698115536801, 0.6827663603294827, 0.22758878677649425, 0.8981866679058533, 0.96468900957554, 0.9215667367657282, 0.8358103558671119, 0.8217291483452929, 0.6021533413485884, 0.34408762362776485, 0.802401655090316, 0.8950121944583479, 0.307175953082265, 0.61435190616453, 0.9068757620032706, 0.8640908659921859, 0.0729535290322789, 0.34044980215063486, 0.03647676451613945, 0.38908548817215416, 0.09727137204303854, 0.06079460752689909, 0.907066047169216, 0.8182844529431269, 0.12588991583740414, 0.7497456004857888, 0.2499152001619296, 0.858782813579073, 0.8826915130638532, 0.9609503246992842, 0.8882918795196584, 0.732880951366693, 0.3003740346337944, 0.7008727474788538, 0.9400708032203521, 0.9001135520868072, 0.9109278243414423, 0.37118275590783134, 0.5938924094525302, 0.8946423657562036, 0.943903487590206, 0.8910362038322647, 0.7275858677707836, 0.964830059306341, 0.918281757077912, 0.796898275577102, 0.8701744992583896, 0.16921361020527606, 0.22561814694036808, 0.3384272204105521, 0.22561814694036808, 0.8521820705125286, 0.8294053461236052, 0.8381718226446296, 0.915512552463012, 0.9421392098392324, 0.9572060868967028, 0.8551703799263461, 0.9681585731264089, 0.8371170087729032, 0.15695943914491933, 0.8946091896099265, 0.97085617622346, 0.9052319294820841, 0.6623808519392321, 0.22079361731307737, 0.977681452294685, 0.7559288374501579, 0.1679841861000351, 0.8868894788186485, 0.893791598837124, 0.23936955023199552, 0.7447052673884306, 0.817096547431285, 0.6169256663258265, 0.1233851332651653, 0.1233851332651653, 0.8680808110106837, 0.817110057271783, 0.7454010252305805, 0.7379132617481318, 0.745375178484485, 0.8910455762538767, 0.6209577476491993, 0.31047887382459965, 0.9712589139510641, 0.8024020680272537, 0.887236612549405, 0.8770626327118427, 0.7633651861019654, 0.8946663065055176, 0.8024602990117835, 0.9288792096123182, 0.8024639381243431, 0.9093831685437295, 0.8910453572946188, 0.966861370056066, 0.9293481035708518, 0.8937395829058037, 0.8910290528350793, 0.886849604620919, 0.7513017112181234, 0.20490046669585182, 0.9491409973506569, 0.9593930231867581, 0.940073726564299, 0.8924229673132457, 0.9544085049707376, 0.7423107576316544, 0.1590665909210688, 0.0530221969736896, 0.9544125670377236, 0.1729561182482172, 0.5188683547446515, 0.1729561182482172, 0.5925484566044102, 0.2962742283022051, 0.8923751386346586, 0.896104342968155, 0.8932505276966068, 0.9131783394315642, 0.8098279873187764, 0.8870815489694244, 0.5559091100700546, 0.38913637704903825, 0.6749991175701753, 0.2699996470280701, 0.9416570029439322, 0.9581223977380295, 0.3393713763188196, 0.565618960531366, 0.9096569523368878, 0.8564930978058415, 0.1403470580060866, 0.2105205870091299, 0.2105205870091299, 0.3508676450152165, 0.9362411887696105, 0.8023949450663005, 0.30702255183736016, 0.3645892803068652, 0.23026691387802012, 0.05756672846950503, 0.03837781897967002, 0.9622006451953724, 0.01924401290390745, 0.01924401290390745, 0.2876183031536409, 0.5033320305188715, 0.21571372736523067, 0.3648442604272127, 0.6080737673786878, 0.7772130964868966, 0.6966379354454612, 0.2786551741781845, 0.7744774309979258, 0.17210609577731684, 0.8098476154392891, 0.9595810086852381, 0.9166201507017807, 0.8977058192606685, 0.915491786854966, 0.921404713169823, 0.8946761968424843, 0.7847659792731237], \"Term\": [\"!\", \"\\\"\", \"&\", \"&\", \"&\", \"'70\", \"'73\", \"'74\", \"'colorado'\", \"+\", \"-\", \"-\", \"-\", \"-\", \"-\", \"-\", \"-\", \"--\", \"1\", \"16\\\"\", \"1966\", \"1967\", \"1971\", \"1972\", \"1972\", \"1973\", \"1973\", \"1973\", \"1973\", \"1974\", \"2\", \"2\", \"2000\", \"2000\", \"2007\", \"2800\", \"2800\", \"3.0\", \"3.0\", \"3.0\", \"3.0\", \"3.0\", \"3.0\", \"3.0\", \"3.0cs\", \"3.0cs\", \"3.0cs\", \"3.0csi\", \"3.0csi\", \"3.0csi\", \"3.5\", \"3.5\", \"3.5l\", \"4\", \"4\", \"5\", \"5\", \"71\", \"72\", \"73\", \"73\", \"73\", \"73\", \"74\", \"?\", \"???\", \"a/c\", \"ac\", \"advice\", \"advice\", \"aftermarket\", \"air\", \"air\", \"alpina\", \"alternator\", \"amg\", \"another\", \"another\", \"another\", \"anyone\", \"anyone\", \"anyone\", \"anyone\", \"anyone\", \"aptos\", \"area\", \"area\", \"area\", \"arm\", \"around\", \"assembly\", \"auction\", \"auto\", \"auto\", \"available\", \"back\", \"back\", \"badge\", \"badge\", \"bar\", \"bat\", \"batmobile\", \"bavaria\", \"bay\", \"bay\", \"bay\", \"beam\", \"becker\", \"belt\", \"best\", \"best\", \"best\", \"black\", \"blade\", \"block\", \"blue\", \"blue\", \"blue\", \"body\", \"bolt\", \"bolt\", \"booster\", \"box\", \"box\", \"brace\", \"bracket\", \"brake\", \"brake\", \"brake\", \"brake\", \"brand\", \"bumper\", \"bumper\", \"bushing\", \"buy\", \"c\", \"cable\", \"calendar\", \"caliper\", \"cam\", \"campagnolo\", \"car\", \"car?\", \"carbs\", \"carpet\", \"carpet\", \"cca\", \"center\", \"center\", \"center\", \"chain\", \"change\", \"cheap\", \"check\", \"chrome\", \"clock\", \"clone\", \"close\", \"clutch\", \"coffee\", \"color\", \"color\", \"color\", \"complete\", \"concorso\", \"console\", \"conversion\", \"conversion\", \"conversion\", \"correct\", \"coupe\", \"coupe\", \"coupe\", \"coupevent\", \"cover\", \"covering\", \"craigslist\", \"craigslist\", \"cruz\", \"cs?\", \"csa\", \"cylinder\", \"cylinder\", \"cylinder\", \"dash\", \"day\", \"day\", \"day\", \"design\", \"diego\", \"difference\", \"distributor\", \"door\", \"door\", \"drawing\", \"drive\", \"drive\", \"drive\", \"drive\", \"driveshaft\", \"e\", \"e3\", \"e9?\", \"e9s\", \"early\", \"electric\", \"emblem\", \"engine\", \"engine\", \"engine\", \"euro\", \"euro\", \"euro\", \"euro\", \"event\", \"ever\", \"exhaust\", \"experience\", \"exterior\", \"factory\", \"fan\", \"fan\", \"felt\", \"fender\", \"find\", \"first\", \"first\", \"five\", \"fleabay\", \"floor\", \"francisco\", \"friday\", \"front\", \"front\", \"front\", \"front\", \"fs:\", \"fs:\", \"fs:\", \"fs:battery\", \"fs:e28\", \"fuel\", \"fuel\", \"fuel\", \"fuel\", \"fun\", \"fuse\", \"gas\", \"gas\", \"gathering\", \"gearbox\", \"german\", \"get\", \"get\", \"getting\", \"glass\", \"glen\", \"going\", \"good\", \"good\", \"great\", \"grill\", \"grille\", \"group\", \"guide\", \"guy\", \"happy\", \"head\", \"header\", \"headlight\", \"headliner\", \"headliner\", \"heater\", \"hey\", \"hood\", \"hood\", \"housing\", \"ignition\", \"info\", \"injector\", \"inka\", \"install\", \"insurance\", \"interested\", \"interior\", \"interior\", \"interior\", \"issue\", \"issue\", \"italian\", \"italiano\", \"january\", \"jet\", \"key\", \"kit\", \"kit\", \"kit\", \"knob\", \"know\", \"la\", \"la\", \"last\", \"le\", \"leak\", \"letter\", \"license\", \"light\", \"like\", \"lock\", \"longer,\", \"look\", \"looking\", \"looking\", \"looking\", \"looking\", \"looking\", \"looking\", \"looking\", \"love\", \"lower\", \"lsd\", \"lug\", \"m3\", \"m30\", \"m30\", \"m30\", \"made\", \"magazine\", \"man\", \"manual\", \"master\", \"material\", \"may\", \"meet\", \"member\", \"mirror\", \"mirror\", \"molding\", \"motor\", \"motor\", \"motor\", \"movie\", \"name\", \"nardi\", \"nc\", \"need\", \"need\", \"need\", \"need\", \"needed\", \"needed\", \"needed\", \"needed\", \"new\", \"new\", \"new\", \"new\", \"newbie\", \"nice\", \"nice\", \"nice\", \"no\", \"noise\", \"number\", \"number\", \"oem\", \"oh\", \"oil\", \"oil\", \"oil\", \"oil\", \"oil\", \"old\", \"old\", \"old\", \"one\", \"one\", \"one\", \"open\", \"original\", \"paint\", \"paint\", \"pan\", \"panel\", \"panel\", \"part\", \"part\", \"part\", \"passenger\", \"pic\", \"picture\", \"picture\", \"plate\", \"please\", \"pm\", \"post\", \"potential\", \"power\", \"pressure\", \"price\", \"price\", \"project\", \"pump\", \"pump\", \"question\", \"question\", \"question\", \"question\", \"question.\", \"race\", \"racing\", \"racing\", \"radio\", \"radio\", \"raised\", \"rally\", \"ratio\", \"rear\", \"rear\", \"rear\", \"rear\", \"rear\", \"rebuild\", \"recommendation\", \"regulator\", \"relay\", \"relocation\", \"removal\", \"removal\", \"remove\", \"removing\", \"repair\", \"replace\", \"replacement\", \"replacement\", \"restoration\", \"right\", \"rim\", \"roll\", \"roof\", \"roundel\", \"roundel\", \"run\", \"running\", \"rust\", \"rust\", \"rusty\", \"s38\", \"sale\", \"sale\", \"sale\", \"sale\", \"sale\", \"sale\", \"sale-\", \"san\", \"san\", \"santa\", \"santa\", \"sc\", \"seal\", \"seat\", \"seatbelt\", \"seats?\", \"seattle\", \"seattle\", \"see\", \"seen\", \"selling\", \"set\", \"set\", \"shelf\", \"shift\", \"shifter\", \"shipping\", \"shock\", \"shop\", \"short\", \"show\", \"side\", \"side\", \"side\", \"side\", \"site\", \"size\", \"skin\", \"slop\", \"socal\", \"sold\", \"spare\", \"speaker\", \"speed\", \"speed\", \"speed,\", \"speedometer\", \"sport\", \"spotted\", \"spotted\", \"spotting\", \"spring\", \"spring\", \"stagger\", \"start\", \"steering\", \"steering\", \"storage\", \"strut\", \"strut\", \"strut\", \"stuff\", \"style\", \"subframe\", \"suggestion\", \"sun\", \"sunday\", \"sunroof\", \"sunroof\", \"swap\", \"sway\", \"system\", \"tail\", \"take\", \"taken\", \"tan\", \"tank\", \"temp\", \"thanks\", \"thing\", \"tii\", \"tire\", \"tool\", \"topic,\", \"tranny\", \"transmission\", \"transmission\", \"trim\", \"trunk\", \"two\", \"type\", \"u\", \"uk\", \"uk\", \"uk\", \"update\", \"upgrade\", \"upgrade\", \"upgrade\", \"v\", \"v\", \"value\", \"valve\", \"vehicle\", \"video\", \"vienna\", \"vineyard\", \"vintage\", \"vintage\", \"vol\", \"vol\", \"w/\", \"wanted\", \"wanted:\", \"wanted:\", \"watkins\", \"way\", \"weber\", \"weber\", \"weber\", \"weber\", \"weekend\", \"went\", \"wheel\", \"wheel\", \"wheel\", \"wheel\", \"wheel\", \"window\", \"window\", \"window\", \"wiper\", \"wiper\", \"wiper\", \"wire\", \"wire\", \"wiring\", \"without\", \"without\", \"wood\", \"wood\", \"work\", \"workshop\", \"worth?\", \"wtb\", \"wtb-\", \"year\", \"year?\", \"zf\"]}, \"R\": 30, \"lambda.step\": 0.01, \"plot.opts\": {\"xlab\": \"PC1\", \"ylab\": \"PC2\"}, \"topic.order\": [9, 1, 3, 6, 2, 8, 10, 5, 4, 7]};\n",
              "\n",
              "function LDAvis_load_lib(url, callback){\n",
              "  var s = document.createElement('script');\n",
              "  s.src = url;\n",
              "  s.async = true;\n",
              "  s.onreadystatechange = s.onload = callback;\n",
              "  s.onerror = function(){console.warn(\"failed to load library \" + url);};\n",
              "  document.getElementsByTagName(\"head\")[0].appendChild(s);\n",
              "}\n",
              "\n",
              "if(typeof(LDAvis) !== \"undefined\"){\n",
              "   // already loaded: just create the visualization\n",
              "   !function(LDAvis){\n",
              "       new LDAvis(\"#\" + \"ldavis_el8731385956809416969110086870\", ldavis_el8731385956809416969110086870_data);\n",
              "   }(LDAvis);\n",
              "}else if(typeof define === \"function\" && define.amd){\n",
              "   // require.js is available: use it to load d3/LDAvis\n",
              "   require.config({paths: {d3: \"https://d3js.org/d3.v5\"}});\n",
              "   require([\"d3\"], function(d3){\n",
              "      window.d3 = d3;\n",
              "      LDAvis_load_lib(\"https://cdn.jsdelivr.net/gh/bmabey/pyLDAvis@3.4.0/pyLDAvis/js/ldavis.v3.0.0.js\", function(){\n",
              "        new LDAvis(\"#\" + \"ldavis_el8731385956809416969110086870\", ldavis_el8731385956809416969110086870_data);\n",
              "      });\n",
              "    });\n",
              "}else{\n",
              "    // require.js not available: dynamically load d3 & LDAvis\n",
              "    LDAvis_load_lib(\"https://d3js.org/d3.v5.js\", function(){\n",
              "         LDAvis_load_lib(\"https://cdn.jsdelivr.net/gh/bmabey/pyLDAvis@3.4.0/pyLDAvis/js/ldavis.v3.0.0.js\", function(){\n",
              "                 new LDAvis(\"#\" + \"ldavis_el8731385956809416969110086870\", ldavis_el8731385956809416969110086870_data);\n",
              "            })\n",
              "         });\n",
              "}\n",
              "</script>"
            ]
          },
          "metadata": {},
          "execution_count": 7
        }
      ]
    },
    {
      "cell_type": "code",
      "execution_count": 8,
      "metadata": {
        "id": "99pNJkgnoqgt",
        "colab": {
          "base_uri": "https://localhost:8080/"
        },
        "outputId": "611a47b2-dcfa-45c0-b304-39c6c4d62ec7"
      },
      "outputs": [
        {
          "output_type": "stream",
          "name": "stdout",
          "text": [
            "Topic 0: '72 CSL for sale on ebay.co.uk\n",
            "Topic 1: newbie questions - squeak and fuel opinion\n",
            "Topic 2: BMW E9 3.0cs 3.0csi 3.0csl sport spring set ??\n",
            "Topic 3: Yet another one on the UK Bay - That old value thing!!!\n",
            "Topic 4: FS: Set of outer trims front door/rear window ! new chrome !\n",
            "Topic 5: new member - alpina refinish wheels paint or powder coat?\n",
            "Topic 6: NOS BMW Roundel front raised letter for sale Merry Christmas\n",
            "Topic 7: '69 2800cs batmobile wanna-be bucket back for sale\n",
            "Topic 8: OC Bimmerfest Caravan Early Sat. a.m. 405 NB to 101 NB\n",
            "Topic 9: FS: Set of outer trims front door/rear window ! new chrome !\n"
          ]
        }
      ],
      "source": [
        "#Create representative sentences for each topic\n",
        "\n",
        "\n",
        "representative_sentences = []\n",
        "\n",
        "def score_text_block(text, topic_words):\n",
        "    if isinstance(text, str):\n",
        "        return sum(1 for word in topic_words if word in text)\n",
        "    return 0\n",
        "\n",
        "\n",
        "def create_representative_sentence(lda, df, topic_id, top_n=20):\n",
        "    topic_words = [word for word, prob in lda.show_topic(topic_id, topn=top_n)]\n",
        "    #df['SCORE'] = df['THREAD_TITLE_EXP'].map(lambda x: score_text_block(x, topic_words))\n",
        "    #representative_sentence = df.loc[df['SCORE'].idxmax(), 'THREAD_TITLE_EXP']\n",
        "    df['SCORE'] = df['THREAD_TITLE'].map(lambda x: score_text_block(x, topic_words))\n",
        "    representative_sentence = df.loc[df['SCORE'].idxmax(), 'THREAD_TITLE']\n",
        "\n",
        "    return representative_sentence\n",
        "\n",
        "\n",
        "for topic_id in range(lda_num_topics):\n",
        "    try:\n",
        "        sentence = create_representative_sentence(lda, e9_forum_corpus, topic_id)\n",
        "        representative_sentences.append({'Topic': topic_id, 'Representative Sentence': sentence})\n",
        "        print(f\"Topic {topic_id}: {sentence}\")\n",
        "    except IndexError as e:\n",
        "        print(f\"Error with topic {topic_id}: {e}\")\n",
        "\n",
        "# Save to CSV\n",
        "output_df = pd.DataFrame(representative_sentences)\n",
        "output_df.to_csv('/content/drive/MyDrive/Colab Notebooks/datasets/e9/representative_sentences.csv', index=False)\n"
      ]
    },
    {
      "cell_type": "code",
      "source": [],
      "metadata": {
        "id": "ToisfIbboPgy"
      },
      "execution_count": 8,
      "outputs": []
    }
  ],
  "metadata": {
    "colab": {
      "provenance": [],
      "include_colab_link": true
    },
    "kernelspec": {
      "display_name": "Python 3",
      "name": "python3"
    },
    "language_info": {
      "name": "python"
    }
  },
  "nbformat": 4,
  "nbformat_minor": 0
}